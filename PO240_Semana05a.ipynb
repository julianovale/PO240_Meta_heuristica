{
  "nbformat": 4,
  "nbformat_minor": 0,
  "metadata": {
    "colab": {
      "name": "PO240_Semana05a.ipynb",
      "provenance": [],
      "collapsed_sections": [],
      "authorship_tag": "ABX9TyMST7WXYMOZLpxeh4P42BpU",
      "include_colab_link": true
    },
    "kernelspec": {
      "name": "python3",
      "display_name": "Python 3"
    },
    "language_info": {
      "name": "python"
    }
  },
  "cells": [
    {
      "cell_type": "markdown",
      "metadata": {
        "id": "view-in-github",
        "colab_type": "text"
      },
      "source": [
        "<a href=\"https://colab.research.google.com/github/julianovale/PO240_Meta_heuristica/blob/main/PO240_Semana05a.ipynb\" target=\"_parent\"><img src=\"https://colab.research.google.com/assets/colab-badge.svg\" alt=\"Open In Colab\"/></a>"
      ]
    },
    {
      "cell_type": "markdown",
      "metadata": {
        "id": "xRSrvybZ42Qf"
      },
      "source": [
        "PDF da aula: Problema de transporte:\n",
        "\n",
        "https://drive.google.com/file/d/1cs3-NZHS9xYgoqNU7X-x6GIG0SP16bub/view\n",
        "\n",
        "PDF da aula: Problema de designação:\n",
        "\n",
        "https://drive.google.com/file/d/1vykSYLVdhgHxuORlhA9FV7qLJx0yeNLO/view\n",
        "\n",
        "PDF da aula: Problema de designação generalizada:\n",
        "\n",
        "https://drive.google.com/file/d/1bkUB4BRV1O9Cfbsde08q3RsUKnh0lUey/view\n",
        "\n",
        "PDF da aula: Problema da mochila:\n",
        "\n",
        "https://drive.google.com/file/d/1pSAKdW1oGqBo-RcZ3CL5zMN7hd2tN261/view"
      ]
    }
  ]
}