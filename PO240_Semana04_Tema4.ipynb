{
  "nbformat": 4,
  "nbformat_minor": 0,
  "metadata": {
    "colab": {
      "name": "PO240_Semana04_Tema4.ipynb",
      "provenance": [],
      "collapsed_sections": [],
      "authorship_tag": "ABX9TyNhB/naMQcOxaId4Cpyzwsh",
      "include_colab_link": true
    },
    "kernelspec": {
      "name": "python3",
      "display_name": "Python 3"
    },
    "language_info": {
      "name": "python"
    }
  },
  "cells": [
    {
      "cell_type": "markdown",
      "metadata": {
        "id": "view-in-github",
        "colab_type": "text"
      },
      "source": [
        "<a href=\"https://colab.research.google.com/github/julianovale/PO240_Meta_heuristica/blob/main/PO240_Semana04_Tema4.ipynb\" target=\"_parent\"><img src=\"https://colab.research.google.com/assets/colab-badge.svg\" alt=\"Open In Colab\"/></a>"
      ]
    },
    {
      "cell_type": "markdown",
      "metadata": {
        "id": "WP8Cbr5B50Au"
      },
      "source": [
        "https://github.com/julianovale/PO240_Meta_heuristica/blob/main/LiveSemana03.pdf"
      ]
    },
    {
      "cell_type": "markdown",
      "metadata": {
        "id": "d_tiib4VzD0x"
      },
      "source": [
        "# Problema:\n",
        "\n",
        "## Variáveis de decisão:\n",
        "\n",
        "\n",
        "$x_1$: Quantidade de kg de soja; </br>\n",
        "$x_2$: Quantidade de kg de milho; </br>\n",
        "$x_3$: Quantidade de kg de cana; </br>\n",
        "\n",
        "## Restrições:\n",
        "\n",
        "*s.t.:*</br>\n",
        "$0,2x_1 + x_2 + 3x_3 \\geq 0,8$ </br>\n",
        "$0,2x_1 + x_2 + 3x_3 \\leq 1,2$ </br>\n",
        "$50x_1 + 9x_2 \\geq 22$ </br>\n",
        "$0,8x_1 + 2x_2 + 2x_3 \\leq 20$ </br>\n",
        "$x_1, x_2, x_3 \\geq 0$ </br>\n",
        "\n",
        "## Função objetivo:\n",
        "\n",
        "$Min\\ Z = 15x_1 + 20x_2 + 8x_3$ "
      ]
    },
    {
      "cell_type": "code",
      "metadata": {
        "colab": {
          "base_uri": "https://localhost:8080/"
        },
        "id": "sgW3om6aqIXJ",
        "outputId": "124492c8-d258-49e5-bf15-b92716e40d63"
      },
      "source": [
        "! pip install docplex\n",
        "! pip install cplex"
      ],
      "execution_count": 2,
      "outputs": [
        {
          "output_type": "stream",
          "text": [
            "Collecting docplex\n",
            "\u001b[?25l  Downloading https://files.pythonhosted.org/packages/87/99/6f7c219b39fd58c84688ad0713eb932bfcf6be81fc74519e43ea9c915b56/docplex-2.20.204.tar.gz (611kB)\n",
            "\r\u001b[K     |▌                               | 10kB 16.8MB/s eta 0:00:01\r\u001b[K     |█                               | 20kB 13.2MB/s eta 0:00:01\r\u001b[K     |█▋                              | 30kB 8.1MB/s eta 0:00:01\r\u001b[K     |██▏                             | 40kB 7.5MB/s eta 0:00:01\r\u001b[K     |██▊                             | 51kB 4.5MB/s eta 0:00:01\r\u001b[K     |███▏                            | 61kB 5.1MB/s eta 0:00:01\r\u001b[K     |███▊                            | 71kB 5.4MB/s eta 0:00:01\r\u001b[K     |████▎                           | 81kB 5.4MB/s eta 0:00:01\r\u001b[K     |████▉                           | 92kB 5.8MB/s eta 0:00:01\r\u001b[K     |█████▍                          | 102kB 5.6MB/s eta 0:00:01\r\u001b[K     |██████                          | 112kB 5.6MB/s eta 0:00:01\r\u001b[K     |██████▍                         | 122kB 5.6MB/s eta 0:00:01\r\u001b[K     |███████                         | 133kB 5.6MB/s eta 0:00:01\r\u001b[K     |███████▌                        | 143kB 5.6MB/s eta 0:00:01\r\u001b[K     |████████                        | 153kB 5.6MB/s eta 0:00:01\r\u001b[K     |████████▋                       | 163kB 5.6MB/s eta 0:00:01\r\u001b[K     |█████████▏                      | 174kB 5.6MB/s eta 0:00:01\r\u001b[K     |█████████▋                      | 184kB 5.6MB/s eta 0:00:01\r\u001b[K     |██████████▏                     | 194kB 5.6MB/s eta 0:00:01\r\u001b[K     |██████████▊                     | 204kB 5.6MB/s eta 0:00:01\r\u001b[K     |███████████▎                    | 215kB 5.6MB/s eta 0:00:01\r\u001b[K     |███████████▉                    | 225kB 5.6MB/s eta 0:00:01\r\u001b[K     |████████████▎                   | 235kB 5.6MB/s eta 0:00:01\r\u001b[K     |████████████▉                   | 245kB 5.6MB/s eta 0:00:01\r\u001b[K     |█████████████▍                  | 256kB 5.6MB/s eta 0:00:01\r\u001b[K     |██████████████                  | 266kB 5.6MB/s eta 0:00:01\r\u001b[K     |██████████████▌                 | 276kB 5.6MB/s eta 0:00:01\r\u001b[K     |███████████████                 | 286kB 5.6MB/s eta 0:00:01\r\u001b[K     |███████████████▌                | 296kB 5.6MB/s eta 0:00:01\r\u001b[K     |████████████████                | 307kB 5.6MB/s eta 0:00:01\r\u001b[K     |████████████████▋               | 317kB 5.6MB/s eta 0:00:01\r\u001b[K     |█████████████████▏              | 327kB 5.6MB/s eta 0:00:01\r\u001b[K     |█████████████████▊              | 337kB 5.6MB/s eta 0:00:01\r\u001b[K     |██████████████████▎             | 348kB 5.6MB/s eta 0:00:01\r\u001b[K     |██████████████████▊             | 358kB 5.6MB/s eta 0:00:01\r\u001b[K     |███████████████████▎            | 368kB 5.6MB/s eta 0:00:01\r\u001b[K     |███████████████████▉            | 378kB 5.6MB/s eta 0:00:01\r\u001b[K     |████████████████████▍           | 389kB 5.6MB/s eta 0:00:01\r\u001b[K     |█████████████████████           | 399kB 5.6MB/s eta 0:00:01\r\u001b[K     |█████████████████████▌          | 409kB 5.6MB/s eta 0:00:01\r\u001b[K     |██████████████████████          | 419kB 5.6MB/s eta 0:00:01\r\u001b[K     |██████████████████████▌         | 430kB 5.6MB/s eta 0:00:01\r\u001b[K     |███████████████████████         | 440kB 5.6MB/s eta 0:00:01\r\u001b[K     |███████████████████████▋        | 450kB 5.6MB/s eta 0:00:01\r\u001b[K     |████████████████████████▏       | 460kB 5.6MB/s eta 0:00:01\r\u001b[K     |████████████████████████▋       | 471kB 5.6MB/s eta 0:00:01\r\u001b[K     |█████████████████████████▏      | 481kB 5.6MB/s eta 0:00:01\r\u001b[K     |█████████████████████████▊      | 491kB 5.6MB/s eta 0:00:01\r\u001b[K     |██████████████████████████▎     | 501kB 5.6MB/s eta 0:00:01\r\u001b[K     |██████████████████████████▉     | 512kB 5.6MB/s eta 0:00:01\r\u001b[K     |███████████████████████████▍    | 522kB 5.6MB/s eta 0:00:01\r\u001b[K     |███████████████████████████▉    | 532kB 5.6MB/s eta 0:00:01\r\u001b[K     |████████████████████████████▍   | 542kB 5.6MB/s eta 0:00:01\r\u001b[K     |█████████████████████████████   | 552kB 5.6MB/s eta 0:00:01\r\u001b[K     |█████████████████████████████▌  | 563kB 5.6MB/s eta 0:00:01\r\u001b[K     |██████████████████████████████  | 573kB 5.6MB/s eta 0:00:01\r\u001b[K     |██████████████████████████████▋ | 583kB 5.6MB/s eta 0:00:01\r\u001b[K     |███████████████████████████████ | 593kB 5.6MB/s eta 0:00:01\r\u001b[K     |███████████████████████████████▋| 604kB 5.6MB/s eta 0:00:01\r\u001b[K     |████████████████████████████████| 614kB 5.6MB/s \n",
            "\u001b[?25hRequirement already satisfied: requests in /usr/local/lib/python3.7/dist-packages (from docplex) (2.23.0)\n",
            "Requirement already satisfied: six in /usr/local/lib/python3.7/dist-packages (from docplex) (1.15.0)\n",
            "Requirement already satisfied: urllib3!=1.25.0,!=1.25.1,<1.26,>=1.21.1 in /usr/local/lib/python3.7/dist-packages (from requests->docplex) (1.24.3)\n",
            "Requirement already satisfied: certifi>=2017.4.17 in /usr/local/lib/python3.7/dist-packages (from requests->docplex) (2020.12.5)\n",
            "Requirement already satisfied: chardet<4,>=3.0.2 in /usr/local/lib/python3.7/dist-packages (from requests->docplex) (3.0.4)\n",
            "Requirement already satisfied: idna<3,>=2.5 in /usr/local/lib/python3.7/dist-packages (from requests->docplex) (2.10)\n",
            "Building wheels for collected packages: docplex\n",
            "  Building wheel for docplex (setup.py) ... \u001b[?25l\u001b[?25hdone\n",
            "  Created wheel for docplex: filename=docplex-2.20.204-cp37-none-any.whl size=675362 sha256=19676b1ea5d65f13ee7d0e39fef54c48ca204f370c060a68bb0dad1682f3cd33\n",
            "  Stored in directory: /root/.cache/pip/wheels/ae/2c/e2/a099ebb6fda8adeba9c5fc2e25659d195ad2f5c6cc5fb75fd4\n",
            "Successfully built docplex\n",
            "Installing collected packages: docplex\n",
            "Successfully installed docplex-2.20.204\n",
            "Collecting cplex\n",
            "\u001b[?25l  Downloading https://files.pythonhosted.org/packages/85/9a/582da8fe452a29dc1a2ad01ac2a92c8407a0255889dce08c2cd1471abcbb/cplex-20.1.0.1-cp37-cp37m-manylinux1_x86_64.whl (30.9MB)\n",
            "\u001b[K     |████████████████████████████████| 30.9MB 151kB/s \n",
            "\u001b[?25hInstalling collected packages: cplex\n",
            "Successfully installed cplex-20.1.0.1\n"
          ],
          "name": "stdout"
        }
      ]
    },
    {
      "cell_type": "code",
      "metadata": {
        "colab": {
          "base_uri": "https://localhost:8080/"
        },
        "id": "PvqhH9Hk3d2P",
        "outputId": "0c2e4536-1609-428c-9a31-a8b2f4a4909a"
      },
      "source": [
        "# Matriz de restrições\n",
        "\n",
        "from docplex.mp.model import Model\n",
        "\n",
        "pli3 = Model('Plano de Produção de Ração Animal - PL - CPLEX')\n",
        "\n",
        "nvar = 3\n",
        "nrest = 4\n",
        "\n",
        "# Matriz A vezes o vetor x\n",
        "# A*x <= b\n",
        "\n",
        "A = [[-0.2, -1, -3],[0.2, 1, 3],[-50, -9, 0],[0.8, 2, 2]] # Matriz de coeficientes\n",
        "b = [-0.8, 1.2, -22, 20] # Vetor de resultados\n",
        "c = [15.0, 20.0, 8.0] # Coeficientes da função objetivo\n",
        "\n",
        "# Criando o vetor das variáveis\n",
        "x = []\n",
        "for j in range(nvar):\n",
        "  tmp = plic2.continuous_var(0,None,'x'+str(j))\n",
        "  x.append(tmp)\n",
        "\n",
        "for i in range(nrest):\n",
        "  plic2.add_constraint(plic2.sum(A[i][j]*x[j] for j in range(nvar)) <= b[i])\n",
        "\n",
        "# Z = ct*x ('c' transposto vezes 'x') ==> Função objetivo\n",
        "plic2.minimize(plic2.sum(c[j]*x[j] for j in range(nvar)))\n",
        "\n",
        "# solução:\n",
        "plic2.solve()\n",
        "\n",
        "print(\"FO = \", plic2.objective_value)\n",
        "for j in range(nvar):\n",
        "  print(\"Quantidade de P%d\"%(j+1),\" = \", x[j].solution_value)"
      ],
      "execution_count": 6,
      "outputs": [
        {
          "output_type": "stream",
          "text": [
            "Warning: Duplicate variable name: x0 already used for docplex.mp.Var(type=C,name='x0')\n",
            "Warning: Duplicate variable name: x1 already used for docplex.mp.Var(type=C,name='x1')\n",
            "Warning: Duplicate variable name: x2 already used for docplex.mp.Var(type=C,name='x2')\n",
            "FO =  8.498666666666667\n",
            "Quantidade de P1  =  0.44\n",
            "Quantidade de P2  =  0\n",
            "Quantidade de P3  =  0.23733333333333334\n"
          ],
          "name": "stdout"
        }
      ]
    }
  ]
}