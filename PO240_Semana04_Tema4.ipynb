{
  "nbformat": 4,
  "nbformat_minor": 0,
  "metadata": {
    "colab": {
      "name": "PO240_Semana04_Tema4.ipynb",
      "provenance": [],
      "collapsed_sections": [],
      "authorship_tag": "ABX9TyMbSUdP/zyqsuGakqvfoBWK",
      "include_colab_link": true
    },
    "kernelspec": {
      "name": "python3",
      "display_name": "Python 3"
    },
    "language_info": {
      "name": "python"
    }
  },
  "cells": [
    {
      "cell_type": "markdown",
      "metadata": {
        "id": "view-in-github",
        "colab_type": "text"
      },
      "source": [
        "<a href=\"https://colab.research.google.com/github/julianovale/PO240_Meta_heuristica/blob/main/PO240_Semana04_Tema4.ipynb\" target=\"_parent\"><img src=\"https://colab.research.google.com/assets/colab-badge.svg\" alt=\"Open In Colab\"/></a>"
      ]
    },
    {
      "cell_type": "markdown",
      "metadata": {
        "id": "WP8Cbr5B50Au"
      },
      "source": [
        "https://github.com/julianovale/PO240_Meta_heuristica/blob/main/LiveSemana03.pdf"
      ]
    },
    {
      "cell_type": "markdown",
      "metadata": {
        "id": "d_tiib4VzD0x"
      },
      "source": [
        "# Problema:\n",
        "\n",
        "## Variáveis de decisão:\n",
        "\n",
        "\n",
        "$x_1$: Quilos de soja; </br>\n",
        "\n",
        "$x_2$: Quilos de milho; </br>\n",
        "\n",
        "$x_3$: Quilos de cana. </br>\n",
        "\n",
        "## Restrições:\n",
        "\n",
        "*s.t.:*</br>\n",
        "$x1 + x2 + x3 = 1000$ </br>\n",
        "\n",
        "$0,002\\frac{x1}{1000}+ 0,01\\frac{x2}{1000}+ 0,03\\frac{x3}{1000}\\geq 0,008$ </br>\n",
        "\n",
        "$0,002\\frac{x1}{1000}+ 0,01\\frac{x2}{1000}+ 0,03\\frac{x3}{1000}\\leq 0,012$ </br>\n",
        "\n",
        "$0,5\\frac{x1}{1000}+ 0,09\\frac{x2}{1000} \\geq 0,22$ </br>\n",
        "\n",
        "$0,08\\frac{x1}{1000}+ 0,2\\frac{x2}{1000}+ 0,2\\frac{x3}{1000} \\leq 0,20$ </br>\n",
        "\n",
        "$x_1, x_2, x_3 \\geq 0$ </br>\n",
        "\n",
        "## Função objetivo:\n",
        "\n",
        "$Min\\ Z = 15x_1 + 20x_2 + 8x_3$ "
      ]
    },
    {
      "cell_type": "code",
      "metadata": {
        "colab": {
          "base_uri": "https://localhost:8080/"
        },
        "id": "sgW3om6aqIXJ",
        "outputId": "3a8a671c-2444-4519-c65e-f0647d3637ce"
      },
      "source": [
        "! pip install ortools # rodar duas vezes"
      ],
      "execution_count": 1,
      "outputs": [
        {
          "output_type": "stream",
          "text": [
            "Requirement already satisfied: ortools in /usr/local/lib/python3.7/dist-packages (8.2.8710)\n",
            "Requirement already satisfied: protobuf>=3.14.0 in /usr/local/lib/python3.7/dist-packages (from ortools) (3.15.8)\n",
            "Requirement already satisfied: absl-py>=0.11 in /usr/local/lib/python3.7/dist-packages (from ortools) (0.12.0)\n",
            "Requirement already satisfied: six>=1.9 in /usr/local/lib/python3.7/dist-packages (from protobuf>=3.14.0->ortools) (1.15.0)\n"
          ],
          "name": "stdout"
        }
      ]
    },
    {
      "cell_type": "code",
      "metadata": {
        "id": "DqKsw3GkicOv"
      },
      "source": [
        "from ortools.linear_solver import pywraplp"
      ],
      "execution_count": 2,
      "outputs": []
    },
    {
      "cell_type": "code",
      "metadata": {
        "colab": {
          "base_uri": "https://localhost:8080/"
        },
        "id": "Rxhprcc9psYz",
        "outputId": "e7c2933d-d406-42c2-edc1-96d41b10ce31"
      },
      "source": [
        "# Inicializa o solver\n",
        "pl = pywraplp.Solver('Problema da Ração Animal - Tema 4', pywraplp.Solver.GLOP_LINEAR_PROGRAMMING)\n",
        "\n",
        "# Dados do Problema\n",
        "N_VAR = 3\n",
        "N_REST = 5\n",
        "\n",
        "# Matriz A vezes o vetor x\n",
        "# A*x <= b\n",
        "\n",
        "A = [[-0.002/1000, -0.01/1000, -0.03/1000],\n",
        "     [0.002/1000, 0.01/1000, 0.03/1000],\n",
        "     [-0.50/1000, -0.09/1000, 0],\n",
        "     [0.008/1000, 0.02/1000, 0.02/1000],\n",
        "     [-1,-1,-1]] # Matriz de coeficientes\n",
        "B = [-0.008, 0.012, -0.22, 0.20, -1000] # Vetor de resultados\n",
        "C = [15.0, 20.0, 8.0] # Coeficientes da função objetivo\n",
        "\n",
        "# alocação de memória das variáveis e restrições\n",
        "x = []\n",
        "for j in range(N_VAR):\n",
        "  x.append(0)\n",
        "\n",
        "rest = []\n",
        "for i in range(N_REST):\n",
        "  rest.append(0)\n",
        "    \n",
        "# VARIÁVEIS DE DECISÃO\n",
        "for j in range(N_VAR):   \n",
        "  x[j] = pl.NumVar(0, pl.infinity(), 'x'+str(j))  # min, max, nome\n",
        "\n",
        "# RESTRIÇÕES\n",
        "# define o lado direito das restrições <= \n",
        "for i in range(N_REST):  \n",
        "  rest[i] = pl.Constraint(-pl.infinity(), B[i])  # min, max\n",
        "\n",
        "# define o coeficiente das variáveis no lado esquerdo das restrições \n",
        "for i in range(N_REST):  # linhas\n",
        "  for j in range(N_VAR): # colunas\n",
        "    rest[i].SetCoefficient(x[j], A[i][j])\n",
        "\n",
        "# função objetivo: Minimizar C1*x1 +...\n",
        "obj = pl.Objective()\n",
        "for j in range(N_VAR):\n",
        "  obj.SetCoefficient(x[j], C[j])\n",
        "obj.SetMinimization()\n",
        "\n",
        "# Resolve\n",
        "pl.Solve()\n",
        "\n",
        "# Imprime o valor de cada variável na solução ótima e da função-objetivo\n",
        "print(\"Função-objetivo = \", pl.Objective().Value())\n",
        "for j in range(N_VAR):  # j = 0, 1\n",
        "  print(\"Quilogramas de x%d\" %(j+1),\"=\", x[j].solution_value())"
      ],
      "execution_count": 3,
      "outputs": [
        {
          "output_type": "stream",
          "text": [
            "Função-objetivo =  12500.0\n",
            "Quilogramas de x1 = 642.8571428571428\n",
            "Quilogramas de x2 = 0.0\n",
            "Quilogramas de x3 = 357.1428571428572\n"
          ],
          "name": "stdout"
        }
      ]
    }
  ]
}