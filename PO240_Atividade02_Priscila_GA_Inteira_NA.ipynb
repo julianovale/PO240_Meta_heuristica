{
  "nbformat": 4,
  "nbformat_minor": 0,
  "metadata": {
    "colab": {
      "name": "PO240_Atividade02_Priscila_GA_Inteira_NA.ipynb",
      "provenance": [],
      "collapsed_sections": [],
      "include_colab_link": true
    },
    "kernelspec": {
      "display_name": "Python 3",
      "language": "python",
      "name": "python3"
    },
    "language_info": {
      "codemirror_mode": {
        "name": "ipython",
        "version": 3
      },
      "file_extension": ".py",
      "mimetype": "text/x-python",
      "name": "python",
      "nbconvert_exporter": "python",
      "pygments_lexer": "ipython3",
      "version": "3.7.6"
    }
  },
  "cells": [
    {
      "cell_type": "markdown",
      "metadata": {
        "id": "view-in-github",
        "colab_type": "text"
      },
      "source": [
        "<a href=\"https://colab.research.google.com/github/julianovale/PO240_Meta_heuristica/blob/main/PO240_Atividade02_Priscila_GA_Inteira_NA.ipynb\" target=\"_parent\"><img src=\"https://colab.research.google.com/assets/colab-badge.svg\" alt=\"Open In Colab\"/></a>"
      ]
    },
    {
      "cell_type": "code",
      "metadata": {
        "colab": {
          "resources": {
            "http://localhost:8080/nbextensions/google.colab/files.js": {
              "data": "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",
              "ok": true,
              "headers": [
                [
                  "content-type",
                  "application/javascript"
                ]
              ],
              "status": 200,
              "status_text": ""
            }
          },
          "base_uri": "https://localhost:8080/",
          "height": 73
        },
        "id": "x8Dd82zJBRLX",
        "outputId": "8a7aeb69-60fb-4a97-d364-39454b286300"
      },
      "source": [
        "from google.colab import files\n",
        "uploaded = files.upload() # subir arquivo Instancia"
      ],
      "execution_count": 26,
      "outputs": [
        {
          "output_type": "display_data",
          "data": {
            "text/html": [
              "\n",
              "     <input type=\"file\" id=\"files-b6d3c86e-7ca7-43b6-a539-f471e6ac2bdd\" name=\"files[]\" multiple disabled\n",
              "        style=\"border:none\" />\n",
              "     <output id=\"result-b6d3c86e-7ca7-43b6-a539-f471e6ac2bdd\">\n",
              "      Upload widget is only available when the cell has been executed in the\n",
              "      current browser session. Please rerun this cell to enable.\n",
              "      </output>\n",
              "      <script src=\"/nbextensions/google.colab/files.js\"></script> "
            ],
            "text/plain": [
              "<IPython.core.display.HTML object>"
            ]
          },
          "metadata": {
            "tags": []
          }
        },
        {
          "output_type": "stream",
          "text": [
            "Saving Instancia100.txt to Instancia100.txt\n"
          ],
          "name": "stdout"
        }
      ]
    },
    {
      "cell_type": "markdown",
      "metadata": {
        "id": "6MJ6lPGZnct2"
      },
      "source": [
        "# Valendo"
      ]
    },
    {
      "cell_type": "code",
      "metadata": {
        "id": "uVf_fojrna_b"
      },
      "source": [
        "# importações\n",
        "%matplotlib inline\n",
        "import matplotlib.pyplot as plt\n",
        "import random \n",
        "from random import choice\n",
        "from random import seed\n",
        "import numpy as np\n",
        "import time \n",
        "import copy\n",
        "import imageio\n",
        "import os\n",
        "from google.colab import files\n",
        "\n",
        "def leitura(arquivo):\n",
        "  arq = open(arquivo, \"r\") # r- read\n",
        "  lixo = arq.readline()  # linha com texto Number of jobs\n",
        "  linha = arq.readline() # linha com número de tarefas\n",
        "  N = int(linha)         # linha com o número de tarefas\n",
        "  p = np.zeros(N)  # p = [p0, p1,..., p(N-1)]\n",
        "  w = np.zeros(N)\n",
        "  d = np.zeros(N)\n",
        "  lixo = arq.readline()  # linha com texto Job data \n",
        "  for i in range(N):  # repetir N vezes\n",
        "      # i-ésima linha\n",
        "      linha = arq.readline().split()  # posições: 0-indice, 1-p, 2-w, 3-d\n",
        "      p[i] = int(linha[1])\n",
        "      w[i] = int(linha[2])\n",
        "      d[i] = int(linha[3])\n",
        "  return N, p, w, d  \n",
        "\n",
        "# inicializa população aleatoriamente\n",
        "# cada individuo da populacao terá o seguinte formato:\n",
        "# [[individuo], [lista com xi], funojb]\n",
        "# para cada indivíduo i\n",
        "# populacao[i][0]  para acessar o indivíduo (codificação real ou inteira)\n",
        "# populacao[i][1]  para acessar a variável de decisão xi\n",
        "# populacao[i][2]  para acessar a função-objetivo\n",
        "\n",
        "def inicializaPopulacao(TP, N):\n",
        "  populacao = []\n",
        "  for i in range(TP):   # para cada individuo [lista] da populacao \n",
        "      lista = []\n",
        "      todos = list(range(N))   # lista com todas as tarefas\n",
        "      for j in range(N):                      # para cada posição do individuo\n",
        "          aleatorio = choice(todos)           # escolher uma tarefa aleatoria \n",
        "          lista.append(aleatorio)             # adicionar à lista\n",
        "          todos.remove(aleatorio)             # remover da lista auxiliar para não ocorrer repetição\n",
        "      # alocar espaço para a variável de decisão\n",
        "      # função-objetivo zerada\n",
        "      x = [0]*N\n",
        "      populacao.append([lista, x, 0])   # incluir o individuo completo na populacao\n",
        "  return populacao\n",
        "\n",
        "def decodificaXi(populacao, p, N):\n",
        "  for i in range(len(populacao)):\n",
        "    for j in range(len(populacao[0])-2):\n",
        "      for k in range(len(p)):\n",
        "        populacao[i][1] = [0]*N\n",
        "        if (k == 0):\n",
        "          populacao[i][1][k] = 0\n",
        "        else:\n",
        "          temp = 0\n",
        "          for k in range(len(populacao[0][1])-1):\n",
        "            temp = temp + p[populacao[i][j][k]]\n",
        "            populacao[i][1][k+1] = temp\n",
        "  return populacao\n",
        "        \n",
        "def calculaFO(decod_xi, p, w, d, M, TP):\n",
        "  for i in range(TP):\n",
        "    temp = 0\n",
        "    for j in range(len(decod_xi[i][0])):\n",
        "      temp = temp + w[decod_xi[i][0][j]]*(decod_xi[i][1][j]+p[decod_xi[i][0][j]])+M*max(0,decod_xi[i][1][j]+p[decod_xi[i][0][j]]-d[decod_xi[i][0][j]])\n",
        "      decod_xi[i][2] = temp\n",
        "  return decod_xi\n",
        "\n",
        "def torneioBinario(populacao, TP):\n",
        "  paisSelecionados = []\n",
        "\n",
        "  todos = list(range(TP))\n",
        "  for i in range(TP):\n",
        "    indAleat1 = random.choice(todos)\n",
        "    indAleat2 = random.choice(todos)\n",
        "    while (indAleat1 == indAleat2):\n",
        "      indAleat2 = random.choice(todos)\n",
        "\n",
        "    if (populacao[indAleat1][2] < populacao[indAleat2][2]):\n",
        "      paiSelecionado = copy.deepcopy(populacao[indAleat1])\n",
        "    else:\n",
        "      paiSelecionado = copy.deepcopy(populacao[indAleat2])\n",
        "\n",
        "    paisSelecionados.append(paiSelecionado)\n",
        "  return paisSelecionados\n",
        "\n",
        "def crossover(paisSelecionados, TP, N):\n",
        "  # paisSelecionados = [[[0,1,0,1,0], x, fitness]],[],[]]\n",
        "  PC = 0.95\n",
        "  filhos = []\n",
        "\n",
        "  for i in range(TP//2): # 2 pais geram 2 filhos\n",
        "    doisPais = random.sample(paisSelecionados, 2) \n",
        "    aleatorio = random.random() # entre 0 e 1\n",
        "    if aleatorio <= PC: # crossover acontece\n",
        "      ponto = random.randint(1, N-1)\n",
        "      filho1 = doisPais[0][0][:ponto] + [item for item in doisPais[1][0][:] if item not in doisPais[0][0][:ponto]]\n",
        "      filho2 = doisPais[1][0][:ponto] + [item for item in doisPais[0][0][:] if item not in doisPais[1][0][:ponto]]\n",
        "    else:\n",
        "      filho1 = doisPais[0][0]\n",
        "      filho2 = doisPais[1][0]\n",
        "    filhos.append([filho1, 0, 0])\n",
        "    filhos.append([filho2, 0, 0])\n",
        "  return filhos\n",
        "\n",
        "def mutacao(filhos, TP, N):\n",
        "  PM = 0.1\n",
        "  for i in range(len(filhos)):\n",
        "    aleatorio = random.random()\n",
        "    escolha = list(range(N))\n",
        "    if aleatorio <= PM:\n",
        "      swap1 = random.choice(escolha)\n",
        "      swap2 = random.choice(escolha)\n",
        "      a = filhos[i][0][swap1]\n",
        "      b = filhos[i][0][swap2]\n",
        "      filhos[i][0][swap1] = b\n",
        "      filhos[i][0][swap2] = a\n",
        "  return filhos\n",
        "\n",
        "def main():\n",
        "  # constantes\n",
        "  TP = 50   # tamanho da população\n",
        "  G = 100     # número de gerações\n",
        "  seed() #inicia a semente dos número pseudo randômicos\n",
        "  \n",
        "  # leitura\n",
        "  N, p, w, d = leitura(\"instancia10_.txt\") ### ALTERAR!!!\n",
        "  \n",
        "  inicio = time.time()  # começa a contar o tempo\n",
        "  \n",
        "  # Inicializa Populacao \n",
        "  populacao = inicializaPopulacao(TP, N)\n",
        "\n",
        "  # Decodifica para obter xi \n",
        "  decod_xi = decodificaXi(populacao, p, N)\n",
        "\n",
        "  # Calcula a função objetivo penalizada  \n",
        "  M = 2*sum(p)\n",
        "  populacao = calculaFO(decod_xi, p, w, d, M, TP)\n",
        "\n",
        "  hist_res = []\n",
        "\n",
        "  for g in range(G):\n",
        "    # seleciona pares de pais aleatoriamente\n",
        "    paisSelecionados = torneioBinario(populacao, TP)\n",
        "    \n",
        "    # crossover\n",
        "    filhos = crossover(paisSelecionados, TP, N)\n",
        "\n",
        "    # mutação\n",
        "    filhos = mutacao(filhos, TP, N)\n",
        "\n",
        "    # com filhos: Decodifica para obter xi\n",
        "    filhos_xi = decodificaXi(filhos, p, N)\n",
        "\n",
        "    # com filhos: Calcula a função objetivo penalizada   \n",
        "    M = 2*sum(p)\n",
        "    filhos = calculaFO(filhos_xi, p, w, d, M, TP)\n",
        "\n",
        "    # populacao próxima geração, seleção: pais e filho\n",
        "    mista = populacao + filhos \n",
        "    mistaOrd = sorted(mista, key=lambda x: x[2]) # se maximização reverse = True\n",
        "    populacao = mistaOrd[:TP]\n",
        "    hist_res.append(populacao[0][2])\n",
        "\n",
        "  fim = time.time()  \n",
        "  print(\"Tempo de execução (s): \", fim - inicio)\n",
        "\n",
        "  return populacao[0], hist_res"
      ],
      "execution_count": 2,
      "outputs": []
    },
    {
      "cell_type": "code",
      "metadata": {
        "colab": {
          "base_uri": "https://localhost:8080/"
        },
        "id": "UIztBf-foP03",
        "outputId": "6bef89be-a79f-49fa-a288-3f138df12fb8"
      },
      "source": [
        "solucao, hist_res = main()\n",
        "print(solucao)\n",
        "print(hist_res)"
      ],
      "execution_count": 6,
      "outputs": [
        {
          "output_type": "stream",
          "text": [
            "Tempo de execução (s):  0.5943543910980225\n",
            "[[2, 7, 9, 3, 0, 5, 6, 4, 1, 8], [0, 79.0, 133.0, 198.0, 253.0, 306.0, 379.0, 507.0, 644.0, 785.0], 17481.0]\n",
            "[350442.0, 146196.0, 68059.0, 67167.0, 66652.0, 66652.0, 66652.0, 66487.0, 66487.0, 66487.0, 66487.0, 66487.0, 66487.0, 19227.0, 19227.0, 19227.0, 19227.0, 19227.0, 19227.0, 19227.0, 19227.0, 19227.0, 19227.0, 19227.0, 19227.0, 19227.0, 19227.0, 18303.0, 18303.0, 18303.0, 18303.0, 18303.0, 18303.0, 18303.0, 17679.0, 17679.0, 17679.0, 17679.0, 17679.0, 17679.0, 17679.0, 17514.0, 17514.0, 17514.0, 17514.0, 17514.0, 17514.0, 17514.0, 17481.0, 17481.0, 17481.0, 17481.0, 17481.0, 17481.0, 17481.0, 17481.0, 17481.0, 17481.0, 17481.0, 17481.0, 17481.0, 17481.0, 17481.0, 17481.0, 17481.0, 17481.0, 17481.0, 17481.0, 17481.0, 17481.0, 17481.0, 17481.0, 17481.0, 17481.0, 17481.0, 17481.0, 17481.0, 17481.0, 17481.0, 17481.0, 17481.0, 17481.0, 17481.0, 17481.0, 17481.0, 17481.0, 17481.0, 17481.0, 17481.0, 17481.0, 17481.0, 17481.0, 17481.0, 17481.0, 17481.0, 17481.0, 17481.0, 17481.0, 17481.0, 17481.0]\n"
          ],
          "name": "stdout"
        }
      ]
    },
    {
      "cell_type": "code",
      "metadata": {
        "colab": {
          "base_uri": "https://localhost:8080/",
          "height": 264
        },
        "id": "Ziq0SwFSoUah",
        "outputId": "24628189-b63b-47b9-8310-1c13efb1b739"
      },
      "source": [
        "plt.plot(range(len(hist_res)),hist_res);"
      ],
      "execution_count": 7,
      "outputs": [
        {
          "output_type": "display_data",
          "data": {
            "image/png": "[encoded data removed]",
            "text/plain": [
              "<Figure size 432x288 with 1 Axes>"
            ]
          },
          "metadata": {
            "tags": [],
            "needs_background": "light"
          }
        }
      ]
    },
    {
      "cell_type": "code",
      "metadata": {
        "id": "Vb_LL8cMpCBM"
      },
      "source": [
        "# importações\n",
        "%matplotlib inline\n",
        "import matplotlib.pyplot as plt\n",
        "import random \n",
        "from random import choice\n",
        "from random import seed\n",
        "import numpy as np\n",
        "import time \n",
        "import copy\n",
        "import imageio\n",
        "import os\n",
        "from google.colab import files\n",
        "\n",
        "def leitura(arquivo):\n",
        "  arq = open(arquivo, \"r\") # r- read\n",
        "  lixo = arq.readline()  # linha com texto Number of jobs\n",
        "  linha = arq.readline() # linha com número de tarefas\n",
        "  N = int(linha)         # linha com o número de tarefas\n",
        "  p = np.zeros(N)  # p = [p0, p1,..., p(N-1)]\n",
        "  w = np.zeros(N)\n",
        "  d = np.zeros(N)\n",
        "  lixo = arq.readline()  # linha com texto Job data \n",
        "  for i in range(N):  # repetir N vezes\n",
        "      # i-ésima linha\n",
        "      linha = arq.readline().split()  # posições: 0-indice, 1-p, 2-w, 3-d\n",
        "      p[i] = int(linha[1])\n",
        "      w[i] = int(linha[2])\n",
        "      d[i] = int(linha[3])\n",
        "  return N, p, w, d  \n",
        "\n",
        "# inicializa população aleatoriamente\n",
        "# cada individuo da populacao terá o seguinte formato:\n",
        "# [[individuo], [lista com xi], funojb]\n",
        "# para cada indivíduo i\n",
        "# populacao[i][0]  para acessar o indivíduo (codificação real ou inteira)\n",
        "# populacao[i][1]  para acessar a variável de decisão xi\n",
        "# populacao[i][2]  para acessar a função-objetivo\n",
        "\n",
        "def inicializaPopulacao(TP, N):\n",
        "  populacao = []\n",
        "  for i in range(TP):   # para cada individuo [lista] da populacao \n",
        "      lista = []\n",
        "      todos = list(range(N))   # lista com todas as tarefas\n",
        "      for j in range(N):                      # para cada posição do individuo\n",
        "          aleatorio = choice(todos)           # escolher uma tarefa aleatoria \n",
        "          lista.append(aleatorio)             # adicionar à lista\n",
        "          todos.remove(aleatorio)             # remover da lista auxiliar para não ocorrer repetição\n",
        "      # alocar espaço para a variável de decisão\n",
        "      # função-objetivo zerada\n",
        "      x = [0]*N\n",
        "      populacao.append([lista, x, 0])   # incluir o individuo completo na populacao\n",
        "  return populacao\n",
        "\n",
        "def decodificaXi(populacao, p, N):\n",
        "  for i in range(len(populacao)):\n",
        "    for j in range(len(populacao[0])-2):\n",
        "      for k in range(len(p)):\n",
        "        populacao[i][1] = [0]*N\n",
        "        if (k == 0):\n",
        "          populacao[i][1][k] = 0\n",
        "        else:\n",
        "          temp = 0\n",
        "          for k in range(len(populacao[0][1])-1):\n",
        "            temp = temp + p[populacao[i][j][k]]\n",
        "            populacao[i][1][k+1] = temp\n",
        "  return populacao\n",
        "        \n",
        "def calculaFO(decod_xi, p, w, d, M, TP):\n",
        "  for i in range(TP):\n",
        "    temp = 0\n",
        "    for j in range(len(decod_xi[i][0])):\n",
        "      temp = temp + w[decod_xi[i][0][j]]*(decod_xi[i][1][j]+p[decod_xi[i][0][j]])+M*max(0,decod_xi[i][1][j]+p[decod_xi[i][0][j]]-d[decod_xi[i][0][j]])\n",
        "      decod_xi[i][2] = temp\n",
        "  return decod_xi\n",
        "\n",
        "def torneioBinario(populacao, TP):\n",
        "  paisSelecionados = []\n",
        "\n",
        "  todos = list(range(TP))\n",
        "  for i in range(TP):\n",
        "    indAleat1 = random.choice(todos)\n",
        "    indAleat2 = random.choice(todos)\n",
        "    while (indAleat1 == indAleat2):\n",
        "      indAleat2 = random.choice(todos)\n",
        "\n",
        "    if (populacao[indAleat1][2] < populacao[indAleat2][2]):\n",
        "      paiSelecionado = copy.deepcopy(populacao[indAleat1])\n",
        "    else:\n",
        "      paiSelecionado = copy.deepcopy(populacao[indAleat2])\n",
        "\n",
        "    paisSelecionados.append(paiSelecionado)\n",
        "  return paisSelecionados\n",
        "\n",
        "def crossover(paisSelecionados, TP, N):\n",
        "  # paisSelecionados = [[[0,1,0,1,0], x, fitness]],[],[]]\n",
        "  PC = 0.95\n",
        "  filhos = []\n",
        "\n",
        "  for i in range(TP//2): # 2 pais geram 2 filhos\n",
        "    doisPais = random.sample(paisSelecionados, 2) \n",
        "    aleatorio = random.random() # entre 0 e 1\n",
        "    if aleatorio <= PC: # crossover acontece\n",
        "      ponto = random.randint(1, N-1)\n",
        "      filho1 = doisPais[0][0][:ponto] + [item for item in doisPais[1][0][:] if item not in doisPais[0][0][:ponto]]\n",
        "      filho2 = doisPais[1][0][:ponto] + [item for item in doisPais[0][0][:] if item not in doisPais[1][0][:ponto]]\n",
        "    else:\n",
        "      filho1 = doisPais[0][0]\n",
        "      filho2 = doisPais[1][0]\n",
        "    filhos.append([filho1, 0, 0])\n",
        "    filhos.append([filho2, 0, 0])\n",
        "  return filhos\n",
        "\n",
        "def mutacao(filhos, TP, N):\n",
        "  PM = 0.1\n",
        "  for i in range(len(filhos)):\n",
        "    aleatorio = random.random()\n",
        "    escolha = list(range(N))\n",
        "    if aleatorio <= PM:\n",
        "      swap1 = random.choice(escolha)\n",
        "      swap2 = random.choice(escolha)\n",
        "      a = filhos[i][0][swap1]\n",
        "      b = filhos[i][0][swap2]\n",
        "      filhos[i][0][swap1] = b\n",
        "      filhos[i][0][swap2] = a\n",
        "  return filhos\n",
        "\n",
        "def main():\n",
        "  # constantes\n",
        "  TP = 50   # tamanho da população\n",
        "  G = 100     # número de gerações\n",
        "  seed() #inicia a semente dos número pseudo randômicos\n",
        "  \n",
        "  # leitura\n",
        "  N, p, w, d = leitura(\"Instancia20.txt\") ### ALTERAR!!!\n",
        "  \n",
        "  inicio = time.time()  # começa a contar o tempo\n",
        "  \n",
        "  # Inicializa Populacao \n",
        "  populacao = inicializaPopulacao(TP, N)\n",
        "\n",
        "  # Decodifica para obter xi \n",
        "  decod_xi = decodificaXi(populacao, p, N)\n",
        "\n",
        "  # Calcula a função objetivo penalizada  \n",
        "  M = 2*sum(p)\n",
        "  populacao = calculaFO(decod_xi, p, w, d, M, TP)\n",
        "\n",
        "  hist_res = []\n",
        "\n",
        "  for g in range(G):\n",
        "    # seleciona pares de pais aleatoriamente\n",
        "    paisSelecionados = torneioBinario(populacao, TP)\n",
        "    \n",
        "    # crossover\n",
        "    filhos = crossover(paisSelecionados, TP, N)\n",
        "\n",
        "    # mutação\n",
        "    filhos = mutacao(filhos, TP, N)\n",
        "\n",
        "    # com filhos: Decodifica para obter xi\n",
        "    filhos_xi = decodificaXi(filhos, p, N)\n",
        "\n",
        "    # com filhos: Calcula a função objetivo penalizada   \n",
        "    M = 2*sum(p)\n",
        "    filhos = calculaFO(filhos_xi, p, w, d, M, TP)\n",
        "\n",
        "    # populacao próxima geração, seleção: pais e filho\n",
        "    mista = populacao + filhos \n",
        "    mistaOrd = sorted(mista, key=lambda x: x[2]) # se maximização reverse = True\n",
        "    populacao = mistaOrd[:TP]\n",
        "    hist_res.append(populacao[0][2])\n",
        "\n",
        "  fim = time.time()  \n",
        "  print(\"Tempo de execução (s): \", fim - inicio)\n",
        "\n",
        "  return populacao[0], hist_res"
      ],
      "execution_count": 19,
      "outputs": []
    },
    {
      "cell_type": "code",
      "metadata": {
        "colab": {
          "base_uri": "https://localhost:8080/"
        },
        "id": "sLllqW2cpCBP",
        "outputId": "e20f21d0-1e6f-4645-f7b7-e19e72a3b729"
      },
      "source": [
        "solucao, hist_res = main()\n",
        "print(solucao)\n",
        "print(hist_res)"
      ],
      "execution_count": 24,
      "outputs": [
        {
          "output_type": "stream",
          "text": [
            "Tempo de execução (s):  1.564115047454834\n",
            "[[7, 17, 18, 19, 9, 13, 10, 14, 4, 16, 15, 3, 0, 5, 11, 1, 6, 12, 2, 8], [0, 2.0, 4.0, 7.0, 9.0, 11.0, 12.0, 14.0, 17.0, 20.0, 22.0, 25.0, 27.0, 28.0, 31.0, 34.0, 36.0, 38.0, 41.0, 45.0], 5605.0]\n",
            "[8140.0, 7947.0, 7947.0, 7646.0, 7590.0, 7314.0, 6889.0, 6889.0, 6543.0, 6540.0, 6486.0, 6439.0, 6439.0, 6316.0, 6316.0, 6316.0, 6242.0, 6179.0, 6106.0, 6092.0, 6092.0, 6092.0, 6088.0, 5912.0, 5912.0, 5912.0, 5912.0, 5912.0, 5907.0, 5906.0, 5906.0, 5906.0, 5906.0, 5784.0, 5784.0, 5784.0, 5784.0, 5769.0, 5769.0, 5754.0, 5749.0, 5749.0, 5749.0, 5739.0, 5722.0, 5722.0, 5722.0, 5722.0, 5722.0, 5718.0, 5706.0, 5706.0, 5706.0, 5705.0, 5705.0, 5705.0, 5705.0, 5705.0, 5705.0, 5705.0, 5696.0, 5683.0, 5683.0, 5683.0, 5683.0, 5659.0, 5659.0, 5659.0, 5655.0, 5655.0, 5655.0, 5655.0, 5655.0, 5630.0, 5630.0, 5630.0, 5630.0, 5630.0, 5630.0, 5625.0, 5625.0, 5619.0, 5614.0, 5614.0, 5614.0, 5614.0, 5606.0, 5606.0, 5606.0, 5606.0, 5605.0, 5605.0, 5605.0, 5605.0, 5605.0, 5605.0, 5605.0, 5605.0, 5605.0, 5605.0]\n"
          ],
          "name": "stdout"
        }
      ]
    },
    {
      "cell_type": "code",
      "metadata": {
        "colab": {
          "base_uri": "https://localhost:8080/",
          "height": 264
        },
        "id": "LdaVUmwtpFyC",
        "outputId": "06f7b099-38e6-4c14-ab30-1b696d13ba5d"
      },
      "source": [
        "plt.plot(range(len(hist_res)),hist_res);"
      ],
      "execution_count": 25,
      "outputs": [
        {
          "output_type": "display_data",
          "data": {
            "image/png": "[encoded data removed]",
            "text/plain": [
              "<Figure size 432x288 with 1 Axes>"
            ]
          },
          "metadata": {
            "tags": [],
            "needs_background": "light"
          }
        }
      ]
    },
    {
      "cell_type": "code",
      "metadata": {
        "id": "dF8juxuXqE3Q"
      },
      "source": [
        "# importações\n",
        "%matplotlib inline\n",
        "import matplotlib.pyplot as plt\n",
        "import random \n",
        "from random import choice\n",
        "from random import seed\n",
        "import numpy as np\n",
        "import time \n",
        "import copy\n",
        "import imageio\n",
        "import os\n",
        "from google.colab import files\n",
        "\n",
        "def leitura(arquivo):\n",
        "  arq = open(arquivo, \"r\") # r- read\n",
        "  lixo = arq.readline()  # linha com texto Number of jobs\n",
        "  linha = arq.readline() # linha com número de tarefas\n",
        "  N = int(linha)         # linha com o número de tarefas\n",
        "  p = np.zeros(N)  # p = [p0, p1,..., p(N-1)]\n",
        "  w = np.zeros(N)\n",
        "  d = np.zeros(N)\n",
        "  lixo = arq.readline()  # linha com texto Job data \n",
        "  for i in range(N):  # repetir N vezes\n",
        "      # i-ésima linha\n",
        "      linha = arq.readline().split()  # posições: 0-indice, 1-p, 2-w, 3-d\n",
        "      p[i] = int(linha[1])\n",
        "      w[i] = int(linha[2])\n",
        "      d[i] = int(linha[3])\n",
        "  return N, p, w, d  \n",
        "\n",
        "# inicializa população aleatoriamente\n",
        "# cada individuo da populacao terá o seguinte formato:\n",
        "# [[individuo], [lista com xi], funojb]\n",
        "# para cada indivíduo i\n",
        "# populacao[i][0]  para acessar o indivíduo (codificação real ou inteira)\n",
        "# populacao[i][1]  para acessar a variável de decisão xi\n",
        "# populacao[i][2]  para acessar a função-objetivo\n",
        "\n",
        "def inicializaPopulacao(TP, N):\n",
        "  populacao = []\n",
        "  for i in range(TP):   # para cada individuo [lista] da populacao \n",
        "      lista = []\n",
        "      todos = list(range(N))   # lista com todas as tarefas\n",
        "      for j in range(N):                      # para cada posição do individuo\n",
        "          aleatorio = choice(todos)           # escolher uma tarefa aleatoria \n",
        "          lista.append(aleatorio)             # adicionar à lista\n",
        "          todos.remove(aleatorio)             # remover da lista auxiliar para não ocorrer repetição\n",
        "      # alocar espaço para a variável de decisão\n",
        "      # função-objetivo zerada\n",
        "      x = [0]*N\n",
        "      populacao.append([lista, x, 0])   # incluir o individuo completo na populacao\n",
        "  return populacao\n",
        "\n",
        "def decodificaXi(populacao, p, N):\n",
        "  for i in range(len(populacao)):\n",
        "    for j in range(len(populacao[0])-2):\n",
        "      for k in range(len(p)):\n",
        "        populacao[i][1] = [0]*N\n",
        "        if (k == 0):\n",
        "          populacao[i][1][k] = 0\n",
        "        else:\n",
        "          temp = 0\n",
        "          for k in range(len(populacao[0][1])-1):\n",
        "            temp = temp + p[populacao[i][j][k]]\n",
        "            populacao[i][1][k+1] = temp\n",
        "  return populacao\n",
        "        \n",
        "def calculaFO(decod_xi, p, w, d, M, TP):\n",
        "  for i in range(TP):\n",
        "    temp = 0\n",
        "    for j in range(len(decod_xi[i][0])):\n",
        "      temp = temp + w[decod_xi[i][0][j]]*(decod_xi[i][1][j]+p[decod_xi[i][0][j]])+M*max(0,decod_xi[i][1][j]+p[decod_xi[i][0][j]]-d[decod_xi[i][0][j]])\n",
        "      decod_xi[i][2] = temp\n",
        "  return decod_xi\n",
        "\n",
        "def torneioBinario(populacao, TP):\n",
        "  paisSelecionados = []\n",
        "\n",
        "  todos = list(range(TP))\n",
        "  for i in range(TP):\n",
        "    indAleat1 = random.choice(todos)\n",
        "    indAleat2 = random.choice(todos)\n",
        "    while (indAleat1 == indAleat2):\n",
        "      indAleat2 = random.choice(todos)\n",
        "\n",
        "    if (populacao[indAleat1][2] < populacao[indAleat2][2]):\n",
        "      paiSelecionado = copy.deepcopy(populacao[indAleat1])\n",
        "    else:\n",
        "      paiSelecionado = copy.deepcopy(populacao[indAleat2])\n",
        "\n",
        "    paisSelecionados.append(paiSelecionado)\n",
        "  return paisSelecionados\n",
        "\n",
        "def crossover(paisSelecionados, TP, N):\n",
        "  # paisSelecionados = [[[0,1,0,1,0], x, fitness]],[],[]]\n",
        "  PC = 0.95\n",
        "  filhos = []\n",
        "\n",
        "  for i in range(TP//2): # 2 pais geram 2 filhos\n",
        "    doisPais = random.sample(paisSelecionados, 2) \n",
        "    aleatorio = random.random() # entre 0 e 1\n",
        "    if aleatorio <= PC: # crossover acontece\n",
        "      ponto = random.randint(1, N-1)\n",
        "      filho1 = doisPais[0][0][:ponto] + [item for item in doisPais[1][0][:] if item not in doisPais[0][0][:ponto]]\n",
        "      filho2 = doisPais[1][0][:ponto] + [item for item in doisPais[0][0][:] if item not in doisPais[1][0][:ponto]]\n",
        "    else:\n",
        "      filho1 = doisPais[0][0]\n",
        "      filho2 = doisPais[1][0]\n",
        "    filhos.append([filho1, 0, 0])\n",
        "    filhos.append([filho2, 0, 0])\n",
        "  return filhos\n",
        "\n",
        "def mutacao(filhos, TP, N):\n",
        "  PM = 0.1\n",
        "  for i in range(len(filhos)):\n",
        "    aleatorio = random.random()\n",
        "    escolha = list(range(N))\n",
        "    if aleatorio <= PM:\n",
        "      swap1 = random.choice(escolha)\n",
        "      swap2 = random.choice(escolha)\n",
        "      a = filhos[i][0][swap1]\n",
        "      b = filhos[i][0][swap2]\n",
        "      filhos[i][0][swap1] = b\n",
        "      filhos[i][0][swap2] = a\n",
        "  return filhos\n",
        "\n",
        "def main():\n",
        "  # constantes\n",
        "  TP = 50   # tamanho da população\n",
        "  G = 100     # número de gerações\n",
        "  seed() #inicia a semente dos número pseudo randômicos\n",
        "  \n",
        "  # leitura\n",
        "  N, p, w, d = leitura(\"Instancia100.txt\") ### ALTERAR!!!\n",
        "  \n",
        "  inicio = time.time()  # começa a contar o tempo\n",
        "  \n",
        "  # Inicializa Populacao \n",
        "  populacao = inicializaPopulacao(TP, N)\n",
        "\n",
        "  # Decodifica para obter xi \n",
        "  decod_xi = decodificaXi(populacao, p, N)\n",
        "\n",
        "  # Calcula a função objetivo penalizada  \n",
        "  M = 2*sum(p)\n",
        "  populacao = calculaFO(decod_xi, p, w, d, M, TP)\n",
        "\n",
        "  hist_res = []\n",
        "\n",
        "  for g in range(G):\n",
        "    # seleciona pares de pais aleatoriamente\n",
        "    paisSelecionados = torneioBinario(populacao, TP)\n",
        "    \n",
        "    # crossover\n",
        "    filhos = crossover(paisSelecionados, TP, N)\n",
        "\n",
        "    # mutação\n",
        "    filhos = mutacao(filhos, TP, N)\n",
        "\n",
        "    # com filhos: Decodifica para obter xi\n",
        "    filhos_xi = decodificaXi(filhos, p, N)\n",
        "\n",
        "    # com filhos: Calcula a função objetivo penalizada   \n",
        "    M = 2*sum(p)\n",
        "    filhos = calculaFO(filhos_xi, p, w, d, M, TP)\n",
        "\n",
        "    # populacao próxima geração, seleção: pais e filho\n",
        "    mista = populacao + filhos \n",
        "    mistaOrd = sorted(mista, key=lambda x: x[2]) # se maximização reverse = True\n",
        "    populacao = mistaOrd[:TP]\n",
        "    hist_res.append(populacao[0][2])\n",
        "\n",
        "  fim = time.time()  \n",
        "  print(\"Tempo de execução (s): \", fim - inicio)\n",
        "\n",
        "  return populacao[0], hist_res"
      ],
      "execution_count": 27,
      "outputs": []
    },
    {
      "cell_type": "code",
      "metadata": {
        "colab": {
          "base_uri": "https://localhost:8080/"
        },
        "id": "MQmIP1tVqMo8",
        "outputId": "80952051-c68c-4e4e-f435-420f46e7cca2"
      },
      "source": [
        "solucao, hist_res = main()\n",
        "print(solucao)\n",
        "print(hist_res)"
      ],
      "execution_count": 30,
      "outputs": [
        {
          "output_type": "stream",
          "text": [
            "Tempo de execução (s):  23.330851554870605\n",
            "[[46, 4, 2, 27, 6, 34, 99, 17, 41, 49, 73, 23, 29, 91, 42, 84, 8, 87, 35, 26, 60, 43, 93, 22, 75, 79, 86, 70, 33, 48, 72, 61, 77, 18, 7, 14, 10, 21, 31, 19, 15, 50, 44, 88, 0, 11, 32, 98, 83, 64, 65, 71, 39, 90, 57, 78, 58, 5, 97, 20, 94, 55, 38, 56, 47, 92, 66, 76, 40, 25, 13, 9, 62, 30, 69, 74, 16, 95, 51, 52, 82, 96, 54, 12, 3, 67, 68, 63, 80, 59, 36, 89, 28, 53, 1, 81, 85, 45, 37, 24], [0, 2.0, 4.0, 5.0, 9.0, 12.0, 14.0, 16.0, 20.0, 22.0, 24.0, 26.0, 28.0, 30.0, 31.0, 33.0, 35.0, 36.0, 38.0, 41.0, 43.0, 46.0, 49.0, 52.0, 53.0, 56.0, 59.0, 62.0, 64.0, 66.0, 68.0, 71.0, 73.0, 75.0, 77.0, 80.0, 84.0, 86.0, 88.0, 90.0, 93.0, 95.0, 97.0, 101.0, 103.0, 105.0, 107.0, 109.0, 112.0, 115.0, 118.0, 120.0, 122.0, 124.0, 126.0, 129.0, 131.0, 133.0, 135.0, 137.0, 139.0, 142.0, 145.0, 149.0, 153.0, 156.0, 159.0, 161.0, 164.0, 167.0, 170.0, 172.0, 175.0, 177.0, 179.0, 182.0, 184.0, 186.0, 188.0, 190.0, 192.0, 195.0, 197.0, 199.0, 202.0, 205.0, 208.0, 211.0, 214.0, 216.0, 218.0, 222.0, 225.0, 228.0, 230.0, 234.0, 237.0, 240.0, 243.0, 246.0], 1256518.0]\n",
            "[1670386.0, 1670386.0, 1653901.0, 1635138.0, 1635138.0, 1635138.0, 1617389.0, 1601877.0, 1586799.0, 1579835.0, 1576288.0, 1565513.0, 1543127.0, 1525968.0, 1521184.0, 1521184.0, 1518501.0, 1498304.0, 1498304.0, 1496437.0, 1496437.0, 1487150.0, 1487150.0, 1485283.0, 1481645.0, 1476421.0, 1475734.0, 1473822.0, 1470777.0, 1470194.0, 1464302.0, 1464302.0, 1459357.0, 1422261.0, 1422238.0, 1422238.0, 1422238.0, 1422238.0, 1414524.0, 1411702.0, 1411647.0, 1411335.0, 1408369.0, 1406976.0, 1384347.0, 1384347.0, 1384347.0, 1381793.0, 1379351.0, 1379351.0, 1374331.0, 1372349.0, 1372097.0, 1368219.0, 1366553.0, 1365209.0, 1363785.0, 1363785.0, 1359237.0, 1359237.0, 1359237.0, 1357358.0, 1355564.0, 1355564.0, 1355564.0, 1352014.0, 1352014.0, 1343425.0, 1343425.0, 1343425.0, 1343425.0, 1343014.0, 1330934.0, 1330823.0, 1330823.0, 1328918.0, 1320786.0, 1320786.0, 1319841.0, 1318244.0, 1318244.0, 1317610.0, 1317082.0, 1314231.0, 1298668.0, 1298668.0, 1294302.0, 1293985.0, 1286022.0, 1283898.0, 1283898.0, 1282631.0, 1281437.0, 1280087.0, 1278342.0, 1278342.0, 1276516.0, 1275304.0, 1256575.0, 1256518.0]\n"
          ],
          "name": "stdout"
        }
      ]
    },
    {
      "cell_type": "code",
      "metadata": {
        "colab": {
          "base_uri": "https://localhost:8080/",
          "height": 275
        },
        "id": "ahni6rP0qT0w",
        "outputId": "ab291a75-f8bf-4701-d18d-99f59ad0613d"
      },
      "source": [
        "plt.plot(range(len(hist_res)),hist_res);"
      ],
      "execution_count": 31,
      "outputs": [
        {
          "output_type": "display_data",
          "data": {
            "image/png": "[encoded data removed]",
            "text/plain": [
              "<Figure size 432x288 with 1 Axes>"
            ]
          },
          "metadata": {
            "tags": [],
            "needs_background": "light"
          }
        }
      ]
    }
  ]
}