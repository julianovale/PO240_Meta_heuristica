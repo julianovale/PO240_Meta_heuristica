{
  "nbformat": 4,
  "nbformat_minor": 0,
  "metadata": {
    "colab": {
      "name": "PO240_Atividade02_Priscila_GA_Inteira_NA.ipynb",
      "provenance": [],
      "collapsed_sections": [],
      "include_colab_link": true
    },
    "kernelspec": {
      "display_name": "Python 3",
      "language": "python",
      "name": "python3"
    },
    "language_info": {
      "codemirror_mode": {
        "name": "ipython",
        "version": 3
      },
      "file_extension": ".py",
      "mimetype": "text/x-python",
      "name": "python",
      "nbconvert_exporter": "python",
      "pygments_lexer": "ipython3",
      "version": "3.7.6"
    }
  },
  "cells": [
    {
      "cell_type": "markdown",
      "metadata": {
        "id": "view-in-github",
        "colab_type": "text"
      },
      "source": [
        "<a href=\"https://colab.research.google.com/github/julianovale/PO240_Meta_heuristica/blob/main/PO240_Atividade02_Priscila_GA_Inteira_NA.ipynb\" target=\"_parent\"><img src=\"https://colab.research.google.com/assets/colab-badge.svg\" alt=\"Open In Colab\"/></a>"
      ]
    },
    {
      "cell_type": "code",
      "metadata": {
        "colab": {
          "resources": {
            "http://localhost:8080/nbextensions/google.colab/files.js": {
              "data": "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",
              "ok": true,
              "headers": [
                [
                  "content-type",
                  "application/javascript"
                ]
              ],
              "status": 200,
              "status_text": ""
            }
          },
          "base_uri": "https://localhost:8080/",
          "height": 73
        },
        "id": "x8Dd82zJBRLX",
        "outputId": "1e8522dc-6321-49cb-e830-f963a621fc1e"
      },
      "source": [
        "from google.colab import files\n",
        "uploaded = files.upload() # subir arquivo Instancia"
      ],
      "execution_count": 27,
      "outputs": [
        {
          "output_type": "display_data",
          "data": {
            "text/html": [
              "\n",
              "     <input type=\"file\" id=\"files-c31a9053-0102-4c18-95d5-38dfa65d4142\" name=\"files[]\" multiple disabled\n",
              "        style=\"border:none\" />\n",
              "     <output id=\"result-c31a9053-0102-4c18-95d5-38dfa65d4142\">\n",
              "      Upload widget is only available when the cell has been executed in the\n",
              "      current browser session. Please rerun this cell to enable.\n",
              "      </output>\n",
              "      <script src=\"/nbextensions/google.colab/files.js\"></script> "
            ],
            "text/plain": [
              "<IPython.core.display.HTML object>"
            ]
          },
          "metadata": {
            "tags": []
          }
        },
        {
          "output_type": "stream",
          "text": [
            "Saving Instancia100.txt to Instancia100.txt\n"
          ],
          "name": "stdout"
        }
      ]
    },
    {
      "cell_type": "code",
      "metadata": {
        "id": "tLjAz4jE6UKV"
      },
      "source": [
        "# importações\n",
        "%matplotlib inline\n",
        "import matplotlib.pyplot as plt\n",
        "import random \n",
        "from random import choice\n",
        "from random import seed\n",
        "import numpy as np\n",
        "import time \n",
        "import copy\n",
        "import imageio\n",
        "import os\n",
        "from google.colab import files\n",
        "\n",
        "def leitura(arquivo):\n",
        "  arq = open(arquivo, \"r\") # r- read\n",
        "  lixo = arq.readline()  # linha com texto Number of jobs\n",
        "  linha = arq.readline() # linha com número de tarefas\n",
        "  N = int(linha)         # linha com o número de tarefas\n",
        "  p = np.zeros(N)  # p = [p0, p1,..., p(N-1)]\n",
        "  w = np.zeros(N)\n",
        "  d = np.zeros(N)\n",
        "  lixo = arq.readline()  # linha com texto Job data \n",
        "  for i in range(N):  # repetir N vezes\n",
        "      # i-ésima linha\n",
        "      linha = arq.readline().split()  # posições: 0-indice, 1-p, 2-w, 3-d\n",
        "      p[i] = int(linha[1])\n",
        "      w[i] = int(linha[2])\n",
        "      d[i] = int(linha[3])\n",
        "  return N, p, w, d  \n",
        "\n",
        "# inicializa população aleatoriamente\n",
        "# cada individuo da populacao terá o seguinte formato:\n",
        "# [[individuo], [lista com xi], funojb]\n",
        "# para cada indivíduo i\n",
        "# populacao[i][0]  para acessar o indivíduo (codificação real ou inteira)\n",
        "# populacao[i][1]  para acessar a variável de decisão xi\n",
        "# populacao[i][2]  para acessar a função-objetivo\n",
        "\n",
        "def inicializaPopulacao(TP, N):\n",
        "  populacao = []\n",
        "  for i in range(TP):   # para cada individuo [lista] da populacao \n",
        "      lista = []\n",
        "      todos = list(range(N))   # lista com todas as tarefas\n",
        "      for j in range(N):                      # para cada posição do individuo\n",
        "          aleatorio = choice(todos)           # escolher uma tarefa aleatoria \n",
        "          lista.append(aleatorio)             # adicionar à lista\n",
        "          todos.remove(aleatorio)             # remover da lista auxiliar para não ocorrer repetição\n",
        "      # alocar espaço para a variável de decisão\n",
        "      # função-objetivo zerada\n",
        "      x = [0]*N\n",
        "      populacao.append([lista, x, 0])   # incluir o individuo completo na populacao\n",
        "  return populacao\n",
        "\n",
        "def decodificaXi(populacao, p, N):\n",
        "  for i in range(len(populacao)):\n",
        "    for j in range(len(populacao[0])-2):\n",
        "      for k in range(len(p)):\n",
        "        populacao[i][1] = [0]*N\n",
        "        if (k == 0):\n",
        "          populacao[i][1][k] = 0\n",
        "        else:\n",
        "          temp = 0\n",
        "          for k in range(len(populacao[0][1])-1):\n",
        "            temp = temp + p[populacao[i][j][k]]\n",
        "            populacao[i][1][k+1] = temp\n",
        "  return populacao\n",
        "        \n",
        "def calculaFO(decod_xi, p, w, d, M, TP):\n",
        "  for i in range(TP):\n",
        "    temp = 0\n",
        "    for j in range(len(decod_xi[i][0])):\n",
        "      temp = temp + w[decod_xi[i][0][j]]*(decod_xi[i][1][j]+p[decod_xi[i][0][j]])+M*max(0,decod_xi[i][1][j]+p[decod_xi[i][0][j]]-d[decod_xi[i][0][j]])\n",
        "      decod_xi[i][2] = temp\n",
        "  return decod_xi\n",
        "\n",
        "def torneioBinario(populacao, TP):\n",
        "  paisSelecionados = []\n",
        "\n",
        "  todos = list(range(TP))\n",
        "  for i in range(TP):\n",
        "    indAleat1 = random.choice(todos)\n",
        "    indAleat2 = random.choice(todos)\n",
        "    while (indAleat1 == indAleat2):\n",
        "      indAleat2 = random.choice(todos)\n",
        "\n",
        "    if (populacao[indAleat1][2] < populacao[indAleat2][2]):\n",
        "      paiSelecionado = copy.deepcopy(populacao[indAleat1])\n",
        "    else:\n",
        "      paiSelecionado = copy.deepcopy(populacao[indAleat2])\n",
        "\n",
        "    paisSelecionados.append(paiSelecionado)\n",
        "  return paisSelecionados\n",
        "\n",
        "def crossover(paisSelecionados, TP, N):\n",
        "  # paisSelecionados = [[[0,1,0,1,0], x, fitness]],[],[]]\n",
        "  PC = 0.95\n",
        "  filhos = []\n",
        "\n",
        "  for i in range(TP//2): # 2 pais geram 2 filhos\n",
        "    doisPais = random.sample(paisSelecionados, 2) \n",
        "    aleatorio = random.random() # entre 0 e 1\n",
        "    if aleatorio <= PC: # crossover acontece\n",
        "      ponto = random.randint(1, N-1)\n",
        "      filho1 = doisPais[0][0][:ponto] + [item for item in doisPais[1][0][:] if item not in doisPais[0][0][:ponto]]\n",
        "      filho2 = doisPais[1][0][:ponto] + [item for item in doisPais[0][0][:] if item not in doisPais[1][0][:ponto]]\n",
        "    else:\n",
        "      filho1 = doisPais[0][0]\n",
        "      filho2 = doisPais[1][0]\n",
        "    filhos.append([filho1, 0, 0])\n",
        "    filhos.append([filho2, 0, 0])\n",
        "  return filhos\n",
        "\n",
        "def mutacao(filhos, TP, N):\n",
        "  PM = 0.1\n",
        "  for i in range(len(filhos)):\n",
        "    aleatorio = random.random()\n",
        "    escolha = list(range(N))\n",
        "    if aleatorio <= PM:\n",
        "      swap1 = random.choice(escolha)\n",
        "      swap2 = random.choice(escolha)\n",
        "      a = filhos[i][0][swap1]\n",
        "      b = filhos[i][0][swap2]\n",
        "      filhos[i][0][swap1] = b\n",
        "      filhos[i][0][swap2] = a\n",
        "  return filhos\n",
        "\n",
        "def main():\n",
        "  # constantes\n",
        "  TP = 50   # tamanho da população\n",
        "  G = 100     # número de gerações\n",
        "  seed() #inicia a semente dos número pseudo randômicos\n",
        "  \n",
        "  # leitura\n",
        "  N, p, w, d = leitura(\"Instancia10.txt\") ### ALTERAR!!!\n",
        "  \n",
        "  inicio = time.time()  # começa a contar o tempo\n",
        "  \n",
        "  # Inicializa Populacao \n",
        "  populacao = inicializaPopulacao(TP, N)\n",
        "\n",
        "  # Decodifica para obter xi \n",
        "  decod_xi = decodificaXi(populacao, p, N)\n",
        "\n",
        "  # Calcula a função objetivo penalizada  \n",
        "  M = 50\n",
        "  populacao = calculaFO(decod_xi, p, w, d, M, TP)\n",
        "\n",
        "  hist_res = []\n",
        "\n",
        "  for g in range(G):\n",
        "    # seleciona pares de pais aleatoriamente\n",
        "    paisSelecionados = torneioBinario(populacao, TP)\n",
        "    \n",
        "    # crossover\n",
        "    filhos = crossover(paisSelecionados, TP, N)\n",
        "\n",
        "    # mutação\n",
        "    filhos = mutacao(filhos, TP, N)\n",
        "\n",
        "    # com filhos: Decodifica para obter xi\n",
        "    filhos_xi = decodificaXi(filhos, p, N)\n",
        "\n",
        "    # com filhos: Calcula a função objetivo penalizada   \n",
        "    M = 50\n",
        "    filhos = calculaFO(filhos_xi, p, w, d, M, TP)\n",
        "\n",
        "    # populacao próxima geração, seleção: pais e filho\n",
        "    mista = populacao + filhos \n",
        "    mistaOrd = sorted(mista, key=lambda x: x[2]) # se maximização reverse = True\n",
        "    populacao = mistaOrd[:TP]\n",
        "    hist_res.append(populacao[0][2])\n",
        "\n",
        "  fim = time.time()  \n",
        "  print(\"Tempo de execução (s): \", fim - inicio)\n",
        "\n",
        "  return populacao[0], hist_res"
      ],
      "execution_count": 12,
      "outputs": []
    },
    {
      "cell_type": "code",
      "metadata": {
        "id": "z_ADxwRQ6UKj",
        "colab": {
          "base_uri": "https://localhost:8080/"
        },
        "outputId": "3f1320d3-06be-45c3-a368-b333e1a33227"
      },
      "source": [
        "solucao, hist_res = main()\n",
        "print(solucao)\n",
        "print(hist_res)"
      ],
      "execution_count": 15,
      "outputs": [
        {
          "output_type": "stream",
          "text": [
            "Tempo de execução (s):  0.5585753917694092\n",
            "[[3, 8, 0, 5, 4, 1, 7, 9, 2, 6], [0, 1.0, 3.0, 5.0, 7.0, 10.0, 13.0, 15.0, 17.0, 20.0], 769.0]\n",
            "[817.0, 812.0, 808.0, 790.0, 790.0, 784.0, 780.0, 775.0, 775.0, 775.0, 775.0, 771.0, 771.0, 771.0, 771.0, 771.0, 771.0, 771.0, 771.0, 771.0, 771.0, 771.0, 771.0, 771.0, 771.0, 771.0, 771.0, 771.0, 769.0, 769.0, 769.0, 769.0, 769.0, 769.0, 769.0, 769.0, 769.0, 769.0, 769.0, 769.0, 769.0, 769.0, 769.0, 769.0, 769.0, 769.0, 769.0, 769.0, 769.0, 769.0, 769.0, 769.0, 769.0, 769.0, 769.0, 769.0, 769.0, 769.0, 769.0, 769.0, 769.0, 769.0, 769.0, 769.0, 769.0, 769.0, 769.0, 769.0, 769.0, 769.0, 769.0, 769.0, 769.0, 769.0, 769.0, 769.0, 769.0, 769.0, 769.0, 769.0, 769.0, 769.0, 769.0, 769.0, 769.0, 769.0, 769.0, 769.0, 769.0, 769.0, 769.0, 769.0, 769.0, 769.0, 769.0, 769.0, 769.0, 769.0, 769.0, 769.0]\n"
          ],
          "name": "stdout"
        }
      ]
    },
    {
      "cell_type": "code",
      "metadata": {
        "colab": {
          "base_uri": "https://localhost:8080/",
          "height": 264
        },
        "id": "Oqkaa8NaZTKs",
        "outputId": "01433a48-8837-42f4-8ba3-ea9a10d38918"
      },
      "source": [
        "plt.plot(range(len(hist_res)),hist_res);"
      ],
      "execution_count": 17,
      "outputs": [
        {
          "output_type": "display_data",
          "data": {
            "image/png": "[encoded data removed]",
            "text/plain": [
              "<Figure size 432x288 with 1 Axes>"
            ]
          },
          "metadata": {
            "tags": [],
            "needs_background": "light"
          }
        }
      ]
    },
    {
      "cell_type": "code",
      "metadata": {
        "id": "zUujBl1haDcj"
      },
      "source": [
        "# importações\n",
        "%matplotlib inline\n",
        "import matplotlib.pyplot as plt\n",
        "import random \n",
        "from random import choice\n",
        "from random import seed\n",
        "import numpy as np\n",
        "import time \n",
        "import copy\n",
        "import imageio\n",
        "import os\n",
        "from google.colab import files\n",
        "\n",
        "def leitura(arquivo):\n",
        "  arq = open(arquivo, \"r\") # r- read\n",
        "  lixo = arq.readline()  # linha com texto Number of jobs\n",
        "  linha = arq.readline() # linha com número de tarefas\n",
        "  N = int(linha)         # linha com o número de tarefas\n",
        "  p = np.zeros(N)  # p = [p0, p1,..., p(N-1)]\n",
        "  w = np.zeros(N)\n",
        "  d = np.zeros(N)\n",
        "  lixo = arq.readline()  # linha com texto Job data \n",
        "  for i in range(N):  # repetir N vezes\n",
        "      # i-ésima linha\n",
        "      linha = arq.readline().split()  # posições: 0-indice, 1-p, 2-w, 3-d\n",
        "      p[i] = int(linha[1])\n",
        "      w[i] = int(linha[2])\n",
        "      d[i] = int(linha[3])\n",
        "  return N, p, w, d  \n",
        "\n",
        "# inicializa população aleatoriamente\n",
        "# cada individuo da populacao terá o seguinte formato:\n",
        "# [[individuo], [lista com xi], funojb]\n",
        "# para cada indivíduo i\n",
        "# populacao[i][0]  para acessar o indivíduo (codificação real ou inteira)\n",
        "# populacao[i][1]  para acessar a variável de decisão xi\n",
        "# populacao[i][2]  para acessar a função-objetivo\n",
        "\n",
        "def inicializaPopulacao(TP, N):\n",
        "  populacao = []\n",
        "  for i in range(TP):   # para cada individuo [lista] da populacao \n",
        "      lista = []\n",
        "      todos = list(range(N))   # lista com todas as tarefas\n",
        "      for j in range(N):                      # para cada posição do individuo\n",
        "          aleatorio = choice(todos)           # escolher uma tarefa aleatoria \n",
        "          lista.append(aleatorio)             # adicionar à lista\n",
        "          todos.remove(aleatorio)             # remover da lista auxiliar para não ocorrer repetição\n",
        "      # alocar espaço para a variável de decisão\n",
        "      # função-objetivo zerada\n",
        "      x = [0]*N\n",
        "      populacao.append([lista, x, 0])   # incluir o individuo completo na populacao\n",
        "  return populacao\n",
        "\n",
        "def decodificaXi(populacao, p, N):\n",
        "  for i in range(len(populacao)):\n",
        "    for j in range(len(populacao[0])-2):\n",
        "      for k in range(len(p)):\n",
        "        populacao[i][1] = [0]*N\n",
        "        if (k == 0):\n",
        "          populacao[i][1][k] = 0\n",
        "        else:\n",
        "          temp = 0\n",
        "          for k in range(len(populacao[0][1])-1):\n",
        "            temp = temp + p[populacao[i][j][k]]\n",
        "            populacao[i][1][k+1] = temp\n",
        "  return populacao\n",
        "        \n",
        "def calculaFO(decod_xi, p, w, d, M, TP):\n",
        "  for i in range(TP):\n",
        "    temp = 0\n",
        "    for j in range(len(decod_xi[i][0])):\n",
        "      temp = temp + w[decod_xi[i][0][j]]*(decod_xi[i][1][j]+p[decod_xi[i][0][j]])+M*max(0,decod_xi[i][1][j]+p[decod_xi[i][0][j]]-d[decod_xi[i][0][j]])\n",
        "      decod_xi[i][2] = temp\n",
        "  return decod_xi\n",
        "\n",
        "def torneioBinario(populacao, TP):\n",
        "  paisSelecionados = []\n",
        "\n",
        "  todos = list(range(TP))\n",
        "  for i in range(TP):\n",
        "    indAleat1 = random.choice(todos)\n",
        "    indAleat2 = random.choice(todos)\n",
        "    while (indAleat1 == indAleat2):\n",
        "      indAleat2 = random.choice(todos)\n",
        "\n",
        "    if (populacao[indAleat1][2] < populacao[indAleat2][2]):\n",
        "      paiSelecionado = copy.deepcopy(populacao[indAleat1])\n",
        "    else:\n",
        "      paiSelecionado = copy.deepcopy(populacao[indAleat2])\n",
        "\n",
        "    paisSelecionados.append(paiSelecionado)\n",
        "  return paisSelecionados\n",
        "\n",
        "def crossover(paisSelecionados, TP, N):\n",
        "  # paisSelecionados = [[[0,1,0,1,0], x, fitness]],[],[]]\n",
        "  PC = 0.95\n",
        "  filhos = []\n",
        "\n",
        "  for i in range(TP//2): # 2 pais geram 2 filhos\n",
        "    doisPais = random.sample(paisSelecionados, 2) \n",
        "    aleatorio = random.random() # entre 0 e 1\n",
        "    if aleatorio <= PC: # crossover acontece\n",
        "      ponto = random.randint(1, N-1)\n",
        "      filho1 = doisPais[0][0][:ponto] + [item for item in doisPais[1][0][:] if item not in doisPais[0][0][:ponto]]\n",
        "      filho2 = doisPais[1][0][:ponto] + [item for item in doisPais[0][0][:] if item not in doisPais[1][0][:ponto]]\n",
        "    else:\n",
        "      filho1 = doisPais[0][0]\n",
        "      filho2 = doisPais[1][0]\n",
        "    filhos.append([filho1, 0, 0])\n",
        "    filhos.append([filho2, 0, 0])\n",
        "  return filhos\n",
        "\n",
        "def mutacao(filhos, TP, N):\n",
        "  PM = 0.1\n",
        "  for i in range(len(filhos)):\n",
        "    aleatorio = random.random()\n",
        "    escolha = list(range(N))\n",
        "    if aleatorio <= PM:\n",
        "      swap1 = random.choice(escolha)\n",
        "      swap2 = random.choice(escolha)\n",
        "      a = filhos[i][0][swap1]\n",
        "      b = filhos[i][0][swap2]\n",
        "      filhos[i][0][swap1] = b\n",
        "      filhos[i][0][swap2] = a\n",
        "  return filhos\n",
        "\n",
        "def main():\n",
        "  # constantes\n",
        "  TP = 50   # tamanho da população\n",
        "  G = 100     # número de gerações\n",
        "  seed() #inicia a semente dos número pseudo randômicos\n",
        "  \n",
        "  # leitura\n",
        "  N, p, w, d = leitura(\"Instancia20.txt\") ### ALTERAR!!!\n",
        "  \n",
        "  inicio = time.time()  # começa a contar o tempo\n",
        "  \n",
        "  # Inicializa Populacao \n",
        "  populacao = inicializaPopulacao(TP, N)\n",
        "\n",
        "  # Decodifica para obter xi \n",
        "  decod_xi = decodificaXi(populacao, p, N)\n",
        "\n",
        "  # Calcula a função objetivo penalizada  \n",
        "  M = 50\n",
        "  populacao = calculaFO(decod_xi, p, w, d, M, TP)\n",
        "\n",
        "  hist_res = []\n",
        "\n",
        "  for g in range(G):\n",
        "    # seleciona pares de pais aleatoriamente\n",
        "    paisSelecionados = torneioBinario(populacao, TP)\n",
        "    \n",
        "    # crossover\n",
        "    filhos = crossover(paisSelecionados, TP, N)\n",
        "\n",
        "    # mutação\n",
        "    filhos = mutacao(filhos, TP, N)\n",
        "\n",
        "    # com filhos: Decodifica para obter xi\n",
        "    filhos_xi = decodificaXi(filhos, p, N)\n",
        "\n",
        "    # com filhos: Calcula a função objetivo penalizada   \n",
        "    M = 50\n",
        "    filhos = calculaFO(filhos_xi, p, w, d, M, TP)\n",
        "\n",
        "    # populacao próxima geração, seleção: pais e filho\n",
        "    mista = populacao + filhos \n",
        "    mistaOrd = sorted(mista, key=lambda x: x[2]) # se maximização reverse = True\n",
        "    populacao = mistaOrd[:TP]\n",
        "    hist_res.append(populacao[0][2])\n",
        "\n",
        "  fim = time.time()  \n",
        "  print(\"Tempo de execução (s): \", fim - inicio)\n",
        "\n",
        "  return populacao[0], hist_res"
      ],
      "execution_count": 19,
      "outputs": []
    },
    {
      "cell_type": "code",
      "metadata": {
        "colab": {
          "base_uri": "https://localhost:8080/"
        },
        "id": "UxRT5CruaOsz",
        "outputId": "1f415840-64cc-4c1d-d135-c4d0886d254f"
      },
      "source": [
        "solucao, hist_res = main()\n",
        "print(solucao)\n",
        "print(hist_res)"
      ],
      "execution_count": 20,
      "outputs": [
        {
          "output_type": "stream",
          "text": [
            "Tempo de execução (s):  1.5164566040039062\n",
            "[[19, 17, 7, 18, 9, 10, 14, 13, 16, 15, 0, 4, 3, 5, 11, 1, 6, 12, 2, 8], [0, 2.0, 4.0, 6.0, 9.0, 11.0, 13.0, 16.0, 17.0, 19.0, 22.0, 23.0, 26.0, 28.0, 31.0, 34.0, 36.0, 38.0, 41.0, 45.0], 4522.0]\n",
            "[6468.0, 6468.0, 6294.0, 6060.0, 5792.0, 5686.0, 5652.0, 5496.0, 5434.0, 5434.0, 5402.0, 5370.0, 5328.0, 5249.0, 5196.0, 5179.0, 5113.0, 5101.0, 5094.0, 5081.0, 5038.0, 4942.0, 4929.0, 4919.0, 4895.0, 4895.0, 4869.0, 4858.0, 4857.0, 4829.0, 4829.0, 4829.0, 4829.0, 4820.0, 4820.0, 4792.0, 4792.0, 4792.0, 4792.0, 4792.0, 4792.0, 4792.0, 4792.0, 4792.0, 4790.0, 4790.0, 4790.0, 4790.0, 4790.0, 4764.0, 4764.0, 4764.0, 4648.0, 4648.0, 4648.0, 4648.0, 4622.0, 4622.0, 4622.0, 4603.0, 4603.0, 4603.0, 4603.0, 4603.0, 4603.0, 4567.0, 4567.0, 4567.0, 4567.0, 4567.0, 4567.0, 4567.0, 4567.0, 4567.0, 4567.0, 4567.0, 4567.0, 4567.0, 4557.0, 4557.0, 4557.0, 4557.0, 4557.0, 4557.0, 4557.0, 4557.0, 4557.0, 4557.0, 4557.0, 4557.0, 4557.0, 4557.0, 4557.0, 4557.0, 4557.0, 4557.0, 4557.0, 4522.0, 4522.0, 4522.0]\n"
          ],
          "name": "stdout"
        }
      ]
    },
    {
      "cell_type": "code",
      "metadata": {
        "colab": {
          "base_uri": "https://localhost:8080/",
          "height": 264
        },
        "id": "5G3fwXPsaST_",
        "outputId": "10a1e30f-eea3-4c3e-8ffa-2f6445f0eddc"
      },
      "source": [
        "plt.plot(range(len(hist_res)),hist_res);"
      ],
      "execution_count": 21,
      "outputs": [
        {
          "output_type": "display_data",
          "data": {
            "image/png": "[encoded data removed]",
            "text/plain": [
              "<Figure size 432x288 with 1 Axes>"
            ]
          },
          "metadata": {
            "tags": [],
            "needs_background": "light"
          }
        }
      ]
    },
    {
      "cell_type": "code",
      "metadata": {
        "id": "ElBaUjGVaj8h"
      },
      "source": [
        "# importações\n",
        "%matplotlib inline\n",
        "import matplotlib.pyplot as plt\n",
        "import random \n",
        "from random import choice\n",
        "from random import seed\n",
        "import numpy as np\n",
        "import time \n",
        "import copy\n",
        "import imageio\n",
        "import os\n",
        "from google.colab import files\n",
        "\n",
        "def leitura(arquivo):\n",
        "  arq = open(arquivo, \"r\") # r- read\n",
        "  lixo = arq.readline()  # linha com texto Number of jobs\n",
        "  linha = arq.readline() # linha com número de tarefas\n",
        "  N = int(linha)         # linha com o número de tarefas\n",
        "  p = np.zeros(N)  # p = [p0, p1,..., p(N-1)]\n",
        "  w = np.zeros(N)\n",
        "  d = np.zeros(N)\n",
        "  lixo = arq.readline()  # linha com texto Job data \n",
        "  for i in range(N):  # repetir N vezes\n",
        "      # i-ésima linha\n",
        "      linha = arq.readline().split()  # posições: 0-indice, 1-p, 2-w, 3-d\n",
        "      p[i] = int(linha[1])\n",
        "      w[i] = int(linha[2])\n",
        "      d[i] = int(linha[3])\n",
        "  return N, p, w, d  \n",
        "\n",
        "# inicializa população aleatoriamente\n",
        "# cada individuo da populacao terá o seguinte formato:\n",
        "# [[individuo], [lista com xi], funojb]\n",
        "# para cada indivíduo i\n",
        "# populacao[i][0]  para acessar o indivíduo (codificação real ou inteira)\n",
        "# populacao[i][1]  para acessar a variável de decisão xi\n",
        "# populacao[i][2]  para acessar a função-objetivo\n",
        "\n",
        "def inicializaPopulacao(TP, N):\n",
        "  populacao = []\n",
        "  for i in range(TP):   # para cada individuo [lista] da populacao \n",
        "      lista = []\n",
        "      todos = list(range(N))   # lista com todas as tarefas\n",
        "      for j in range(N):                      # para cada posição do individuo\n",
        "          aleatorio = choice(todos)           # escolher uma tarefa aleatoria \n",
        "          lista.append(aleatorio)             # adicionar à lista\n",
        "          todos.remove(aleatorio)             # remover da lista auxiliar para não ocorrer repetição\n",
        "      # alocar espaço para a variável de decisão\n",
        "      # função-objetivo zerada\n",
        "      x = [0]*N\n",
        "      populacao.append([lista, x, 0])   # incluir o individuo completo na populacao\n",
        "  return populacao\n",
        "\n",
        "def decodificaXi(populacao, p, N):\n",
        "  for i in range(len(populacao)):\n",
        "    for j in range(len(populacao[0])-2):\n",
        "      for k in range(len(p)):\n",
        "        populacao[i][1] = [0]*N\n",
        "        if (k == 0):\n",
        "          populacao[i][1][k] = 0\n",
        "        else:\n",
        "          temp = 0\n",
        "          for k in range(len(populacao[0][1])-1):\n",
        "            temp = temp + p[populacao[i][j][k]]\n",
        "            populacao[i][1][k+1] = temp\n",
        "  return populacao\n",
        "        \n",
        "def calculaFO(decod_xi, p, w, d, M, TP):\n",
        "  for i in range(TP):\n",
        "    temp = 0\n",
        "    for j in range(len(decod_xi[i][0])):\n",
        "      temp = temp + w[decod_xi[i][0][j]]*(decod_xi[i][1][j]+p[decod_xi[i][0][j]])+M*max(0,decod_xi[i][1][j]+p[decod_xi[i][0][j]]-d[decod_xi[i][0][j]])\n",
        "      decod_xi[i][2] = temp\n",
        "  return decod_xi\n",
        "\n",
        "def torneioBinario(populacao, TP):\n",
        "  paisSelecionados = []\n",
        "\n",
        "  todos = list(range(TP))\n",
        "  for i in range(TP):\n",
        "    indAleat1 = random.choice(todos)\n",
        "    indAleat2 = random.choice(todos)\n",
        "    while (indAleat1 == indAleat2):\n",
        "      indAleat2 = random.choice(todos)\n",
        "\n",
        "    if (populacao[indAleat1][2] < populacao[indAleat2][2]):\n",
        "      paiSelecionado = copy.deepcopy(populacao[indAleat1])\n",
        "    else:\n",
        "      paiSelecionado = copy.deepcopy(populacao[indAleat2])\n",
        "\n",
        "    paisSelecionados.append(paiSelecionado)\n",
        "  return paisSelecionados\n",
        "\n",
        "def crossover(paisSelecionados, TP, N):\n",
        "  # paisSelecionados = [[[0,1,0,1,0], x, fitness]],[],[]]\n",
        "  PC = 0.95\n",
        "  filhos = []\n",
        "\n",
        "  for i in range(TP//2): # 2 pais geram 2 filhos\n",
        "    doisPais = random.sample(paisSelecionados, 2) \n",
        "    aleatorio = random.random() # entre 0 e 1\n",
        "    if aleatorio <= PC: # crossover acontece\n",
        "      ponto = random.randint(1, N-1)\n",
        "      filho1 = doisPais[0][0][:ponto] + [item for item in doisPais[1][0][:] if item not in doisPais[0][0][:ponto]]\n",
        "      filho2 = doisPais[1][0][:ponto] + [item for item in doisPais[0][0][:] if item not in doisPais[1][0][:ponto]]\n",
        "    else:\n",
        "      filho1 = doisPais[0][0]\n",
        "      filho2 = doisPais[1][0]\n",
        "    filhos.append([filho1, 0, 0])\n",
        "    filhos.append([filho2, 0, 0])\n",
        "  return filhos\n",
        "\n",
        "def mutacao(filhos, TP, N):\n",
        "  PM = 0.1\n",
        "  for i in range(len(filhos)):\n",
        "    aleatorio = random.random()\n",
        "    escolha = list(range(N))\n",
        "    if aleatorio <= PM:\n",
        "      swap1 = random.choice(escolha)\n",
        "      swap2 = random.choice(escolha)\n",
        "      a = filhos[i][0][swap1]\n",
        "      b = filhos[i][0][swap2]\n",
        "      filhos[i][0][swap1] = b\n",
        "      filhos[i][0][swap2] = a\n",
        "  return filhos\n",
        "\n",
        "def main():\n",
        "  # constantes\n",
        "  TP = 50   # tamanho da população\n",
        "  G = 100     # número de gerações\n",
        "  seed() #inicia a semente dos número pseudo randômicos\n",
        "  \n",
        "  # leitura\n",
        "  N, p, w, d = leitura(\"Instancia100.txt\") ### ALTERAR!!!\n",
        "  \n",
        "  inicio = time.time()  # começa a contar o tempo\n",
        "  \n",
        "  # Inicializa Populacao \n",
        "  populacao = inicializaPopulacao(TP, N)\n",
        "\n",
        "  # Decodifica para obter xi \n",
        "  decod_xi = decodificaXi(populacao, p, N)\n",
        "\n",
        "  # Calcula a função objetivo penalizada  \n",
        "  M = 50\n",
        "  populacao = calculaFO(decod_xi, p, w, d, M, TP)\n",
        "\n",
        "  hist_res = []\n",
        "\n",
        "  for g in range(G):\n",
        "    # seleciona pares de pais aleatoriamente\n",
        "    paisSelecionados = torneioBinario(populacao, TP)\n",
        "    \n",
        "    # crossover\n",
        "    filhos = crossover(paisSelecionados, TP, N)\n",
        "\n",
        "    # mutação\n",
        "    filhos = mutacao(filhos, TP, N)\n",
        "\n",
        "    # com filhos: Decodifica para obter xi\n",
        "    filhos_xi = decodificaXi(filhos, p, N)\n",
        "\n",
        "    # com filhos: Calcula a função objetivo penalizada   \n",
        "    M = 50\n",
        "    filhos = calculaFO(filhos_xi, p, w, d, M, TP)\n",
        "\n",
        "    # populacao próxima geração, seleção: pais e filho\n",
        "    mista = populacao + filhos \n",
        "    mistaOrd = sorted(mista, key=lambda x: x[2]) # se maximização reverse = True\n",
        "    populacao = mistaOrd[:TP]\n",
        "    hist_res.append(populacao[0][2])\n",
        "\n",
        "  fim = time.time()  \n",
        "  print(\"Tempo de execução (s): \", fim - inicio)\n",
        "\n",
        "  return populacao[0], hist_res"
      ],
      "execution_count": 28,
      "outputs": []
    },
    {
      "cell_type": "code",
      "metadata": {
        "colab": {
          "base_uri": "https://localhost:8080/"
        },
        "id": "Dqcuppxlap8P",
        "outputId": "533abbd4-17b4-44c3-de70-b5cfb80fd7ac"
      },
      "source": [
        "solucao, hist_res = main()\n",
        "print(solucao)\n",
        "print(hist_res)"
      ],
      "execution_count": 29,
      "outputs": [
        {
          "output_type": "stream",
          "text": [
            "Tempo de execução (s):  23.437342166900635\n",
            "[[90, 48, 7, 29, 41, 46, 8, 49, 66, 78, 2, 84, 54, 42, 99, 61, 74, 77, 23, 79, 96, 3, 71, 69, 43, 53, 35, 91, 39, 75, 97, 72, 86, 40, 22, 20, 19, 10, 26, 32, 44, 47, 68, 4, 87, 56, 5, 21, 58, 50, 25, 18, 88, 17, 33, 57, 51, 1, 16, 65, 31, 80, 60, 89, 9, 95, 28, 15, 94, 52, 30, 73, 92, 76, 81, 11, 64, 38, 6, 63, 59, 83, 67, 34, 13, 82, 98, 93, 27, 55, 24, 62, 12, 0, 70, 45, 36, 85, 37, 14], [0, 2.0, 4.0, 7.0, 9.0, 11.0, 13.0, 14.0, 16.0, 18.0, 20.0, 21.0, 23.0, 25.0, 27.0, 29.0, 31.0, 33.0, 35.0, 37.0, 40.0, 42.0, 45.0, 47.0, 50.0, 53.0, 55.0, 58.0, 59.0, 61.0, 64.0, 66.0, 69.0, 72.0, 75.0, 76.0, 78.0, 81.0, 83.0, 85.0, 87.0, 91.0, 94.0, 97.0, 99.0, 101.0, 105.0, 107.0, 109.0, 111.0, 113.0, 116.0, 118.0, 120.0, 124.0, 126.0, 129.0, 131.0, 135.0, 137.0, 139.0, 141.0, 143.0, 146.0, 149.0, 152.0, 154.0, 157.0, 159.0, 162.0, 164.0, 166.0, 168.0, 171.0, 174.0, 177.0, 179.0, 182.0, 186.0, 189.0, 192.0, 194.0, 197.0, 200.0, 202.0, 204.0, 207.0, 210.0, 213.0, 217.0, 220.0, 224.0, 226.0, 229.0, 231.0, 233.0, 236.0, 240.0, 243.0, 246.0], 609431.0]\n",
            "[744107.0, 739522.0, 728466.0, 719657.0, 715410.0, 715410.0, 715410.0, 714273.0, 705506.0, 705506.0, 705506.0, 705169.0, 703898.0, 701132.0, 699206.0, 695886.0, 695017.0, 695017.0, 693438.0, 692798.0, 686554.0, 686554.0, 686554.0, 685708.0, 685696.0, 685696.0, 683168.0, 683168.0, 682953.0, 682808.0, 681245.0, 681185.0, 678623.0, 678623.0, 674796.0, 674796.0, 674796.0, 670591.0, 670224.0, 669064.0, 668273.0, 668273.0, 665375.0, 665375.0, 664081.0, 664081.0, 663124.0, 663124.0, 662424.0, 662128.0, 655040.0, 655040.0, 654953.0, 654761.0, 654761.0, 649850.0, 649850.0, 649745.0, 649630.0, 649630.0, 649358.0, 641289.0, 641289.0, 641289.0, 639367.0, 639367.0, 639367.0, 637750.0, 637750.0, 636025.0, 635934.0, 635666.0, 634351.0, 632718.0, 632362.0, 632064.0, 630440.0, 617777.0, 617777.0, 617777.0, 617777.0, 617686.0, 617480.0, 616080.0, 616080.0, 614981.0, 614918.0, 614236.0, 614236.0, 614236.0, 614212.0, 613314.0, 613314.0, 613080.0, 612628.0, 610734.0, 610734.0, 610596.0, 610596.0, 609431.0]\n"
          ],
          "name": "stdout"
        }
      ]
    },
    {
      "cell_type": "code",
      "metadata": {
        "colab": {
          "base_uri": "https://localhost:8080/",
          "height": 264
        },
        "id": "q5FOfqyybGga",
        "outputId": "bc4005c9-c64a-4b43-d606-fc12bab0c724"
      },
      "source": [
        "plt.plot(range(len(hist_res)),hist_res);"
      ],
      "execution_count": 30,
      "outputs": [
        {
          "output_type": "display_data",
          "data": {
            "image/png": "[encoded data removed]",
            "text/plain": [
              "<Figure size 432x288 with 1 Axes>"
            ]
          },
          "metadata": {
            "tags": [],
            "needs_background": "light"
          }
        }
      ]
    }
  ]
}