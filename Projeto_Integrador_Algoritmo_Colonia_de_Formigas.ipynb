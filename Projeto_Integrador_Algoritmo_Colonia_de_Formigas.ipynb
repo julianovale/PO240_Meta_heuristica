{
  "nbformat": 4,
  "nbformat_minor": 0,
  "metadata": {
    "colab": {
      "name": "Projeto_Integrador_Algoritmo_Colonia_de_Formigas.ipynb",
      "provenance": [],
      "collapsed_sections": [],
      "authorship_tag": "ABX9TyMx7vHaDUcXHDiTnYUOL2WH",
      "include_colab_link": true
    },
    "kernelspec": {
      "name": "python3",
      "display_name": "Python 3"
    },
    "language_info": {
      "name": "python"
    }
  },
  "cells": [
    {
      "cell_type": "markdown",
      "metadata": {
        "id": "view-in-github",
        "colab_type": "text"
      },
      "source": [
        "<a href=\"https://colab.research.google.com/github/julianovale/PO240_Meta_heuristica/blob/main/Projeto_Integrador_Algoritmo_Colonia_de_Formigas.ipynb\" target=\"_parent\"><img src=\"https://colab.research.google.com/assets/colab-badge.svg\" alt=\"Open In Colab\"/></a>"
      ]
    },
    {
      "cell_type": "markdown",
      "metadata": {
        "id": "6neP9B3zT3JB"
      },
      "source": [
        "# Colônia de Formigas"
      ]
    },
    {
      "cell_type": "code",
      "metadata": {
        "id": "weRw5f5FPAXG"
      },
      "source": [
        "############################################################################\n",
        "\n",
        "# Created by: Prof. Valdecy Pereira, D.Sc.\n",
        "# UFF - Universidade Federal Fluminense (Brazil)\n",
        "# email:  valdecy.pereira@gmail.com\n",
        "# Course: Metaheuristics\n",
        "# Lesson: Ant Colony Optimization\n",
        "\n",
        "# Citation: \n",
        "# PEREIRA, V. (2018). Project: Metaheuristic-Ant_Colony_Optimization, File: Python-MH-Ant Colony Optimization.py, GitHub repository: <https://github.com/Valdecy/Metaheuristic-Ant_Colony_Optimization>\n",
        "\n",
        "############################################################################\n",
        "\n",
        "\n",
        "import pandas as pd\n",
        "import random\n",
        "import numpy  as np\n",
        "import copy\n",
        "import os\n",
        "from matplotlib import pyplot as plt \n",
        "import time \n",
        "\n",
        "# Function: Tour Distance\n",
        "def distance_calc(Xdata, city_tour):\n",
        "    distance = 0\n",
        "    for k in range(0, len(city_tour[0])-1):\n",
        "        m = k + 1\n",
        "        distance = distance + Xdata[city_tour[0][k]-1, city_tour[0][m]-1]            \n",
        "    return distance\n",
        "\n",
        "# Function: Euclidean Distance \n",
        "def euclidean_distance(x, y):       \n",
        "    distance = 0\n",
        "    for j in range(0, len(x)):\n",
        "        distance = (x[j] - y[j])**2 + distance   \n",
        "    return distance**(1/2) \n",
        "\n",
        "# Function: Build Distance Matrix\n",
        "def buid_distance_matrix(coordinates):\n",
        "    Xdata = np.zeros((coordinates.shape[0], coordinates.shape[0]))\n",
        "    for i in range(0, Xdata.shape[0]):\n",
        "        for j in range(0, Xdata.shape[1]):\n",
        "            if (i != j):\n",
        "                x = coordinates[i,:]\n",
        "                y = coordinates[j,:]\n",
        "                Xdata[i,j] = euclidean_distance(x, y)        \n",
        "    return Xdata\n",
        "\n",
        "# Function: Tour Plot\n",
        "def plot_tour_distance_matrix(Xdata, city_tour):\n",
        "    m = np.copy(Xdata)\n",
        "    for i in range(0, Xdata.shape[0]):\n",
        "        for j in range(0, Xdata.shape[1]):\n",
        "            m[i,j] = (1/2)*(Xdata[0,j]**2 + Xdata[i,0]**2 - Xdata[i,j]**2)    \n",
        "    w, u = np.linalg.eig(np.matmul(m.T, m))\n",
        "    s = (np.diag(np.sort(w)[::-1]))**(1/2) \n",
        "    coordinates = np.matmul(u, s**(1/2))\n",
        "    coordinates = coordinates.real[:,0:2]\n",
        "    xy = np.zeros((len(city_tour[0]), 2))\n",
        "    for i in range(0, len(city_tour[0])):\n",
        "        if (i < len(city_tour[0])):\n",
        "            xy[i, 0] = coordinates[city_tour[0][i]-1, 0]\n",
        "            xy[i, 1] = coordinates[city_tour[0][i]-1, 1]\n",
        "        else:\n",
        "            xy[i, 0] = coordinates[city_tour[0][0]-1, 0]\n",
        "            xy[i, 1] = coordinates[city_tour[0][0]-1, 1]\n",
        "    plt.plot(xy[:,0], xy[:,1], marker = 's', alpha = 1, markersize = 7, color = 'black')\n",
        "    plt.plot(xy[0,0], xy[0,1], marker = 's', alpha = 1, markersize = 7, color = 'red')\n",
        "    plt.plot(xy[1,0], xy[1,1], marker = 's', alpha = 1, markersize = 7, color = 'orange')\n",
        "    return\n",
        "\n",
        "# Function: Initial Attractiveness\n",
        "def attractiveness(Xdata):\n",
        "    h = np.zeros((Xdata.shape[0], Xdata.shape[0]))  \n",
        "    for i in range(0, Xdata.shape[0]):\n",
        "        for j in range(0, Xdata.shape[1]):\n",
        "            if (i == j or Xdata[i,j] == 0):\n",
        "                h[i, j] = 0.000001\n",
        "            else:\n",
        "                h[i, j] = 1/Xdata[i,j]   \n",
        "    return h\n",
        "\n",
        "# Function: Tour Plot\n",
        "def plot_tour_coordinates(coordinates, city_tour):\n",
        "    xy = np.zeros((len(city_tour[0]), 2))\n",
        "    for i in range(0, len(city_tour[0])):\n",
        "        if (i < len(city_tour[0])):\n",
        "            xy[i, 0] = coordinates[city_tour[0][i]-1, 0]\n",
        "            xy[i, 1] = coordinates[city_tour[0][i]-1, 1]\n",
        "        else:\n",
        "            xy[i, 0] = coordinates[city_tour[0][0]-1, 0]\n",
        "            xy[i, 1] = coordinates[city_tour[0][0]-1, 1]\n",
        "    plt.plot(xy[:,0], xy[:,1], marker = 's', alpha = 1, markersize = 7, color = 'black')\n",
        "    plt.plot(xy[0,0], xy[0,1], marker = 's', alpha = 1, markersize = 7, color = 'red')\n",
        "    plt.plot(xy[1,0], xy[1,1], marker = 's', alpha = 1, markersize = 7, color = 'orange')\n",
        "    return\n",
        "\n",
        "# Function: Probability Matrix \n",
        "def city_probability(h, thau, city = 0, alpha = 1, beta = 2, city_list = []):\n",
        "    probability = np.zeros((h.shape[0], 3)) # ['atraction','probability','cumulative_probability']\n",
        "    for i in range(0, probability.shape[0]):\n",
        "        if (i+1 not in city_list):\n",
        "            probability[i, 0] = (thau[i, city]**alpha)*(h[i, city]**beta)\n",
        "    for i in range(0, probability.shape[0]):\n",
        "        if (i+1 not in city_list and probability[:,0].sum() != 0):\n",
        "            probability[i, 1] = probability[i, 0]/probability[:,0].sum()\n",
        "        if (i == 0):\n",
        "            probability[i, 2] =  probability[i, 1] \n",
        "        else:\n",
        "            probability[i, 2] = probability[i, 1] + probability[i - 1, 2]     \n",
        "    if (len(city_list) > 0):\n",
        "        for i in range(0, len(city_list)):\n",
        "            probability[city_list[i]-1, 2] = 0.0            \n",
        "    return probability\n",
        "\n",
        "# Function: Select Next City\n",
        "def city_selection(probability_matrix, city_list = []):\n",
        "    random = int.from_bytes(os.urandom(8), byteorder = \"big\") / ((1 << 64) - 1)\n",
        "    city = 0\n",
        "    for i in range(0, probability_matrix.shape[0]):\n",
        "        if (random <= probability_matrix[i, 2] and i+1 not in city_list):\n",
        "          city = i+1\n",
        "          break     \n",
        "    return city\n",
        "\n",
        "# Function: Update Thau\n",
        "def update_thau(Xdata, thau, city_list = []):\n",
        "    distance = 0\n",
        "    for i in range(0, len(city_list)-1):\n",
        "        j = i + 1\n",
        "        distance = distance + Xdata[city_list[i]-1,city_list[j]-1] \n",
        "    pheromone = 1  \n",
        "    for i in range(0, len(city_list)-1):\n",
        "        j = i + 1 \n",
        "        thau[city_list[i]-1,city_list[j]-1] = thau[city_list[i]-1,city_list[j]-1] + pheromone        \n",
        "    return thau\n",
        "\n",
        "# Function: 2_opt\n",
        "def local_search_2_opt(Xdata, city_tour, recursive_seeding = -1):\n",
        "    if (recursive_seeding < 0):\n",
        "        count = -2\n",
        "    else:\n",
        "        count = 0\n",
        "    city_list_new = copy.deepcopy([city_tour[0]])\n",
        "    city_list_new.append(city_tour[1])\n",
        "    city_list_old = city_list_new[1]*2\n",
        "    iteration = 0\n",
        "    while (count < recursive_seeding):\n",
        "        best_route = copy.deepcopy(city_list_new)\n",
        "        seed = copy.deepcopy(city_list_new)        \n",
        "        for i in range(0, len(city_list_new[0]) - 2):\n",
        "            for j in range(i+1, len(city_list_new[0]) - 1):\n",
        "                best_route[0][i:j+1] = list(reversed(best_route[0][i:j+1]))           \n",
        "                best_route[0][-1]  = best_route[0][0]              \n",
        "                best_route[1] = distance_calc(Xdata, best_route)                     \n",
        "                if (city_list_new[1] > best_route[1]):\n",
        "                    city_list_new = copy.deepcopy(best_route)         \n",
        "                best_route = copy.deepcopy(seed)\n",
        "        count = count + 1\n",
        "        iteration = iteration + 1  \n",
        "        if (city_list_old > city_list_new[1] and recursive_seeding < 0):\n",
        "             city_list_old = city_list_new[1]\n",
        "             count = -2\n",
        "             recursive_seeding = -1\n",
        "        elif(city_list_new[1] >= city_list_old and recursive_seeding < 0):\n",
        "            count = -1\n",
        "            recursive_seeding = -2\n",
        "    return city_list_new[0], city_list_new[1]\n",
        "\n",
        "# Function: Ants City List\n",
        "def ants_path(Xdata, h, thau, alpha, beta, full_list, ants):\n",
        "    distance           = np.sum(Xdata.sum())\n",
        "    best_city_list     = []\n",
        "    best_path_distance = []\n",
        "    for ant in range(0, ants):\n",
        "        city_list = []\n",
        "        initial = random.randrange(1, Xdata.shape[0])\n",
        "        city_list.append(initial)           \n",
        "        for i in range(0, Xdata.shape[0] - 1):\n",
        "            probability = city_probability(h, thau, city = i, alpha = alpha, beta = beta, city_list = city_list)\n",
        "            path_point  = city_selection(probability, city_list = city_list)\n",
        "            if (path_point == 0):\n",
        "                path_point = [value for value in full_list if value not in city_list][0]\n",
        "            city_list.append(path_point)\n",
        "        city_list.append(city_list[0])\n",
        "        path_distance = 0\n",
        "        for i in range(0, len(city_list)-1):\n",
        "            j = i + 1\n",
        "            path_distance = path_distance + Xdata[city_list[i]-1,city_list[j]-1] \n",
        "        if (distance > path_distance):\n",
        "            best_city_list     = copy.deepcopy(city_list)\n",
        "            best_path_distance = path_distance\n",
        "            distance           = path_distance\n",
        "    best_route = copy.deepcopy([best_city_list])\n",
        "    best_route.append(best_path_distance)\n",
        "    best_city_list, best_path_distance = local_search_2_opt(Xdata, city_tour = best_route, recursive_seeding = -1)\n",
        "    thau = update_thau(Xdata, thau, city_list = best_city_list)\n",
        "    return best_city_list, best_path_distance, thau\n",
        "\n",
        "# ACO Function\n",
        "def ant_colony_optimization(Xdata, ants = 5, iterations = 50, alpha = 1, beta = 2, decay = 0.05): \n",
        "    inicio = time.time()\n",
        "    count       = 0  \n",
        "    best_route  = [] \n",
        "    full_list   = list(range(1, Xdata.shape[0] + 1))\n",
        "    distance    = np.sum(Xdata.sum())\n",
        "    h           = attractiveness(Xdata)\n",
        "    thau        = np.ones((Xdata.shape[0], Xdata.shape[0]))  \n",
        "    eixox = []\n",
        "    eixoy = []\n",
        "    while (count <= iterations):\n",
        "        if (count > 0):\n",
        "            print(\"Iteration = \", count, \" -> Distance = \", best_route[1])\n",
        "            eixox.append(count)\n",
        "            eixoy.append(best_route[1])            \n",
        "        city_list, path_distance, thau = ants_path(Xdata, h, thau, alpha, beta, full_list, ants)\n",
        "        thau = thau*(1 - decay)\n",
        "        if (distance > path_distance):\n",
        "            best_route = copy.deepcopy([city_list])\n",
        "            best_route.append(path_distance)\n",
        "            distance = best_route[1]\n",
        "        count = count + 1  \n",
        "\n",
        "    fim = time.time()  \n",
        "    print(\"Tempo de execução (s): \", fim - inicio)  \n",
        "    print(\"Melhor rota: \", best_route)       \n",
        "    return  best_route, eixox, eixoy"
      ],
      "execution_count": 12,
      "outputs": []
    },
    {
      "cell_type": "markdown",
      "metadata": {
        "id": "Yt9LDifFhNdC"
      },
      "source": [
        "# Instância 1: Vox Treble Booster - Colônia de Formigas\n",
        "\n",
        "\n"
      ]
    },
    {
      "cell_type": "code",
      "metadata": {
        "colab": {
          "base_uri": "https://localhost:8080/",
          "height": 1000
        },
        "id": "v3evXK2PTdjA",
        "outputId": "4bafde87-263a-4fbe-82ae-64d736f9d82f"
      },
      "source": [
        "%%time\n",
        "url = 'https://raw.githubusercontent.com/julianovale/PO240_Meta_heuristica/main/TrabalhoFinal/VoxTrebleBosster.txt'\n",
        "df = pd.read_csv(url)\n",
        "Y = df.values\n",
        "\n",
        "X = buid_distance_matrix(Y)\n",
        "\n",
        "aco, x, y = ant_colony_optimization(X, ants = 4, iterations = 50, alpha = 1, beta = 2, decay = 0.10)\n",
        "\n",
        "plot_tour_coordinates(Y, aco)"
      ],
      "execution_count": 23,
      "outputs": [
        {
          "output_type": "stream",
          "name": "stdout",
          "text": [
            "Iteration =  1  -> Distance =  36.8917513277928\n",
            "Iteration =  2  -> Distance =  36.01046962275166\n",
            "Iteration =  3  -> Distance =  36.01046962275166\n",
            "Iteration =  4  -> Distance =  35.72947366762442\n",
            "Iteration =  5  -> Distance =  35.72947366762442\n",
            "Iteration =  6  -> Distance =  35.72947366762442\n",
            "Iteration =  7  -> Distance =  35.72947366762442\n",
            "Iteration =  8  -> Distance =  35.72947366762442\n",
            "Iteration =  9  -> Distance =  35.72947366762442\n",
            "Iteration =  10  -> Distance =  35.72947366762442\n",
            "Iteration =  11  -> Distance =  35.72947366762442\n",
            "Iteration =  12  -> Distance =  35.72947366762442\n",
            "Iteration =  13  -> Distance =  35.72947366762442\n",
            "Iteration =  14  -> Distance =  35.72947366762442\n",
            "Iteration =  15  -> Distance =  35.72947366762442\n",
            "Iteration =  16  -> Distance =  35.72947366762442\n",
            "Iteration =  17  -> Distance =  35.72947366762442\n",
            "Iteration =  18  -> Distance =  35.15298244508295\n",
            "Iteration =  19  -> Distance =  35.15298244508295\n",
            "Iteration =  20  -> Distance =  35.15298244508295\n",
            "Iteration =  21  -> Distance =  35.15298244508295\n",
            "Iteration =  22  -> Distance =  35.15298244508295\n",
            "Iteration =  23  -> Distance =  35.15298244508295\n",
            "Iteration =  24  -> Distance =  35.15298244508295\n",
            "Iteration =  25  -> Distance =  35.15298244508295\n",
            "Iteration =  26  -> Distance =  35.15298244508295\n",
            "Iteration =  27  -> Distance =  35.15298244508295\n",
            "Iteration =  28  -> Distance =  35.15298244508295\n",
            "Iteration =  29  -> Distance =  35.15298244508295\n",
            "Iteration =  30  -> Distance =  35.15298244508295\n",
            "Iteration =  31  -> Distance =  35.15298244508295\n",
            "Iteration =  32  -> Distance =  35.15298244508295\n",
            "Iteration =  33  -> Distance =  35.15298244508295\n",
            "Iteration =  34  -> Distance =  35.15298244508295\n",
            "Iteration =  35  -> Distance =  35.15298244508295\n",
            "Iteration =  36  -> Distance =  35.15298244508295\n",
            "Iteration =  37  -> Distance =  35.15298244508295\n",
            "Iteration =  38  -> Distance =  35.15298244508295\n",
            "Iteration =  39  -> Distance =  35.15298244508295\n",
            "Iteration =  40  -> Distance =  35.15298244508295\n",
            "Iteration =  41  -> Distance =  35.15298244508295\n",
            "Iteration =  42  -> Distance =  35.15298244508295\n",
            "Iteration =  43  -> Distance =  35.15298244508295\n",
            "Iteration =  44  -> Distance =  35.15298244508295\n",
            "Iteration =  45  -> Distance =  35.15298244508295\n",
            "Iteration =  46  -> Distance =  35.15298244508295\n",
            "Iteration =  47  -> Distance =  35.15298244508295\n",
            "Iteration =  48  -> Distance =  35.15298244508295\n",
            "Iteration =  49  -> Distance =  35.15298244508295\n",
            "Iteration =  50  -> Distance =  35.15298244508295\n",
            "Tempo de execução (s):  9.493629932403564\n",
            "Melhor rota:  [[14, 19, 18, 17, 13, 6, 7, 4, 3, 2, 1, 5, 11, 12, 16, 21, 22, 23, 24, 25, 20, 15, 10, 9, 8, 14], 35.15298244508295]\n",
            "CPU times: user 9.49 s, sys: 100 ms, total: 9.59 s\n",
            "Wall time: 9.72 s\n"
          ]
        },
        {
          "output_type": "display_data",
          "data": {
            "image/png": "[encoded data removed]",
            "text/plain": [
              "<Figure size 432x288 with 1 Axes>"
            ]
          },
          "metadata": {
            "needs_background": "light"
          }
        }
      ]
    },
    {
      "cell_type": "code",
      "metadata": {
        "colab": {
          "base_uri": "https://localhost:8080/",
          "height": 295
        },
        "id": "4C1UNZApYbxO",
        "outputId": "8f76e417-ec62-4de3-a47a-e4b435158c6f"
      },
      "source": [
        "plt.plot(x,y)\n",
        "plt.title('Distância x Iteração')\n",
        "plt.xlabel(\"Iteração\")\n",
        "plt.ylabel(\"Distância\")\n",
        "plt.show()"
      ],
      "execution_count": 24,
      "outputs": [
        {
          "output_type": "display_data",
          "data": {
            "image/png": "[encoded data removed]",
            "text/plain": [
              "<Figure size 432x288 with 1 Axes>"
            ]
          },
          "metadata": {
            "needs_background": "light"
          }
        }
      ]
    },
    {
      "cell_type": "markdown",
      "metadata": {
        "id": "LjGDVkEQG-Uh"
      },
      "source": [
        "# Instância 2 - Echoplex Preamp (31 pontos)"
      ]
    },
    {
      "cell_type": "code",
      "metadata": {
        "colab": {
          "base_uri": "https://localhost:8080/",
          "height": 1000
        },
        "id": "I5rXeGyHG9W0",
        "outputId": "ee01c6f2-754f-41e6-fadc-75442e92cdb2"
      },
      "source": [
        "url = 'https://raw.githubusercontent.com/julianovale/PO240_Meta_heuristica/main/TrabalhoFinal/EchoplexPreamp.txt'\n",
        "df = pd.read_csv(url)\n",
        "Y = df.values\n",
        "\n",
        "X = buid_distance_matrix(Y)\n",
        "\n",
        "aco, x, y = ant_colony_optimization(X, ants = 4, iterations = 50, alpha = 1, beta = 2, decay = 0.10)\n",
        "\n",
        "plot_tour_coordinates(Y, aco)"
      ],
      "execution_count": 27,
      "outputs": [
        {
          "output_type": "stream",
          "name": "stdout",
          "text": [
            "Iteration =  1  -> Distance =  43.34166020071207\n",
            "Iteration =  2  -> Distance =  43.34166020071207\n",
            "Iteration =  3  -> Distance =  41.74000583838024\n",
            "Iteration =  4  -> Distance =  41.74000583838024\n",
            "Iteration =  5  -> Distance =  40.957417329238154\n",
            "Iteration =  6  -> Distance =  40.957417329238154\n",
            "Iteration =  7  -> Distance =  40.957417329238154\n",
            "Iteration =  8  -> Distance =  40.957417329238154\n",
            "Iteration =  9  -> Distance =  40.06449510224598\n",
            "Iteration =  10  -> Distance =  40.06449510224598\n",
            "Iteration =  11  -> Distance =  40.06449510224598\n",
            "Iteration =  12  -> Distance =  40.06449510224598\n",
            "Iteration =  13  -> Distance =  40.06449510224598\n",
            "Iteration =  14  -> Distance =  40.06449510224598\n",
            "Iteration =  15  -> Distance =  40.06449510224598\n",
            "Iteration =  16  -> Distance =  40.06449510224598\n",
            "Iteration =  17  -> Distance =  40.06449510224598\n",
            "Iteration =  18  -> Distance =  40.06449510224598\n",
            "Iteration =  19  -> Distance =  40.06449510224598\n",
            "Iteration =  20  -> Distance =  40.06449510224598\n",
            "Iteration =  21  -> Distance =  39.99070478491457\n",
            "Iteration =  22  -> Distance =  39.99070478491457\n",
            "Iteration =  23  -> Distance =  39.99070478491457\n",
            "Iteration =  24  -> Distance =  39.99070478491457\n",
            "Iteration =  25  -> Distance =  39.99070478491457\n",
            "Iteration =  26  -> Distance =  39.99070478491457\n",
            "Iteration =  27  -> Distance =  39.99070478491457\n",
            "Iteration =  28  -> Distance =  39.99070478491457\n",
            "Iteration =  29  -> Distance =  39.99070478491457\n",
            "Iteration =  30  -> Distance =  39.99070478491457\n",
            "Iteration =  31  -> Distance =  39.99070478491457\n",
            "Iteration =  32  -> Distance =  39.99070478491457\n",
            "Iteration =  33  -> Distance =  39.99070478491457\n",
            "Iteration =  34  -> Distance =  39.99070478491457\n",
            "Iteration =  35  -> Distance =  39.99070478491457\n",
            "Iteration =  36  -> Distance =  39.99070478491457\n",
            "Iteration =  37  -> Distance =  39.99070478491457\n",
            "Iteration =  38  -> Distance =  39.99070478491457\n",
            "Iteration =  39  -> Distance =  39.99070478491457\n",
            "Iteration =  40  -> Distance =  39.99070478491457\n",
            "Iteration =  41  -> Distance =  39.99070478491457\n",
            "Iteration =  42  -> Distance =  39.99070478491457\n",
            "Iteration =  43  -> Distance =  39.99070478491457\n",
            "Iteration =  44  -> Distance =  39.99070478491457\n",
            "Iteration =  45  -> Distance =  39.99070478491457\n",
            "Iteration =  46  -> Distance =  39.99070478491457\n",
            "Iteration =  47  -> Distance =  39.99070478491457\n",
            "Iteration =  48  -> Distance =  39.99070478491457\n",
            "Iteration =  49  -> Distance =  39.99070478491457\n",
            "Iteration =  50  -> Distance =  39.99070478491457\n",
            "Tempo de execução (s):  23.371604681015015\n",
            "Melhor rota:  [[23, 22, 21, 26, 25, 20, 17, 12, 13, 8, 14, 9, 6, 2, 1, 5, 4, 3, 7, 10, 11, 16, 15, 18, 19, 24, 28, 29, 30, 31, 27, 23], 39.99070478491457]\n"
          ]
        },
        {
          "output_type": "display_data",
          "data": {
            "image/png": "[encoded data removed]",
            "text/plain": [
              "<Figure size 432x288 with 1 Axes>"
            ]
          },
          "metadata": {
            "needs_background": "light"
          }
        }
      ]
    },
    {
      "cell_type": "code",
      "metadata": {
        "colab": {
          "base_uri": "https://localhost:8080/",
          "height": 295
        },
        "id": "qRqKWwCDOJX0",
        "outputId": "fdbddebf-823f-48f2-bd1a-734d0fa139a8"
      },
      "source": [
        "plt.plot(x,y)\n",
        "plt.title('Distância x Iteração')\n",
        "plt.xlabel(\"Iteração\")\n",
        "plt.ylabel(\"Distância\")\n",
        "plt.show()"
      ],
      "execution_count": 28,
      "outputs": [
        {
          "output_type": "display_data",
          "data": {
            "image/png": "[encoded data removed]",
            "text/plain": [
              "<Figure size 432x288 with 1 Axes>"
            ]
          },
          "metadata": {
            "needs_background": "light"
          }
        }
      ]
    },
    {
      "cell_type": "markdown",
      "metadata": {
        "id": "iQ3sajSzmEpH"
      },
      "source": [
        "# Instância 3 - RAT (70 pontos)"
      ]
    },
    {
      "cell_type": "code",
      "metadata": {
        "colab": {
          "base_uri": "https://localhost:8080/",
          "height": 1000
        },
        "id": "LmshEPvUlsau",
        "outputId": "3ef96a79-6023-41d5-ac41-f19f3b959dc3"
      },
      "source": [
        "url = 'https://raw.githubusercontent.com/julianovale/PO240_Meta_heuristica/main/TrabalhoFinal/RAT.txt'\n",
        "df = pd.read_csv(url)\n",
        "Y = df.values\n",
        "\n",
        "X = buid_distance_matrix(Y)\n",
        "\n",
        "aco, x, y = ant_colony_optimization(X, ants = 4, iterations = 50, alpha = 1, beta = 2, decay = 0.10)\n",
        "\n",
        "plot_tour_coordinates(Y, aco)"
      ],
      "execution_count": 29,
      "outputs": [
        {
          "output_type": "stream",
          "name": "stdout",
          "text": [
            "Iteration =  1  -> Distance =  92.57291002461345\n",
            "Iteration =  2  -> Distance =  92.57291002461345\n",
            "Iteration =  3  -> Distance =  92.42800518643799\n",
            "Iteration =  4  -> Distance =  92.42800518643799\n",
            "Iteration =  5  -> Distance =  92.42800518643799\n",
            "Iteration =  6  -> Distance =  92.30120928457167\n",
            "Iteration =  7  -> Distance =  92.30120928457167\n",
            "Iteration =  8  -> Distance =  92.30120928457167\n",
            "Iteration =  9  -> Distance =  87.53065784347338\n",
            "Iteration =  10  -> Distance =  87.53065784347338\n",
            "Iteration =  11  -> Distance =  87.53065784347338\n",
            "Iteration =  12  -> Distance =  87.53065784347338\n",
            "Iteration =  13  -> Distance =  87.53065784347338\n",
            "Iteration =  14  -> Distance =  87.53065784347338\n",
            "Iteration =  15  -> Distance =  87.53065784347338\n",
            "Iteration =  16  -> Distance =  87.53065784347338\n",
            "Iteration =  17  -> Distance =  87.53065784347338\n",
            "Iteration =  18  -> Distance =  87.53065784347338\n",
            "Iteration =  19  -> Distance =  87.53065784347338\n",
            "Iteration =  20  -> Distance =  87.53065784347338\n",
            "Iteration =  21  -> Distance =  87.53065784347338\n",
            "Iteration =  22  -> Distance =  87.53065784347338\n",
            "Iteration =  23  -> Distance =  87.53065784347338\n",
            "Iteration =  24  -> Distance =  87.53065784347338\n",
            "Iteration =  25  -> Distance =  87.53065784347338\n",
            "Iteration =  26  -> Distance =  87.53065784347338\n",
            "Iteration =  27  -> Distance =  87.53065784347338\n",
            "Iteration =  28  -> Distance =  87.53065784347338\n",
            "Iteration =  29  -> Distance =  87.53065784347338\n",
            "Iteration =  30  -> Distance =  87.53065784347338\n",
            "Iteration =  31  -> Distance =  87.53065784347338\n",
            "Iteration =  32  -> Distance =  87.53065784347338\n",
            "Iteration =  33  -> Distance =  87.53065784347338\n",
            "Iteration =  34  -> Distance =  87.53065784347338\n",
            "Iteration =  35  -> Distance =  87.53065784347338\n",
            "Iteration =  36  -> Distance =  87.53065784347338\n",
            "Iteration =  37  -> Distance =  87.53065784347338\n",
            "Iteration =  38  -> Distance =  87.53065784347338\n",
            "Iteration =  39  -> Distance =  87.53065784347338\n",
            "Iteration =  40  -> Distance =  87.53065784347338\n",
            "Iteration =  41  -> Distance =  87.53065784347338\n",
            "Iteration =  42  -> Distance =  87.53065784347338\n",
            "Iteration =  43  -> Distance =  87.53065784347338\n",
            "Iteration =  44  -> Distance =  87.53065784347338\n",
            "Iteration =  45  -> Distance =  87.53065784347338\n",
            "Iteration =  46  -> Distance =  87.53065784347338\n",
            "Iteration =  47  -> Distance =  87.53065784347338\n",
            "Iteration =  48  -> Distance =  87.53065784347338\n",
            "Iteration =  49  -> Distance =  87.53065784347338\n",
            "Iteration =  50  -> Distance =  87.53065784347338\n",
            "Tempo de execução (s):  273.52023816108704\n",
            "Melhor rota:  [[56, 57, 58, 47, 36, 29, 23, 15, 5, 4, 14, 9, 3, 8, 13, 19, 21, 18, 17, 12, 7, 2, 1, 6, 11, 10, 16, 20, 24, 30, 37, 39, 55, 51, 48, 44, 52, 53, 49, 45, 42, 41, 40, 38, 31, 25, 32, 33, 34, 26, 22, 27, 28, 35, 43, 46, 50, 54, 56], 87.53065784347338]\n"
          ]
        },
        {
          "output_type": "display_data",
          "data": {
            "image/png": "[encoded data removed]",
            "text/plain": [
              "<Figure size 432x288 with 1 Axes>"
            ]
          },
          "metadata": {
            "needs_background": "light"
          }
        }
      ]
    },
    {
      "cell_type": "code",
      "metadata": {
        "colab": {
          "base_uri": "https://localhost:8080/",
          "height": 295
        },
        "id": "BuxtZ5mMSOH5",
        "outputId": "f6cb0a92-08b6-4f33-d4fa-4076e3b6472f"
      },
      "source": [
        "plt.plot(x,y)\n",
        "plt.title('Distância x Iteração')\n",
        "plt.xlabel(\"Iteração\")\n",
        "plt.ylabel(\"Distância\")\n",
        "plt.show()"
      ],
      "execution_count": 30,
      "outputs": [
        {
          "output_type": "display_data",
          "data": {
            "image/png": "[encoded data removed]",
            "text/plain": [
              "<Figure size 432x288 with 1 Axes>"
            ]
          },
          "metadata": {
            "needs_background": "light"
          }
        }
      ]
    },
    {
      "cell_type": "markdown",
      "metadata": {
        "id": "4m_wqzyzTvlA"
      },
      "source": [
        "# Instância 4 - OCD"
      ]
    },
    {
      "cell_type": "code",
      "metadata": {
        "colab": {
          "base_uri": "https://localhost:8080/",
          "height": 1000
        },
        "id": "HBVgnknyTvEY",
        "outputId": "f9e09d4f-6b53-408e-cc6d-a9be9015ca84"
      },
      "source": [
        "url = 'https://raw.githubusercontent.com/julianovale/PO240_Meta_heuristica/main/TrabalhoFinal/OCD.txt'\n",
        "df = pd.read_csv(url)\n",
        "Y = df.values\n",
        "\n",
        "X = buid_distance_matrix(Y)\n",
        "\n",
        "aco, x, y = ant_colony_optimization(X, ants = 4, iterations = 50, alpha = 1, beta = 2, decay = 0.10)\n",
        "\n",
        "plot_tour_coordinates(Y, aco)"
      ],
      "execution_count": 32,
      "outputs": [
        {
          "output_type": "stream",
          "name": "stdout",
          "text": [
            "Iteration =  1  -> Distance =  111.39642575646616\n",
            "Iteration =  2  -> Distance =  111.39642575646616\n",
            "Iteration =  3  -> Distance =  111.39642575646616\n",
            "Iteration =  4  -> Distance =  107.47545795631281\n",
            "Iteration =  5  -> Distance =  107.47545795631281\n",
            "Iteration =  6  -> Distance =  107.47545795631281\n",
            "Iteration =  7  -> Distance =  107.47545795631281\n",
            "Iteration =  8  -> Distance =  107.47545795631281\n",
            "Iteration =  9  -> Distance =  107.47545795631281\n",
            "Iteration =  10  -> Distance =  107.47545795631281\n",
            "Iteration =  11  -> Distance =  107.47545795631281\n",
            "Iteration =  12  -> Distance =  107.47545795631281\n",
            "Iteration =  13  -> Distance =  107.47545795631281\n",
            "Iteration =  14  -> Distance =  107.47545795631281\n",
            "Iteration =  15  -> Distance =  107.47545795631281\n",
            "Iteration =  16  -> Distance =  107.47545795631281\n",
            "Iteration =  17  -> Distance =  107.47545795631281\n",
            "Iteration =  18  -> Distance =  107.47545795631281\n",
            "Iteration =  19  -> Distance =  107.47545795631281\n",
            "Iteration =  20  -> Distance =  107.47545795631281\n",
            "Iteration =  21  -> Distance =  107.47545795631281\n",
            "Iteration =  22  -> Distance =  107.47545795631281\n",
            "Iteration =  23  -> Distance =  107.47545795631281\n",
            "Iteration =  24  -> Distance =  107.47545795631281\n",
            "Iteration =  25  -> Distance =  107.47545795631281\n",
            "Iteration =  26  -> Distance =  107.47545795631281\n",
            "Iteration =  27  -> Distance =  107.47545795631281\n",
            "Iteration =  28  -> Distance =  107.47545795631281\n",
            "Iteration =  29  -> Distance =  107.47545795631281\n",
            "Iteration =  30  -> Distance =  107.47545795631281\n",
            "Iteration =  31  -> Distance =  107.47545795631281\n",
            "Iteration =  32  -> Distance =  107.47545795631281\n",
            "Iteration =  33  -> Distance =  107.47545795631281\n",
            "Iteration =  34  -> Distance =  107.47545795631281\n",
            "Iteration =  35  -> Distance =  107.47545795631281\n",
            "Iteration =  36  -> Distance =  107.47545795631281\n",
            "Iteration =  37  -> Distance =  107.47545795631281\n",
            "Iteration =  38  -> Distance =  107.47545795631281\n",
            "Iteration =  39  -> Distance =  107.47545795631281\n",
            "Iteration =  40  -> Distance =  107.47545795631281\n",
            "Iteration =  41  -> Distance =  107.47545795631281\n",
            "Iteration =  42  -> Distance =  107.47545795631281\n",
            "Iteration =  43  -> Distance =  107.47545795631281\n",
            "Iteration =  44  -> Distance =  107.47545795631281\n",
            "Iteration =  45  -> Distance =  107.47545795631281\n",
            "Iteration =  46  -> Distance =  107.47545795631281\n",
            "Iteration =  47  -> Distance =  107.47545795631281\n",
            "Iteration =  48  -> Distance =  107.47545795631281\n",
            "Iteration =  49  -> Distance =  107.47545795631281\n",
            "Iteration =  50  -> Distance =  107.47545795631281\n",
            "Tempo de execução (s):  989.9970173835754\n",
            "Melhor rota:  [[13, 12, 15, 25, 26, 21, 27, 34, 47, 49, 54, 53, 41, 33, 32, 31, 30, 39, 40, 46, 45, 44, 43, 52, 56, 57, 58, 59, 60, 68, 73, 82, 81, 77, 72, 67, 66, 65, 71, 76, 70, 75, 80, 79, 78, 74, 69, 63, 64, 62, 61, 55, 50, 51, 48, 42, 38, 29, 24, 20, 14, 11, 19, 18, 23, 37, 36, 35, 28, 22, 16, 17, 3, 1, 4, 5, 6, 7, 8, 9, 10, 2, 13], 107.47545795631281]\n"
          ]
        },
        {
          "output_type": "display_data",
          "data": {
            "image/png": "[encoded data removed]",
            "text/plain": [
              "<Figure size 432x288 with 1 Axes>"
            ]
          },
          "metadata": {
            "needs_background": "light"
          }
        }
      ]
    },
    {
      "cell_type": "code",
      "metadata": {
        "colab": {
          "base_uri": "https://localhost:8080/",
          "height": 295
        },
        "id": "UsxAONqHT0UQ",
        "outputId": "668d51e6-0301-449c-98b7-85548152f37a"
      },
      "source": [
        "plt.plot(x,y)\n",
        "plt.title('Distância x Iteração')\n",
        "plt.xlabel(\"Iteração\")\n",
        "plt.ylabel(\"Distância\")\n",
        "plt.show()"
      ],
      "execution_count": 33,
      "outputs": [
        {
          "output_type": "display_data",
          "data": {
            "image/png": "[encoded data removed]",
            "text/plain": [
              "<Figure size 432x288 with 1 Axes>"
            ]
          },
          "metadata": {
            "needs_background": "light"
          }
        }
      ]
    },
    {
      "cell_type": "markdown",
      "metadata": {
        "id": "mi80kJsEGzPK"
      },
      "source": [
        "# Instância 5 - Blues Driver (157 pontos)"
      ]
    },
    {
      "cell_type": "code",
      "metadata": {
        "colab": {
          "base_uri": "https://localhost:8080/",
          "height": 1000
        },
        "id": "1ITE7ynVHtD0",
        "outputId": "dd77e19f-dfb8-4d7b-c7ad-6919eb79504e"
      },
      "source": [
        "url = 'https://raw.githubusercontent.com/julianovale/PO240_Meta_heuristica/main/TrabalhoFinal/Blues%20driver.txt'\n",
        "df = pd.read_csv(url)\n",
        "Y = df.values\n",
        "\n",
        "X = buid_distance_matrix(Y)\n",
        "\n",
        "aco, x, y = ant_colony_optimization(X, ants = 4, iterations = 50, alpha = 1, beta = 2, decay = 0.10)\n",
        "\n",
        "plot_tour_coordinates(Y, aco)"
      ],
      "execution_count": 34,
      "outputs": [
        {
          "output_type": "stream",
          "name": "stdout",
          "text": [
            "Iteration =  1  -> Distance =  234.09694844948888\n",
            "Iteration =  2  -> Distance =  234.09694844948888\n",
            "Iteration =  3  -> Distance =  234.09694844948888\n",
            "Iteration =  4  -> Distance =  228.94631131127153\n",
            "Iteration =  5  -> Distance =  227.85397727274793\n",
            "Iteration =  6  -> Distance =  227.85397727274793\n",
            "Iteration =  7  -> Distance =  227.85397727274793\n",
            "Iteration =  8  -> Distance =  227.4713018465661\n",
            "Iteration =  9  -> Distance =  227.4713018465661\n",
            "Iteration =  10  -> Distance =  227.4713018465661\n",
            "Iteration =  11  -> Distance =  224.52804983152643\n",
            "Iteration =  12  -> Distance =  224.52804983152643\n",
            "Iteration =  13  -> Distance =  224.52804983152643\n",
            "Iteration =  14  -> Distance =  224.52804983152643\n",
            "Iteration =  15  -> Distance =  224.52804983152643\n",
            "Iteration =  16  -> Distance =  223.95122684477067\n",
            "Iteration =  17  -> Distance =  223.95122684477067\n",
            "Iteration =  18  -> Distance =  223.95122684477067\n",
            "Iteration =  19  -> Distance =  223.95122684477067\n",
            "Iteration =  20  -> Distance =  223.95122684477067\n",
            "Iteration =  21  -> Distance =  223.95122684477067\n",
            "Iteration =  22  -> Distance =  223.95122684477067\n",
            "Iteration =  23  -> Distance =  223.95122684477067\n",
            "Iteration =  24  -> Distance =  223.95122684477067\n",
            "Iteration =  25  -> Distance =  223.64827302377319\n",
            "Iteration =  26  -> Distance =  223.64827302377319\n",
            "Iteration =  27  -> Distance =  223.64827302377319\n",
            "Iteration =  28  -> Distance =  223.64827302377319\n",
            "Iteration =  29  -> Distance =  223.64827302377319\n",
            "Iteration =  30  -> Distance =  223.64827302377319\n",
            "Iteration =  31  -> Distance =  223.64827302377319\n",
            "Iteration =  32  -> Distance =  223.64827302377319\n",
            "Iteration =  33  -> Distance =  223.64827302377319\n",
            "Iteration =  34  -> Distance =  223.64827302377319\n",
            "Iteration =  35  -> Distance =  223.64827302377319\n",
            "Iteration =  36  -> Distance =  223.64827302377319\n",
            "Iteration =  37  -> Distance =  223.64827302377319\n",
            "Iteration =  38  -> Distance =  223.64827302377319\n",
            "Iteration =  39  -> Distance =  223.64827302377319\n",
            "Iteration =  40  -> Distance =  223.64827302377319\n",
            "Iteration =  41  -> Distance =  223.64827302377319\n",
            "Iteration =  42  -> Distance =  223.64827302377319\n",
            "Iteration =  43  -> Distance =  223.64827302377319\n",
            "Iteration =  44  -> Distance =  223.64827302377319\n",
            "Iteration =  45  -> Distance =  223.64827302377319\n",
            "Iteration =  46  -> Distance =  223.64827302377319\n",
            "Iteration =  47  -> Distance =  223.64827302377319\n",
            "Iteration =  48  -> Distance =  223.64827302377319\n",
            "Iteration =  49  -> Distance =  223.64827302377319\n",
            "Iteration =  50  -> Distance =  223.64827302377319\n",
            "Tempo de execução (s):  14220.166083574295\n",
            "Melhor rota:  [[30, 31, 32, 43, 50, 59, 66, 77, 91, 76, 65, 64, 58, 63, 73, 72, 83, 89, 74, 75, 84, 90, 95, 96, 104, 103, 114, 113, 119, 129, 138, 128, 137, 127, 112, 111, 120, 126, 136, 148, 149, 144, 150, 151, 145, 139, 130, 131, 132, 121, 115, 105, 106, 98, 108, 107, 116, 122, 123, 124, 125, 135, 142, 141, 134, 133, 140, 146, 152, 153, 154, 155, 156, 157, 147, 143, 117, 118, 110, 101, 109, 100, 99, 93, 87, 88, 102, 94, 82, 62, 57, 42, 28, 20, 10, 9, 19, 27, 41, 49, 48, 47, 46, 56, 61, 68, 69, 70, 71, 81, 86, 85, 97, 92, 78, 79, 80, 67, 60, 55, 54, 45, 40, 39, 53, 52, 51, 44, 38, 37, 36, 33, 21, 22, 23, 34, 24, 25, 26, 35, 18, 17, 8, 7, 6, 5, 16, 15, 4, 3, 2, 14, 13, 12, 1, 11, 29, 30], 223.64827302377319]\n"
          ]
        },
        {
          "output_type": "display_data",
          "data": {
            "image/png": "[encoded data removed]",
            "text/plain": [
              "<Figure size 432x288 with 1 Axes>"
            ]
          },
          "metadata": {
            "needs_background": "light"
          }
        }
      ]
    },
    {
      "cell_type": "code",
      "metadata": {
        "colab": {
          "base_uri": "https://localhost:8080/",
          "height": 295
        },
        "id": "Dchye_dJTS3Y",
        "outputId": "a374b19d-ceaf-4102-9dae-c80779fb22b3"
      },
      "source": [
        "plt.plot(x,y)\n",
        "plt.title('Distância x Iteração')\n",
        "plt.xlabel(\"Iteração\")\n",
        "plt.ylabel(\"Distância\")\n",
        "plt.show()"
      ],
      "execution_count": 35,
      "outputs": [
        {
          "output_type": "display_data",
          "data": {
            "image/png": "[encoded data removed]",
            "text/plain": [
              "<Figure size 432x288 with 1 Axes>"
            ]
          },
          "metadata": {
            "needs_background": "light"
          }
        }
      ]
    }
  ]
}