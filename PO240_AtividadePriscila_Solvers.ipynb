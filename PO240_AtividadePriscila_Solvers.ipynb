{
  "nbformat": 4,
  "nbformat_minor": 0,
  "metadata": {
    "kernelspec": {
      "display_name": "Python 3",
      "language": "python",
      "name": "python3"
    },
    "language_info": {
      "codemirror_mode": {
        "name": "ipython",
        "version": 3
      },
      "file_extension": ".py",
      "mimetype": "text/x-python",
      "name": "python",
      "nbconvert_exporter": "python",
      "pygments_lexer": "ipython3",
      "version": "3.7.6"
    },
    "colab": {
      "name": "PO240_AtividadePriscila_Solvers.ipynb",
      "provenance": [],
      "collapsed_sections": [],
      "include_colab_link": true
    },
    "accelerator": "GPU"
  },
  "cells": [
    {
      "cell_type": "markdown",
      "metadata": {
        "id": "view-in-github",
        "colab_type": "text"
      },
      "source": [
        "<a href=\"https://colab.research.google.com/github/julianovale/PO240_Meta_heuristica/blob/main/PO240_AtividadePriscila_Solvers.ipynb\" target=\"_parent\"><img src=\"https://colab.research.google.com/assets/colab-badge.svg\" alt=\"Open In Colab\"/></a>"
      ]
    },
    {
      "cell_type": "code",
      "metadata": {
        "colab": {
          "base_uri": "https://localhost:8080/"
        },
        "id": "Kuqq7zzHCALw",
        "outputId": "404be1b5-b781-481a-dab1-8dc431d4763c"
      },
      "source": [
        "! pip install ortools"
      ],
      "execution_count": null,
      "outputs": [
        {
          "output_type": "stream",
          "text": [
            "Requirement already satisfied: ortools in /usr/local/lib/python3.7/dist-packages (9.0.9048)\n",
            "Requirement already satisfied: protobuf>=3.15.8 in /usr/local/lib/python3.7/dist-packages (from ortools) (3.17.0)\n",
            "Requirement already satisfied: absl-py>=0.11 in /usr/local/lib/python3.7/dist-packages (from ortools) (0.12.0)\n",
            "Requirement already satisfied: six>=1.9 in /usr/local/lib/python3.7/dist-packages (from protobuf>=3.15.8->ortools) (1.15.0)\n"
          ],
          "name": "stdout"
        }
      ]
    },
    {
      "cell_type": "code",
      "metadata": {
        "colab": {
          "resources": {
            "http://localhost:8080/nbextensions/google.colab/files.js": {
              "data": "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",
              "ok": true,
              "headers": [
                [
                  "content-type",
                  "application/javascript"
                ]
              ],
              "status": 200,
              "status_text": ""
            }
          },
          "base_uri": "https://localhost:8080/",
          "height": 73
        },
        "id": "x8Dd82zJBRLX",
        "outputId": "36c0cb19-87a9-494f-a7dd-d356e0fb1c32"
      },
      "source": [
        "from google.colab import files\n",
        "uploaded = files.upload() # subir arquivo Instancia"
      ],
      "execution_count": null,
      "outputs": [
        {
          "output_type": "display_data",
          "data": {
            "text/html": [
              "\n",
              "     <input type=\"file\" id=\"files-5d53a235-6bb3-4059-b96b-10a3c0dad7c3\" name=\"files[]\" multiple disabled\n",
              "        style=\"border:none\" />\n",
              "     <output id=\"result-5d53a235-6bb3-4059-b96b-10a3c0dad7c3\">\n",
              "      Upload widget is only available when the cell has been executed in the\n",
              "      current browser session. Please rerun this cell to enable.\n",
              "      </output>\n",
              "      <script src=\"/nbextensions/google.colab/files.js\"></script> "
            ],
            "text/plain": [
              "<IPython.core.display.HTML object>"
            ]
          },
          "metadata": {
            "tags": []
          }
        },
        {
          "output_type": "stream",
          "text": [
            "Saving Instancia100.txt to Instancia100.txt\n"
          ],
          "name": "stdout"
        }
      ]
    },
    {
      "cell_type": "code",
      "metadata": {
        "id": "WyRubEv5Ym77"
      },
      "source": [
        "# colab: incluir !pip install\n",
        "import numpy as np # módulo para manipulação de vetores e matrizes\n",
        "from ortools.linear_solver import pywraplp  # CBC\n",
        "# import docplex.mp.sdetails                  # CPLEX\n",
        "# from docplex.mp.model import Model          # CPLEX\n",
        "from ortools.sat.python import cp_model     # CPSAT\n",
        "\n",
        "def leitura(arquivo):\n",
        "    arq = open(arquivo, \"r\") # r- read\n",
        "    lixo = arq.readline()  # linha com texto Number of jobs\n",
        "    linha = arq.readline() # linha com número de tarefas\n",
        "    N = int(linha)         # linha com o número de tarefas\n",
        "    p = np.zeros(N, dtype=np.int64)  # p = [p0, p1,..., p(N-1)]\n",
        "    w = np.zeros(N, dtype=np.int64)\n",
        "    d = np.zeros(N, dtype=np.int64)\n",
        "    lixo = arq.readline()  # linha com texto Job data (job number, release date, processing time, due date)\n",
        "    for i in range(N):  # repetir N vezes\n",
        "        # i-ésima linha\n",
        "        linha = arq.readline().split()  # posições: 0-indice 1-p, 2-w, 3-d\n",
        "        p[i] = int(linha[1])\n",
        "        w[i] = int(linha[2])\n",
        "        d[i] = int(linha[3])\n",
        "    return N, p, w, d   \n",
        "\n",
        "def modelo_Min_TerminoPonderado_CPLEX(N, p, w, d):\n",
        "    # cria o modelo\n",
        "    mdl = Model(name=\"Única Máquina\")\n",
        "\n",
        "    M = 2*sum(p)\n",
        "\n",
        "    # alocação de memória para as estruturas do problema\n",
        "    x = [0]*N  \n",
        "    y = []\n",
        "    for i in range(N):\n",
        "        crialinha = [0]*N\n",
        "        y.append(crialinha)\n",
        "\n",
        "    # declaração das variáveis de decisão  \n",
        "    for i in range(N):     # min, max \n",
        "        x[i] = mdl.integer_var(0, None, 'x'+str(i))  \n",
        "\n",
        "    for i in range(N):\n",
        "        for k in range(N):\n",
        "            if k > i :            \n",
        "                y[i][k] = mdl.binary_var('y'+str(i)+\",\"+str(k))\n",
        "\n",
        "    # declaração das restrições \n",
        "    for i in range(N):\n",
        "        mdl.add_constraint( x[i] + p[i] <= d[i] )\n",
        "        for k in range(N):\n",
        "            if k > i :\n",
        "                mdl.add_constraint( x[i] + p[i] <= x[k] + M*(1-y[i][k]) )\n",
        "                mdl.add_constraint( x[k] + p[k] <= x[i] + M*y[i][k] )\n",
        "\n",
        "    # função objetivo\n",
        "    mdl.minimize( mdl.sum(w[i]*(x[i] + p[i]) for i in range(N)) )\n",
        "    \n",
        "    # limitar tempo de execução (em segundos)\n",
        "    mdl.set_time_limit(1*60*60) \n",
        "    \n",
        "    #resolver o problema\n",
        "    mdl.solve()\n",
        "    status = mdl.solve_details.status\n",
        "    print(\"Status: \", status)\n",
        "        \n",
        "    print(\"Número de Variáveis: \", mdl.number_of_variables)  \n",
        "    print(\"Número de Restrições: \", mdl.number_of_constraints)\n",
        "    print(\"Tempo de execução (s): %.4f\" %mdl.solve_details.time)\n",
        "    print(\"Nós B&B: \", mdl.solve_details.nb_nodes_processed)\n",
        "        \n",
        "    print(\"Função-objetivo: \", mdl.objective_value)\n",
        "    print(\"Best Bound: %.4f\" %mdl.solve_details.best_bound)            \n",
        "    print(\"GAP: %.4f\" %mdl.solve_details.mip_relative_gap)   \n",
        "    \n",
        "    print(\"Lista de Alocação (tarefa, início):\")\n",
        "    aux = []        \n",
        "    for i in range(N):\n",
        "        aux.append((i, x[i].solution_value))        \n",
        "    solOrd = sorted(aux, key=lambda tup: tup[1])\n",
        "    print(solOrd)\n",
        "    print()\n",
        "    \n",
        "def modelo_Min_TerminoPonderado_CBC(N, p, w, d):\n",
        "    # cria o modelo\n",
        "    mdl = pywraplp.Solver('Única Máquina', pywraplp.Solver.CBC_MIXED_INTEGER_PROGRAMMING)\n",
        "\n",
        "    M = 2*sum(p)\n",
        "\n",
        "    # alocação de memória para as estruturas do problema\n",
        "    x = [0]*N  \n",
        "    y = []\n",
        "    for i in range(N):\n",
        "        crialinha = [0]*N\n",
        "        y.append(crialinha)\n",
        "\n",
        "    # declaração das variáveis de decisão    \n",
        "    for i in range(N):     # min, max \n",
        "        x[i] = mdl.IntVar(0, mdl.infinity(), 'x'+str(i))  \n",
        "\n",
        "    for i in range(N):\n",
        "        for k in range(N):\n",
        "            if k > i :            \n",
        "                y[i][k] = mdl.IntVar(0, 1,'y'+str(i)+\",\"+str(k))\n",
        "\n",
        "    # declaração das restrições \n",
        "    for i in range(N):\n",
        "        mdl.Add( x[i] + p[i] <= d[i] )\n",
        "        for k in range(N):\n",
        "            if k > i :\n",
        "                mdl.Add( x[i] + p[i] <= x[k] + M*(1-y[i][k]) )\n",
        "                mdl.Add( x[k] + p[k] <= x[i] + M*y[i][k] )\n",
        "\n",
        "    # função objetivo\n",
        "    mdl.Minimize( mdl.Sum(w[i]*(x[i] + p[i]) for i in range(N)) )\n",
        "    \n",
        "    # limitar tempo de execução (em milisegundos)\n",
        "    mdl.SetTimeLimit(1*60*60*1000)   # 1 hora\n",
        "    \n",
        "    #resolver o problema\n",
        "    status = mdl.Solve()\n",
        "    print(\"Status: \", status)\n",
        "\n",
        "    print(\"Número de Variáveis: \", mdl.NumVariables())  \n",
        "    print(\"Número de Restrições: \", mdl.NumConstraints())\n",
        "    print(\"Tempo de execução (s): %.4f\" %float(mdl.WallTime()/1000))\n",
        "    print(\"Nós B&B: \", mdl.nodes())\n",
        "    \n",
        "    print(\"Função-objetivo: \", mdl.Objective().Value())\n",
        "    print(\"Best Bound: %.4f\" %mdl.Objective().BestBound())\n",
        "    \n",
        "    gap = -1\n",
        "    if mdl.Objective().Value():\n",
        "        gap = (mdl.Objective().Value() - mdl.Objective().BestBound())/mdl.Objective().Value()\n",
        "    print(\"GAP: %.4f\" %gap)\n",
        "    \n",
        "    print(\"Lista de Alocação (tarefa, início):\")\n",
        "    aux = []\n",
        "    for i in range(N):\n",
        "        aux.append((i, x[i].solution_value()))\n",
        "    solOrd = sorted(aux, key=lambda tup: tup[1])\n",
        "    print(solOrd)\n",
        "    print()\n",
        "    \n",
        "def modelo_Min_TerminoPonderado_CPSAT(N, p, w, d):\n",
        "    # cria o modelo\n",
        "    mdl = cp_model.CpModel()\n",
        "\n",
        "    M = int(2*sum(p))\n",
        "\n",
        "    # alocação de memória para as estruturas do problema\n",
        "    x = [0]*N  \n",
        "    y = []\n",
        "    for i in range(N):\n",
        "        crialinha = [0]*N\n",
        "        y.append(crialinha)\n",
        "\n",
        "    xmax = int(sum(p))\n",
        "    # declaração das variáveis de decisão    \n",
        "    for i in range(N):     # min, max \n",
        "        x[i] = mdl.NewIntVar(0, xmax, 'x'+str(i))  \n",
        "\n",
        "    for i in range(N):\n",
        "        for k in range(N):\n",
        "            if k > i :            \n",
        "                y[i][k] = mdl.NewBoolVar('y'+str(i)+\",\"+str(k))\n",
        "\n",
        "    # declaração das restrições \n",
        "    for i in range(N):\n",
        "        mdl.Add( x[i] + p[i] <= d[i] )\n",
        "        for k in range(N):\n",
        "            if k > i :\n",
        "                mdl.Add( x[i] + p[i] <= x[k] + M*(1-y[i][k]) )\n",
        "                mdl.Add( x[k] + p[k] <= x[i] + M*y[i][k] )\n",
        "\n",
        "    # função objetivo\n",
        "    mdl.Minimize( sum(w[i]*(x[i] + p[i]) for i in range(N)) )\n",
        "    \n",
        "    # resolver com CP-SAT\n",
        "    solver = cp_model.CpSolver()\n",
        "    # núcleos para processamento\n",
        "    solver.parameters.num_search_workers = 8\n",
        "    # limitar tempo de execução (em segundos)\n",
        "    solver.parameters.max_time_in_seconds = 1*60*60\n",
        "    status = solver.Solve(mdl)\n",
        "    status = solver.StatusName(status)\n",
        "    print(\"Status: \", status)\n",
        "    \n",
        "    z = solver.ObjectiveValue()\n",
        "    bb = solver.BestObjectiveBound()\n",
        "    nos = solver.NumBranches()\n",
        "    gap = -1\n",
        "    if solver.ObjectiveValue():\n",
        "        gap = (solver.ObjectiveValue() - solver.BestObjectiveBound())/solver.ObjectiveValue()\n",
        "    print(\"Função-objetivo: \", z)\n",
        "    print(\"Best Bound: %.4f\" %bb)\n",
        "    print(\"Nós B&B: \", nos)\n",
        "    print(\"GAP: %.4f\" %gap)\n",
        "    print(solver.ResponseStats())    \n",
        "    \n",
        "    print(\"Lista de Alocação (tarefa, início):\")\n",
        "    aux = []\n",
        "    for i in range(N):\n",
        "        aux.append((i, solver.Value(x[i])))\n",
        "    solOrd = sorted(aux, key=lambda tup: tup[1])\n",
        "    print(solOrd)\n",
        "    print()"
      ],
      "execution_count": null,
      "outputs": []
    },
    {
      "cell_type": "code",
      "metadata": {
        "id": "TDI6lhrXIl7P",
        "colab": {
          "base_uri": "https://localhost:8080/"
        },
        "outputId": "ec1ee506-247d-4b39-d0c2-c80503f5497a"
      },
      "source": [
        "# *********************** 10 TAREFAS CP-SAT ***************************\n",
        "# Leitura do arquivo com os dados\n",
        "# N (qtde tarefas), p (proc), w (peso), d (prazo) são as saídas da função leitura\n",
        "N, p, w, d = leitura(\"instancia10_.txt\")  \n",
        "\n",
        "print(\"===== CP-SAT =====\")\n",
        "modelo_Min_TerminoPonderado_CPSAT(N, p, w, d)"
      ],
      "execution_count": null,
      "outputs": [
        {
          "output_type": "stream",
          "text": [
            "===== CP-SAT =====\n",
            "Status:  OPTIMAL\n",
            "Função-objetivo:  17481.0\n",
            "Best Bound: 17481.0000\n",
            "Nós B&B:  316\n",
            "GAP: 0.0000\n",
            "CpSolverResponse summary:\n",
            "status: OPTIMAL\n",
            "objective: 17481\n",
            "best_bound: 17481\n",
            "booleans: 198\n",
            "conflicts: 192\n",
            "branches: 316\n",
            "propagations: 4448\n",
            "integer_propagations: 5461\n",
            "restarts: 294\n",
            "lp_iterations: 0\n",
            "walltime: 0.035658\n",
            "usertime: 0.035658\n",
            "deterministic_time: 0.00401596\n",
            "primal_integral: 0.00220992\n",
            "\n",
            "Lista de Alocação (tarefa, início):\n",
            "[(2, 0), (7, 79), (9, 133), (3, 198), (0, 253), (5, 306), (6, 379), (4, 507), (1, 644), (8, 785)]\n",
            "\n"
          ],
          "name": "stdout"
        }
      ]
    },
    {
      "cell_type": "code",
      "metadata": {
        "id": "V_jnPiL-Ym8c",
        "colab": {
          "base_uri": "https://localhost:8080/",
          "height": 761
        },
        "outputId": "742eb37a-c49e-4e3f-deef-6945ef713207"
      },
      "source": [
        "# *********************** 20 TAREFAS CP-SAT ***************************\n",
        "# Leitura do arquivo com os dados\n",
        "# N (qtde tarefas), p (proc), w (peso), d (prazo) são as saídas da função leitura\n",
        "N, p, w, d = leitura(\"Instancia20.txt\")  \n",
        "\n",
        "print(\"===== CP-SAT =====\")\n",
        "modelo_Min_TerminoPonderado_CPSAT(N, p, w, d)"
      ],
      "execution_count": null,
      "outputs": [
        {
          "output_type": "stream",
          "text": [
            "===== CP-SAT =====\n",
            "Status:  UNKNOWN\n",
            "Função-objetivo:  5436.0\n",
            "Best Bound: 716.0000\n",
            "Nós B&B:  30766111\n",
            "GAP: 0.8683\n",
            "CpSolverResponse summary:\n",
            "status: UNKNOWN\n",
            "objective: 5436\n",
            "best_bound: 716\n",
            "booleans: 190\n",
            "conflicts: 24369442\n",
            "branches: 30766111\n",
            "propagations: 434094206\n",
            "integer_propagations: 679441273\n",
            "restarts: 66661\n",
            "lp_iterations: 0\n",
            "walltime: 3600.07\n",
            "usertime: 3600.07\n",
            "deterministic_time: 6569.51\n",
            "primal_integral: 55576.6\n",
            "\n",
            "Lista de Alocação (tarefa, início):\n"
          ],
          "name": "stdout"
        },
        {
          "output_type": "error",
          "ename": "IndexError",
          "evalue": "ignored",
          "traceback": [
            "\u001b[0;31m---------------------------------------------------------------------------\u001b[0m",
            "\u001b[0;31mIndexError\u001b[0m                                Traceback (most recent call last)",
            "\u001b[0;32m<ipython-input-4-0d61fbf1af56>\u001b[0m in \u001b[0;36m<module>\u001b[0;34m()\u001b[0m\n\u001b[1;32m      5\u001b[0m \u001b[0;34m\u001b[0m\u001b[0m\n\u001b[1;32m      6\u001b[0m \u001b[0mprint\u001b[0m\u001b[0;34m(\u001b[0m\u001b[0;34m\"===== CP-SAT =====\"\u001b[0m\u001b[0;34m)\u001b[0m\u001b[0;34m\u001b[0m\u001b[0;34m\u001b[0m\u001b[0m\n\u001b[0;32m----> 7\u001b[0;31m \u001b[0mmodelo_Min_TerminoPonderado_CPSAT\u001b[0m\u001b[0;34m(\u001b[0m\u001b[0mN\u001b[0m\u001b[0;34m,\u001b[0m \u001b[0mp\u001b[0m\u001b[0;34m,\u001b[0m \u001b[0mw\u001b[0m\u001b[0;34m,\u001b[0m \u001b[0md\u001b[0m\u001b[0;34m)\u001b[0m\u001b[0;34m\u001b[0m\u001b[0;34m\u001b[0m\u001b[0m\n\u001b[0m",
            "\u001b[0;32m<ipython-input-3-74e956f26469>\u001b[0m in \u001b[0;36mmodelo_Min_TerminoPonderado_CPSAT\u001b[0;34m(N, p, w, d)\u001b[0m\n\u001b[1;32m    201\u001b[0m     \u001b[0maux\u001b[0m \u001b[0;34m=\u001b[0m \u001b[0;34m[\u001b[0m\u001b[0;34m]\u001b[0m\u001b[0;34m\u001b[0m\u001b[0;34m\u001b[0m\u001b[0m\n\u001b[1;32m    202\u001b[0m     \u001b[0;32mfor\u001b[0m \u001b[0mi\u001b[0m \u001b[0;32min\u001b[0m \u001b[0mrange\u001b[0m\u001b[0;34m(\u001b[0m\u001b[0mN\u001b[0m\u001b[0;34m)\u001b[0m\u001b[0;34m:\u001b[0m\u001b[0;34m\u001b[0m\u001b[0;34m\u001b[0m\u001b[0m\n\u001b[0;32m--> 203\u001b[0;31m         \u001b[0maux\u001b[0m\u001b[0;34m.\u001b[0m\u001b[0mappend\u001b[0m\u001b[0;34m(\u001b[0m\u001b[0;34m(\u001b[0m\u001b[0mi\u001b[0m\u001b[0;34m,\u001b[0m \u001b[0msolver\u001b[0m\u001b[0;34m.\u001b[0m\u001b[0mValue\u001b[0m\u001b[0;34m(\u001b[0m\u001b[0mx\u001b[0m\u001b[0;34m[\u001b[0m\u001b[0mi\u001b[0m\u001b[0;34m]\u001b[0m\u001b[0;34m)\u001b[0m\u001b[0;34m)\u001b[0m\u001b[0;34m)\u001b[0m\u001b[0;34m\u001b[0m\u001b[0;34m\u001b[0m\u001b[0m\n\u001b[0m\u001b[1;32m    204\u001b[0m     \u001b[0msolOrd\u001b[0m \u001b[0;34m=\u001b[0m \u001b[0msorted\u001b[0m\u001b[0;34m(\u001b[0m\u001b[0maux\u001b[0m\u001b[0;34m,\u001b[0m \u001b[0mkey\u001b[0m\u001b[0;34m=\u001b[0m\u001b[0;32mlambda\u001b[0m \u001b[0mtup\u001b[0m\u001b[0;34m:\u001b[0m \u001b[0mtup\u001b[0m\u001b[0;34m[\u001b[0m\u001b[0;36m1\u001b[0m\u001b[0;34m]\u001b[0m\u001b[0;34m)\u001b[0m\u001b[0;34m\u001b[0m\u001b[0;34m\u001b[0m\u001b[0m\n\u001b[1;32m    205\u001b[0m     \u001b[0mprint\u001b[0m\u001b[0;34m(\u001b[0m\u001b[0msolOrd\u001b[0m\u001b[0;34m)\u001b[0m\u001b[0;34m\u001b[0m\u001b[0;34m\u001b[0m\u001b[0m\n",
            "\u001b[0;32m/usr/local/lib/python3.7/dist-packages/ortools/sat/python/cp_model.py\u001b[0m in \u001b[0;36mValue\u001b[0;34m(self, expression)\u001b[0m\n\u001b[1;32m   1870\u001b[0m         \u001b[0;32mif\u001b[0m \u001b[0;32mnot\u001b[0m \u001b[0mself\u001b[0m\u001b[0;34m.\u001b[0m\u001b[0m__solution\u001b[0m\u001b[0;34m:\u001b[0m\u001b[0;34m\u001b[0m\u001b[0;34m\u001b[0m\u001b[0m\n\u001b[1;32m   1871\u001b[0m             \u001b[0;32mraise\u001b[0m \u001b[0mRuntimeError\u001b[0m\u001b[0;34m(\u001b[0m\u001b[0;34m'Solve() has not be called.'\u001b[0m\u001b[0;34m)\u001b[0m\u001b[0;34m\u001b[0m\u001b[0;34m\u001b[0m\u001b[0m\n\u001b[0;32m-> 1872\u001b[0;31m         \u001b[0;32mreturn\u001b[0m \u001b[0mEvaluateLinearExpr\u001b[0m\u001b[0;34m(\u001b[0m\u001b[0mexpression\u001b[0m\u001b[0;34m,\u001b[0m \u001b[0mself\u001b[0m\u001b[0;34m.\u001b[0m\u001b[0m__solution\u001b[0m\u001b[0;34m)\u001b[0m\u001b[0;34m\u001b[0m\u001b[0;34m\u001b[0m\u001b[0m\n\u001b[0m\u001b[1;32m   1873\u001b[0m \u001b[0;34m\u001b[0m\u001b[0m\n\u001b[1;32m   1874\u001b[0m     \u001b[0;32mdef\u001b[0m \u001b[0mBooleanValue\u001b[0m\u001b[0;34m(\u001b[0m\u001b[0mself\u001b[0m\u001b[0;34m,\u001b[0m \u001b[0mliteral\u001b[0m\u001b[0;34m)\u001b[0m\u001b[0;34m:\u001b[0m\u001b[0;34m\u001b[0m\u001b[0;34m\u001b[0m\u001b[0m\n",
            "\u001b[0;32m/usr/local/lib/python3.7/dist-packages/ortools/sat/python/cp_model.py\u001b[0m in \u001b[0;36mEvaluateLinearExpr\u001b[0;34m(expression, solution)\u001b[0m\n\u001b[1;32m   1760\u001b[0m             \u001b[0mvalue\u001b[0m \u001b[0;34m+=\u001b[0m \u001b[0mexpr\u001b[0m\u001b[0;34m.\u001b[0m\u001b[0mConstant\u001b[0m\u001b[0;34m(\u001b[0m\u001b[0;34m)\u001b[0m \u001b[0;34m*\u001b[0m \u001b[0mcoef\u001b[0m\u001b[0;34m\u001b[0m\u001b[0;34m\u001b[0m\u001b[0m\n\u001b[1;32m   1761\u001b[0m         \u001b[0;32melif\u001b[0m \u001b[0misinstance\u001b[0m\u001b[0;34m(\u001b[0m\u001b[0mexpr\u001b[0m\u001b[0;34m,\u001b[0m \u001b[0mIntVar\u001b[0m\u001b[0;34m)\u001b[0m\u001b[0;34m:\u001b[0m\u001b[0;34m\u001b[0m\u001b[0;34m\u001b[0m\u001b[0m\n\u001b[0;32m-> 1762\u001b[0;31m             \u001b[0mvalue\u001b[0m \u001b[0;34m+=\u001b[0m \u001b[0mcoef\u001b[0m \u001b[0;34m*\u001b[0m \u001b[0msolution\u001b[0m\u001b[0;34m.\u001b[0m\u001b[0msolution\u001b[0m\u001b[0;34m[\u001b[0m\u001b[0mexpr\u001b[0m\u001b[0;34m.\u001b[0m\u001b[0mIndex\u001b[0m\u001b[0;34m(\u001b[0m\u001b[0;34m)\u001b[0m\u001b[0;34m]\u001b[0m\u001b[0;34m\u001b[0m\u001b[0;34m\u001b[0m\u001b[0m\n\u001b[0m\u001b[1;32m   1763\u001b[0m         \u001b[0;32melif\u001b[0m \u001b[0misinstance\u001b[0m\u001b[0;34m(\u001b[0m\u001b[0mexpr\u001b[0m\u001b[0;34m,\u001b[0m \u001b[0m_NotBooleanVariable\u001b[0m\u001b[0;34m)\u001b[0m\u001b[0;34m:\u001b[0m\u001b[0;34m\u001b[0m\u001b[0;34m\u001b[0m\u001b[0m\n\u001b[1;32m   1764\u001b[0m             \u001b[0mvalue\u001b[0m \u001b[0;34m+=\u001b[0m \u001b[0mcoef\u001b[0m \u001b[0;34m*\u001b[0m \u001b[0;34m(\u001b[0m\u001b[0;36m1\u001b[0m \u001b[0;34m-\u001b[0m \u001b[0msolution\u001b[0m\u001b[0;34m.\u001b[0m\u001b[0msolution\u001b[0m\u001b[0;34m[\u001b[0m\u001b[0mexpr\u001b[0m\u001b[0;34m.\u001b[0m\u001b[0mNot\u001b[0m\u001b[0;34m(\u001b[0m\u001b[0;34m)\u001b[0m\u001b[0;34m.\u001b[0m\u001b[0mIndex\u001b[0m\u001b[0;34m(\u001b[0m\u001b[0;34m)\u001b[0m\u001b[0;34m]\u001b[0m\u001b[0;34m)\u001b[0m\u001b[0;34m\u001b[0m\u001b[0;34m\u001b[0m\u001b[0m\n",
            "\u001b[0;31mIndexError\u001b[0m: list index (0) out of range"
          ]
        }
      ]
    },
    {
      "cell_type": "code",
      "metadata": {
        "id": "BXm_9GyJfZhP",
        "colab": {
          "base_uri": "https://localhost:8080/",
          "height": 761
        },
        "outputId": "15b8c16b-e89e-4b91-c281-e96696c9b50c"
      },
      "source": [
        "# *********************** 100 TAREFAS CP-SAT ***************************\n",
        "# Leitura do arquivo com os dados\n",
        "# N (qtde tarefas), p (proc), w (peso), d (prazo) são as saídas da função leitura\n",
        "N, p, w, d = leitura(\"Instancia100.txt\")  \n",
        "\n",
        "print(\"===== CP-SAT =====\")\n",
        "modelo_Min_TerminoPonderado_CPSAT(N, p, w, d)"
      ],
      "execution_count": null,
      "outputs": [
        {
          "output_type": "stream",
          "text": [
            "===== CP-SAT =====\n",
            "Status:  UNKNOWN\n",
            "Função-objetivo:  807748.0\n",
            "Best Bound: 20868.0000\n",
            "Nós B&B:  6348809\n",
            "GAP: 0.9742\n",
            "CpSolverResponse summary:\n",
            "status: UNKNOWN\n",
            "objective: 807748\n",
            "best_bound: 20868\n",
            "booleans: 4950\n",
            "conflicts: 4324978\n",
            "branches: 6348809\n",
            "propagations: 700191715\n",
            "integer_propagations: 634909916\n",
            "restarts: 23543\n",
            "lp_iterations: 0\n",
            "walltime: 3600.05\n",
            "usertime: 3600.05\n",
            "deterministic_time: 1150.25\n",
            "primal_integral: 15615.5\n",
            "\n",
            "Lista de Alocação (tarefa, início):\n"
          ],
          "name": "stdout"
        },
        {
          "output_type": "error",
          "ename": "IndexError",
          "evalue": "ignored",
          "traceback": [
            "\u001b[0;31m---------------------------------------------------------------------------\u001b[0m",
            "\u001b[0;31mIndexError\u001b[0m                                Traceback (most recent call last)",
            "\u001b[0;32m<ipython-input-6-85fc47835643>\u001b[0m in \u001b[0;36m<module>\u001b[0;34m()\u001b[0m\n\u001b[1;32m      5\u001b[0m \u001b[0;34m\u001b[0m\u001b[0m\n\u001b[1;32m      6\u001b[0m \u001b[0mprint\u001b[0m\u001b[0;34m(\u001b[0m\u001b[0;34m\"===== CP-SAT =====\"\u001b[0m\u001b[0;34m)\u001b[0m\u001b[0;34m\u001b[0m\u001b[0;34m\u001b[0m\u001b[0m\n\u001b[0;32m----> 7\u001b[0;31m \u001b[0mmodelo_Min_TerminoPonderado_CPSAT\u001b[0m\u001b[0;34m(\u001b[0m\u001b[0mN\u001b[0m\u001b[0;34m,\u001b[0m \u001b[0mp\u001b[0m\u001b[0;34m,\u001b[0m \u001b[0mw\u001b[0m\u001b[0;34m,\u001b[0m \u001b[0md\u001b[0m\u001b[0;34m)\u001b[0m\u001b[0;34m\u001b[0m\u001b[0;34m\u001b[0m\u001b[0m\n\u001b[0m",
            "\u001b[0;32m<ipython-input-3-74e956f26469>\u001b[0m in \u001b[0;36mmodelo_Min_TerminoPonderado_CPSAT\u001b[0;34m(N, p, w, d)\u001b[0m\n\u001b[1;32m    201\u001b[0m     \u001b[0maux\u001b[0m \u001b[0;34m=\u001b[0m \u001b[0;34m[\u001b[0m\u001b[0;34m]\u001b[0m\u001b[0;34m\u001b[0m\u001b[0;34m\u001b[0m\u001b[0m\n\u001b[1;32m    202\u001b[0m     \u001b[0;32mfor\u001b[0m \u001b[0mi\u001b[0m \u001b[0;32min\u001b[0m \u001b[0mrange\u001b[0m\u001b[0;34m(\u001b[0m\u001b[0mN\u001b[0m\u001b[0;34m)\u001b[0m\u001b[0;34m:\u001b[0m\u001b[0;34m\u001b[0m\u001b[0;34m\u001b[0m\u001b[0m\n\u001b[0;32m--> 203\u001b[0;31m         \u001b[0maux\u001b[0m\u001b[0;34m.\u001b[0m\u001b[0mappend\u001b[0m\u001b[0;34m(\u001b[0m\u001b[0;34m(\u001b[0m\u001b[0mi\u001b[0m\u001b[0;34m,\u001b[0m \u001b[0msolver\u001b[0m\u001b[0;34m.\u001b[0m\u001b[0mValue\u001b[0m\u001b[0;34m(\u001b[0m\u001b[0mx\u001b[0m\u001b[0;34m[\u001b[0m\u001b[0mi\u001b[0m\u001b[0;34m]\u001b[0m\u001b[0;34m)\u001b[0m\u001b[0;34m)\u001b[0m\u001b[0;34m)\u001b[0m\u001b[0;34m\u001b[0m\u001b[0;34m\u001b[0m\u001b[0m\n\u001b[0m\u001b[1;32m    204\u001b[0m     \u001b[0msolOrd\u001b[0m \u001b[0;34m=\u001b[0m \u001b[0msorted\u001b[0m\u001b[0;34m(\u001b[0m\u001b[0maux\u001b[0m\u001b[0;34m,\u001b[0m \u001b[0mkey\u001b[0m\u001b[0;34m=\u001b[0m\u001b[0;32mlambda\u001b[0m \u001b[0mtup\u001b[0m\u001b[0;34m:\u001b[0m \u001b[0mtup\u001b[0m\u001b[0;34m[\u001b[0m\u001b[0;36m1\u001b[0m\u001b[0;34m]\u001b[0m\u001b[0;34m)\u001b[0m\u001b[0;34m\u001b[0m\u001b[0;34m\u001b[0m\u001b[0m\n\u001b[1;32m    205\u001b[0m     \u001b[0mprint\u001b[0m\u001b[0;34m(\u001b[0m\u001b[0msolOrd\u001b[0m\u001b[0;34m)\u001b[0m\u001b[0;34m\u001b[0m\u001b[0;34m\u001b[0m\u001b[0m\n",
            "\u001b[0;32m/usr/local/lib/python3.7/dist-packages/ortools/sat/python/cp_model.py\u001b[0m in \u001b[0;36mValue\u001b[0;34m(self, expression)\u001b[0m\n\u001b[1;32m   1870\u001b[0m         \u001b[0;32mif\u001b[0m \u001b[0;32mnot\u001b[0m \u001b[0mself\u001b[0m\u001b[0;34m.\u001b[0m\u001b[0m__solution\u001b[0m\u001b[0;34m:\u001b[0m\u001b[0;34m\u001b[0m\u001b[0;34m\u001b[0m\u001b[0m\n\u001b[1;32m   1871\u001b[0m             \u001b[0;32mraise\u001b[0m \u001b[0mRuntimeError\u001b[0m\u001b[0;34m(\u001b[0m\u001b[0;34m'Solve() has not be called.'\u001b[0m\u001b[0;34m)\u001b[0m\u001b[0;34m\u001b[0m\u001b[0;34m\u001b[0m\u001b[0m\n\u001b[0;32m-> 1872\u001b[0;31m         \u001b[0;32mreturn\u001b[0m \u001b[0mEvaluateLinearExpr\u001b[0m\u001b[0;34m(\u001b[0m\u001b[0mexpression\u001b[0m\u001b[0;34m,\u001b[0m \u001b[0mself\u001b[0m\u001b[0;34m.\u001b[0m\u001b[0m__solution\u001b[0m\u001b[0;34m)\u001b[0m\u001b[0;34m\u001b[0m\u001b[0;34m\u001b[0m\u001b[0m\n\u001b[0m\u001b[1;32m   1873\u001b[0m \u001b[0;34m\u001b[0m\u001b[0m\n\u001b[1;32m   1874\u001b[0m     \u001b[0;32mdef\u001b[0m \u001b[0mBooleanValue\u001b[0m\u001b[0;34m(\u001b[0m\u001b[0mself\u001b[0m\u001b[0;34m,\u001b[0m \u001b[0mliteral\u001b[0m\u001b[0;34m)\u001b[0m\u001b[0;34m:\u001b[0m\u001b[0;34m\u001b[0m\u001b[0;34m\u001b[0m\u001b[0m\n",
            "\u001b[0;32m/usr/local/lib/python3.7/dist-packages/ortools/sat/python/cp_model.py\u001b[0m in \u001b[0;36mEvaluateLinearExpr\u001b[0;34m(expression, solution)\u001b[0m\n\u001b[1;32m   1760\u001b[0m             \u001b[0mvalue\u001b[0m \u001b[0;34m+=\u001b[0m \u001b[0mexpr\u001b[0m\u001b[0;34m.\u001b[0m\u001b[0mConstant\u001b[0m\u001b[0;34m(\u001b[0m\u001b[0;34m)\u001b[0m \u001b[0;34m*\u001b[0m \u001b[0mcoef\u001b[0m\u001b[0;34m\u001b[0m\u001b[0;34m\u001b[0m\u001b[0m\n\u001b[1;32m   1761\u001b[0m         \u001b[0;32melif\u001b[0m \u001b[0misinstance\u001b[0m\u001b[0;34m(\u001b[0m\u001b[0mexpr\u001b[0m\u001b[0;34m,\u001b[0m \u001b[0mIntVar\u001b[0m\u001b[0;34m)\u001b[0m\u001b[0;34m:\u001b[0m\u001b[0;34m\u001b[0m\u001b[0;34m\u001b[0m\u001b[0m\n\u001b[0;32m-> 1762\u001b[0;31m             \u001b[0mvalue\u001b[0m \u001b[0;34m+=\u001b[0m \u001b[0mcoef\u001b[0m \u001b[0;34m*\u001b[0m \u001b[0msolution\u001b[0m\u001b[0;34m.\u001b[0m\u001b[0msolution\u001b[0m\u001b[0;34m[\u001b[0m\u001b[0mexpr\u001b[0m\u001b[0;34m.\u001b[0m\u001b[0mIndex\u001b[0m\u001b[0;34m(\u001b[0m\u001b[0;34m)\u001b[0m\u001b[0;34m]\u001b[0m\u001b[0;34m\u001b[0m\u001b[0;34m\u001b[0m\u001b[0m\n\u001b[0m\u001b[1;32m   1763\u001b[0m         \u001b[0;32melif\u001b[0m \u001b[0misinstance\u001b[0m\u001b[0;34m(\u001b[0m\u001b[0mexpr\u001b[0m\u001b[0;34m,\u001b[0m \u001b[0m_NotBooleanVariable\u001b[0m\u001b[0;34m)\u001b[0m\u001b[0;34m:\u001b[0m\u001b[0;34m\u001b[0m\u001b[0;34m\u001b[0m\u001b[0m\n\u001b[1;32m   1764\u001b[0m             \u001b[0mvalue\u001b[0m \u001b[0;34m+=\u001b[0m \u001b[0mcoef\u001b[0m \u001b[0;34m*\u001b[0m \u001b[0;34m(\u001b[0m\u001b[0;36m1\u001b[0m \u001b[0;34m-\u001b[0m \u001b[0msolution\u001b[0m\u001b[0;34m.\u001b[0m\u001b[0msolution\u001b[0m\u001b[0;34m[\u001b[0m\u001b[0mexpr\u001b[0m\u001b[0;34m.\u001b[0m\u001b[0mNot\u001b[0m\u001b[0;34m(\u001b[0m\u001b[0;34m)\u001b[0m\u001b[0;34m.\u001b[0m\u001b[0mIndex\u001b[0m\u001b[0;34m(\u001b[0m\u001b[0;34m)\u001b[0m\u001b[0;34m]\u001b[0m\u001b[0;34m)\u001b[0m\u001b[0;34m\u001b[0m\u001b[0;34m\u001b[0m\u001b[0m\n",
            "\u001b[0;31mIndexError\u001b[0m: list index (0) out of range"
          ]
        }
      ]
    },
    {
      "cell_type": "code",
      "metadata": {
        "colab": {
          "base_uri": "https://localhost:8080/"
        },
        "id": "BmNDcgqwBS4a",
        "outputId": "95dbe169-ee05-4465-e8ac-dfe275813145"
      },
      "source": [
        "# *********************** 10 TAREFAS CBC ***************************\n",
        "# Leitura do arquivo com os dados\n",
        "# N (qtde tarefas), p (proc), w (peso), d (prazo) são as saídas da função leitura\n",
        "N, p, w, d = leitura(\"instancia10_.txt\")\n",
        "\n",
        "print(\"===== CBC =====\")\n",
        "modelo_Min_TerminoPonderado_CBC(N, p, w, d)"
      ],
      "execution_count": null,
      "outputs": [
        {
          "output_type": "stream",
          "text": [
            "===== CBC =====\n",
            "Status:  0\n",
            "Número de Variáveis:  55\n",
            "Número de Restrições:  100\n",
            "Tempo de execução (s): 2.9920\n",
            "Nós B&B:  219\n",
            "Função-objetivo:  17481.0\n",
            "Best Bound: 17481.0000\n",
            "GAP: 0.0000\n",
            "Lista de Alocação (tarefa, início):\n",
            "[(2, 0.0), (7, 79.0), (9, 133.0), (3, 198.0), (0, 253.0), (5, 306.0), (6, 379.0), (4, 507.0), (1, 644.0), (8, 785.0)]\n",
            "\n"
          ],
          "name": "stdout"
        }
      ]
    },
    {
      "cell_type": "code",
      "metadata": {
        "colab": {
          "base_uri": "https://localhost:8080/"
        },
        "id": "2OslGiK0BXco",
        "outputId": "b4751639-c306-47ad-c0ca-e47d44be631d"
      },
      "source": [
        "# *********************** 20 TAREFAS CBC ***************************\n",
        "# Leitura do arquivo com os dados\n",
        "# N (qtde tarefas), p (proc), w (peso), d (prazo) são as saídas da função leitura\n",
        "N, p, w, d = leitura(\"Instancia20.txt\")\n",
        "\n",
        "print(\"===== CBC =====\")\n",
        "modelo_Min_TerminoPonderado_CBC(N, p, w, d)"
      ],
      "execution_count": null,
      "outputs": [
        {
          "output_type": "stream",
          "text": [
            "===== CBC =====\n",
            "Status:  6\n",
            "Número de Variáveis:  210\n",
            "Número de Restrições:  400\n",
            "Tempo de execução (s): 3651.1570\n",
            "Nós B&B:  475883\n",
            "Função-objetivo:  0.0\n",
            "Best Bound: 1155.7081\n",
            "GAP: -1.0000\n",
            "Lista de Alocação (tarefa, início):\n",
            "[(0, 0.0), (1, 0.0), (2, 0.0), (3, 0.0), (4, 0.0), (5, 0.0), (6, 0.0), (7, 0.0), (8, 0.0), (9, 0.0), (10, 0.0), (11, 0.0), (12, 0.0), (13, 0.0), (14, 0.0), (15, 0.0), (16, 0.0), (17, 0.0), (18, 0.0), (19, 0.0)]\n",
            "\n"
          ],
          "name": "stdout"
        }
      ]
    },
    {
      "cell_type": "code",
      "metadata": {
        "colab": {
          "base_uri": "https://localhost:8080/"
        },
        "id": "MQhquqX9Ba-U",
        "outputId": "3b24585d-9e5a-4b0c-d4d8-56bb34f45be9"
      },
      "source": [
        "# *********************** 100 TAREFAS CBC ***************************\n",
        "# Leitura do arquivo com os dados\n",
        "# N (qtde tarefas), p (proc), w (peso), d (prazo) são as saídas da função leitura\n",
        "N, p, w, d = leitura(\"Instancia100.txt\")\n",
        "\n",
        "print(\"===== CBC =====\")\n",
        "modelo_Min_TerminoPonderado_CBC(N, p, w, d)"
      ],
      "execution_count": null,
      "outputs": [
        {
          "output_type": "stream",
          "text": [
            "===== CBC =====\n",
            "Status:  6\n",
            "Número de Variáveis:  5050\n",
            "Número de Restrições:  10000\n",
            "Tempo de execução (s): 3781.9360\n",
            "Nós B&B:  11057\n",
            "Função-objetivo:  0.0\n",
            "Best Bound: 23511.5943\n",
            "GAP: -1.0000\n",
            "Lista de Alocação (tarefa, início):\n",
            "[(0, 0.0), (1, 0.0), (2, 0.0), (3, 0.0), (4, 0.0), (5, 0.0), (6, 0.0), (7, 0.0), (8, 0.0), (9, 0.0), (10, 0.0), (11, 0.0), (12, 0.0), (13, 0.0), (14, 0.0), (15, 0.0), (16, 0.0), (17, 0.0), (18, 0.0), (19, 0.0), (20, 0.0), (21, 0.0), (22, 0.0), (23, 0.0), (24, 0.0), (25, 0.0), (26, 0.0), (27, 0.0), (28, 0.0), (29, 0.0), (30, 0.0), (31, 0.0), (32, 0.0), (33, 0.0), (34, 0.0), (35, 0.0), (36, 0.0), (37, 0.0), (38, 0.0), (39, 0.0), (40, 0.0), (41, 0.0), (42, 0.0), (43, 0.0), (44, 0.0), (45, 0.0), (46, 0.0), (47, 0.0), (48, 0.0), (49, 0.0), (50, 0.0), (51, 0.0), (52, 0.0), (53, 0.0), (54, 0.0), (55, 0.0), (56, 0.0), (57, 0.0), (58, 0.0), (59, 0.0), (60, 0.0), (61, 0.0), (62, 0.0), (63, 0.0), (64, 0.0), (65, 0.0), (66, 0.0), (67, 0.0), (68, 0.0), (69, 0.0), (70, 0.0), (71, 0.0), (72, 0.0), (73, 0.0), (74, 0.0), (75, 0.0), (76, 0.0), (77, 0.0), (78, 0.0), (79, 0.0), (80, 0.0), (81, 0.0), (82, 0.0), (83, 0.0), (84, 0.0), (85, 0.0), (86, 0.0), (87, 0.0), (88, 0.0), (89, 0.0), (90, 0.0), (91, 0.0), (92, 0.0), (93, 0.0), (94, 0.0), (95, 0.0), (96, 0.0), (97, 0.0), (98, 0.0), (99, 0.0)]\n",
            "\n"
          ],
          "name": "stdout"
        }
      ]
    }
  ]
}