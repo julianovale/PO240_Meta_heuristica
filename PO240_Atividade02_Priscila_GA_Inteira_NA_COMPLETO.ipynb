{
  "nbformat": 4,
  "nbformat_minor": 0,
  "metadata": {
    "colab": {
      "name": "PO240_Atividade02_Priscila_GA_Inteira_NA_COMPLETO.ipynb",
      "provenance": [],
      "collapsed_sections": [],
      "include_colab_link": true
    },
    "kernelspec": {
      "display_name": "Python 3",
      "language": "python",
      "name": "python3"
    },
    "language_info": {
      "codemirror_mode": {
        "name": "ipython",
        "version": 3
      },
      "file_extension": ".py",
      "mimetype": "text/x-python",
      "name": "python",
      "nbconvert_exporter": "python",
      "pygments_lexer": "ipython3",
      "version": "3.7.6"
    },
    "accelerator": "TPU"
  },
  "cells": [
    {
      "cell_type": "markdown",
      "metadata": {
        "id": "view-in-github",
        "colab_type": "text"
      },
      "source": [
        "<a href=\"https://colab.research.google.com/github/julianovale/PO240_Meta_heuristica/blob/main/PO240_Atividade02_Priscila_GA_Inteira_NA_COMPLETO.ipynb\" target=\"_parent\"><img src=\"https://colab.research.google.com/assets/colab-badge.svg\" alt=\"Open In Colab\"/></a>"
      ]
    },
    {
      "cell_type": "code",
      "metadata": {
        "colab": {
          "resources": {
            "http://localhost:8080/nbextensions/google.colab/files.js": {
              "data": "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",
              "ok": true,
              "headers": [
                [
                  "content-type",
                  "application/javascript"
                ]
              ],
              "status": 200,
              "status_text": ""
            }
          },
          "base_uri": "https://localhost:8080/",
          "height": 73
        },
        "id": "x8Dd82zJBRLX",
        "outputId": "bcd8326e-fdd9-4ce8-9e71-001c459f52af"
      },
      "source": [
        "from google.colab import files\n",
        "uploaded = files.upload() # subir arquivo Instancia"
      ],
      "execution_count": null,
      "outputs": [
        {
          "output_type": "display_data",
          "data": {
            "text/html": [
              "\n",
              "     <input type=\"file\" id=\"files-5651295f-e340-4d88-876f-62e751c15671\" name=\"files[]\" multiple disabled\n",
              "        style=\"border:none\" />\n",
              "     <output id=\"result-5651295f-e340-4d88-876f-62e751c15671\">\n",
              "      Upload widget is only available when the cell has been executed in the\n",
              "      current browser session. Please rerun this cell to enable.\n",
              "      </output>\n",
              "      <script src=\"/nbextensions/google.colab/files.js\"></script> "
            ],
            "text/plain": [
              "<IPython.core.display.HTML object>"
            ]
          },
          "metadata": {
            "tags": []
          }
        },
        {
          "output_type": "stream",
          "text": [
            "Saving Instancia100.txt to Instancia100.txt\n"
          ],
          "name": "stdout"
        }
      ]
    },
    {
      "cell_type": "markdown",
      "metadata": {
        "id": "6MJ6lPGZnct2"
      },
      "source": [
        "# Valendo"
      ]
    },
    {
      "cell_type": "code",
      "metadata": {
        "id": "uVf_fojrna_b"
      },
      "source": [
        "# importações\n",
        "%matplotlib inline\n",
        "import matplotlib.pyplot as plt\n",
        "import random \n",
        "from random import choice\n",
        "from random import seed\n",
        "import numpy as np\n",
        "import time \n",
        "import copy\n",
        "import imageio\n",
        "import os\n",
        "from google.colab import files\n",
        "\n",
        "def leitura(arquivo):\n",
        "  arq = open(arquivo, \"r\") # r- read\n",
        "  lixo = arq.readline()  # linha com texto Number of jobs\n",
        "  linha = arq.readline() # linha com número de tarefas\n",
        "  N = int(linha)         # linha com o número de tarefas\n",
        "  p = np.zeros(N)  # p = [p0, p1,..., p(N-1)]\n",
        "  w = np.zeros(N)\n",
        "  d = np.zeros(N)\n",
        "  lixo = arq.readline()  # linha com texto Job data \n",
        "  for i in range(N):  # repetir N vezes\n",
        "      # i-ésima linha\n",
        "      linha = arq.readline().split()  # posições: 0-indice, 1-p, 2-w, 3-d\n",
        "      p[i] = int(linha[1])\n",
        "      w[i] = int(linha[2])\n",
        "      d[i] = int(linha[3])\n",
        "  return N, p, w, d  \n",
        "\n",
        "# inicializa população aleatoriamente\n",
        "# cada individuo da populacao terá o seguinte formato:\n",
        "# [[individuo], [lista com xi], funojb]\n",
        "# para cada indivíduo i\n",
        "# populacao[i][0]  para acessar o indivíduo (codificação real ou inteira)\n",
        "# populacao[i][1]  para acessar a variável de decisão xi\n",
        "# populacao[i][2]  para acessar a função-objetivo\n",
        "\n",
        "def inicializaPopulacao(TP, N):\n",
        "  populacao = []\n",
        "  for i in range(TP):   # para cada individuo [lista] da populacao \n",
        "      lista = []\n",
        "      todos = list(range(N))   # lista com todas as tarefas\n",
        "      for j in range(N):                      # para cada posição do individuo\n",
        "          aleatorio = choice(todos)           # escolher uma tarefa aleatoria \n",
        "          lista.append(aleatorio)             # adicionar à lista\n",
        "          todos.remove(aleatorio)             # remover da lista auxiliar para não ocorrer repetição\n",
        "      # alocar espaço para a variável de decisão\n",
        "      # função-objetivo zerada\n",
        "      x = [0]*N\n",
        "      populacao.append([lista, x, 0])   # incluir o individuo completo na populacao\n",
        "  return populacao\n",
        "\n",
        "def decodificaXi(populacao, p, N):\n",
        "  for i in range(len(populacao)):\n",
        "    for j in range(len(populacao[0])-2):\n",
        "      for k in range(len(p)):\n",
        "        populacao[i][1] = [0]*N\n",
        "        if (k == 0):\n",
        "          populacao[i][1][k] = 0\n",
        "        else:\n",
        "          temp = 0\n",
        "          for k in range(len(populacao[0][1])-1):\n",
        "            temp = temp + p[populacao[i][j][k]]\n",
        "            populacao[i][1][k+1] = temp\n",
        "  return populacao\n",
        "        \n",
        "def calculaFO(decod_xi, p, w, d, M, TP):\n",
        "  for i in range(TP):\n",
        "    temp = 0\n",
        "    for j in range(len(decod_xi[i][0])):\n",
        "      temp = temp + w[decod_xi[i][0][j]]*(decod_xi[i][1][j]+p[decod_xi[i][0][j]])+M*max(0,decod_xi[i][1][j]+p[decod_xi[i][0][j]]-d[decod_xi[i][0][j]])\n",
        "      decod_xi[i][2] = temp\n",
        "  return decod_xi\n",
        "\n",
        "def torneioBinario(populacao, TP):\n",
        "  paisSelecionados = []\n",
        "\n",
        "  todos = list(range(TP))\n",
        "  for i in range(TP):\n",
        "    indAleat1 = random.choice(todos)\n",
        "    indAleat2 = random.choice(todos)\n",
        "    while (indAleat1 == indAleat2):\n",
        "      indAleat2 = random.choice(todos)\n",
        "\n",
        "    if (populacao[indAleat1][2] < populacao[indAleat2][2]):\n",
        "      paiSelecionado = copy.deepcopy(populacao[indAleat1])\n",
        "    else:\n",
        "      paiSelecionado = copy.deepcopy(populacao[indAleat2])\n",
        "\n",
        "    paisSelecionados.append(paiSelecionado)\n",
        "  return paisSelecionados\n",
        "\n",
        "def crossover(paisSelecionados, TP, N):\n",
        "  # paisSelecionados = [[[0,1,0,1,0], x, fitness]],[],[]]\n",
        "  PC = 0.95\n",
        "  filhos = []\n",
        "\n",
        "  for i in range(TP//2): # 2 pais geram 2 filhos\n",
        "    doisPais = random.sample(paisSelecionados, 2) \n",
        "    aleatorio = random.random() # entre 0 e 1\n",
        "    if aleatorio <= PC: # crossover acontece\n",
        "      ponto = random.randint(1, N-1)\n",
        "      filho1 = doisPais[0][0][:ponto] + [item for item in doisPais[1][0][:] if item not in doisPais[0][0][:ponto]]\n",
        "      filho2 = doisPais[1][0][:ponto] + [item for item in doisPais[0][0][:] if item not in doisPais[1][0][:ponto]]\n",
        "    else:\n",
        "      filho1 = doisPais[0][0]\n",
        "      filho2 = doisPais[1][0]\n",
        "    filhos.append([filho1, 0, 0])\n",
        "    filhos.append([filho2, 0, 0])\n",
        "  return filhos\n",
        "\n",
        "def mutacao(filhos, TP, N):\n",
        "  PM = 0.1\n",
        "  for i in range(len(filhos)):\n",
        "    aleatorio = random.random()\n",
        "    escolha = list(range(N))\n",
        "    if aleatorio <= PM:\n",
        "      swap1 = random.choice(escolha)\n",
        "      swap2 = random.choice(escolha)\n",
        "      a = filhos[i][0][swap1]\n",
        "      b = filhos[i][0][swap2]\n",
        "      filhos[i][0][swap1] = b\n",
        "      filhos[i][0][swap2] = a\n",
        "  return filhos\n",
        "\n",
        "def main():\n",
        "  # constantes\n",
        "  TP = 50   # tamanho da população\n",
        "  G = 100     # número de gerações\n",
        "  seed() #inicia a semente dos número pseudo randômicos\n",
        "  \n",
        "  # leitura\n",
        "  N, p, w, d = leitura(\"instancia10_.txt\") ### ALTERAR!!!\n",
        "  \n",
        "  inicio = time.time()  # começa a contar o tempo\n",
        "  \n",
        "  # Inicializa Populacao \n",
        "  populacao = inicializaPopulacao(TP, N)\n",
        "\n",
        "  # Decodifica para obter xi \n",
        "  decod_xi = decodificaXi(populacao, p, N)\n",
        "\n",
        "  # Calcula a função objetivo penalizada  \n",
        "  M = 2*sum(p)\n",
        "  populacao = calculaFO(decod_xi, p, w, d, M, TP)\n",
        "\n",
        "  hist_res = []\n",
        "\n",
        "  for g in range(G):\n",
        "    # seleciona pares de pais aleatoriamente\n",
        "    paisSelecionados = torneioBinario(populacao, TP)\n",
        "    \n",
        "    # crossover\n",
        "    filhos = crossover(paisSelecionados, TP, N)\n",
        "\n",
        "    # mutação\n",
        "    filhos = mutacao(filhos, TP, N)\n",
        "\n",
        "    # com filhos: Decodifica para obter xi\n",
        "    filhos_xi = decodificaXi(filhos, p, N)\n",
        "\n",
        "    # com filhos: Calcula a função objetivo penalizada   \n",
        "    M = 2*sum(p)\n",
        "    filhos = calculaFO(filhos_xi, p, w, d, M, TP)\n",
        "\n",
        "    # populacao próxima geração, seleção: pais e filho\n",
        "    mista = populacao + filhos \n",
        "    mistaOrd = sorted(mista, key=lambda x: x[2]) # se maximização reverse = True\n",
        "    populacao = mistaOrd[:TP]\n",
        "    hist_res.append(populacao[0][2])\n",
        "\n",
        "  fim = time.time()  \n",
        "  print(\"Tempo de execução (s): \", fim - inicio)\n",
        "\n",
        "  return populacao[0], hist_res"
      ],
      "execution_count": null,
      "outputs": []
    },
    {
      "cell_type": "code",
      "metadata": {
        "colab": {
          "base_uri": "https://localhost:8080/"
        },
        "id": "UIztBf-foP03",
        "outputId": "ac33be4e-a7ec-42c0-a672-5df682794a47"
      },
      "source": [
        "solucao, hist_res = main()\n",
        "print(solucao)\n",
        "print(hist_res)"
      ],
      "execution_count": null,
      "outputs": [
        {
          "output_type": "stream",
          "text": [
            "Tempo de execução (s):  0.586918830871582\n",
            "[[2, 7, 9, 3, 0, 5, 6, 4, 1, 8], [0, 79.0, 133.0, 198.0, 253.0, 306.0, 379.0, 507.0, 644.0, 785.0], 17481.0]\n",
            "[372563.0, 370476.0, 370476.0, 368487.0, 119654.0, 105948.0, 105948.0, 26835.0, 26835.0, 18284.0, 18284.0, 18284.0, 18284.0, 18284.0, 17676.0, 17676.0, 17676.0, 17676.0, 17676.0, 17676.0, 17676.0, 17481.0, 17481.0, 17481.0, 17481.0, 17481.0, 17481.0, 17481.0, 17481.0, 17481.0, 17481.0, 17481.0, 17481.0, 17481.0, 17481.0, 17481.0, 17481.0, 17481.0, 17481.0, 17481.0, 17481.0, 17481.0, 17481.0, 17481.0, 17481.0, 17481.0, 17481.0, 17481.0, 17481.0, 17481.0, 17481.0, 17481.0, 17481.0, 17481.0, 17481.0, 17481.0, 17481.0, 17481.0, 17481.0, 17481.0, 17481.0, 17481.0, 17481.0, 17481.0, 17481.0, 17481.0, 17481.0, 17481.0, 17481.0, 17481.0, 17481.0, 17481.0, 17481.0, 17481.0, 17481.0, 17481.0, 17481.0, 17481.0, 17481.0, 17481.0, 17481.0, 17481.0, 17481.0, 17481.0, 17481.0, 17481.0, 17481.0, 17481.0, 17481.0, 17481.0, 17481.0, 17481.0, 17481.0, 17481.0, 17481.0, 17481.0, 17481.0, 17481.0, 17481.0, 17481.0]\n"
          ],
          "name": "stdout"
        }
      ]
    },
    {
      "cell_type": "code",
      "metadata": {
        "colab": {
          "base_uri": "https://localhost:8080/",
          "height": 264
        },
        "id": "Ziq0SwFSoUah",
        "outputId": "32d1e288-25a6-4c44-cece-ef3d51a2b8cc"
      },
      "source": [
        "plt.plot(range(len(hist_res)),hist_res);"
      ],
      "execution_count": null,
      "outputs": [
        {
          "output_type": "display_data",
          "data": {
            "image/png": "[encoded data removed]",
            "text/plain": [
              "<Figure size 432x288 with 1 Axes>"
            ]
          },
          "metadata": {
            "tags": [],
            "needs_background": "light"
          }
        }
      ]
    },
    {
      "cell_type": "code",
      "metadata": {
        "id": "Vb_LL8cMpCBM"
      },
      "source": [
        "# importações\n",
        "%matplotlib inline\n",
        "import matplotlib.pyplot as plt\n",
        "import random \n",
        "from random import choice\n",
        "from random import seed\n",
        "import numpy as np\n",
        "import time \n",
        "import copy\n",
        "import imageio\n",
        "import os\n",
        "from google.colab import files\n",
        "\n",
        "def leitura(arquivo):\n",
        "  arq = open(arquivo, \"r\") # r- read\n",
        "  lixo = arq.readline()  # linha com texto Number of jobs\n",
        "  linha = arq.readline() # linha com número de tarefas\n",
        "  N = int(linha)         # linha com o número de tarefas\n",
        "  p = np.zeros(N)  # p = [p0, p1,..., p(N-1)]\n",
        "  w = np.zeros(N)\n",
        "  d = np.zeros(N)\n",
        "  lixo = arq.readline()  # linha com texto Job data \n",
        "  for i in range(N):  # repetir N vezes\n",
        "      # i-ésima linha\n",
        "      linha = arq.readline().split()  # posições: 0-indice, 1-p, 2-w, 3-d\n",
        "      p[i] = int(linha[1])\n",
        "      w[i] = int(linha[2])\n",
        "      d[i] = int(linha[3])\n",
        "  return N, p, w, d  \n",
        "\n",
        "# inicializa população aleatoriamente\n",
        "# cada individuo da populacao terá o seguinte formato:\n",
        "# [[individuo], [lista com xi], funojb]\n",
        "# para cada indivíduo i\n",
        "# populacao[i][0]  para acessar o indivíduo (codificação real ou inteira)\n",
        "# populacao[i][1]  para acessar a variável de decisão xi\n",
        "# populacao[i][2]  para acessar a função-objetivo\n",
        "\n",
        "def inicializaPopulacao(TP, N):\n",
        "  populacao = []\n",
        "  for i in range(TP):   # para cada individuo [lista] da populacao \n",
        "      lista = []\n",
        "      todos = list(range(N))   # lista com todas as tarefas\n",
        "      for j in range(N):                      # para cada posição do individuo\n",
        "          aleatorio = choice(todos)           # escolher uma tarefa aleatoria \n",
        "          lista.append(aleatorio)             # adicionar à lista\n",
        "          todos.remove(aleatorio)             # remover da lista auxiliar para não ocorrer repetição\n",
        "      # alocar espaço para a variável de decisão\n",
        "      # função-objetivo zerada\n",
        "      x = [0]*N\n",
        "      populacao.append([lista, x, 0])   # incluir o individuo completo na populacao\n",
        "  return populacao\n",
        "\n",
        "def decodificaXi(populacao, p, N):\n",
        "  for i in range(len(populacao)):\n",
        "    for j in range(len(populacao[0])-2):\n",
        "      for k in range(len(p)):\n",
        "        populacao[i][1] = [0]*N\n",
        "        if (k == 0):\n",
        "          populacao[i][1][k] = 0\n",
        "        else:\n",
        "          temp = 0\n",
        "          for k in range(len(populacao[0][1])-1):\n",
        "            temp = temp + p[populacao[i][j][k]]\n",
        "            populacao[i][1][k+1] = temp\n",
        "  return populacao\n",
        "        \n",
        "def calculaFO(decod_xi, p, w, d, M, TP):\n",
        "  for i in range(TP):\n",
        "    temp = 0\n",
        "    for j in range(len(decod_xi[i][0])):\n",
        "      temp = temp + w[decod_xi[i][0][j]]*(decod_xi[i][1][j]+p[decod_xi[i][0][j]])+M*max(0,decod_xi[i][1][j]+p[decod_xi[i][0][j]]-d[decod_xi[i][0][j]])\n",
        "      decod_xi[i][2] = temp\n",
        "  return decod_xi\n",
        "\n",
        "def torneioBinario(populacao, TP):\n",
        "  paisSelecionados = []\n",
        "\n",
        "  todos = list(range(TP))\n",
        "  for i in range(TP):\n",
        "    indAleat1 = random.choice(todos)\n",
        "    indAleat2 = random.choice(todos)\n",
        "    while (indAleat1 == indAleat2):\n",
        "      indAleat2 = random.choice(todos)\n",
        "\n",
        "    if (populacao[indAleat1][2] < populacao[indAleat2][2]):\n",
        "      paiSelecionado = copy.deepcopy(populacao[indAleat1])\n",
        "    else:\n",
        "      paiSelecionado = copy.deepcopy(populacao[indAleat2])\n",
        "\n",
        "    paisSelecionados.append(paiSelecionado)\n",
        "  return paisSelecionados\n",
        "\n",
        "def crossover(paisSelecionados, TP, N):\n",
        "  # paisSelecionados = [[[0,1,0,1,0], x, fitness]],[],[]]\n",
        "  PC = 0.95\n",
        "  filhos = []\n",
        "\n",
        "  for i in range(TP//2): # 2 pais geram 2 filhos\n",
        "    doisPais = random.sample(paisSelecionados, 2) \n",
        "    aleatorio = random.random() # entre 0 e 1\n",
        "    if aleatorio <= PC: # crossover acontece\n",
        "      ponto = random.randint(1, N-1)\n",
        "      filho1 = doisPais[0][0][:ponto] + [item for item in doisPais[1][0][:] if item not in doisPais[0][0][:ponto]]\n",
        "      filho2 = doisPais[1][0][:ponto] + [item for item in doisPais[0][0][:] if item not in doisPais[1][0][:ponto]]\n",
        "    else:\n",
        "      filho1 = doisPais[0][0]\n",
        "      filho2 = doisPais[1][0]\n",
        "    filhos.append([filho1, 0, 0])\n",
        "    filhos.append([filho2, 0, 0])\n",
        "  return filhos\n",
        "\n",
        "def mutacao(filhos, TP, N):\n",
        "  PM = 0.1\n",
        "  for i in range(len(filhos)):\n",
        "    aleatorio = random.random()\n",
        "    escolha = list(range(N))\n",
        "    if aleatorio <= PM:\n",
        "      swap1 = random.choice(escolha)\n",
        "      swap2 = random.choice(escolha)\n",
        "      a = filhos[i][0][swap1]\n",
        "      b = filhos[i][0][swap2]\n",
        "      filhos[i][0][swap1] = b\n",
        "      filhos[i][0][swap2] = a\n",
        "  return filhos\n",
        "\n",
        "def main():\n",
        "  # constantes\n",
        "  TP = 50  # tamanho da população\n",
        "  G = 100     # número de gerações\n",
        "  seed() #inicia a semente dos número pseudo randômicos\n",
        "  \n",
        "  # leitura\n",
        "  N, p, w, d = leitura(\"Instancia20.txt\") ### ALTERAR!!!\n",
        "  \n",
        "  inicio = time.time()  # começa a contar o tempo\n",
        "  \n",
        "  # Inicializa Populacao \n",
        "  populacao = inicializaPopulacao(TP, N)\n",
        "\n",
        "  # Decodifica para obter xi \n",
        "  decod_xi = decodificaXi(populacao, p, N)\n",
        "\n",
        "  # Calcula a função objetivo penalizada  \n",
        "  M = 2*sum(p)\n",
        "  populacao = calculaFO(decod_xi, p, w, d, M, TP)\n",
        "\n",
        "  hist_res = []\n",
        "\n",
        "  for g in range(G):\n",
        "    # seleciona pares de pais aleatoriamente\n",
        "    paisSelecionados = torneioBinario(populacao, TP)\n",
        "    \n",
        "    # crossover\n",
        "    filhos = crossover(paisSelecionados, TP, N)\n",
        "\n",
        "    # mutação\n",
        "    filhos = mutacao(filhos, TP, N)\n",
        "\n",
        "    # com filhos: Decodifica para obter xi\n",
        "    filhos_xi = decodificaXi(filhos, p, N)\n",
        "\n",
        "    # com filhos: Calcula a função objetivo penalizada   \n",
        "    M = 2*sum(p)\n",
        "    filhos = calculaFO(filhos_xi, p, w, d, M, TP)\n",
        "\n",
        "    # populacao próxima geração, seleção: pais e filho\n",
        "    mista = populacao + filhos \n",
        "    mistaOrd = sorted(mista, key=lambda x: x[2]) # se maximização reverse = True\n",
        "    populacao = mistaOrd[:TP]\n",
        "    hist_res.append(populacao[0][2])\n",
        "\n",
        "  fim = time.time()  \n",
        "  print(\"Tempo de execução (s): \", fim - inicio)\n",
        "\n",
        "  return populacao[0], hist_res"
      ],
      "execution_count": null,
      "outputs": []
    },
    {
      "cell_type": "code",
      "metadata": {
        "colab": {
          "base_uri": "https://localhost:8080/"
        },
        "id": "sLllqW2cpCBP",
        "outputId": "d8a56420-989d-41bf-dc44-074e5466a993"
      },
      "source": [
        "solucao, hist_res = main()\n",
        "print(solucao)\n",
        "print(hist_res)"
      ],
      "execution_count": null,
      "outputs": [
        {
          "output_type": "stream",
          "text": [
            "Tempo de execução (s):  1.5191857814788818\n",
            "[[7, 17, 19, 18, 9, 10, 15, 13, 0, 3, 16, 14, 4, 5, 11, 1, 6, 12, 2, 8], [0, 2.0, 4.0, 6.0, 9.0, 11.0, 13.0, 16.0, 17.0, 18.0, 20.0, 22.0, 25.0, 28.0, 31.0, 34.0, 36.0, 38.0, 41.0, 45.0], 5639.0]\n",
            "[9079.0, 8438.0, 7617.0, 7478.0, 7132.0, 7102.0, 6948.0, 6948.0, 6680.0, 6680.0, 6656.0, 6649.0, 6620.0, 6620.0, 6523.0, 6523.0, 6499.0, 6438.0, 6390.0, 6390.0, 6390.0, 6317.0, 6317.0, 6317.0, 6316.0, 6295.0, 6295.0, 6295.0, 6183.0, 6183.0, 6183.0, 6164.0, 6164.0, 6164.0, 5980.0, 5970.0, 5970.0, 5770.0, 5770.0, 5770.0, 5770.0, 5770.0, 5761.0, 5761.0, 5761.0, 5761.0, 5761.0, 5761.0, 5761.0, 5761.0, 5761.0, 5761.0, 5761.0, 5761.0, 5761.0, 5761.0, 5761.0, 5761.0, 5761.0, 5761.0, 5761.0, 5761.0, 5761.0, 5761.0, 5761.0, 5761.0, 5761.0, 5761.0, 5761.0, 5761.0, 5761.0, 5761.0, 5761.0, 5761.0, 5761.0, 5761.0, 5761.0, 5761.0, 5761.0, 5761.0, 5761.0, 5761.0, 5761.0, 5761.0, 5761.0, 5761.0, 5761.0, 5761.0, 5761.0, 5761.0, 5761.0, 5761.0, 5761.0, 5639.0, 5639.0, 5639.0, 5639.0, 5639.0, 5639.0, 5639.0]\n"
          ],
          "name": "stdout"
        }
      ]
    },
    {
      "cell_type": "code",
      "metadata": {
        "colab": {
          "base_uri": "https://localhost:8080/",
          "height": 264
        },
        "id": "LdaVUmwtpFyC",
        "outputId": "5f18993c-3756-4c48-cbb1-ddc4c3b31dbf"
      },
      "source": [
        "plt.plot(range(len(hist_res)),hist_res);"
      ],
      "execution_count": null,
      "outputs": [
        {
          "output_type": "display_data",
          "data": {
            "image/png": "[encoded data removed]",
            "text/plain": [
              "<Figure size 432x288 with 1 Axes>"
            ]
          },
          "metadata": {
            "tags": [],
            "needs_background": "light"
          }
        }
      ]
    },
    {
      "cell_type": "code",
      "metadata": {
        "id": "dF8juxuXqE3Q"
      },
      "source": [
        "# importações\n",
        "%matplotlib inline\n",
        "import matplotlib.pyplot as plt\n",
        "import random \n",
        "from random import choice\n",
        "from random import seed\n",
        "import numpy as np\n",
        "import time \n",
        "import copy\n",
        "import imageio\n",
        "import os\n",
        "from google.colab import files\n",
        "\n",
        "def leitura(arquivo):\n",
        "  arq = open(arquivo, \"r\") # r- read\n",
        "  lixo = arq.readline()  # linha com texto Number of jobs\n",
        "  linha = arq.readline() # linha com número de tarefas\n",
        "  N = int(linha)         # linha com o número de tarefas\n",
        "  p = np.zeros(N)  # p = [p0, p1,..., p(N-1)]\n",
        "  w = np.zeros(N)\n",
        "  d = np.zeros(N)\n",
        "  lixo = arq.readline()  # linha com texto Job data \n",
        "  for i in range(N):  # repetir N vezes\n",
        "      # i-ésima linha\n",
        "      linha = arq.readline().split()  # posições: 0-indice, 1-p, 2-w, 3-d\n",
        "      p[i] = int(linha[1])\n",
        "      w[i] = int(linha[2])\n",
        "      d[i] = int(linha[3])\n",
        "  return N, p, w, d  \n",
        "\n",
        "# inicializa população aleatoriamente\n",
        "# cada individuo da populacao terá o seguinte formato:\n",
        "# [[individuo], [lista com xi], funojb]\n",
        "# para cada indivíduo i\n",
        "# populacao[i][0]  para acessar o indivíduo (codificação real ou inteira)\n",
        "# populacao[i][1]  para acessar a variável de decisão xi\n",
        "# populacao[i][2]  para acessar a função-objetivo\n",
        "\n",
        "def inicializaPopulacao(TP, N):\n",
        "  populacao = []\n",
        "  for i in range(TP):   # para cada individuo [lista] da populacao \n",
        "      lista = []\n",
        "      todos = list(range(N))   # lista com todas as tarefas\n",
        "      for j in range(N):                      # para cada posição do individuo\n",
        "          aleatorio = choice(todos)           # escolher uma tarefa aleatoria \n",
        "          lista.append(aleatorio)             # adicionar à lista\n",
        "          todos.remove(aleatorio)             # remover da lista auxiliar para não ocorrer repetição\n",
        "      # alocar espaço para a variável de decisão\n",
        "      # função-objetivo zerada\n",
        "      x = [0]*N\n",
        "      populacao.append([lista, x, 0])   # incluir o individuo completo na populacao\n",
        "  return populacao\n",
        "\n",
        "def decodificaXi(populacao, p, N):\n",
        "  for i in range(len(populacao)):\n",
        "    for j in range(len(populacao[0])-2):\n",
        "      for k in range(len(p)):\n",
        "        populacao[i][1] = [0]*N\n",
        "        if (k == 0):\n",
        "          populacao[i][1][k] = 0\n",
        "        else:\n",
        "          temp = 0\n",
        "          for k in range(len(populacao[0][1])-1):\n",
        "            temp = temp + p[populacao[i][j][k]]\n",
        "            populacao[i][1][k+1] = temp\n",
        "  return populacao\n",
        "        \n",
        "def calculaFO(decod_xi, p, w, d, M, TP):\n",
        "  for i in range(TP):\n",
        "    temp = 0\n",
        "    for j in range(len(decod_xi[i][0])):\n",
        "      temp = temp + w[decod_xi[i][0][j]]*(decod_xi[i][1][j]+p[decod_xi[i][0][j]])+M*max(0,decod_xi[i][1][j]+p[decod_xi[i][0][j]]-d[decod_xi[i][0][j]])\n",
        "      decod_xi[i][2] = temp\n",
        "  return decod_xi\n",
        "\n",
        "def torneioBinario(populacao, TP):\n",
        "  paisSelecionados = []\n",
        "\n",
        "  todos = list(range(TP))\n",
        "  for i in range(TP):\n",
        "    indAleat1 = random.choice(todos)\n",
        "    indAleat2 = random.choice(todos)\n",
        "    while (indAleat1 == indAleat2):\n",
        "      indAleat2 = random.choice(todos)\n",
        "\n",
        "    if (populacao[indAleat1][2] < populacao[indAleat2][2]):\n",
        "      paiSelecionado = copy.deepcopy(populacao[indAleat1])\n",
        "    else:\n",
        "      paiSelecionado = copy.deepcopy(populacao[indAleat2])\n",
        "\n",
        "    paisSelecionados.append(paiSelecionado)\n",
        "  return paisSelecionados\n",
        "\n",
        "def crossover(paisSelecionados, TP, N):\n",
        "  # paisSelecionados = [[[0,1,0,1,0], x, fitness]],[],[]]\n",
        "  PC = 0.95\n",
        "  filhos = []\n",
        "\n",
        "  for i in range(TP//2): # 2 pais geram 2 filhos\n",
        "    doisPais = random.sample(paisSelecionados, 2) \n",
        "    aleatorio = random.random() # entre 0 e 1\n",
        "    if aleatorio <= PC: # crossover acontece\n",
        "      ponto = random.randint(1, N-1)\n",
        "      filho1 = doisPais[0][0][:ponto] + [item for item in doisPais[1][0][:] if item not in doisPais[0][0][:ponto]]\n",
        "      filho2 = doisPais[1][0][:ponto] + [item for item in doisPais[0][0][:] if item not in doisPais[1][0][:ponto]]\n",
        "    else:\n",
        "      filho1 = doisPais[0][0]\n",
        "      filho2 = doisPais[1][0]\n",
        "    filhos.append([filho1, 0, 0])\n",
        "    filhos.append([filho2, 0, 0])\n",
        "  return filhos\n",
        "\n",
        "def mutacao(filhos, TP, N):\n",
        "  PM = 0.1\n",
        "  for i in range(len(filhos)):\n",
        "    aleatorio = random.random()\n",
        "    escolha = list(range(N))\n",
        "    if aleatorio <= PM:\n",
        "      swap1 = random.choice(escolha)\n",
        "      swap2 = random.choice(escolha)\n",
        "      a = filhos[i][0][swap1]\n",
        "      b = filhos[i][0][swap2]\n",
        "      filhos[i][0][swap1] = b\n",
        "      filhos[i][0][swap2] = a\n",
        "  return filhos\n",
        "\n",
        "def main():\n",
        "  # constantes\n",
        "  TP = 50   # tamanho da população\n",
        "  G = 100     # número de gerações\n",
        "  seed() #inicia a semente dos número pseudo randômicos\n",
        "  \n",
        "  # leitura\n",
        "  N, p, w, d = leitura(\"Instancia100.txt\") ### ALTERAR!!!\n",
        "  \n",
        "  inicio = time.time()  # começa a contar o tempo\n",
        "  \n",
        "  # Inicializa Populacao \n",
        "  populacao = inicializaPopulacao(TP, N)\n",
        "\n",
        "  # Decodifica para obter xi \n",
        "  decod_xi = decodificaXi(populacao, p, N)\n",
        "\n",
        "  # Calcula a função objetivo penalizada  \n",
        "  M = 2*sum(p)\n",
        "  populacao = calculaFO(decod_xi, p, w, d, M, TP)\n",
        "\n",
        "  hist_res = []\n",
        "\n",
        "  for g in range(G):\n",
        "    # seleciona pares de pais aleatoriamente\n",
        "    paisSelecionados = torneioBinario(populacao, TP)\n",
        "    \n",
        "    # crossover\n",
        "    filhos = crossover(paisSelecionados, TP, N)\n",
        "\n",
        "    # mutação\n",
        "    filhos = mutacao(filhos, TP, N)\n",
        "\n",
        "    # com filhos: Decodifica para obter xi\n",
        "    filhos_xi = decodificaXi(filhos, p, N)\n",
        "\n",
        "    # com filhos: Calcula a função objetivo penalizada   \n",
        "    M = 2*sum(p)\n",
        "    filhos = calculaFO(filhos_xi, p, w, d, M, TP)\n",
        "\n",
        "    # populacao próxima geração, seleção: pais e filho\n",
        "    mista = populacao + filhos \n",
        "    mistaOrd = sorted(mista, key=lambda x: x[2]) # se maximização reverse = True\n",
        "    populacao = mistaOrd[:TP]\n",
        "    hist_res.append(populacao[0][2])\n",
        "\n",
        "  fim = time.time()  \n",
        "  print(\"Tempo de execução (s): \", fim - inicio)\n",
        "\n",
        "  return populacao[0], hist_res"
      ],
      "execution_count": null,
      "outputs": []
    },
    {
      "cell_type": "code",
      "metadata": {
        "colab": {
          "base_uri": "https://localhost:8080/"
        },
        "id": "MQmIP1tVqMo8",
        "outputId": "509ddead-52c6-4311-abe8-d5cc56a9ce56"
      },
      "source": [
        "solucao, hist_res = main()\n",
        "print(solucao)\n",
        "print(hist_res)"
      ],
      "execution_count": null,
      "outputs": [
        {
          "output_type": "stream",
          "text": [
            "Tempo de execução (s):  23.754411697387695\n",
            "[[19, 21, 30, 48, 8, 87, 78, 22, 46, 43, 77, 84, 33, 58, 96, 39, 41, 31, 44, 91, 65, 51, 18, 14, 4, 86, 49, 6, 16, 71, 73, 79, 35, 94, 47, 15, 2, 72, 59, 11, 1, 62, 50, 93, 56, 32, 60, 97, 83, 10, 88, 7, 54, 13, 20, 99, 57, 80, 55, 26, 64, 98, 29, 92, 17, 25, 75, 85, 23, 53, 5, 66, 42, 89, 70, 90, 0, 34, 61, 52, 95, 81, 68, 3, 76, 36, 74, 82, 63, 69, 40, 24, 9, 38, 28, 37, 12, 67, 45, 27], [0, 3.0, 5.0, 7.0, 9.0, 10.0, 12.0, 14.0, 15.0, 17.0, 20.0, 22.0, 24.0, 26.0, 28.0, 30.0, 32.0, 34.0, 36.0, 40.0, 41.0, 43.0, 45.0, 47.0, 51.0, 53.0, 56.0, 58.0, 61.0, 63.0, 65.0, 67.0, 70.0, 73.0, 76.0, 79.0, 81.0, 82.0, 85.0, 87.0, 89.0, 93.0, 95.0, 97.0, 100.0, 104.0, 106.0, 109.0, 111.0, 114.0, 116.0, 118.0, 121.0, 123.0, 125.0, 127.0, 129.0, 132.0, 134.0, 137.0, 139.0, 142.0, 145.0, 147.0, 150.0, 154.0, 157.0, 160.0, 163.0, 165.0, 167.0, 169.0, 171.0, 173.0, 176.0, 178.0, 180.0, 182.0, 184.0, 186.0, 188.0, 190.0, 193.0, 196.0, 199.0, 202.0, 206.0, 208.0, 211.0, 214.0, 217.0, 220.0, 224.0, 227.0, 231.0, 234.0, 237.0, 240.0, 243.0, 246.0], 1185577.0]\n",
            "[1724698.0, 1631017.0, 1631017.0, 1631017.0, 1616072.0, 1608235.0, 1595009.0, 1585193.0, 1580366.0, 1580366.0, 1580083.0, 1577724.0, 1555072.0, 1555072.0, 1555072.0, 1551069.0, 1547973.0, 1545553.0, 1500178.0, 1500126.0, 1500126.0, 1495093.0, 1464339.0, 1464339.0, 1460957.0, 1460957.0, 1448095.0, 1434117.0, 1424817.0, 1404071.0, 1401548.0, 1401548.0, 1395845.0, 1395845.0, 1395845.0, 1367526.0, 1367526.0, 1365216.0, 1361778.0, 1361608.0, 1360436.0, 1359278.0, 1352898.0, 1352898.0, 1341048.0, 1341048.0, 1341010.0, 1334656.0, 1334656.0, 1334656.0, 1334612.0, 1329496.0, 1329496.0, 1329496.0, 1316408.0, 1316408.0, 1316408.0, 1312637.0, 1308157.0, 1305522.0, 1305339.0, 1304878.0, 1301907.0, 1301121.0, 1293134.0, 1293134.0, 1291543.0, 1285658.0, 1282848.0, 1282316.0, 1282316.0, 1281104.0, 1277219.0, 1258436.0, 1258436.0, 1256116.0, 1256116.0, 1251321.0, 1250686.0, 1246690.0, 1246195.0, 1246130.0, 1230042.0, 1230042.0, 1229723.0, 1228649.0, 1228493.0, 1228493.0, 1227212.0, 1227212.0, 1212402.0, 1212402.0, 1212402.0, 1212402.0, 1199408.0, 1199344.0, 1196604.0, 1196133.0, 1185577.0, 1185577.0]\n"
          ],
          "name": "stdout"
        }
      ]
    },
    {
      "cell_type": "code",
      "metadata": {
        "colab": {
          "base_uri": "https://localhost:8080/",
          "height": 275
        },
        "id": "ahni6rP0qT0w",
        "outputId": "da9e61cf-d276-4992-c404-235495edca84"
      },
      "source": [
        "plt.plot(range(len(hist_res)),hist_res);"
      ],
      "execution_count": null,
      "outputs": [
        {
          "output_type": "display_data",
          "data": {
            "image/png": "[encoded data removed]",
            "text/plain": [
              "<Figure size 432x288 with 1 Axes>"
            ]
          },
          "metadata": {
            "tags": [],
            "needs_background": "light"
          }
        }
      ]
    }
  ]
}