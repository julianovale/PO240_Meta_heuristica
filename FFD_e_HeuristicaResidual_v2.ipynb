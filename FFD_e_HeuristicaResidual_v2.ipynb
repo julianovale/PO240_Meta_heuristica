{
  "nbformat": 4,
  "nbformat_minor": 0,
  "metadata": {
    "colab": {
      "name": "FFD_e_HeuristicaResidual_v2.ipynb",
      "provenance": [],
      "collapsed_sections": [],
      "authorship_tag": "ABX9TyMWrWOf0rjzvPugZFw/W9lG",
      "include_colab_link": true
    },
    "kernelspec": {
      "name": "python3",
      "display_name": "Python 3"
    },
    "language_info": {
      "name": "python"
    }
  },
  "cells": [
    {
      "cell_type": "markdown",
      "metadata": {
        "id": "view-in-github",
        "colab_type": "text"
      },
      "source": [
        "<a href=\"https://colab.research.google.com/github/julianovale/PO240_Meta_heuristica/blob/main/FFD_e_HeuristicaResidual_v2.ipynb\" target=\"_parent\"><img src=\"https://colab.research.google.com/assets/colab-badge.svg\" alt=\"Open In Colab\"/></a>"
      ]
    },
    {
      "cell_type": "code",
      "metadata": {
        "id": "3rnX4Ec5WTex"
      },
      "source": [
        "  def FFD(L, li, di):\n",
        "  padroes = []\n",
        "  sobras = []\n",
        "  demanda = dict(zip(li, di))\n",
        "  while sum(demanda.values()) > 0:\n",
        "    sobra = L\n",
        "    padrao = []\n",
        "    for i in sorted(li, reverse=True):\n",
        "      while (i <= sobra) and (demanda[i] > 0):\n",
        "        sobra -= i\n",
        "        padrao.append(i)\n",
        "        demanda[i] = demanda[i]-1\n",
        "    padroes.append(padrao)\n",
        "    sobras.append(sobra)\n",
        "  return padroes, sobras"
      ],
      "execution_count": null,
      "outputs": []
    },
    {
      "cell_type": "markdown",
      "metadata": {
        "id": "1J04o7UWqztD"
      },
      "source": [
        "# Exemplo 1:"
      ]
    },
    {
      "cell_type": "code",
      "metadata": {
        "colab": {
          "base_uri": "https://localhost:8080/"
        },
        "id": "SdmfPPZEWCMT",
        "outputId": "97376d32-e4c8-4800-e91c-91644eded707"
      },
      "source": [
        "#### Exemplo 01 - FFD ####\n",
        "\n",
        "L = 11\n",
        "li = [3, 4, 5]\n",
        "di = [4, 3, 2]\n",
        "\n",
        "padroes, sobras = FFD(L, li, di)\n",
        "print(padroes)\n",
        "print(len(padroes))\n",
        "print(sobras)\n",
        "print(sum(sobras))"
      ],
      "execution_count": null,
      "outputs": [
        {
          "output_type": "stream",
          "text": [
            "[[5, 5], [4, 4, 3], [4, 3, 3], [3]]\n",
            "4\n",
            "[1, 0, 1, 8]\n",
            "10\n"
          ],
          "name": "stdout"
        }
      ]
    },
    {
      "cell_type": "code",
      "metadata": {
        "id": "F7LxuToLyH-y"
      },
      "source": [
        "### Exemplo 1 - Residual FFD ###"
      ],
      "execution_count": null,
      "outputs": []
    },
    {
      "cell_type": "code",
      "metadata": {
        "colab": {
          "base_uri": "https://localhost:8080/"
        },
        "id": "0WE4l0w4sFzG",
        "outputId": "df924426-ffbb-4813-caba-e94b4b07f923"
      },
      "source": [
        "!pip install ortools\n",
        "from ortools.linear_solver import pywraplp"
      ],
      "execution_count": null,
      "outputs": [
        {
          "output_type": "stream",
          "text": [
            "Requirement already satisfied: ortools in /usr/local/lib/python3.7/dist-packages (9.0.9048)\n",
            "Requirement already satisfied: protobuf>=3.15.8 in /usr/local/lib/python3.7/dist-packages (from ortools) (3.17.3)\n",
            "Requirement already satisfied: absl-py>=0.11 in /usr/local/lib/python3.7/dist-packages (from ortools) (0.12.0)\n",
            "Requirement already satisfied: six>=1.9 in /usr/local/lib/python3.7/dist-packages (from protobuf>=3.15.8->ortools) (1.15.0)\n"
          ],
          "name": "stdout"
        }
      ]
    },
    {
      "cell_type": "code",
      "metadata": {
        "colab": {
          "base_uri": "https://localhost:8080/"
        },
        "id": "DJzrFmfRsUg8",
        "outputId": "7b23876c-342f-4fb1-ed0c-23918c521dc8"
      },
      "source": [
        "# Inicializa o solver\n",
        "pl = pywraplp.Solver('Exemplo 1', pywraplp.Solver.GLOP_LINEAR_PROGRAMMING)\n",
        "\n",
        "# Dados do Problema\n",
        "N_VAR = 13\n",
        "N_REST = 3\n",
        "\n",
        "# Matriz A vezes o vetor x\n",
        "# A*x <= b\n",
        "\n",
        "A = [[3, 2, 1, 0, 0, 0, 0, 2, 2, 1, 1, 1, 0],\n",
        "     [0, 0, 0, 2, 1, 0, 0, 1, 0, 2, 1, 0, 1],\n",
        "     [0, 0, 0, 0, 0, 2, 1, 0, 1, 0, 0, 1, 1]] # Matriz de coeficientes das restrições\n",
        "B =  [4, 3, 2] # Vetor de resultados\n",
        "C =  [2, 5, 8, 3, 7, 1, 6, 1, 0, 0, 4, 3, 2] # Coeficientes da função objetivo\n",
        "\n",
        "# alocação de memória das variáveis e restrições\n",
        "x = []\n",
        "for j in range(N_VAR):\n",
        "  x.append(0)\n",
        "\n",
        "rest = []\n",
        "for i in range(N_REST):\n",
        "  rest.append(0)\n",
        "    \n",
        "# VARIÁVEIS DE DECISÃO\n",
        "for j in range(N_VAR):   \n",
        "  x[j] = pl.NumVar(0, pl.infinity(), 'x'+str(j))  # min, max, nome\n",
        "\n",
        "# RESTRIÇÕES\n",
        "# define o lado direito das restrições == \n",
        "for i in range(N_REST):  \n",
        "  rest[i] = pl.Constraint(B[i], B[i])  # min, max\n",
        "\n",
        "# define o coeficiente das variáveis no lado esquerdo das restrições \n",
        "for i in range(N_REST):  # linhas\n",
        "  for j in range(N_VAR): # colunas\n",
        "    rest[i].SetCoefficient(x[j], A[i][j])\n",
        "\n",
        "# função objetivo: Minimizar C1*x1 +...\n",
        "obj = pl.Objective()\n",
        "for j in range(N_VAR):\n",
        "  obj.SetCoefficient(x[j], C[j])\n",
        "obj.SetMinimization()\n",
        "\n",
        "# Resolve\n",
        "pl.Solve()\n",
        "\n",
        "# Imprime o valor de cada variável na solução ótima e da função-objetivo\n",
        "print(\"Função-objetivo = \", pl.Objective().Value())\n",
        "print()\n",
        "for j in range(N_VAR):  # j = 0, 1\n",
        "  print(\"Padrão de corte%d\" %(j+1),\"=\", x[j].solution_value())\n",
        "print()\n",
        "\n",
        "solucao_truncada = []\n",
        "for i in range(len(C)):\n",
        "  solucao_truncada.append(int(x[i].solution_value()))\n",
        "print(\"Solução truncada = \", solucao_truncada)\n",
        "print(\"Total de objetos = \", sum(solucao_truncada))\n",
        "print()\n",
        "\n",
        "perda = []\n",
        "for i in range(len(solucao_truncada)):\n",
        "  perda.append(solucao_truncada[i]*C[i])\n",
        "print(\"Perda total = \", sum(perda))\n",
        "print()\n",
        "\n",
        "demanda = B\n",
        "for i in range(len(B)):\n",
        "  for j in range(len(solucao_truncada)):\n",
        "    demanda[i] = B[i]-solucao_truncada[j]*A[i][j]\n",
        "    #demanda.append(temp)\n",
        "\n",
        "print(\"Demanda atualizada = \", demanda)"
      ],
      "execution_count": null,
      "outputs": [
        {
          "output_type": "stream",
          "text": [
            "Função-objetivo =  0.375\n",
            "\n",
            "Padrão de corte1 = 0.0\n",
            "Padrão de corte2 = 0.0\n",
            "Padrão de corte3 = 0.0\n",
            "Padrão de corte4 = 0.0\n",
            "Padrão de corte5 = 0.0\n",
            "Padrão de corte6 = 0.375\n",
            "Padrão de corte7 = 0.0\n",
            "Padrão de corte8 = 0.0\n",
            "Padrão de corte9 = 1.25\n",
            "Padrão de corte10 = 1.5\n",
            "Padrão de corte11 = 0.0\n",
            "Padrão de corte12 = 0.0\n",
            "Padrão de corte13 = 0.0\n",
            "\n",
            "Solução truncada =  [0, 0, 0, 0, 0, 0, 0, 0, 1, 1, 0, 0, 0]\n",
            "Total de objetos =  2\n",
            "\n",
            "Perda total =  0\n",
            "\n",
            "Demanda atualizada =  [1, 1, 1]\n"
          ],
          "name": "stdout"
        }
      ]
    },
    {
      "cell_type": "code",
      "metadata": {
        "colab": {
          "base_uri": "https://localhost:8080/"
        },
        "id": "PcAGz3Xv4b_v",
        "outputId": "8a91a0fc-be45-45ab-b623-44e02ee89fc7"
      },
      "source": [
        "di = demanda\n",
        "\n",
        "padroes, sobras = FFD(L, li, di)\n",
        "print(padroes)\n",
        "print(len(padroes))\n",
        "print(sobras)\n",
        "print(sum(sobras))"
      ],
      "execution_count": null,
      "outputs": [
        {
          "output_type": "stream",
          "text": [
            "[[5, 4], [3]]\n",
            "2\n",
            "[2, 8]\n",
            "10\n"
          ],
          "name": "stdout"
        }
      ]
    },
    {
      "cell_type": "markdown",
      "metadata": {
        "id": "oGvmRvsOq67L"
      },
      "source": [
        "# Exemplo 2:"
      ]
    },
    {
      "cell_type": "code",
      "metadata": {
        "colab": {
          "base_uri": "https://localhost:8080/"
        },
        "id": "nXf_HTglO8Kb",
        "outputId": "fe38514b-ec78-49d1-f262-d0aa75bf3c27"
      },
      "source": [
        "#### Exemplo 02 - FFD ####\n",
        "\n",
        "L = 600\n",
        "li = [35, 42, 34, 27]\n",
        "di = [60, 48, 24, 24]\n",
        "\n",
        "padroes, sobras = FFD(L, li, di)\n",
        "print(padroes)\n",
        "print(len(padroes))\n",
        "print(sobras)\n",
        "print(sum(sobras))"
      ],
      "execution_count": null,
      "outputs": [
        {
          "output_type": "stream",
          "text": [
            "[[42, 42, 42, 42, 42, 42, 42, 42, 42, 42, 42, 42, 42, 42], [42, 42, 42, 42, 42, 42, 42, 42, 42, 42, 42, 42, 42, 42], [42, 42, 42, 42, 42, 42, 42, 42, 42, 42, 42, 42, 42, 42], [42, 42, 42, 42, 42, 42, 35, 35, 35, 35, 35, 35, 35, 35, 35, 27], [35, 35, 35, 35, 35, 35, 35, 35, 35, 35, 35, 35, 35, 35, 35, 35, 35], [35, 35, 35, 35, 35, 35, 35, 35, 35, 35, 35, 35, 35, 35, 35, 35, 35], [35, 35, 35, 35, 35, 35, 35, 35, 35, 35, 35, 35, 35, 35, 35, 35, 35], [34, 34, 34, 34, 34, 34, 34, 34, 34, 34, 34, 34, 34, 34, 34, 34, 34], [34, 34, 34, 34, 34, 34, 34, 27, 27, 27, 27, 27, 27, 27, 27, 27, 27, 27, 27, 27], [27, 27, 27, 27, 27, 27, 27, 27, 27, 27]]\n",
            "10\n",
            "[12, 12, 12, 6, 5, 5, 5, 22, 11, 330]\n",
            "420\n"
          ],
          "name": "stdout"
        }
      ]
    },
    {
      "cell_type": "code",
      "metadata": {
        "colab": {
          "base_uri": "https://localhost:8080/"
        },
        "id": "-7b4mnaYPkZs",
        "outputId": "e5779641-f689-498f-b68d-8640df05e4b6"
      },
      "source": [
        "# Exemplo 2 - Residual FFD\n",
        "# Inicializa o solver\n",
        "pl = pywraplp.Solver('Exemplo 2', pywraplp.Solver.GLOP_LINEAR_PROGRAMMING)\n",
        "\n",
        "# Dados do Problema\n",
        "N_VAR = 14\n",
        "N_REST = 4\n",
        "\n",
        "# Matriz A vezes o vetor x\n",
        "# A*x <= b\n",
        "\n",
        "A = [[17, 0, 0, 0, 8, 9, 8, 0, 0, 0, 6, 6, 0, 5],\n",
        "     [0, 14, 0, 0, 7, 0, 0, 7, 7, 0, 6, 0, 5, 3],\n",
        "     [0, 0, 17, 0, 0, 8, 0, 9, 0, 8, 4, 5, 5, 4],\n",
        "     [0, 0, 0, 22, 0, 0, 11, 0, 11, 12, 0, 8, 8, 6]] # Matriz de coeficientes das restrições\n",
        "B =  [60, 48, 24, 24] # Vetor de resultados\n",
        "C =  [5, 12, 22, 6, 26, 13, 23, 0, 9, 4, 2, 4, 4, 1] # Coeficientes da função objetivo\n",
        "\n",
        "# alocação de memória das variáveis e restrições\n",
        "x = []\n",
        "for j in range(N_VAR):\n",
        "  x.append(0)\n",
        "\n",
        "rest = []\n",
        "for i in range(N_REST):\n",
        "  rest.append(0)\n",
        "    \n",
        "# VARIÁVEIS DE DECISÃO\n",
        "for j in range(N_VAR):   \n",
        "  x[j] = pl.NumVar(0, pl.infinity(), 'x'+str(j))  # min, max, nome\n",
        "\n",
        "# RESTRIÇÕES\n",
        "# define o lado direito das restrições == \n",
        "for i in range(N_REST):  \n",
        "  rest[i] = pl.Constraint(B[i], B[i])  # min, max\n",
        "\n",
        "# define o coeficiente das variáveis no lado esquerdo das restrições \n",
        "for i in range(N_REST):  # linhas\n",
        "  for j in range(N_VAR): # colunas\n",
        "    rest[i].SetCoefficient(x[j], A[i][j])\n",
        "\n",
        "# função objetivo: Minimizar C1*x1 +...\n",
        "obj = pl.Objective()\n",
        "for j in range(N_VAR):\n",
        "  obj.SetCoefficient(x[j], C[j])\n",
        "obj.SetMinimization()\n",
        "\n",
        "# Resolve\n",
        "pl.Solve()\n",
        "\n",
        "# Imprime o valor de cada variável na solução ótima e da função-objetivo\n",
        "print(\"Função-objetivo = \", pl.Objective().Value())\n",
        "print()\n",
        "for j in range(N_VAR):  # j = 0, 1\n",
        "  print(\"Padrão de corte%d\" %(j+1),\"=\", x[j].solution_value())\n",
        "print()\n",
        "\n",
        "solucao_truncada = []\n",
        "for i in range(len(C)):\n",
        "  solucao_truncada.append(int(x[i].solution_value()))\n",
        "print(\"Solução truncada = \", solucao_truncada)\n",
        "print(\"Total de objetos = \", sum(solucao_truncada))\n",
        "print()\n",
        "\n",
        "perda = []\n",
        "for i in range(len(solucao_truncada)):\n",
        "  perda.append(solucao_truncada[i]*C[i])\n",
        "print(\"Perda total = \", sum(perda))\n",
        "print()\n",
        "\n",
        "demanda = B\n",
        "for i in range(len(B)):\n",
        "  for j in range(len(solucao_truncada)):\n",
        "    demanda[i] = B[i]-solucao_truncada[j]*A[i][j]\n",
        "    #demanda.append(temp)\n",
        "\n",
        "print(\"Demanda atualizada = \", demanda)"
      ],
      "execution_count": null,
      "outputs": [
        {
          "output_type": "stream",
          "text": [
            "Função-objetivo =  35.889992360580585\n",
            "\n",
            "Padrão de corte1 = 1.4117647058823521\n",
            "Padrão de corte2 = 0.8571428571428561\n",
            "Padrão de corte3 = 0.0\n",
            "Padrão de corte4 = 1.0909090909090908\n",
            "Padrão de corte5 = 0.0\n",
            "Padrão de corte6 = 0.0\n",
            "Padrão de corte7 = 0.0\n",
            "Padrão de corte8 = 0.0\n",
            "Padrão de corte9 = 0.0\n",
            "Padrão de corte10 = 0.0\n",
            "Padrão de corte11 = 6.000000000000002\n",
            "Padrão de corte12 = 0.0\n",
            "Padrão de corte13 = 0.0\n",
            "Padrão de corte14 = 0.0\n",
            "\n",
            "Solução truncada =  [1, 0, 0, 1, 0, 0, 0, 0, 0, 0, 6, 0, 0, 0]\n",
            "Total de objetos =  8\n",
            "\n",
            "Perda total =  23\n",
            "\n",
            "Demanda atualizada =  [7, 12, 0, 2]\n"
          ],
          "name": "stdout"
        }
      ]
    },
    {
      "cell_type": "code",
      "metadata": {
        "colab": {
          "base_uri": "https://localhost:8080/"
        },
        "id": "9sd0TybzpZW-",
        "outputId": "4f224a0d-b029-4d40-e911-861300735a40"
      },
      "source": [
        "di = demanda\n",
        "\n",
        "padroes, sobras = FFD(L, li, di)\n",
        "print(padroes)\n",
        "print(len(padroes))\n",
        "print(sobras)\n",
        "print(sum(sobras))"
      ],
      "execution_count": null,
      "outputs": [
        {
          "output_type": "stream",
          "text": [
            "[[42, 42, 42, 42, 42, 42, 42, 42, 42, 42, 42, 42, 35, 35], [35, 35, 35, 35, 35, 27, 27]]\n",
            "2\n",
            "[26, 371]\n",
            "397\n"
          ],
          "name": "stdout"
        }
      ]
    },
    {
      "cell_type": "code",
      "metadata": {
        "colab": {
          "base_uri": "https://localhost:8080/"
        },
        "id": "b309rLix-Gri",
        "outputId": "d631eb1f-f015-4302-8268-9c57268c1ac3"
      },
      "source": [
        "397+23"
      ],
      "execution_count": null,
      "outputs": [
        {
          "output_type": "execute_result",
          "data": {
            "text/plain": [
              "420"
            ]
          },
          "metadata": {
            "tags": []
          },
          "execution_count": 35
        }
      ]
    },
    {
      "cell_type": "markdown",
      "metadata": {
        "id": "7p1TryIMrB5b"
      },
      "source": [
        "# Exemplo 3:"
      ]
    },
    {
      "cell_type": "code",
      "metadata": {
        "colab": {
          "base_uri": "https://localhost:8080/"
        },
        "id": "kxzEscBLqRDM",
        "outputId": "67f3cb31-251a-4dfc-c46b-9f20faceea58"
      },
      "source": [
        "#### Exemplo 03 - FFD ####\n",
        "\n",
        "L = 194\n",
        "li = [108, 13, 90]\n",
        "di = [4, 8, 7]\n",
        "\n",
        "padroes, sobras = FFD(L, li, di)\n",
        "print(padroes)\n",
        "print(len(padroes))\n",
        "print(sobras)\n",
        "print(sum(sobras))"
      ],
      "execution_count": null,
      "outputs": [
        {
          "output_type": "stream",
          "text": [
            "[[108, 13, 13, 13, 13, 13, 13], [108, 13, 13], [108], [108], [90, 90], [90, 90], [90, 90], [90]]\n",
            "8\n",
            "[8, 60, 86, 86, 14, 14, 14, 104]\n",
            "386\n"
          ],
          "name": "stdout"
        }
      ]
    },
    {
      "cell_type": "code",
      "metadata": {
        "colab": {
          "base_uri": "https://localhost:8080/"
        },
        "id": "ihlKYPu-nWtR",
        "outputId": "231be111-8ab6-4a44-ff69-2bf2ee576b61"
      },
      "source": [
        "# Exemplo 3 - Residual FFD\n",
        "# Inicializa o solver\n",
        "pl = pywraplp.Solver('Exemplo 3', pywraplp.Solver.GLOP_LINEAR_PROGRAMMING)\n",
        "\n",
        "# Dados do Problema\n",
        "N_VAR = 5\n",
        "N_REST = 3\n",
        "\n",
        "# Matriz A vezes o vetor x\n",
        "# A*x <= b\n",
        "\n",
        "A = [[1, 0, 0, 1, 0],\n",
        "     [0, 14, 0, 6, 8],\n",
        "     [0, 0, 2, 0, 1]] # Matriz de coeficientes das restrições\n",
        "B =  [4, 8, 7] # Vetor de resultados\n",
        "C =  [86, 12, 14, 8, 0] # Coeficientes da função objetivo\n",
        "\n",
        "# alocação de memória das variáveis e restrições\n",
        "x = []\n",
        "for j in range(N_VAR):\n",
        "  x.append(0)\n",
        "\n",
        "rest = []\n",
        "for i in range(N_REST):\n",
        "  rest.append(0)\n",
        "    \n",
        "# VARIÁVEIS DE DECISÃO\n",
        "for j in range(N_VAR):   \n",
        "  x[j] = pl.NumVar(0, pl.infinity(), 'x'+str(j))  # min, max, nome\n",
        "\n",
        "# RESTRIÇÕES\n",
        "# define o lado direito das restrições == \n",
        "for i in range(N_REST):  \n",
        "  rest[i] = pl.Constraint(B[i], B[i])  # min, max\n",
        "\n",
        "# define o coeficiente das variáveis no lado esquerdo das restrições \n",
        "for i in range(N_REST):  # linhas\n",
        "  for j in range(N_VAR): # colunas\n",
        "    rest[i].SetCoefficient(x[j], A[i][j])\n",
        "\n",
        "# função objetivo: Minimizar C1*x1 +...\n",
        "obj = pl.Objective()\n",
        "for j in range(N_VAR):\n",
        "  obj.SetCoefficient(x[j], C[j])\n",
        "obj.SetMinimization()\n",
        "\n",
        "# Resolve\n",
        "pl.Solve()\n",
        "\n",
        "# Imprime o valor de cada variável na solução ótima e da função-objetivo\n",
        "print(\"Função-objetivo = \", pl.Objective().Value())\n",
        "print()\n",
        "for j in range(N_VAR):  # j = 0, 1\n",
        "  print(\"Padrão de corte%d\" %(j+1),\"=\", x[j].solution_value())\n",
        "print()\n",
        "\n",
        "solucao_truncada = []\n",
        "for i in range(len(C)):\n",
        "  solucao_truncada.append(int(x[i].solution_value()))\n",
        "print(\"Solução truncada = \", solucao_truncada)\n",
        "print(\"Total de objetos = \", sum(solucao_truncada))\n",
        "print()\n",
        "\n",
        "perda = []\n",
        "for i in range(len(solucao_truncada)):\n",
        "  perda.append(solucao_truncada[i]*C[i])\n",
        "print(\"Perda total = \", sum(perda))\n",
        "print()\n",
        "\n",
        "demanda = B\n",
        "for i in range(len(B)):\n",
        "  for j in range(len(solucao_truncada)):\n",
        "    demanda[i] = B[i]-solucao_truncada[j]*A[i][j]\n",
        "    #demanda.append(temp)\n",
        "\n",
        "print(\"Demanda atualizada = \", demanda)"
      ],
      "execution_count": null,
      "outputs": [
        {
          "output_type": "stream",
          "text": [
            "Função-objetivo =  289.00000000000006\n",
            "\n",
            "Padrão de corte1 = 2.666666666666667\n",
            "Padrão de corte2 = 0.0\n",
            "Padrão de corte3 = 3.5\n",
            "Padrão de corte4 = 1.3333333333333333\n",
            "Padrão de corte5 = 0.0\n",
            "\n",
            "Solução truncada =  [2, 0, 3, 1, 0]\n",
            "Total de objetos =  6\n",
            "\n",
            "Perda total =  222\n",
            "\n",
            "Demanda atualizada =  [1, 2, 1]\n"
          ],
          "name": "stdout"
        }
      ]
    },
    {
      "cell_type": "code",
      "metadata": {
        "colab": {
          "base_uri": "https://localhost:8080/"
        },
        "id": "i_7uNHVlnWM3",
        "outputId": "ca51a47d-b209-4576-91ce-8b1f615111ea"
      },
      "source": [
        "di = demanda\n",
        "\n",
        "padroes, sobras = FFD(L, li, di)\n",
        "print(padroes)\n",
        "print(len(padroes))\n",
        "print(sobras)\n",
        "print(sum(sobras))"
      ],
      "execution_count": null,
      "outputs": [
        {
          "output_type": "stream",
          "text": [
            "[[108, 13, 13], [90]]\n",
            "2\n",
            "[60, 104]\n",
            "164\n"
          ],
          "name": "stdout"
        }
      ]
    },
    {
      "cell_type": "code",
      "metadata": {
        "colab": {
          "base_uri": "https://localhost:8080/"
        },
        "id": "7D1SfGL--CY5",
        "outputId": "dc4a8c2c-99c8-4324-d50e-cd47ef2948d3"
      },
      "source": [
        "222+164"
      ],
      "execution_count": null,
      "outputs": [
        {
          "output_type": "execute_result",
          "data": {
            "text/plain": [
              "386"
            ]
          },
          "metadata": {
            "tags": []
          },
          "execution_count": 39
        }
      ]
    },
    {
      "cell_type": "markdown",
      "metadata": {
        "id": "xCq0TpqrrIrr"
      },
      "source": [
        "# Exemplo 4:"
      ]
    },
    {
      "cell_type": "code",
      "metadata": {
        "colab": {
          "base_uri": "https://localhost:8080/"
        },
        "id": "xk6IxzwEx0-k",
        "outputId": "01b6466d-fdf5-4bca-e3b2-459deca977e9"
      },
      "source": [
        "#### Exemplo 04 - FFD ####\n",
        "\n",
        "L = 220\n",
        "li = [80, 60, 40, 20]\n",
        "di = [10, 10, 15, 15]\n",
        "\n",
        "padroes, sobras = FFD(L, li, di)\n",
        "print(padroes)\n",
        "print(len(padroes))\n",
        "print(sobras)\n",
        "print(sum(sobras))"
      ],
      "execution_count": null,
      "outputs": [
        {
          "output_type": "stream",
          "text": [
            "[[80, 80, 60], [80, 80, 60], [80, 80, 60], [80, 80, 60], [80, 80, 60], [60, 60, 60, 40], [60, 60, 40, 40, 20], [40, 40, 40, 40, 40, 20], [40, 40, 40, 40, 40, 20], [40, 40, 20, 20, 20, 20, 20, 20, 20], [20, 20, 20, 20, 20]]\n",
            "11\n",
            "[0, 0, 0, 0, 0, 0, 0, 0, 0, 0, 120]\n",
            "120\n"
          ],
          "name": "stdout"
        }
      ]
    },
    {
      "cell_type": "code",
      "metadata": {
        "colab": {
          "base_uri": "https://localhost:8080/"
        },
        "id": "Ne7V6ZeDx5I1",
        "outputId": "9c4f4900-a643-4d0a-908c-3b4b7db7c1d5"
      },
      "source": [
        "# Exemplo 4 - Residual FFD\n",
        "# Inicializa o solver\n",
        "pl = pywraplp.Solver('Exemplo 4', pywraplp.Solver.GLOP_LINEAR_PROGRAMMING)\n",
        "\n",
        "# Dados do Problema\n",
        "N_VAR = 18\n",
        "N_REST = 4\n",
        "\n",
        "# Matriz A vezes o vetor x\n",
        "# A*x <= b\n",
        "\n",
        "A = [[2,0,0,0,2,1,1,2,1,1,0,0,0,0,0,0,0,0],\n",
        "     [0,3,0,0,1,2,2,0,0,0,3,2,2,1,0,0,0,0],\n",
        "     [0,0,5,0,0,0,0,1,3,3,1,2,2,4,5,4,3,2],\n",
        "     [0,0,0,6,0,0,1,0,0,1,0,0,1,0,1,3,5,6]] # Matriz de coeficientes das restrições\n",
        "B =  [10, 10, 15, 15] # Vetor de resultados\n",
        "C =  [60,40,20,100,0,20,0,20,20,0,0,20,0,0,0,0,0,20] # Coeficientes da função objetivo\n",
        "\n",
        "# alocação de memória das variáveis e restrições\n",
        "x = []\n",
        "for j in range(N_VAR):\n",
        "  x.append(0)\n",
        "\n",
        "rest = []\n",
        "for i in range(N_REST):\n",
        "  rest.append(0)\n",
        "    \n",
        "# VARIÁVEIS DE DECISÃO\n",
        "for j in range(N_VAR):   \n",
        "  x[j] = pl.NumVar(0, pl.infinity(), 'x'+str(j))  # min, max, nome\n",
        "\n",
        "# RESTRIÇÕES\n",
        "# define o lado direito das restrições == \n",
        "for i in range(N_REST):  \n",
        "  rest[i] = pl.Constraint(B[i], B[i])  # min, max\n",
        "\n",
        "# define o coeficiente das variáveis no lado esquerdo das restrições \n",
        "for i in range(N_REST):  # linhas\n",
        "  for j in range(N_VAR): # colunas\n",
        "    rest[i].SetCoefficient(x[j], A[i][j])\n",
        "\n",
        "# função objetivo: Minimizar C1*x1 +...\n",
        "obj = pl.Objective()\n",
        "for j in range(N_VAR):\n",
        "  obj.SetCoefficient(x[j], C[j])\n",
        "obj.SetMinimization()\n",
        "\n",
        "# Resolve\n",
        "pl.Solve()\n",
        "\n",
        "# Imprime o valor de cada variável na solução ótima e da função-objetivo\n",
        "print(\"Função-objetivo = \", pl.Objective().Value())\n",
        "print()\n",
        "for j in range(N_VAR):  # j = 0, 1\n",
        "  print(\"Padrão de corte%d\" %(j+1),\"=\", x[j].solution_value())\n",
        "print()\n",
        "\n",
        "solucao_truncada = []\n",
        "for i in range(len(C)):\n",
        "  solucao_truncada.append(int(x[i].solution_value()))\n",
        "print(\"Solução truncada = \", solucao_truncada)\n",
        "print(\"Total de objetos = \", sum(solucao_truncada))\n",
        "print()\n",
        "\n",
        "perda = []\n",
        "for i in range(len(solucao_truncada)):\n",
        "  perda.append(solucao_truncada[i]*C[i])\n",
        "print(\"Perda total = \", sum(perda))\n",
        "print()\n",
        "\n",
        "demanda = B\n",
        "for i in range(len(B)):\n",
        "  for j in range(len(solucao_truncada)):\n",
        "    demanda[i] = B[i]-solucao_truncada[j]*A[i][j]\n",
        "    #demanda.append(temp)\n",
        "\n",
        "print(\"Demanda atualizada = \", demanda)"
      ],
      "execution_count": null,
      "outputs": [
        {
          "output_type": "stream",
          "text": [
            "Função-objetivo =  0.0\n",
            "\n",
            "Padrão de corte1 = 0.0\n",
            "Padrão de corte2 = 0.0\n",
            "Padrão de corte3 = 0.0\n",
            "Padrão de corte4 = 0.0\n",
            "Padrão de corte5 = 0.9090909090909103\n",
            "Padrão de corte6 = 0.0\n",
            "Padrão de corte7 = 4.545454545454544\n",
            "Padrão de corte8 = 0.0\n",
            "Padrão de corte9 = 0.0\n",
            "Padrão de corte10 = 3.636363636363636\n",
            "Padrão de corte11 = 0.0\n",
            "Padrão de corte12 = 0.0\n",
            "Padrão de corte13 = 0.0\n",
            "Padrão de corte14 = 0.0\n",
            "Padrão de corte15 = 0.0\n",
            "Padrão de corte16 = 0.0\n",
            "Padrão de corte17 = 1.3636363636363635\n",
            "Padrão de corte18 = 0.0\n",
            "\n",
            "Solução truncada =  [0, 0, 0, 0, 0, 0, 4, 0, 0, 3, 0, 0, 0, 0, 0, 0, 1, 0]\n",
            "Total de objetos =  8\n",
            "\n",
            "Perda total =  0\n",
            "\n",
            "Demanda atualizada =  [3, 2, 3, 3]\n"
          ],
          "name": "stdout"
        }
      ]
    },
    {
      "cell_type": "code",
      "metadata": {
        "colab": {
          "base_uri": "https://localhost:8080/"
        },
        "id": "9at73dP1x_I6",
        "outputId": "4d8bffde-d725-4a0c-86df-1a5fea2dc6c9"
      },
      "source": [
        "di = demanda\n",
        "\n",
        "padroes, sobras = FFD(L, li, di)\n",
        "print(padroes)\n",
        "print(len(padroes))\n",
        "print(sobras)\n",
        "print(sum(sobras))"
      ],
      "execution_count": null,
      "outputs": [
        {
          "output_type": "stream",
          "text": [
            "[[80, 80, 60], [80, 60, 40, 40], [40, 20, 20, 20]]\n",
            "3\n",
            "[0, 0, 120]\n",
            "120\n"
          ],
          "name": "stdout"
        }
      ]
    },
    {
      "cell_type": "markdown",
      "metadata": {
        "id": "UFCQi3ke2ipy"
      },
      "source": [
        "# Exemplo 5:\n"
      ]
    },
    {
      "cell_type": "code",
      "metadata": {
        "colab": {
          "base_uri": "https://localhost:8080/"
        },
        "id": "ktwOy00p2kug",
        "outputId": "bfa9f5d7-2de9-45bc-fe03-f288e99a335c"
      },
      "source": [
        "#### Exemplo 05 - FFD ####\n",
        "\n",
        "L = 4500\n",
        "li = [550, 575, 1450, 950]\n",
        "di = [15, 10, 20, 9]\n",
        "\n",
        "padroes, sobras = FFD(L, li, di)\n",
        "print(padroes)\n",
        "print(len(padroes))\n",
        "print(sobras)\n",
        "print(sum(sobras))"
      ],
      "execution_count": null,
      "outputs": [
        {
          "output_type": "stream",
          "text": [
            "[[1450, 1450, 1450], [1450, 1450, 1450], [1450, 1450, 1450], [1450, 1450, 1450], [1450, 1450, 1450], [1450, 1450, 1450], [1450, 1450, 950, 575], [950, 950, 950, 950, 575], [950, 950, 950, 950, 575], [575, 575, 575, 575, 575, 575, 575], [550, 550, 550, 550, 550, 550, 550, 550], [550, 550, 550, 550, 550, 550, 550]]\n",
            "12\n",
            "[150, 150, 150, 150, 150, 150, 75, 125, 125, 475, 100, 650]\n",
            "2450\n"
          ],
          "name": "stdout"
        }
      ]
    },
    {
      "cell_type": "code",
      "metadata": {
        "colab": {
          "base_uri": "https://localhost:8080/"
        },
        "id": "DgWjleiJ7e5D",
        "outputId": "d46b6f44-c0a0-4035-a1ae-607a3423823e"
      },
      "source": [
        "# Exemplo 5 - Residual FFD\n",
        "# Inicializa o solver\n",
        "pl = pywraplp.Solver('Exemplo 5', pywraplp.Solver.GLOP_LINEAR_PROGRAMMING)\n",
        "\n",
        "# Dados do Problema\n",
        "N_VAR = 19\n",
        "N_REST = 4\n",
        "\n",
        "# Matriz A vezes o vetor x\n",
        "# A*x <= b\n",
        "\n",
        "A = [[8,0,0,0,7,6,5,4,5,2,1,0,0,0,0,0,0,0,0],\n",
        "     [0,7,0,0,1,2,3,4,0,0,0,5,2,6,4,2,1,1,0],\n",
        "     [0,0,3,0,0,0,0,0,1,2,2,1,2,0,0,0,0,2,1],\n",
        "     [0,0,0,4,0,0,0,0,0,0,1,0,0,1,2,3,4,1,3]] # Matriz de coeficientes das restrições\n",
        "B =  [15, 10, 20, 9] # Vetor de resultados\n",
        "C =  [100,475,150,700,75,50,25,0,300,500,100,175,450,100,300,500,125,75,200] # Coeficientes da função objetivo\n",
        "\n",
        "# alocação de memória das variáveis e restrições\n",
        "x = []\n",
        "for j in range(N_VAR):\n",
        "  x.append(0)\n",
        "\n",
        "rest = []\n",
        "for i in range(N_REST):\n",
        "  rest.append(0)\n",
        "    \n",
        "# VARIÁVEIS DE DECISÃO\n",
        "for j in range(N_VAR):   \n",
        "  x[j] = pl.NumVar(0, pl.infinity(), 'x'+str(j))  # min, max, nome\n",
        "\n",
        "# RESTRIÇÕES\n",
        "# define o lado direito das restrições == \n",
        "for i in range(N_REST):  \n",
        "  rest[i] = pl.Constraint(B[i], B[i])  # min, max\n",
        "\n",
        "# define o coeficiente das variáveis no lado esquerdo das restrições \n",
        "for i in range(N_REST):  # linhas\n",
        "  for j in range(N_VAR): # colunas\n",
        "    rest[i].SetCoefficient(x[j], A[i][j])\n",
        "\n",
        "# função objetivo: Minimizar C1*x1 +...\n",
        "obj = pl.Objective()\n",
        "for j in range(N_VAR):\n",
        "  obj.SetCoefficient(x[j], C[j])\n",
        "obj.SetMinimization()\n",
        "\n",
        "# Resolve\n",
        "pl.Solve()\n",
        "\n",
        "# Imprime o valor de cada variável na solução ótima e da função-objetivo\n",
        "print(\"Função-objetivo = \", pl.Objective().Value())\n",
        "print()\n",
        "for j in range(N_VAR):  # j = 0, 1\n",
        "  print(\"Padrão de corte%d\" %(j+1),\"=\", x[j].solution_value())\n",
        "print()\n",
        "\n",
        "solucao_truncada = []\n",
        "for i in range(len(C)):\n",
        "  solucao_truncada.append(int(x[i].solution_value()))\n",
        "print(\"Solução truncada = \", solucao_truncada)\n",
        "print(\"Total de objetos = \", sum(solucao_truncada))\n",
        "print()\n",
        "\n",
        "perda = []\n",
        "for i in range(len(solucao_truncada)):\n",
        "  perda.append(solucao_truncada[i]*C[i])\n",
        "print(\"Perda total = \", sum(perda))\n",
        "print()\n",
        "\n",
        "demanda = B\n",
        "for i in range(len(B)):\n",
        "  for j in range(len(solucao_truncada)):\n",
        "    demanda[i] = B[i]-solucao_truncada[j]*A[i][j]\n",
        "    #demanda.append(temp)\n",
        "\n",
        "print(\"Demanda atualizada = \", demanda)"
      ],
      "execution_count": null,
      "outputs": [
        {
          "output_type": "stream",
          "text": [
            "Função-objetivo =  950.0\n",
            "\n",
            "Padrão de corte1 = 1.7500000000000002\n",
            "Padrão de corte2 = 0.0\n",
            "Padrão de corte3 = 0.6666666666666666\n",
            "Padrão de corte4 = 0.0\n",
            "Padrão de corte5 = 0.0\n",
            "Padrão de corte6 = 0.0\n",
            "Padrão de corte7 = 0.0\n",
            "Padrão de corte8 = 0.24999999999999964\n",
            "Padrão de corte9 = 0.0\n",
            "Padrão de corte10 = 0.0\n",
            "Padrão de corte11 = 0.0\n",
            "Padrão de corte12 = 0.0\n",
            "Padrão de corte13 = 0.0\n",
            "Padrão de corte14 = 0.0\n",
            "Padrão de corte15 = 0.0\n",
            "Padrão de corte16 = 0.0\n",
            "Padrão de corte17 = 0.0\n",
            "Padrão de corte18 = 9.0\n",
            "Padrão de corte19 = 0.0\n",
            "\n",
            "Solução truncada =  [1, 0, 0, 0, 0, 0, 0, 0, 0, 0, 0, 0, 0, 0, 0, 0, 0, 9, 0]\n",
            "Total de objetos =  10\n",
            "\n",
            "Perda total =  775\n",
            "\n",
            "Demanda atualizada =  [7, 1, 2, 0]\n"
          ],
          "name": "stdout"
        }
      ]
    },
    {
      "cell_type": "code",
      "metadata": {
        "colab": {
          "base_uri": "https://localhost:8080/"
        },
        "id": "CFl801bj9zIE",
        "outputId": "c13378ef-4913-45a2-97e2-ed5673a066b2"
      },
      "source": [
        "di = demanda\n",
        "\n",
        "padroes, sobras = FFD(L, li, di)\n",
        "print(padroes)\n",
        "print(len(padroes))\n",
        "print(sobras)\n",
        "print(sum(sobras))"
      ],
      "execution_count": null,
      "outputs": [
        {
          "output_type": "stream",
          "text": [
            "[[1450, 1450, 575, 550], [550, 550, 550, 550, 550, 550]]\n",
            "2\n",
            "[475, 1200]\n",
            "1675\n"
          ],
          "name": "stdout"
        }
      ]
    },
    {
      "cell_type": "code",
      "metadata": {
        "colab": {
          "base_uri": "https://localhost:8080/"
        },
        "id": "-7gL6XlA95q6",
        "outputId": "5fb55f81-2b00-46d8-de84-7ad13b349611"
      },
      "source": [
        "775+1675"
      ],
      "execution_count": null,
      "outputs": [
        {
          "output_type": "execute_result",
          "data": {
            "text/plain": [
              "2450"
            ]
          },
          "metadata": {
            "tags": []
          },
          "execution_count": 46
        }
      ]
    }
  ]
}