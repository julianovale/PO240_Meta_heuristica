{
  "nbformat": 4,
  "nbformat_minor": 0,
  "metadata": {
    "colab": {
      "name": "PO240-Semana03_03.ipynb",
      "provenance": [],
      "collapsed_sections": [],
      "authorship_tag": "ABX9TyNVRaO+hNeZiKsrjZSfUHEI",
      "include_colab_link": true
    },
    "kernelspec": {
      "name": "python3",
      "display_name": "Python 3"
    },
    "language_info": {
      "name": "python"
    }
  },
  "cells": [
    {
      "cell_type": "markdown",
      "metadata": {
        "id": "view-in-github",
        "colab_type": "text"
      },
      "source": [
        "<a href=\"https://colab.research.google.com/github/julianovale/PO240_Meta_heuristica/blob/main/PO240_Semana03_03.ipynb\" target=\"_parent\"><img src=\"https://colab.research.google.com/assets/colab-badge.svg\" alt=\"Open In Colab\"/></a>"
      ]
    },
    {
      "cell_type": "code",
      "metadata": {
        "colab": {
          "base_uri": "https://localhost:8080/"
        },
        "id": "sgW3om6aqIXJ",
        "outputId": "8b1bb680-6111-4eb4-9e58-acf96a80bff1"
      },
      "source": [
        "! pip install docplex\n",
        "! pip install cplex"
      ],
      "execution_count": 18,
      "outputs": [
        {
          "output_type": "stream",
          "text": [
            "Requirement already satisfied: docplex in /usr/local/lib/python3.7/dist-packages (2.20.204)\n",
            "Requirement already satisfied: six in /usr/local/lib/python3.7/dist-packages (from docplex) (1.15.0)\n",
            "Requirement already satisfied: requests in /usr/local/lib/python3.7/dist-packages (from docplex) (2.23.0)\n",
            "Requirement already satisfied: certifi>=2017.4.17 in /usr/local/lib/python3.7/dist-packages (from requests->docplex) (2020.12.5)\n",
            "Requirement already satisfied: chardet<4,>=3.0.2 in /usr/local/lib/python3.7/dist-packages (from requests->docplex) (3.0.4)\n",
            "Requirement already satisfied: urllib3!=1.25.0,!=1.25.1,<1.26,>=1.21.1 in /usr/local/lib/python3.7/dist-packages (from requests->docplex) (1.24.3)\n",
            "Requirement already satisfied: idna<3,>=2.5 in /usr/local/lib/python3.7/dist-packages (from requests->docplex) (2.10)\n",
            "Requirement already satisfied: cplex in /usr/local/lib/python3.7/dist-packages (20.1.0.1)\n"
          ],
          "name": "stdout"
        }
      ]
    },
    {
      "cell_type": "markdown",
      "metadata": {
        "id": "TJwJlIxm3lGR"
      },
      "source": [
        "# Problema:\n",
        "\n",
        "## Variáveis de decisão:\n",
        "\n",
        "\n",
        "$x_1$: Quantidade do produto 1 (P1); </br>\n",
        "$x_2$: Quantidade do produto 2 (P2); </br>\n",
        "\n",
        "## Restrições:\n",
        "\n",
        "*s.t.:*</br>\n",
        "$x_1 \\leq 3$ </br>\n",
        "$x_2 \\leq 4$ </br>\n",
        "$x_1 + 2x_2 \\leq 9$ </br>\n",
        "$x_1, x_2 \\geq 0$ </br>\n",
        "\n",
        "## Função objetivo:\n",
        "\n",
        "$Max\\ Z = 5x_1 + 2x_2$ "
      ]
    },
    {
      "cell_type": "code",
      "metadata": {
        "colab": {
          "base_uri": "https://localhost:8080/"
        },
        "id": "rLLwxwUCqQyh",
        "outputId": "491f4957-732f-4f6b-af23-e1c1202f3b0d"
      },
      "source": [
        "# Solução relaxada - restrições uma a uma\n",
        "\n",
        "from docplex.mp.model import Model\n",
        "\n",
        "plc = Model(name='Plano de Produção - PL - CPLEX')\n",
        "\n",
        "x1 = plc.continuous_var(0, None, \"x1\")\n",
        "x2 = plc.continuous_var(0, None, \"x2\")\n",
        "\n",
        "plc.add_constraint(1*x1+0*x2 <= 3)\n",
        "plc.add_constraint(0*x1+1*x2 <= 4)\n",
        "plc.add_constraint(1*x1+2*x2 <= 9)\n",
        "\n",
        "plc.maximize(5*x1+2*x2)\n",
        "\n",
        "plc.solve()\n",
        "\n",
        "print(\"FO = \", plc.objective_value)\n",
        "print(\"x1 = \", x1.solution_value)\n",
        "print(\"x2 = \", x2.solution_value)"
      ],
      "execution_count": 19,
      "outputs": [
        {
          "output_type": "stream",
          "text": [
            "FO =  21.0\n",
            "x1 =  3.0\n",
            "x2 =  3.0\n"
          ],
          "name": "stdout"
        }
      ]
    },
    {
      "cell_type": "code",
      "metadata": {
        "colab": {
          "base_uri": "https://localhost:8080/"
        },
        "id": "EJfKzqxP8MeU",
        "outputId": "5693943c-f401-4b3f-edfa-30a13d07f56d"
      },
      "source": [
        "# Matriz de restrições\n",
        "\n",
        "from docplex.mp.model import Model\n",
        "\n",
        "plic2 = Model(name='Plano de Produção - PLI - CPLEX')\n",
        "\n",
        "nvar = 2\n",
        "nrest = 3\n",
        "\n",
        "# Matriz A vezes o vetor x\n",
        "# A*x <= b\n",
        "\n",
        "A = [[1,0],[0,1],[1,2]] # Matriz de coeficientes\n",
        "b = [4, 4, 9] # Vetor de resultados\n",
        "c = [5.00, 2.00] # Coeficientes da função objetivo\n",
        "\n",
        "# Criando o vetor das variáveis\n",
        "x = []\n",
        "for j in range(nvar):\n",
        "  tmp = plic2.continuous_var(0,None,'x'+str(j))\n",
        "  x.append(tmp)\n",
        "\n",
        "for i in range(nrest):\n",
        "  plic2.add_constraint(plic2.sum(A[i][j]*x[j] for j in range(nvar)) <= b[i])\n",
        "\n",
        "# Z = ct*x ('c' transposto vezes 'x') ==> Função objetivo\n",
        "plic2.maximize(plic2.sum(c[j]*x[j] for j in range(nvar)))\n",
        "\n",
        "# solução:\n",
        "plic2.solve()\n",
        "\n",
        "print(\"FO = \", plic2.objective_value)\n",
        "for j in range(nvar):\n",
        "  print(\"Quantidade de P%d\"%(j+1),\" = \", x[j].solution_value)"
      ],
      "execution_count": 20,
      "outputs": [
        {
          "output_type": "stream",
          "text": [
            "FO =  25.0\n",
            "Quantidade de P1  =  4.0\n",
            "Quantidade de P2  =  2.5\n"
          ],
          "name": "stdout"
        }
      ]
    },
    {
      "cell_type": "code",
      "metadata": {
        "colab": {
          "base_uri": "https://localhost:8080/"
        },
        "id": "SRY1cTS-I4y_",
        "outputId": "dc7d6e39-f68f-46f9-988c-85b8d5d64933"
      },
      "source": [
        "# Solução inteira - Matriz de restrições\n",
        "\n",
        "from docplex.mp.model import Model\n",
        "\n",
        "plic2 = Model(name='Plano de Produção - PLI - CPLEX')\n",
        "\n",
        "nvar = 2\n",
        "nrest = 3\n",
        "\n",
        "# Matriz A vezes o vetor x\n",
        "# A*x <= b\n",
        "\n",
        "A = [[1,0],[0,1],[1,2]] # Matriz de coeficientes\n",
        "b = [4, 4, 9] # Vetor de resultados\n",
        "c = [5.00, 2.00] # Coeficientes da função objetivo\n",
        "\n",
        "# Criando o vetor das variáveis\n",
        "x = []\n",
        "for j in range(nvar):\n",
        "  tmp = plic2.integer_var(0,None,'x'+str(j)) # resolve mas é caro do ponto de vista computacional (o algoritmo não é o Simplex)\n",
        "  x.append(tmp) \n",
        "\n",
        "# Restrições\n",
        "for i in range(nrest):\n",
        "  plic2.add_constraint(plic2.sum(A[i][j]*x[j] for j in range(nvar)) <= b[i])\n",
        "\n",
        "# Z = ct*x ('c' transposto vezes 'x') ==> Função objetivo\n",
        "plic2.maximize(plic2.sum(c[j]*x[j] for j in range(nvar)))\n",
        "\n",
        "# solução:\n",
        "plic2.solve()\n",
        "\n",
        "print(\"FO = \", plic2.objective_value)\n",
        "for j in range(nvar):\n",
        "  print(\"Quantidade de P%d\"%(j+1),\" = \", x[j].solution_value)"
      ],
      "execution_count": 21,
      "outputs": [
        {
          "output_type": "stream",
          "text": [
            "FO =  24.0\n",
            "Quantidade de P1  =  4.0\n",
            "Quantidade de P2  =  2.0\n"
          ],
          "name": "stdout"
        }
      ]
    },
    {
      "cell_type": "code",
      "metadata": {
        "colab": {
          "base_uri": "https://localhost:8080/"
        },
        "id": "kOxE0tXOWwQ4",
        "outputId": "9fde4388-245c-4dc5-9fc9-5be04d4c26d9"
      },
      "source": [
        "! pip install ortools"
      ],
      "execution_count": 1,
      "outputs": [
        {
          "output_type": "stream",
          "text": [
            "Requirement already satisfied: ortools in /usr/local/lib/python3.7/dist-packages (8.2.8710)\n",
            "Requirement already satisfied: absl-py>=0.11 in /usr/local/lib/python3.7/dist-packages (from ortools) (0.12.0)\n",
            "Requirement already satisfied: protobuf>=3.14.0 in /usr/local/lib/python3.7/dist-packages (from ortools) (3.15.7)\n",
            "Requirement already satisfied: six in /usr/local/lib/python3.7/dist-packages (from absl-py>=0.11->ortools) (1.15.0)\n"
          ],
          "name": "stdout"
        }
      ]
    },
    {
      "cell_type": "code",
      "metadata": {
        "colab": {
          "base_uri": "https://localhost:8080/"
        },
        "id": "PkemLJpYXOux",
        "outputId": "db51a7db-4b3a-4e8f-9b76-3744c81bd1fb"
      },
      "source": [
        "# Usando o solver do ORTools para variáveis inteiras (Solver: CBC)\n",
        "\n",
        "from ortools.linear_solver import pywraplp\n",
        "\n",
        "pli3 = pywraplp.Solver('Plano de Produção - PLI - CBC', pywraplp.Solver.CBC_MIXED_INTEGER_PROGRAMMING)\n",
        "\n",
        "nvar = 2\n",
        "nrest = 3\n",
        "\n",
        "A = [[1,0],[0,1],[1,2]] # Matriz de coeficientes\n",
        "b = [4, 4, 9] # Vetor de resultados\n",
        "c = [5.00, 2.00] # Coeficientes da função objetivo\n",
        "\n",
        "# Variáveis de decisão\n",
        "x = []\n",
        "for j in range(nvar):\n",
        "  tmp = pli3.IntVar(0,pli3.infinity(),'x'+str(j))\n",
        "  x.append(tmp)\n",
        "\n",
        "# Restrições\n",
        "for i in range(nrest):\n",
        "  pli3.Add(pli3.Sum(A[i][j]*x[j] for j in range(nvar)) <= b[i])\n",
        "\n",
        "# Função objetivo\n",
        "pli3.Maximize(pli3.Sum(c[j]*x[j] for j in range(nvar)))\n",
        "\n",
        "# Solução:\n",
        "pli3.Solve()\n",
        "\n",
        "# Relatório:\n",
        "print(\"FO = \", pli3.Objective().Value())\n",
        "for j in range(nvar):\n",
        "  print(\"Quantidade de P%d\"%(j+1),\" = \", x[j].solution_value())"
      ],
      "execution_count": 14,
      "outputs": [
        {
          "output_type": "stream",
          "text": [
            "FO =  24.0\n",
            "Quantidade de P1  =  4.0\n",
            "Quantidade de P2  =  2.0\n"
          ],
          "name": "stdout"
        }
      ]
    }
  ]
}