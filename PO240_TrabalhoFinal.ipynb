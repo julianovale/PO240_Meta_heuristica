{
  "nbformat": 4,
  "nbformat_minor": 0,
  "metadata": {
    "colab": {
      "name": "PO240_TrabalhoFinal.ipynb",
      "provenance": [],
      "collapsed_sections": [],
      "authorship_tag": "ABX9TyPPIAq/z0+pq5youPifZIqD",
      "include_colab_link": true
    },
    "kernelspec": {
      "name": "python3",
      "display_name": "Python 3"
    },
    "language_info": {
      "name": "python"
    }
  },
  "cells": [
    {
      "cell_type": "markdown",
      "metadata": {
        "id": "view-in-github",
        "colab_type": "text"
      },
      "source": [
        "<a href=\"https://colab.research.google.com/github/julianovale/PO240_Meta_heuristica/blob/main/PO240_TrabalhoFinal.ipynb\" target=\"_parent\"><img src=\"https://colab.research.google.com/assets/colab-badge.svg\" alt=\"Open In Colab\"/></a>"
      ]
    },
    {
      "cell_type": "markdown",
      "metadata": {
        "id": "6neP9B3zT3JB"
      },
      "source": [
        "# Colônia de Formigas"
      ]
    },
    {
      "cell_type": "code",
      "metadata": {
        "id": "weRw5f5FPAXG"
      },
      "source": [
        "############################################################################\n",
        "\n",
        "# Created by: Prof. Valdecy Pereira, D.Sc.\n",
        "# UFF - Universidade Federal Fluminense (Brazil)\n",
        "# email:  valdecy.pereira@gmail.com\n",
        "# Course: Metaheuristics\n",
        "# Lesson: Ant Colony Optimization\n",
        "\n",
        "# Citation: \n",
        "# PEREIRA, V. (2018). Project: Metaheuristic-Ant_Colony_Optimization, File: Python-MH-Ant Colony Optimization.py, GitHub repository: <https://github.com/Valdecy/Metaheuristic-Ant_Colony_Optimization>\n",
        "\n",
        "############################################################################\n",
        "\n",
        "\n",
        "import pandas as pd\n",
        "import random\n",
        "import numpy  as np\n",
        "import copy\n",
        "import os\n",
        "from matplotlib import pyplot as plt \n",
        "import time \n",
        "\n",
        "# Function: Tour Distance\n",
        "def distance_calc(Xdata, city_tour):\n",
        "    distance = 0\n",
        "    for k in range(0, len(city_tour[0])-1):\n",
        "        m = k + 1\n",
        "        distance = distance + Xdata[city_tour[0][k]-1, city_tour[0][m]-1]            \n",
        "    return distance\n",
        "\n",
        "# Function: Euclidean Distance \n",
        "def euclidean_distance(x, y):       \n",
        "    distance = 0\n",
        "    for j in range(0, len(x)):\n",
        "        distance = (x[j] - y[j])**2 + distance   \n",
        "    return distance**(1/2) \n",
        "\n",
        "# Function: Build Distance Matrix\n",
        "def buid_distance_matrix(coordinates):\n",
        "    Xdata = np.zeros((coordinates.shape[0], coordinates.shape[0]))\n",
        "    for i in range(0, Xdata.shape[0]):\n",
        "        for j in range(0, Xdata.shape[1]):\n",
        "            if (i != j):\n",
        "                x = coordinates[i,:]\n",
        "                y = coordinates[j,:]\n",
        "                Xdata[i,j] = euclidean_distance(x, y)        \n",
        "    return Xdata\n",
        "\n",
        "# Function: Tour Plot\n",
        "def plot_tour_distance_matrix(Xdata, city_tour):\n",
        "    m = np.copy(Xdata)\n",
        "    for i in range(0, Xdata.shape[0]):\n",
        "        for j in range(0, Xdata.shape[1]):\n",
        "            m[i,j] = (1/2)*(Xdata[0,j]**2 + Xdata[i,0]**2 - Xdata[i,j]**2)    \n",
        "    w, u = np.linalg.eig(np.matmul(m.T, m))\n",
        "    s = (np.diag(np.sort(w)[::-1]))**(1/2) \n",
        "    coordinates = np.matmul(u, s**(1/2))\n",
        "    coordinates = coordinates.real[:,0:2]\n",
        "    xy = np.zeros((len(city_tour[0]), 2))\n",
        "    for i in range(0, len(city_tour[0])):\n",
        "        if (i < len(city_tour[0])):\n",
        "            xy[i, 0] = coordinates[city_tour[0][i]-1, 0]\n",
        "            xy[i, 1] = coordinates[city_tour[0][i]-1, 1]\n",
        "        else:\n",
        "            xy[i, 0] = coordinates[city_tour[0][0]-1, 0]\n",
        "            xy[i, 1] = coordinates[city_tour[0][0]-1, 1]\n",
        "    plt.plot(xy[:,0], xy[:,1], marker = 's', alpha = 1, markersize = 7, color = 'black')\n",
        "    plt.plot(xy[0,0], xy[0,1], marker = 's', alpha = 1, markersize = 7, color = 'red')\n",
        "    plt.plot(xy[1,0], xy[1,1], marker = 's', alpha = 1, markersize = 7, color = 'orange')\n",
        "    return\n",
        "\n",
        "# Function: Initial Attractiveness\n",
        "def attractiveness(Xdata):\n",
        "    h = np.zeros((Xdata.shape[0], Xdata.shape[0]))  \n",
        "    for i in range(0, Xdata.shape[0]):\n",
        "        for j in range(0, Xdata.shape[1]):\n",
        "            if (i == j or Xdata[i,j] == 0):\n",
        "                h[i, j] = 0.000001\n",
        "            else:\n",
        "                h[i, j] = 1/Xdata[i,j]   \n",
        "    return h\n",
        "\n",
        "# Function: Tour Plot\n",
        "def plot_tour_coordinates(coordinates, city_tour):\n",
        "    xy = np.zeros((len(city_tour[0]), 2))\n",
        "    for i in range(0, len(city_tour[0])):\n",
        "        if (i < len(city_tour[0])):\n",
        "            xy[i, 0] = coordinates[city_tour[0][i]-1, 0]\n",
        "            xy[i, 1] = coordinates[city_tour[0][i]-1, 1]\n",
        "        else:\n",
        "            xy[i, 0] = coordinates[city_tour[0][0]-1, 0]\n",
        "            xy[i, 1] = coordinates[city_tour[0][0]-1, 1]\n",
        "    plt.plot(xy[:,0], xy[:,1], marker = 's', alpha = 1, markersize = 7, color = 'black')\n",
        "    plt.plot(xy[0,0], xy[0,1], marker = 's', alpha = 1, markersize = 7, color = 'red')\n",
        "    plt.plot(xy[1,0], xy[1,1], marker = 's', alpha = 1, markersize = 7, color = 'orange')\n",
        "    return\n",
        "\n",
        "# Function: Probability Matrix \n",
        "def city_probability(h, thau, city = 0, alpha = 1, beta = 2, city_list = []):\n",
        "    probability = np.zeros((h.shape[0], 3)) # ['atraction','probability','cumulative_probability']\n",
        "    for i in range(0, probability.shape[0]):\n",
        "        if (i+1 not in city_list):\n",
        "            probability[i, 0] = (thau[i, city]**alpha)*(h[i, city]**beta)\n",
        "    for i in range(0, probability.shape[0]):\n",
        "        if (i+1 not in city_list and probability[:,0].sum() != 0):\n",
        "            probability[i, 1] = probability[i, 0]/probability[:,0].sum()\n",
        "        if (i == 0):\n",
        "            probability[i, 2] =  probability[i, 1] \n",
        "        else:\n",
        "            probability[i, 2] = probability[i, 1] + probability[i - 1, 2]     \n",
        "    if (len(city_list) > 0):\n",
        "        for i in range(0, len(city_list)):\n",
        "            probability[city_list[i]-1, 2] = 0.0            \n",
        "    return probability\n",
        "\n",
        "# Function: Select Next City\n",
        "def city_selection(probability_matrix, city_list = []):\n",
        "    random = int.from_bytes(os.urandom(8), byteorder = \"big\") / ((1 << 64) - 1)\n",
        "    city = 0\n",
        "    for i in range(0, probability_matrix.shape[0]):\n",
        "        if (random <= probability_matrix[i, 2] and i+1 not in city_list):\n",
        "          city = i+1\n",
        "          break     \n",
        "    return city\n",
        "\n",
        "# Function: Update Thau\n",
        "def update_thau(Xdata, thau, city_list = []):\n",
        "    distance = 0\n",
        "    for i in range(0, len(city_list)-1):\n",
        "        j = i + 1\n",
        "        distance = distance + Xdata[city_list[i]-1,city_list[j]-1] \n",
        "    pheromone = 1  \n",
        "    for i in range(0, len(city_list)-1):\n",
        "        j = i + 1 \n",
        "        thau[city_list[i]-1,city_list[j]-1] = thau[city_list[i]-1,city_list[j]-1] + pheromone        \n",
        "    return thau\n",
        "\n",
        "# Function: 2_opt\n",
        "def local_search_2_opt(Xdata, city_tour, recursive_seeding = -1):\n",
        "    if (recursive_seeding < 0):\n",
        "        count = -2\n",
        "    else:\n",
        "        count = 0\n",
        "    city_list_new = copy.deepcopy([city_tour[0]])\n",
        "    city_list_new.append(city_tour[1])\n",
        "    city_list_old = city_list_new[1]*2\n",
        "    iteration = 0\n",
        "    while (count < recursive_seeding):\n",
        "        best_route = copy.deepcopy(city_list_new)\n",
        "        seed = copy.deepcopy(city_list_new)        \n",
        "        for i in range(0, len(city_list_new[0]) - 2):\n",
        "            for j in range(i+1, len(city_list_new[0]) - 1):\n",
        "                best_route[0][i:j+1] = list(reversed(best_route[0][i:j+1]))           \n",
        "                best_route[0][-1]  = best_route[0][0]              \n",
        "                best_route[1] = distance_calc(Xdata, best_route)                     \n",
        "                if (city_list_new[1] > best_route[1]):\n",
        "                    city_list_new = copy.deepcopy(best_route)         \n",
        "                best_route = copy.deepcopy(seed)\n",
        "        count = count + 1\n",
        "        iteration = iteration + 1  \n",
        "        if (city_list_old > city_list_new[1] and recursive_seeding < 0):\n",
        "             city_list_old = city_list_new[1]\n",
        "             count = -2\n",
        "             recursive_seeding = -1\n",
        "        elif(city_list_new[1] >= city_list_old and recursive_seeding < 0):\n",
        "            count = -1\n",
        "            recursive_seeding = -2\n",
        "    return city_list_new[0], city_list_new[1]\n",
        "\n",
        "# Function: Ants City List\n",
        "def ants_path(Xdata, h, thau, alpha, beta, full_list, ants):\n",
        "    distance           = np.sum(Xdata.sum())\n",
        "    best_city_list     = []\n",
        "    best_path_distance = []\n",
        "    for ant in range(0, ants):\n",
        "        city_list = []\n",
        "        initial = random.randrange(1, Xdata.shape[0])\n",
        "        city_list.append(initial)           \n",
        "        for i in range(0, Xdata.shape[0] - 1):\n",
        "            probability = city_probability(h, thau, city = i, alpha = alpha, beta = beta, city_list = city_list)\n",
        "            path_point  = city_selection(probability, city_list = city_list)\n",
        "            if (path_point == 0):\n",
        "                path_point = [value for value in full_list if value not in city_list][0]\n",
        "            city_list.append(path_point)\n",
        "        city_list.append(city_list[0])\n",
        "        path_distance = 0\n",
        "        for i in range(0, len(city_list)-1):\n",
        "            j = i + 1\n",
        "            path_distance = path_distance + Xdata[city_list[i]-1,city_list[j]-1] \n",
        "        if (distance > path_distance):\n",
        "            best_city_list     = copy.deepcopy(city_list)\n",
        "            best_path_distance = path_distance\n",
        "            distance           = path_distance\n",
        "    best_route = copy.deepcopy([best_city_list])\n",
        "    best_route.append(best_path_distance)\n",
        "    best_city_list, best_path_distance = local_search_2_opt(Xdata, city_tour = best_route, recursive_seeding = -1)\n",
        "    thau = update_thau(Xdata, thau, city_list = best_city_list)\n",
        "    return best_city_list, best_path_distance, thau\n",
        "\n",
        "# ACO Function\n",
        "def ant_colony_optimization(Xdata, ants = 5, iterations = 50, alpha = 1, beta = 2, decay = 0.05): \n",
        "    inicio = time.time()\n",
        "    count       = 0  \n",
        "    best_route  = [] \n",
        "    full_list   = list(range(1, Xdata.shape[0] + 1))\n",
        "    distance    = np.sum(Xdata.sum())\n",
        "    h           = attractiveness(Xdata)\n",
        "    thau        = np.ones((Xdata.shape[0], Xdata.shape[0]))  \n",
        "    eixox = []\n",
        "    eixoy = []\n",
        "    while (count <= iterations):\n",
        "        if (count > 0):\n",
        "            print(\"Iteration = \", count, \" -> Distance = \", best_route[1])\n",
        "            eixox.append(count)\n",
        "            eixoy.append(best_route[1])            \n",
        "        city_list, path_distance, thau = ants_path(Xdata, h, thau, alpha, beta, full_list, ants)\n",
        "        thau = thau*(1 - decay)\n",
        "        if (distance > path_distance):\n",
        "            best_route = copy.deepcopy([city_list])\n",
        "            best_route.append(path_distance)\n",
        "            distance = best_route[1]\n",
        "        count = count + 1  \n",
        "\n",
        "    fim = time.time()  \n",
        "    print(\"Tempo de execução (s): \", fim - inicio)  \n",
        "    print(\"Melhor rota: \", best_route)       \n",
        "    return  best_route, eixox, eixoy"
      ],
      "execution_count": 1,
      "outputs": []
    },
    {
      "cell_type": "markdown",
      "metadata": {
        "id": "62x97KbIhAci"
      },
      "source": [
        "# Simulated Annealing"
      ]
    },
    {
      "cell_type": "code",
      "metadata": {
        "id": "SY51Qg6Fg-lu"
      },
      "source": [
        "###################################################################################################\n",
        "\n",
        "#  Algoritmo desenvolvido por Juliano Vale e Matheus Evangelista\n",
        "#  Baseado em aula de otimização para função contínua (função de Himmelblau) do curso \"Optimization  \n",
        "#  with metaheuristics in Python\" - Profa. Dana Bani-Hani - Binghamton University (NY - USA)\n",
        "#  https://www.udemy.com/course/optimization-with-metaheuristics/\n",
        "\n",
        "###################################################################################################\n",
        "\n",
        "import numpy as np\n",
        "import pandas as pd\n",
        "import matplotlib.pyplot as plt\n",
        "import math\n",
        "import random\n",
        "\n",
        "# função copiada de https://github.com/Valdecy/Summary\n",
        "def caminho(coordinates, city_tour):\n",
        "    xy = np.zeros((len(city_tour), 2))\n",
        "    for i in range(0, len(city_tour)):\n",
        "        if (i < len(city_tour)):\n",
        "            xy[i, 0] = coordinates[int(city_tour[i]-1), 0]\n",
        "            xy[i, 1] = coordinates[int(city_tour[i]-1), 1]\n",
        "        else:\n",
        "            xy[i, 0] = coordinates[int(city_tour[0]-1), 0]\n",
        "            xy[i, 1] = coordinates[int(city_tour[0]-1), 1]\n",
        "    plt.plot(xy[:,0], xy[:,1], marker = 's', alpha = 1, markersize = 7, color = 'black')\n",
        "    plt.plot(xy[0,0], xy[0,1], marker = 's', alpha = 1, markersize = 7, color = 'red')\n",
        "    plt.plot(xy[1,0], xy[1,1], marker = 's', alpha = 1, markersize = 7, color = 'orange')\n",
        "    return\n",
        "\n",
        "\n",
        "# função copiada de https://developers.google.com/optimization/routing/tsp\n",
        "# Essa função é interessante para placa de circuito impresso, trabalha com espaço plano. NÃO USAR PARA CIDADES!!!\n",
        "# para cidades utilizar alguma função de geocodificação\n",
        "def compute_euclidean_distance_matrix(locations): \n",
        "    distances = {}\n",
        "    for from_counter, from_node in enumerate(locations):\n",
        "        distances[from_counter] = {}\n",
        "        for to_counter, to_node in enumerate(locations):\n",
        "            if from_counter == to_counter:\n",
        "                distances[from_counter][to_counter] = 0\n",
        "            else:\n",
        "                # Euclidean distance\n",
        "                distances[from_counter][to_counter] = (int(\n",
        "                    math.hypot((from_node[0] - to_node[0]),\n",
        "                               (from_node[1] - to_node[1]))))\n",
        "    return distances\n",
        "\n",
        "\n",
        "def SA(coordenadas, T0 = 1000, M = 250, N = 5, Alpha = 0.9):\n",
        "\n",
        "  df = pd.read_csv(coordenadas)\n",
        "  Y = df.values\n",
        "\n",
        "  distancias = compute_euclidean_distance_matrix(Y)\n",
        "\n",
        "  teste1 = pd.DataFrame.from_dict(distancias, orient='index')\n",
        "\n",
        "  Data1 = teste1\n",
        "\n",
        "  \n",
        "  # X0 = [6, 7, 8, 9, 14, 18, 21, 20, 22, 23, 24, 19, 13, 17, 16, 15, 10, 12, 11, 3, 2, 1, 0, 4, 5, 6]\n",
        "  X0 = np.arange(len(teste1)).tolist() # solução inicial aleatória\n",
        "  X0 = random.sample(X0, len(X0))\n",
        "  X0.append(X0[0])\n",
        "  print(X0)\n",
        "\n",
        "  ### NÃO SÃO MAIS CIDADES... SÃO PONTOS NA PLACA DE CIRCUITO IMPRESSO: TROCAR NOME DAS VARIÁVEIS? NÃO PRECISA!\n",
        "\n",
        "  Distances = [] \n",
        "  t = 0\n",
        "  for i in range(len(X0)-1):\n",
        "      X1 = Data1.loc[X0[t],X0[t+1]] # cada localidade e a localidade após\n",
        "      X11 = Data1.loc[X0[-1],X0[0]] # a útlima cidade para a primeira cidade\n",
        "      Distances.append(X1) \n",
        "      t = t+1\n",
        "\n",
        "  Distances.append(X11) # adiciona o últino trajeto \n",
        "  distanciainicial = sum(Distances) # soma das distâncias\n",
        "\n",
        "  print(\"Solução inicial: \", distanciainicial)\n",
        "\n",
        "  ### parametros ### Já pus na def, comentar\n",
        "\n",
        "  # T0 = 3000\n",
        "  # M = 1000\n",
        "  # N = 50\n",
        "  # Alpha = 0.85\n",
        "\n",
        "  TempIni = T0 # para impressão do gráfico final\n",
        "\n",
        "  # Para gerar visualização\n",
        "  Temp = []\n",
        "  Min_Distance = []\n",
        "\n",
        "\n",
        "  for i in range(M):\n",
        "      for j in range(N):\n",
        "          # Gerando inteiros para fazer a troca de \"cidades\"\n",
        "          Ran1 = np.random.randint(0,len(X0))\n",
        "          Ran2 = np.random.randint(0,len(X0))\n",
        "          while Ran1 == Ran2:\n",
        "              Ran2 = np.random.randint(0,len(X0))\n",
        "          \n",
        "          Xtemp = []\n",
        "          A1 = X0[Ran1] # cidade 1 para trocar\n",
        "          A2 = X0[Ran2] # cidade 2 para trocar\n",
        "          \n",
        "          # Fazendo uma nova lista de cidades\n",
        "          w = 0\n",
        "          for i in X0:\n",
        "              if X0[w]==A1:\n",
        "                  Xtemp=np.append(Xtemp,A2)\n",
        "              elif X0[w]==A2:\n",
        "                  Xtemp=np.append(Xtemp,A1)\n",
        "              else:\n",
        "                  Xtemp=np.append(Xtemp,X0[w])\n",
        "              w = w+1\n",
        "          \n",
        "          Xtemp = list(Xtemp)\n",
        "          \n",
        "          Distances_X0 = [] # a função objetivo da atual solução\n",
        "          t = 0\n",
        "          for i in range(len(X0)-1):\n",
        "              X1_1 = Data1.loc[X0[t],X0[t+1]] \n",
        "              X11 = Data1.loc[X0[-1],X0[0]] \n",
        "              Distances_X0.append(X1_1) \n",
        "              t = t+1\n",
        "          \n",
        "          Distances_X0.append(X11) \n",
        "          Len_X0 = sum(Distances_X0) \n",
        "          \n",
        "          ### Esse trecho do código está repetitivo... criar uma def (se der tempo!!!)\n",
        "          Distances_Xtemp = [] # A FO da solução (n+1)\n",
        "          t = 0 \n",
        "          for i in range(len(Xtemp)-1):\n",
        "              X1_2 = Data1.loc[Xtemp[t],Xtemp[t+1]] \n",
        "              X11 = Data1.loc[Xtemp[-1],Xtemp[0]] \n",
        "              Distances_Xtemp.append(X1_2) \n",
        "              t = t+1\n",
        "          \n",
        "          Distances_Xtemp.append(X11)\n",
        "          Len_Xtemp = sum(Distances_Xtemp)\n",
        "          \n",
        "          \n",
        "          rand_num = np.random.rand() # cria um número aleatório \n",
        "          form_1 = 1/(np.exp((Len_Xtemp-Len_X0)/T0)) # o pulo do gato (no código anterior não funcionava): ACEITA MUDANÇA?\n",
        "          \n",
        "          if Len_Xtemp <= Len_X0: # se a solução potencial é melhor (menor, no caso)\n",
        "              X0 = Xtemp\n",
        "          \n",
        "          elif rand_num <= form_1: # se o número aleatório gerado na linha 118 for menor.\n",
        "              X0 = Xtemp\n",
        "          \n",
        "          else: # não aceita a potencial solução e fica onde está\n",
        "              X0 = X0\n",
        "              \n",
        "      Temp = np.append(Temp, T0) # para visualização\n",
        "      Min_Distance = np.append(Min_Distance,Len_Xtemp) # para visualização\n",
        "      \n",
        "      T0 = Alpha*T0 # reduz a temperatura\n",
        "      \n",
        "      \n",
        "      \n",
        "      \n",
        "      \n",
        "\n",
        "  print\n",
        "  print\n",
        "  print(\"Solução final: \", X0)\n",
        "  print(\"A distância obtida na solução final é: \", Len_X0)\n",
        "  print\n",
        "  print\n",
        "\n",
        "  eixox = np.arange(1, TempIni+1, TempIni/M)\n",
        "  eixox[::-1]\n",
        "  plt.plot(eixox, Min_Distance)\n",
        "  plt.title('Distância x Temperatura')\n",
        "  plt.xlabel(\"Temperatura\")\n",
        "  plt.ylabel(\"Distância\")\n",
        "  plt.show()\n",
        "\n",
        "  return X0"
      ],
      "execution_count": 2,
      "outputs": []
    },
    {
      "cell_type": "markdown",
      "metadata": {
        "id": "Yt9LDifFhNdC"
      },
      "source": [
        "# Instância 1: Vox Treble Booster - Colônia de Formigas\n",
        "\n",
        "\n"
      ]
    },
    {
      "cell_type": "code",
      "metadata": {
        "colab": {
          "base_uri": "https://localhost:8080/",
          "height": 1000
        },
        "id": "v3evXK2PTdjA",
        "outputId": "a41d72d0-8eb9-4762-f5c0-0219c267e7f4"
      },
      "source": [
        "%%time\n",
        "url = 'https://raw.githubusercontent.com/julianovale/PO240_Meta_heuristica/main/TrabalhoFinal/VoxTrebleBosster.txt'\n",
        "df = pd.read_csv(url)\n",
        "Y = df.values\n",
        "\n",
        "X = buid_distance_matrix(Y)\n",
        "\n",
        "aco, x, y = ant_colony_optimization(X, ants = 4, iterations = 50, alpha = 1, beta = 2, decay = 0.10)\n",
        "\n",
        "plot_tour_coordinates(Y, aco)"
      ],
      "execution_count": 3,
      "outputs": [
        {
          "output_type": "stream",
          "text": [
            "Iteration =  1  -> Distance =  36.616020898215645\n",
            "Iteration =  2  -> Distance =  36.616020898215645\n",
            "Iteration =  3  -> Distance =  36.58696084529313\n",
            "Iteration =  4  -> Distance =  36.58696084529313\n",
            "Iteration =  5  -> Distance =  36.58696084529313\n",
            "Iteration =  6  -> Distance =  36.58696084529313\n",
            "Iteration =  7  -> Distance =  36.58696084529313\n",
            "Iteration =  8  -> Distance =  35.15298244508295\n",
            "Iteration =  9  -> Distance =  35.15298244508295\n",
            "Iteration =  10  -> Distance =  35.15298244508295\n",
            "Iteration =  11  -> Distance =  35.15298244508295\n",
            "Iteration =  12  -> Distance =  35.15298244508295\n",
            "Iteration =  13  -> Distance =  35.15298244508295\n",
            "Iteration =  14  -> Distance =  35.15298244508295\n",
            "Iteration =  15  -> Distance =  35.15298244508295\n",
            "Iteration =  16  -> Distance =  35.15298244508295\n",
            "Iteration =  17  -> Distance =  35.15298244508295\n",
            "Iteration =  18  -> Distance =  35.15298244508295\n",
            "Iteration =  19  -> Distance =  35.15298244508295\n",
            "Iteration =  20  -> Distance =  35.15298244508295\n",
            "Iteration =  21  -> Distance =  35.15298244508295\n",
            "Iteration =  22  -> Distance =  35.15298244508295\n",
            "Iteration =  23  -> Distance =  35.15298244508295\n",
            "Iteration =  24  -> Distance =  35.15298244508295\n",
            "Iteration =  25  -> Distance =  35.15298244508295\n",
            "Iteration =  26  -> Distance =  35.15298244508295\n",
            "Iteration =  27  -> Distance =  35.15298244508295\n",
            "Iteration =  28  -> Distance =  35.15298244508295\n",
            "Iteration =  29  -> Distance =  35.15298244508295\n",
            "Iteration =  30  -> Distance =  35.15298244508295\n",
            "Iteration =  31  -> Distance =  35.15298244508295\n",
            "Iteration =  32  -> Distance =  35.15298244508295\n",
            "Iteration =  33  -> Distance =  35.15298244508295\n",
            "Iteration =  34  -> Distance =  35.15298244508295\n",
            "Iteration =  35  -> Distance =  35.15298244508295\n",
            "Iteration =  36  -> Distance =  35.15298244508295\n",
            "Iteration =  37  -> Distance =  35.15298244508295\n",
            "Iteration =  38  -> Distance =  35.15298244508294\n",
            "Iteration =  39  -> Distance =  35.15298244508294\n",
            "Iteration =  40  -> Distance =  35.15298244508294\n",
            "Iteration =  41  -> Distance =  35.15298244508294\n",
            "Iteration =  42  -> Distance =  35.15298244508294\n",
            "Iteration =  43  -> Distance =  35.15298244508294\n",
            "Iteration =  44  -> Distance =  35.15298244508294\n",
            "Iteration =  45  -> Distance =  35.15298244508294\n",
            "Iteration =  46  -> Distance =  35.15298244508294\n",
            "Iteration =  47  -> Distance =  35.15298244508294\n",
            "Iteration =  48  -> Distance =  35.15298244508294\n",
            "Iteration =  49  -> Distance =  35.15298244508294\n",
            "Iteration =  50  -> Distance =  35.15298244508294\n",
            "Tempo de execução (s):  8.350877523422241\n",
            "Melhor rota:  [[10, 9, 8, 14, 19, 18, 17, 13, 6, 7, 4, 3, 2, 1, 5, 12, 11, 16, 21, 22, 23, 24, 25, 20, 15, 10], 35.15298244508294]\n",
            "CPU times: user 8.34 s, sys: 83.9 ms, total: 8.42 s\n",
            "Wall time: 8.59 s\n"
          ],
          "name": "stdout"
        },
        {
          "output_type": "display_data",
          "data": {
            "image/png": "[encoded data removed]",
            "text/plain": [
              "<Figure size 432x288 with 1 Axes>"
            ]
          },
          "metadata": {
            "tags": [],
            "needs_background": "light"
          }
        }
      ]
    },
    {
      "cell_type": "code",
      "metadata": {
        "colab": {
          "base_uri": "https://localhost:8080/",
          "height": 294
        },
        "id": "4C1UNZApYbxO",
        "outputId": "10f015b7-e463-4409-9f7f-dd8032d5a6c2"
      },
      "source": [
        "plt.plot(x,y)\n",
        "plt.title('Distância x Iteração')\n",
        "plt.xlabel(\"Iteração\")\n",
        "plt.ylabel(\"Distância\")\n",
        "plt.show()"
      ],
      "execution_count": 4,
      "outputs": [
        {
          "output_type": "display_data",
          "data": {
            "image/png": "[encoded data removed]",
            "text/plain": [
              "<Figure size 432x288 with 1 Axes>"
            ]
          },
          "metadata": {
            "tags": [],
            "needs_background": "light"
          }
        }
      ]
    },
    {
      "cell_type": "markdown",
      "metadata": {
        "id": "C9iu6hJahjc5"
      },
      "source": [
        "# Instância 1: Vox Treble Booster - Simulated Annealing"
      ]
    },
    {
      "cell_type": "code",
      "metadata": {
        "colab": {
          "base_uri": "https://localhost:8080/",
          "height": 685
        },
        "id": "1lFRUsHkhiV9",
        "outputId": "63f80d29-945d-4e6a-9f0d-e1763f31d4f4"
      },
      "source": [
        "%%time\n",
        "url = 'https://raw.githubusercontent.com/julianovale/PO240_Meta_heuristica/main/TrabalhoFinal/VoxTrebleBosster.txt'\n",
        "sa = SA(url)\n",
        "df = pd.read_csv(url)\n",
        "Y = df.values\n",
        "caminho(Y, sa)"
      ],
      "execution_count": 5,
      "outputs": [
        {
          "output_type": "stream",
          "text": [
            "[11, 15, 20, 23, 3, 19, 13, 4, 9, 22, 5, 7, 16, 8, 14, 6, 24, 12, 18, 21, 17, 10, 2, 0, 1, 11]\n",
            "Solução inicial:  84\n"
          ],
          "name": "stdout"
        },
        {
          "output_type": "stream",
          "text": [
            "/usr/local/lib/python3.7/dist-packages/ipykernel_launcher.py:147: RuntimeWarning: overflow encountered in exp\n",
            "/usr/local/lib/python3.7/dist-packages/ipykernel_launcher.py:147: RuntimeWarning: divide by zero encountered in double_scalars\n"
          ],
          "name": "stderr"
        },
        {
          "output_type": "stream",
          "text": [
            "Solução final:  [10.0, 0.0, 1.0, 2.0, 3.0, 7.0, 6.0, 5.0, 11.0, 4.0, 12.0, 16.0, 17.0, 21.0, 20.0, 13.0, 19.0, 9.0, 14.0, 8.0, 18.0, 24.0, 23.0, 22.0, 15.0, 10.0]\n",
            "A distância obtida na solução final é:  43\n"
          ],
          "name": "stdout"
        },
        {
          "output_type": "display_data",
          "data": {
            "image/png": "[encoded data removed]",
            "text/plain": [
              "<Figure size 432x288 with 1 Axes>"
            ]
          },
          "metadata": {
            "tags": [],
            "needs_background": "light"
          }
        },
        {
          "output_type": "stream",
          "text": [
            "CPU times: user 5.21 s, sys: 55.5 ms, total: 5.27 s\n",
            "Wall time: 5.28 s\n"
          ],
          "name": "stdout"
        },
        {
          "output_type": "display_data",
          "data": {
            "image/png": "[encoded data removed]",
            "text/plain": [
              "<Figure size 432x288 with 1 Axes>"
            ]
          },
          "metadata": {
            "tags": [],
            "needs_background": "light"
          }
        }
      ]
    },
    {
      "cell_type": "markdown",
      "metadata": {
        "id": "LjGDVkEQG-Uh"
      },
      "source": [
        "# Instância 2 - Echoplex Preamp (31 pontos)"
      ]
    },
    {
      "cell_type": "code",
      "metadata": {
        "colab": {
          "base_uri": "https://localhost:8080/",
          "height": 1000
        },
        "id": "I5rXeGyHG9W0",
        "outputId": "1766d584-571d-453d-e35c-7f190025a8d8"
      },
      "source": [
        "url = 'https://raw.githubusercontent.com/julianovale/PO240_Meta_heuristica/main/TrabalhoFinal/EchoplexPreamp.txt'\n",
        "df = pd.read_csv(url)\n",
        "Y = df.values\n",
        "\n",
        "X = buid_distance_matrix(Y)\n",
        "\n",
        "aco = ant_colony_optimization(X, ants = 4, iterations = 50, alpha = 1, beta = 2, decay = 0.10)\n",
        "\n",
        "plot_tour_coordinates(Y, aco)"
      ],
      "execution_count": null,
      "outputs": [
        {
          "output_type": "stream",
          "text": [
            "Iteration =  1  -> Distance =  40.64098632478745\n",
            "Iteration =  2  -> Distance =  40.64098632478745\n",
            "Iteration =  3  -> Distance =  40.64098632478745\n",
            "Iteration =  4  -> Distance =  40.64098632478745\n",
            "Iteration =  5  -> Distance =  40.64098632478745\n",
            "Iteration =  6  -> Distance =  40.64098632478745\n",
            "Iteration =  7  -> Distance =  40.64098632478745\n",
            "Iteration =  8  -> Distance =  40.64098632478745\n",
            "Iteration =  9  -> Distance =  40.24264068711928\n",
            "Iteration =  10  -> Distance =  40.24264068711928\n",
            "Iteration =  11  -> Distance =  40.24264068711928\n",
            "Iteration =  12  -> Distance =  40.24264068711928\n",
            "Iteration =  13  -> Distance =  40.24264068711928\n",
            "Iteration =  14  -> Distance =  40.24264068711928\n",
            "Iteration =  15  -> Distance =  40.24264068711928\n",
            "Iteration =  16  -> Distance =  40.24264068711928\n",
            "Iteration =  17  -> Distance =  40.24264068711928\n",
            "Iteration =  18  -> Distance =  40.24264068711928\n",
            "Iteration =  19  -> Distance =  40.24264068711928\n",
            "Iteration =  20  -> Distance =  40.06449510224598\n",
            "Iteration =  21  -> Distance =  39.99070478491457\n",
            "Iteration =  22  -> Distance =  39.99070478491457\n",
            "Iteration =  23  -> Distance =  39.99070478491457\n",
            "Iteration =  24  -> Distance =  39.99070478491457\n",
            "Iteration =  25  -> Distance =  39.99070478491457\n",
            "Iteration =  26  -> Distance =  39.99070478491457\n",
            "Iteration =  27  -> Distance =  39.99070478491457\n",
            "Iteration =  28  -> Distance =  39.99070478491457\n",
            "Iteration =  29  -> Distance =  39.99070478491457\n",
            "Iteration =  30  -> Distance =  39.99070478491457\n",
            "Iteration =  31  -> Distance =  39.99070478491457\n",
            "Iteration =  32  -> Distance =  39.99070478491457\n",
            "Iteration =  33  -> Distance =  39.99070478491457\n",
            "Iteration =  34  -> Distance =  39.99070478491456\n",
            "Iteration =  35  -> Distance =  39.99070478491456\n",
            "Iteration =  36  -> Distance =  39.99070478491456\n",
            "Iteration =  37  -> Distance =  39.99070478491456\n",
            "Iteration =  38  -> Distance =  39.99070478491456\n",
            "Iteration =  39  -> Distance =  39.99070478491456\n",
            "Iteration =  40  -> Distance =  39.99070478491456\n",
            "Iteration =  41  -> Distance =  39.99070478491456\n",
            "Iteration =  42  -> Distance =  39.99070478491456\n",
            "Iteration =  43  -> Distance =  39.99070478491456\n",
            "Iteration =  44  -> Distance =  39.99070478491456\n",
            "Iteration =  45  -> Distance =  39.99070478491456\n",
            "Iteration =  46  -> Distance =  39.99070478491456\n",
            "Iteration =  47  -> Distance =  39.99070478491456\n",
            "Iteration =  48  -> Distance =  39.99070478491456\n",
            "Iteration =  49  -> Distance =  39.99070478491456\n",
            "Iteration =  50  -> Distance =  39.99070478491456\n",
            "Tempo de execução (s):  21.872905254364014\n",
            "Melhor rota:  [[20, 21, 22, 23, 27, 31, 30, 26, 25, 29, 28, 24, 19, 18, 15, 16, 11, 10, 7, 3, 4, 5, 1, 2, 6, 9, 14, 8, 13, 12, 17, 20], 39.99070478491456]\n"
          ],
          "name": "stdout"
        },
        {
          "output_type": "display_data",
          "data": {
            "image/png": "[encoded data removed]",
            "text/plain": [
              "<Figure size 432x288 with 1 Axes>"
            ]
          },
          "metadata": {
            "tags": [],
            "needs_background": "light"
          }
        }
      ]
    },
    {
      "cell_type": "markdown",
      "metadata": {
        "id": "iQ3sajSzmEpH"
      },
      "source": [
        "# Instância 3 - RAT (70 pontos)"
      ]
    },
    {
      "cell_type": "code",
      "metadata": {
        "colab": {
          "base_uri": "https://localhost:8080/",
          "height": 1000
        },
        "id": "LmshEPvUlsau",
        "outputId": "130d6016-31aa-4080-acd2-f6e84bb9ab3b"
      },
      "source": [
        "url = 'https://raw.githubusercontent.com/julianovale/PO240_Meta_heuristica/main/TrabalhoFinal/RAT.txt'\n",
        "df = pd.read_csv(url)\n",
        "Y = df.values\n",
        "\n",
        "X = buid_distance_matrix(Y)\n",
        "\n",
        "aco = ant_colony_optimization(X, ants = 4, iterations = 50, alpha = 1, beta = 2, decay = 0.10)\n",
        "\n",
        "plot_tour_coordinates(Y, aco)"
      ],
      "execution_count": null,
      "outputs": [
        {
          "output_type": "stream",
          "text": [
            "Iteration =  1  -> Distance =  105.61257247669084\n",
            "Iteration =  2  -> Distance =  103.33936683936108\n",
            "Iteration =  3  -> Distance =  103.33936683936108\n",
            "Iteration =  4  -> Distance =  103.33936683936108\n",
            "Iteration =  5  -> Distance =  98.4421705006364\n",
            "Iteration =  6  -> Distance =  98.4421705006364\n",
            "Iteration =  7  -> Distance =  98.4421705006364\n",
            "Iteration =  8  -> Distance =  98.4421705006364\n",
            "Iteration =  9  -> Distance =  98.4421705006364\n",
            "Iteration =  10  -> Distance =  98.4421705006364\n",
            "Iteration =  11  -> Distance =  97.47545795631281\n",
            "Iteration =  12  -> Distance =  97.02795693826329\n",
            "Iteration =  13  -> Distance =  97.02795693826329\n",
            "Iteration =  14  -> Distance =  97.02795693826329\n",
            "Iteration =  15  -> Distance =  97.02795693826329\n",
            "Iteration =  16  -> Distance =  97.02795693826329\n",
            "Iteration =  17  -> Distance =  97.02795693826329\n",
            "Iteration =  18  -> Distance =  97.02795693826329\n",
            "Iteration =  19  -> Distance =  97.02795693826329\n",
            "Iteration =  20  -> Distance =  97.02795693826329\n",
            "Iteration =  21  -> Distance =  97.02795693826329\n",
            "Iteration =  22  -> Distance =  97.02795693826329\n",
            "Iteration =  23  -> Distance =  94.31318029614444\n",
            "Iteration =  24  -> Distance =  94.31318029614444\n",
            "Iteration =  25  -> Distance =  94.31318029614444\n",
            "Iteration =  26  -> Distance =  94.31318029614444\n",
            "Iteration =  27  -> Distance =  94.31318029614444\n",
            "Iteration =  28  -> Distance =  94.31318029614444\n",
            "Iteration =  29  -> Distance =  94.31318029614444\n",
            "Iteration =  30  -> Distance =  94.31318029614444\n",
            "Iteration =  31  -> Distance =  94.31318029614444\n",
            "Iteration =  32  -> Distance =  94.31318029614444\n",
            "Iteration =  33  -> Distance =  94.31318029614444\n",
            "Iteration =  34  -> Distance =  94.31318029614444\n",
            "Iteration =  35  -> Distance =  94.31318029614444\n",
            "Iteration =  36  -> Distance =  94.31318029614444\n",
            "Iteration =  37  -> Distance =  94.31318029614444\n",
            "Iteration =  38  -> Distance =  94.31318029614444\n",
            "Iteration =  39  -> Distance =  94.31318029614444\n",
            "Iteration =  40  -> Distance =  94.31318029614444\n",
            "Iteration =  41  -> Distance =  94.24868519389847\n",
            "Iteration =  42  -> Distance =  94.24868519389847\n",
            "Iteration =  43  -> Distance =  94.24868519389847\n",
            "Iteration =  44  -> Distance =  94.24868519389847\n",
            "Iteration =  45  -> Distance =  94.24868519389847\n",
            "Iteration =  46  -> Distance =  94.24868519389847\n",
            "Iteration =  47  -> Distance =  94.24868519389847\n",
            "Iteration =  48  -> Distance =  94.24868519389847\n",
            "Iteration =  49  -> Distance =  94.24868519389847\n",
            "Iteration =  50  -> Distance =  94.24868519389847\n",
            "Tempo de execução (s):  519.3768217563629\n",
            "Melhor rota:  [[17, 23, 18, 19, 20, 21, 22, 24, 30, 40, 39, 38, 37, 29, 28, 36, 35, 44, 46, 59, 67, 63, 60, 53, 47, 45, 48, 49, 50, 55, 54, 61, 64, 65, 66, 68, 69, 70, 58, 57, 62, 56, 52, 51, 42, 43, 41, 33, 32, 31, 25, 26, 34, 27, 16, 15, 10, 6, 5, 4, 3, 9, 14, 13, 8, 2, 1, 7, 12, 11, 17], 94.24868519389847]\n"
          ],
          "name": "stdout"
        },
        {
          "output_type": "display_data",
          "data": {
            "image/png": "[encoded data removed]",
            "text/plain": [
              "<Figure size 432x288 with 1 Axes>"
            ]
          },
          "metadata": {
            "tags": [],
            "needs_background": "light"
          }
        }
      ]
    },
    {
      "cell_type": "markdown",
      "metadata": {
        "id": "mi80kJsEGzPK"
      },
      "source": [
        "# Instância último - Blues Driver (157 pontos)"
      ]
    },
    {
      "cell_type": "code",
      "metadata": {
        "colab": {
          "base_uri": "https://localhost:8080/",
          "height": 1000
        },
        "id": "1ITE7ynVHtD0",
        "outputId": "fd854182-2299-43b3-83ec-eecd76148e41"
      },
      "source": [
        "url = 'https://raw.githubusercontent.com/julianovale/PO240_Meta_heuristica/main/TrabalhoFinal/Blues%20driver.txt'\n",
        "df = pd.read_csv(url)\n",
        "Y = df.values\n",
        "\n",
        "X = buid_distance_matrix(Y)\n",
        "\n",
        "aco = ant_colony_optimization(X, ants = 4, iterations = 50, alpha = 1, beta = 2, decay = 0.10)\n",
        "\n",
        "plot_tour_coordinates(Y, aco)"
      ],
      "execution_count": null,
      "outputs": [
        {
          "output_type": "stream",
          "text": [
            "Iteration =  1  -> Distance =  228.61615997576297\n",
            "Iteration =  2  -> Distance =  228.61615997576297\n",
            "Iteration =  3  -> Distance =  228.61615997576297\n",
            "Iteration =  4  -> Distance =  228.61615997576297\n",
            "Iteration =  5  -> Distance =  228.61615997576297\n",
            "Iteration =  6  -> Distance =  228.61615997576297\n",
            "Iteration =  7  -> Distance =  228.61615997576297\n",
            "Iteration =  8  -> Distance =  228.61615997576297\n",
            "Iteration =  9  -> Distance =  228.61615997576297\n",
            "Iteration =  10  -> Distance =  228.61615997576297\n",
            "Iteration =  11  -> Distance =  228.61615997576297\n",
            "Iteration =  12  -> Distance =  228.61615997576297\n",
            "Iteration =  13  -> Distance =  228.61615997576297\n",
            "Iteration =  14  -> Distance =  228.61615997576297\n",
            "Iteration =  15  -> Distance =  225.81931769618672\n",
            "Iteration =  16  -> Distance =  225.81931769618672\n",
            "Iteration =  17  -> Distance =  225.81931769618672\n",
            "Iteration =  18  -> Distance =  225.81931769618672\n",
            "Iteration =  19  -> Distance =  225.81931769618672\n",
            "Iteration =  20  -> Distance =  225.81931769618672\n",
            "Iteration =  21  -> Distance =  225.81931769618672\n",
            "Iteration =  22  -> Distance =  225.81931769618672\n",
            "Iteration =  23  -> Distance =  225.81931769618672\n",
            "Iteration =  24  -> Distance =  225.81931769618672\n",
            "Iteration =  25  -> Distance =  225.81931769618672\n",
            "Iteration =  26  -> Distance =  225.81931769618672\n",
            "Iteration =  27  -> Distance =  225.81931769618672\n",
            "Iteration =  28  -> Distance =  225.81931769618672\n",
            "Iteration =  29  -> Distance =  225.81931769618672\n",
            "Iteration =  30  -> Distance =  225.81931769618672\n",
            "Iteration =  31  -> Distance =  225.81931769618672\n",
            "Iteration =  32  -> Distance =  225.81931769618672\n",
            "Iteration =  33  -> Distance =  225.81931769618672\n",
            "Iteration =  34  -> Distance =  225.81931769618672\n",
            "Iteration =  35  -> Distance =  225.81931769618672\n",
            "Iteration =  36  -> Distance =  225.81931769618672\n",
            "Iteration =  37  -> Distance =  225.81931769618672\n",
            "Iteration =  38  -> Distance =  225.81931769618672\n",
            "Iteration =  39  -> Distance =  225.81931769618672\n",
            "Iteration =  40  -> Distance =  225.81931769618672\n",
            "Iteration =  41  -> Distance =  225.81931769618672\n",
            "Iteration =  42  -> Distance =  225.81931769618672\n",
            "Iteration =  43  -> Distance =  225.81931769618672\n",
            "Iteration =  44  -> Distance =  225.81931769618672\n",
            "Iteration =  45  -> Distance =  225.81931769618672\n",
            "Iteration =  46  -> Distance =  225.81931769618672\n",
            "Iteration =  47  -> Distance =  225.81931769618672\n",
            "Iteration =  48  -> Distance =  225.81931769618672\n",
            "Iteration =  49  -> Distance =  225.81931769618672\n",
            "Iteration =  50  -> Distance =  225.81931769618672\n",
            "Tempo de execução (s):  13592.682788610458\n",
            "Melhor rota:  [[23, 22, 21, 36, 33, 32, 31, 30, 29, 11, 1, 12, 13, 14, 2, 3, 4, 15, 16, 24, 39, 53, 54, 60, 55, 45, 40, 25, 26, 35, 18, 5, 6, 7, 17, 8, 9, 10, 20, 19, 27, 28, 41, 46, 56, 47, 48, 49, 42, 57, 62, 82, 88, 94, 102, 118, 101, 110, 117, 109, 125, 135, 141, 142, 143, 147, 157, 156, 155, 154, 153, 152, 146, 140, 133, 134, 124, 123, 122, 116, 107, 108, 99, 100, 93, 87, 86, 81, 70, 71, 61, 69, 68, 85, 80, 67, 79, 78, 92, 98, 97, 106, 105, 115, 121, 132, 131, 139, 145, 151, 150, 144, 138, 129, 130, 114, 104, 103, 113, 119, 128, 127, 137, 149, 148, 136, 126, 120, 111, 112, 90, 84, 95, 96, 91, 77, 76, 66, 75, 74, 89, 83, 73, 72, 63, 58, 64, 65, 59, 50, 43, 51, 52, 44, 37, 38, 34, 23], 225.81931769618672]\n"
          ],
          "name": "stdout"
        },
        {
          "output_type": "display_data",
          "data": {
            "image/png": "[encoded data removed]",
            "text/plain": [
              "<Figure size 432x288 with 1 Axes>"
            ]
          },
          "metadata": {
            "tags": [],
            "needs_background": "light"
          }
        }
      ]
    }
  ]
}