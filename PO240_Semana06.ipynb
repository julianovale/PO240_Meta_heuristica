{
  "nbformat": 4,
  "nbformat_minor": 0,
  "metadata": {
    "kernelspec": {
      "display_name": "Python 3",
      "language": "python",
      "name": "python3"
    },
    "language_info": {
      "codemirror_mode": {
        "name": "ipython",
        "version": 3
      },
      "file_extension": ".py",
      "mimetype": "text/x-python",
      "name": "python",
      "nbconvert_exporter": "python",
      "pygments_lexer": "ipython3",
      "version": "3.7.6"
    },
    "colab": {
      "name": "PO240_Semana06.ipynb",
      "provenance": [],
      "collapsed_sections": [],
      "include_colab_link": true
    }
  },
  "cells": [
    {
      "cell_type": "markdown",
      "metadata": {
        "id": "view-in-github",
        "colab_type": "text"
      },
      "source": [
        "<a href=\"https://colab.research.google.com/github/julianovale/PO240_Meta_heuristica/blob/main/PO240_Semana06.ipynb\" target=\"_parent\"><img src=\"https://colab.research.google.com/assets/colab-badge.svg\" alt=\"Open In Colab\"/></a>"
      ]
    },
    {
      "cell_type": "code",
      "metadata": {
        "id": "WyRubEv5Ym77"
      },
      "source": [
        "# colab: incluir !pip install\n",
        "import numpy as np # módulo para manipulação de vetores e matrizes\n",
        "from ortools.linear_solver import pywraplp  # CBC\n",
        "import docplex.mp.sdetails                  # CPLEX\n",
        "from docplex.mp.model import Model          # CPLEX\n",
        "from ortools.sat.python import cp_model     # CPSAT\n",
        "\n",
        "def leitura(arquivo):\n",
        "    arq = open(arquivo, \"r\") # r- read\n",
        "    lixo = arq.readline()  # linha com texto Number of jobs\n",
        "    linha = arq.readline() # linha com número de tarefas\n",
        "    N = int(linha)         # linha com o número de tarefas\n",
        "    p = np.zeros(N, dtype=np.int64)  # p = [p0, p1,..., p(N-1)]\n",
        "    w = np.zeros(N, dtype=np.int64)\n",
        "    d = np.zeros(N, dtype=np.int64)\n",
        "    lixo = arq.readline()  # linha com texto Job data (job number, release date, processing time, due date)\n",
        "    for i in range(N):  # repetir N vezes\n",
        "        # i-ésima linha\n",
        "        linha = arq.readline().split()  # posições: 0-indice 1-p, 2-w, 3-d\n",
        "        p[i] = int(linha[1])\n",
        "        w[i] = int(linha[2])\n",
        "        d[i] = int(linha[3])\n",
        "    return N, p, w, d   \n",
        "\n",
        "def modelo_Min_TerminoPonderado_CPLEX(N, p, w, d):\n",
        "    # cria o modelo\n",
        "    mdl = Model(name=\"Única Máquina\")\n",
        "\n",
        "    M = 2*sum(p)\n",
        "\n",
        "    # alocação de memória para as estruturas do problema\n",
        "    x = [0]*N  \n",
        "    y = []\n",
        "    for i in range(N):\n",
        "        crialinha = [0]*N\n",
        "        y.append(crialinha)\n",
        "\n",
        "    # declaração das variáveis de decisão  \n",
        "    for i in range(N):     # min, max \n",
        "        x[i] = mdl.integer_var(0, None, 'x'+str(i))  \n",
        "\n",
        "    for i in range(N):\n",
        "        for k in range(N):\n",
        "            if k > i :            \n",
        "                y[i][k] = mdl.binary_var('y'+str(i)+\",\"+str(k))\n",
        "\n",
        "    # declaração das restrições \n",
        "    for i in range(N):\n",
        "        mdl.add_constraint( x[i] + p[i] <= d[i] )\n",
        "        for k in range(N):\n",
        "            if k > i :\n",
        "                mdl.add_constraint( x[i] + p[i] <= x[k] + M*(1-y[i][k]) )\n",
        "                mdl.add_constraint( x[k] + p[k] <= x[i] + M*y[i][k] )\n",
        "\n",
        "    # função objetivo\n",
        "    mdl.minimize( mdl.sum(w[i]*(x[i] + p[i]) for i in range(N)) )\n",
        "    \n",
        "    # limitar tempo de execução (em segundos)\n",
        "    mdl.set_time_limit(1*60*60) \n",
        "    \n",
        "    #resolver o problema\n",
        "    mdl.solve()\n",
        "    status = mdl.solve_details.status\n",
        "    print(\"Status: \", status)\n",
        "        \n",
        "    print(\"Número de Variáveis: \", mdl.number_of_variables)  \n",
        "    print(\"Número de Restrições: \", mdl.number_of_constraints)\n",
        "    print(\"Tempo de execução (s): %.4f\" %mdl.solve_details.time)\n",
        "    print(\"Nós B&B: \", mdl.solve_details.nb_nodes_processed)\n",
        "        \n",
        "    print(\"Função-objetivo: \", mdl.objective_value)\n",
        "    print(\"Best Bound: %.4f\" %mdl.solve_details.best_bound)            \n",
        "    print(\"GAP: %.4f\" %mdl.solve_details.mip_relative_gap)   \n",
        "    \n",
        "    print(\"Lista de Alocação (tarefa, início):\")\n",
        "    aux = []        \n",
        "    for i in range(N):\n",
        "        aux.append((i, x[i].solution_value))        \n",
        "    solOrd = sorted(aux, key=lambda tup: tup[1])\n",
        "    print(solOrd)\n",
        "    print()\n",
        "    \n",
        "def modelo_Min_TerminoPonderado_CBC(N, p, w, d):\n",
        "    # cria o modelo\n",
        "    mdl = pywraplp.Solver('Única Máquina', pywraplp.Solver.CBC_MIXED_INTEGER_PROGRAMMING)\n",
        "\n",
        "    M = 2*sum(p)\n",
        "\n",
        "    # alocação de memória para as estruturas do problema\n",
        "    x = [0]*N  \n",
        "    y = []\n",
        "    for i in range(N):\n",
        "        crialinha = [0]*N\n",
        "        y.append(crialinha)\n",
        "\n",
        "    # declaração das variáveis de decisão    \n",
        "    for i in range(N):     # min, max \n",
        "        x[i] = mdl.IntVar(0, mdl.infinity(), 'x'+str(i))  \n",
        "\n",
        "    for i in range(N):\n",
        "        for k in range(N):\n",
        "            if k > i :            \n",
        "                y[i][k] = mdl.IntVar(0, 1,'y'+str(i)+\",\"+str(k))\n",
        "\n",
        "    # declaração das restrições \n",
        "    for i in range(N):\n",
        "        mdl.Add( x[i] + p[i] <= d[i] )\n",
        "        for k in range(N):\n",
        "            if k > i :\n",
        "                mdl.Add( x[i] + p[i] <= x[k] + M*(1-y[i][k]) )\n",
        "                mdl.Add( x[k] + p[k] <= x[i] + M*y[i][k] )\n",
        "\n",
        "    # função objetivo\n",
        "    mdl.Minimize( mdl.Sum(w[i]*(x[i] + p[i]) for i in range(N)) )\n",
        "    \n",
        "    # limitar tempo de execução (em milisegundos)\n",
        "    mdl.SetTimeLimit(1*60*60*1000)   # 1 hora\n",
        "    \n",
        "    #resolver o problema\n",
        "    status = mdl.Solve()\n",
        "    print(\"Status: \", status)\n",
        "\n",
        "    print(\"Número de Variáveis: \", mdl.NumVariables())  \n",
        "    print(\"Número de Restrições: \", mdl.NumConstraints())\n",
        "    print(\"Tempo de execução (s): %.4f\" %float(mdl.WallTime()/1000))\n",
        "    print(\"Nós B&B: \", mdl.nodes())\n",
        "    \n",
        "    print(\"Função-objetivo: \", mdl.Objective().Value())\n",
        "    print(\"Best Bound: %.4f\" %mdl.Objective().BestBound())\n",
        "    \n",
        "    gap = -1\n",
        "    if mdl.Objective().Value():\n",
        "        gap = (mdl.Objective().Value() - mdl.Objective().BestBound())/mdl.Objective().Value()\n",
        "    print(\"GAP: %.4f\" %gap)\n",
        "    \n",
        "    print(\"Lista de Alocação (tarefa, início):\")\n",
        "    aux = []\n",
        "    for i in range(N):\n",
        "        aux.append((i, x[i].solution_value()))\n",
        "    solOrd = sorted(aux, key=lambda tup: tup[1])\n",
        "    print(solOrd)\n",
        "    print()\n",
        "    \n",
        "def modelo_Min_TerminoPonderado_CPSAT(N, p, w, d):\n",
        "    # cria o modelo\n",
        "    mdl = cp_model.CpModel()\n",
        "\n",
        "    M = int(2*sum(p))\n",
        "\n",
        "    # alocação de memória para as estruturas do problema\n",
        "    x = [0]*N  \n",
        "    y = []\n",
        "    for i in range(N):\n",
        "        crialinha = [0]*N\n",
        "        y.append(crialinha)\n",
        "\n",
        "    xmax = int(sum(p))\n",
        "    # declaração das variáveis de decisão    \n",
        "    for i in range(N):     # min, max \n",
        "        x[i] = mdl.NewIntVar(0, xmax, 'x'+str(i))  \n",
        "\n",
        "    for i in range(N):\n",
        "        for k in range(N):\n",
        "            if k > i :            \n",
        "                y[i][k] = mdl.NewBoolVar('y'+str(i)+\",\"+str(k))\n",
        "\n",
        "    # declaração das restrições \n",
        "    for i in range(N):\n",
        "        mdl.Add( x[i] + p[i] <= d[i] )\n",
        "        for k in range(N):\n",
        "            if k > i :\n",
        "                mdl.Add( x[i] + p[i] <= x[k] + M*(1-y[i][k]) )\n",
        "                mdl.Add( x[k] + p[k] <= x[i] + M*y[i][k] )\n",
        "\n",
        "    # função objetivo\n",
        "    mdl.Minimize( sum(w[i]*(x[i] + p[i]) for i in range(N)) )\n",
        "    \n",
        "    # resolver com CP-SAT\n",
        "    solver = cp_model.CpSolver()\n",
        "    # núcleos para processamento\n",
        "    solver.parameters.num_search_workers = 8\n",
        "    # limitar tempo de execução (em segundos)\n",
        "    solver.parameters.max_time_in_seconds = 1*60*60\n",
        "    status = solver.Solve(mdl)\n",
        "    status = solver.StatusName(status)\n",
        "    print(\"Status: \", status)\n",
        "    \n",
        "    z = solver.ObjectiveValue()\n",
        "    bb = solver.BestObjectiveBound()\n",
        "    nos = solver.NumBranches()\n",
        "    gap = -1\n",
        "    if solver.ObjectiveValue():\n",
        "        gap = (solver.ObjectiveValue() - solver.BestObjectiveBound())/solver.ObjectiveValue()\n",
        "    print(\"Função-objetivo: \", z)\n",
        "    print(\"Best Bound: %.4f\" %bb)\n",
        "    print(\"Nós B&B: \", nos)\n",
        "    print(\"GAP: %.4f\" %gap)\n",
        "    print(solver.ResponseStats())    \n",
        "    \n",
        "    print(\"Lista de Alocação (tarefa, início):\")\n",
        "    aux = []\n",
        "    for i in range(N):\n",
        "        aux.append((i, solver.Value(x[i])))\n",
        "    solOrd = sorted(aux, key=lambda tup: tup[1])\n",
        "    print(solOrd)\n",
        "    print()"
      ],
      "execution_count": null,
      "outputs": []
    },
    {
      "cell_type": "code",
      "metadata": {
        "id": "7EjPyVqsYm8Y",
        "outputId": "33cdf538-aa24-43bc-d4f8-190b52ff3289"
      },
      "source": [
        "# *********************** 10 TAREFAS CPLEX ***************************\n",
        "# Leitura do arquivo com os dados\n",
        "# N (qtde tarefas), p (proc), w (peso), d (prazo) são as saídas da função leitura\n",
        "N, p, w, d = leitura(\"instancia10.txt\")  \n",
        "\n",
        "print(\"===== CPLEX =====\")\n",
        "modelo_Min_TerminoPonderado_CPLEX(N, p, w, d)"
      ],
      "execution_count": null,
      "outputs": [
        {
          "output_type": "stream",
          "text": [
            "===== CPLEX =====\n",
            "Status:  integer optimal solution\n",
            "Número de Variáveis:  55\n",
            "Número de Restrições:  100\n",
            "Tempo de execução (s): 0.2551\n",
            "Nós B&B:  0\n",
            "Função-objetivo:  17481\n",
            "Best Bound: 17481.0000\n",
            "GAP: 0.0000\n",
            "Lista de Alocação (tarefa, início):\n",
            "[(2, 0), (7, 79.0), (9, 133.0), (3, 198.0), (0, 253.0), (5, 306.0), (6, 379.0), (4, 507.0), (1, 644.0), (8, 785.0)]\n",
            "\n"
          ],
          "name": "stdout"
        }
      ]
    },
    {
      "cell_type": "code",
      "metadata": {
        "id": "ih7NpdzmYm8b",
        "outputId": "b7e49820-ee8e-4cd4-9907-09b9ffd94dba"
      },
      "source": [
        "# *********************** 10 TAREFAS CBC ***************************\n",
        "# Leitura do arquivo com os dados\n",
        "# N (qtde tarefas), p (proc), w (peso), d (prazo) são as saídas da função leitura\n",
        "N, p, w, d = leitura(\"instancia10.txt\")  \n",
        "\n",
        "print(\"===== CBC =====\")\n",
        "modelo_Min_TerminoPonderado_CBC(N, p, w, d)"
      ],
      "execution_count": null,
      "outputs": [
        {
          "output_type": "stream",
          "text": [
            "===== CBC =====\n",
            "Status:  0\n",
            "Número de Variáveis:  55\n",
            "Número de Restrições:  100\n",
            "Tempo de execução (s): 3.5570\n",
            "Nós B&B:  219\n",
            "Função-objetivo:  17481.0\n",
            "Best Bound: 17481.0000\n",
            "GAP: 0.0000\n",
            "Lista de Alocação (tarefa, início):\n",
            "[(2, 0.0), (7, 79.0), (9, 133.0), (3, 198.0), (0, 253.0), (5, 306.0), (6, 379.0), (4, 507.0), (1, 644.0), (8, 785.0)]\n",
            "\n"
          ],
          "name": "stdout"
        }
      ]
    },
    {
      "cell_type": "code",
      "metadata": {
        "id": "V_jnPiL-Ym8c",
        "outputId": "b6beca11-8ba6-480a-9710-8cc3eb2510c9"
      },
      "source": [
        "# *********************** 10 TAREFAS CP-SAT ***************************\n",
        "# Leitura do arquivo com os dados\n",
        "# N (qtde tarefas), p (proc), w (peso), d (prazo) são as saídas da função leitura\n",
        "N, p, w, d = leitura(\"instancia10.txt\")  \n",
        "\n",
        "print(\"===== CP-SAT =====\")\n",
        "modelo_Min_TerminoPonderado_CPSAT(N, p, w, d)"
      ],
      "execution_count": null,
      "outputs": [
        {
          "output_type": "stream",
          "text": [
            "===== CP-SAT =====\n",
            "Status:  OPTIMAL\n",
            "Função-objetivo:  17481.0\n",
            "Best Bound: 17481.0000\n",
            "Nós B&B:  201\n",
            "GAP: 0.0000\n",
            "CpSolverResponse:\n",
            "status: OPTIMAL\n",
            "objective: 17481\n",
            "best_bound: 17481\n",
            "booleans: 47\n",
            "conflicts: 72\n",
            "branches: 201\n",
            "propagations: 1157\n",
            "integer_propagations: 2568\n",
            "walltime: 0.0393403\n",
            "usertime: 0.0393404\n",
            "deterministic_time: 0.00103972\n",
            "primal_integral: 0.00260867\n",
            "\n",
            "Lista de Alocação (tarefa, início):\n",
            "[(2, 0), (7, 79), (9, 133), (3, 198), (0, 253), (5, 306), (6, 379), (4, 507), (1, 644), (8, 785)]\n",
            "\n"
          ],
          "name": "stdout"
        }
      ]
    },
    {
      "cell_type": "code",
      "metadata": {
        "id": "Cr7pKuKOYm8d",
        "outputId": "eb86bf81-23ba-4fdf-bc61-58a5bffcb76d"
      },
      "source": [
        "# *********************** 15 TAREFAS CPLEX ***************************\n",
        "# Leitura do arquivo com os dados\n",
        "# N (qtde tarefas), p (proc), w (peso), d (prazo) são as saídas da função leitura\n",
        "N, p, w, d = leitura(\"instancia15.txt\")  \n",
        "\n",
        "print(\"===== CPLEX =====\")\n",
        "modelo_Min_TerminoPonderado_CPLEX(N, p, w, d)"
      ],
      "execution_count": null,
      "outputs": [
        {
          "output_type": "stream",
          "text": [
            "===== CPLEX =====\n",
            "Status:  integer optimal solution\n",
            "Número de Variáveis:  120\n",
            "Número de Restrições:  225\n",
            "Tempo de execução (s): 1.1708\n",
            "Nós B&B:  4374\n",
            "Função-objetivo:  57657\n",
            "Best Bound: 57657.0000\n",
            "GAP: 0.0000\n",
            "Lista de Alocação (tarefa, início):\n",
            "[(0, 0), (12, 53.0), (4, 106.0), (10, 243.0), (3, 390.0), (5, 445.0), (1, 518.0), (6, 659.0), (2, 787.0), (7, 866.0), (9, 920.0), (13, 985.0), (8, 1035.0), (11, 1162.0), (14, 1244.0)]\n",
            "\n"
          ],
          "name": "stdout"
        }
      ]
    },
    {
      "cell_type": "code",
      "metadata": {
        "id": "m4uS8GShYm8e",
        "outputId": "39d7fee5-935a-49be-c82d-57691d1a3cf4"
      },
      "source": [
        "# *********************** 15 TAREFAS CBC ***************************\n",
        "# Leitura do arquivo com os dados\n",
        "# N (qtde tarefas), p (proc), w (peso), d (prazo) são as saídas da função leitura\n",
        "N, p, w, d = leitura(\"instancia15.txt\")  \n",
        "\n",
        "print(\"===== CBC =====\")\n",
        "modelo_Min_TerminoPonderado_CBC(N, p, w, d)"
      ],
      "execution_count": null,
      "outputs": [
        {
          "output_type": "stream",
          "text": [
            "===== CBC =====\n",
            "Status:  0\n",
            "Número de Variáveis:  120\n",
            "Número de Restrições:  225\n",
            "Tempo de execução (s): 69.6430\n",
            "Nós B&B:  164140\n",
            "Função-objetivo:  57657.0\n",
            "Best Bound: 57657.0000\n",
            "GAP: 0.0000\n",
            "Lista de Alocação (tarefa, início):\n",
            "[(0, 0.0), (12, 53.0), (4, 106.0), (10, 243.0), (3, 390.0), (5, 445.0), (1, 518.0), (6, 659.0), (2, 787.0), (7, 866.0), (9, 920.0), (13, 985.0), (8, 1035.0), (11, 1162.0), (14, 1244.0)]\n",
            "\n"
          ],
          "name": "stdout"
        }
      ]
    },
    {
      "cell_type": "code",
      "metadata": {
        "id": "5h2--jqxYm8f",
        "outputId": "ed9cae82-c531-4845-b02a-014b54196713"
      },
      "source": [
        "# *********************** 15 TAREFAS CP-SAT ***************************\n",
        "# Leitura do arquivo com os dados\n",
        "# N (qtde tarefas), p (proc), w (peso), d (prazo) são as saídas da função leitura\n",
        "N, p, w, d = leitura(\"instancia15.txt\")  \n",
        "\n",
        "print(\"===== CP-SAT =====\")\n",
        "modelo_Min_TerminoPonderado_CPSAT(N, p, w, d)"
      ],
      "execution_count": null,
      "outputs": [
        {
          "output_type": "stream",
          "text": [
            "===== CP-SAT =====\n",
            "Status:  OPTIMAL\n",
            "Função-objetivo:  57657.0\n",
            "Best Bound: 57657.0000\n",
            "Nós B&B:  2430\n",
            "GAP: 0.0000\n",
            "CpSolverResponse:\n",
            "status: OPTIMAL\n",
            "objective: 57657\n",
            "best_bound: 57657\n",
            "booleans: 108\n",
            "conflicts: 1597\n",
            "branches: 2430\n",
            "propagations: 40042\n",
            "integer_propagations: 59572\n",
            "walltime: 0.301298\n",
            "usertime: 0.301299\n",
            "deterministic_time: 0.0821814\n",
            "primal_integral: 0.0862926\n",
            "\n",
            "Lista de Alocação (tarefa, início):\n",
            "[(0, 0), (12, 53), (4, 106), (10, 243), (3, 390), (5, 445), (1, 518), (6, 659), (2, 787), (7, 866), (9, 920), (13, 985), (8, 1035), (11, 1162), (14, 1244)]\n",
            "\n"
          ],
          "name": "stdout"
        }
      ]
    },
    {
      "cell_type": "code",
      "metadata": {
        "id": "_pFwmWdtYm8g",
        "outputId": "e547ce70-391f-4813-af18-f3aae0ab3c35"
      },
      "source": [
        "# *********************** 50 TAREFAS CPLEX ***************************\n",
        "# Leitura do arquivo com os dados\n",
        "# N (qtde tarefas), p (proc), w (peso), d (prazo) são as saídas da função leitura\n",
        "N, p, w, d = leitura(\"instancia50.txt\")  \n",
        "\n",
        "print(\"===== CPLEX =====\")\n",
        "modelo_Min_TerminoPonderado_CPLEX(N, p, w, d)"
      ],
      "execution_count": null,
      "outputs": [
        {
          "output_type": "stream",
          "text": [
            "===== CPLEX =====\n",
            "Status:  time limit exceeded\n",
            "Número de Variáveis:  1275\n",
            "Número de Restrições:  2500\n",
            "Tempo de execução (s): 3600.0299\n",
            "Nós B&B:  529294\n",
            "Função-objetivo:  400963\n",
            "Best Bound: 110379.0794\n",
            "GAP: 0.7247\n",
            "Lista de Alocação (tarefa, início):\n",
            "[(0, 0), (17, 53.0), (37, 106.0), (28, 163.0), (13, 231.0), (11, 281.0), (2, 363.0), (14, 442.0), (45, 562.0), (47, 684.0), (18, 808.0), (42, 859.0), (4, 927.0), (27, 1064.0), (43, 1191.0), (10, 1338.0), (34, 1485.0), (22, 1635.0), (23, 1771.0), (7, 1841.0), (24, 1895.0), (46, 2043.0), (29, 2193.0), (21, 2320.0), (9, 2406.0), (40, 2471.0), (12, 2593.0), (38, 2646.0), (33, 2785.0), (5, 2844.0), (8, 2917.0), (20, 3044.0), (16, 3176.0), (26, 3309.0), (1, 3443.0), (44, 3584.0), (41, 3730.0), (31, 3781.0), (48, 3884.0), (25, 3984.0), (19, 4088.0), (30, 4142.0), (32, 4256.0), (15, 4315.0), (6, 4383.0), (49, 4511.0), (39, 4646.0), (3, 4731.0), (35, 4786.0), (36, 4907.0)]\n",
            "\n"
          ],
          "name": "stdout"
        }
      ]
    },
    {
      "cell_type": "code",
      "metadata": {
        "id": "WRFCwmW-Ym8h",
        "outputId": "420a4ab6-f98f-454b-fff5-c3acd4a8d760"
      },
      "source": [
        "# *********************** 50 TAREFAS CBC ***************************\n",
        "# Leitura do arquivo com os dados\n",
        "# N (qtde tarefas), p (proc), w (peso), d (prazo) são as saídas da função leitura\n",
        "N, p, w, d = leitura(\"instancia50.txt\")  \n",
        "\n",
        "print(\"===== CBC =====\")\n",
        "modelo_Min_TerminoPonderado_CBC(N, p, w, d)"
      ],
      "execution_count": null,
      "outputs": [
        {
          "output_type": "stream",
          "text": [
            "===== CBC =====\n",
            "Status:  6\n",
            "Número de Variáveis:  1275\n",
            "Número de Restrições:  2500\n",
            "Tempo de execução (s): 3605.2050\n",
            "Nós B&B:  139676\n",
            "Função-objetivo:  0.0\n",
            "Best Bound: inf\n",
            "GAP: -1.0000\n",
            "Lista de Alocação (tarefa, início):\n",
            "[(0, 0.0), (1, 0.0), (2, 0.0), (3, 0.0), (4, 0.0), (5, 0.0), (6, 0.0), (7, 0.0), (8, 0.0), (9, 0.0), (10, 0.0), (11, 0.0), (12, 0.0), (13, 0.0), (14, 0.0), (15, 0.0), (16, 0.0), (17, 0.0), (18, 0.0), (19, 0.0), (20, 0.0), (21, 0.0), (22, 0.0), (23, 0.0), (24, 0.0), (25, 0.0), (26, 0.0), (27, 0.0), (28, 0.0), (29, 0.0), (30, 0.0), (31, 0.0), (32, 0.0), (33, 0.0), (34, 0.0), (35, 0.0), (36, 0.0), (37, 0.0), (38, 0.0), (39, 0.0), (40, 0.0), (41, 0.0), (42, 0.0), (43, 0.0), (44, 0.0), (45, 0.0), (46, 0.0), (47, 0.0), (48, 0.0), (49, 0.0)]\n",
            "\n"
          ],
          "name": "stdout"
        }
      ]
    },
    {
      "cell_type": "code",
      "metadata": {
        "id": "2vBsQ2i4Ym8i",
        "outputId": "cb05550e-cd19-4c1f-eeda-d66f5d421b32"
      },
      "source": [
        "# *********************** 50 TAREFAS CP-SAT ***************************\n",
        "# Leitura do arquivo com os dados\n",
        "# N (qtde tarefas), p (proc), w (peso), d (prazo) são as saídas da função leitura\n",
        "N, p, w, d = leitura(\"instancia50.txt\")  \n",
        "\n",
        "print(\"===== CP-SAT =====\")\n",
        "modelo_Min_TerminoPonderado_CPSAT(N, p, w, d)"
      ],
      "execution_count": null,
      "outputs": [
        {
          "output_type": "stream",
          "text": [
            "===== CP-SAT =====\n",
            "Status:  FEASIBLE\n",
            "Função-objetivo:  402764.0\n",
            "Best Bound: 56193.0000\n",
            "Nós B&B:  17736950\n",
            "GAP: 0.8605\n",
            "CpSolverResponse:\n",
            "status: FEASIBLE\n",
            "objective: 402764\n",
            "best_bound: 56193\n",
            "booleans: 2829\n",
            "conflicts: 13583154\n",
            "branches: 17736950\n",
            "propagations: 951665242\n",
            "integer_propagations: 942770689\n",
            "walltime: 3600.58\n",
            "usertime: 3600.58\n",
            "deterministic_time: 5538.06\n",
            "primal_integral: 70643.3\n",
            "\n",
            "Lista de Alocação (tarefa, início):\n",
            "[(0, 0), (17, 53), (37, 106), (28, 163), (13, 231), (11, 281), (2, 363), (14, 442), (45, 562), (47, 684), (18, 808), (42, 859), (4, 927), (27, 1064), (43, 1191), (10, 1338), (34, 1485), (35, 1635), (23, 1756), (7, 1826), (24, 1880), (46, 2028), (29, 2178), (21, 2305), (9, 2391), (40, 2456), (12, 2578), (38, 2631), (33, 2770), (5, 2829), (8, 2902), (20, 3029), (16, 3161), (26, 3294), (1, 3428), (44, 3569), (41, 3715), (31, 3766), (48, 3869), (25, 3969), (19, 4073), (30, 4127), (32, 4241), (15, 4300), (6, 4368), (49, 4496), (3, 4631), (39, 4686), (22, 4771), (36, 4907)]\n",
            "\n"
          ],
          "name": "stdout"
        }
      ]
    },
    {
      "cell_type": "code",
      "metadata": {
        "id": "JASFqTzDYm8j"
      },
      "source": [
        ""
      ],
      "execution_count": null,
      "outputs": []
    }
  ]
}