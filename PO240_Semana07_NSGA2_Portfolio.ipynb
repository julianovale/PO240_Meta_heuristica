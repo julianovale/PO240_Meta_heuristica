{
  "nbformat": 4,
  "nbformat_minor": 0,
  "metadata": {
    "colab": {
      "name": "PO240_Semana07_NSGA2_Portfolio.ipynb",
      "provenance": [],
      "collapsed_sections": [],
      "include_colab_link": true
    },
    "kernelspec": {
      "display_name": "Python 3",
      "language": "python",
      "name": "python3"
    },
    "language_info": {
      "codemirror_mode": {
        "name": "ipython",
        "version": 3
      },
      "file_extension": ".py",
      "mimetype": "text/x-python",
      "name": "python",
      "nbconvert_exporter": "python",
      "pygments_lexer": "ipython3",
      "version": "3.7.6"
    }
  },
  "cells": [
    {
      "cell_type": "markdown",
      "metadata": {
        "id": "view-in-github",
        "colab_type": "text"
      },
      "source": [
        "<a href=\"https://colab.research.google.com/github/julianovale/PO240_Meta_heuristica/blob/main/PO240_Semana07_NSGA2_Portfolio.ipynb\" target=\"_parent\"><img src=\"https://colab.research.google.com/assets/colab-badge.svg\" alt=\"Open In Colab\"/></a>"
      ]
    },
    {
      "cell_type": "code",
      "metadata": {
        "id": "jd453rmkY-as",
        "colab": {
          "resources": {
            "http://localhost:8080/nbextensions/google.colab/files.js": {
              "data": "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",
              "ok": true,
              "headers": [
                [
                  "content-type",
                  "application/javascript"
                ]
              ],
              "status": 200,
              "status_text": ""
            }
          },
          "base_uri": "https://localhost:8080/",
          "height": 73
        },
        "outputId": "eac7db5e-cd6c-4293-84c8-673a8d4a1b1b"
      },
      "source": [
        "from google.colab import files\n",
        "uploaded = files.upload() # subir arquivo cotacoes.xlsx"
      ],
      "execution_count": null,
      "outputs": [
        {
          "output_type": "display_data",
          "data": {
            "text/html": [
              "\n",
              "     <input type=\"file\" id=\"files-6689d56a-b922-48aa-8ba1-ba86a783c6b3\" name=\"files[]\" multiple disabled\n",
              "        style=\"border:none\" />\n",
              "     <output id=\"result-6689d56a-b922-48aa-8ba1-ba86a783c6b3\">\n",
              "      Upload widget is only available when the cell has been executed in the\n",
              "      current browser session. Please rerun this cell to enable.\n",
              "      </output>\n",
              "      <script src=\"/nbextensions/google.colab/files.js\"></script> "
            ],
            "text/plain": [
              "<IPython.core.display.HTML object>"
            ]
          },
          "metadata": {
            "tags": []
          }
        },
        {
          "output_type": "stream",
          "text": [
            "Saving cotacoes.xlsx to cotacoes.xlsx\n"
          ],
          "name": "stdout"
        }
      ]
    },
    {
      "cell_type": "code",
      "metadata": {
        "id": "kQ1GqtOdW7MF"
      },
      "source": [
        "# Program Name: NSGA-II.py\n",
        "# Description: This is a python implementation of Prof. Kalyanmoy Deb's popular NSGA-II algorithm\n",
        "# Author: Haris Ali Khan \n",
        "# Supervisor: Prof. Manoj Kumar Tiwari\n",
        "\n",
        "#Importing required modules\n",
        "import math\n",
        "import random\n",
        "import matplotlib.pyplot as plt\n",
        "\n",
        "#Function to find index of list\n",
        "def index_of(a,list):\n",
        "    for i in range(0,len(list)):\n",
        "        if list[i] == a:\n",
        "            return i\n",
        "    return -1\n",
        "\n",
        "#Function to sort by values\n",
        "def sort_by_values(list1, values):\n",
        "    sorted_list = []\n",
        "    while(len(sorted_list)!=len(list1)):\n",
        "        if index_of(min(values),values) in list1:\n",
        "            sorted_list.append(index_of(min(values),values))\n",
        "        values[index_of(min(values),values)] = math.inf\n",
        "    return sorted_list\n",
        "\n",
        "#Function to carry out NSGA-II's fast non dominated sort\n",
        "def fast_non_dominated_sort(values1, values2):   # dois objetivos de maximização\n",
        "    S=[[] for i in range(0,len(values1))]\n",
        "    front = [[]]\n",
        "    n=[0 for i in range(0,len(values1))]\n",
        "    rank = [0 for i in range(0, len(values1))]\n",
        "\n",
        "    for p in range(0,len(values1)):\n",
        "        S[p]=[]\n",
        "        n[p]=0\n",
        "        for q in range(0, len(values1)):\n",
        "            if (values1[p] > values1[q] and values2[p] > values2[q]) or (values1[p] >= values1[q] and values2[p] > values2[q]) or (values1[p] > values1[q] and values2[p] >= values2[q]):\n",
        "                if q not in S[p]:\n",
        "                    S[p].append(q) # p domina q\n",
        "            elif (values1[q] > values1[p] and values2[q] > values2[p]) or (values1[q] >= values1[p] and values2[q] > values2[p]) or (values1[q] > values1[p] and values2[q] >= values2[p]):\n",
        "                n[p] = n[p] + 1  # q domina p\n",
        "        if n[p]==0:\n",
        "            rank[p] = 0\n",
        "            if p not in front[0]:\n",
        "                front[0].append(p)\n",
        "\n",
        "    i = 0\n",
        "    while(front[i] != []):\n",
        "        Q=[]\n",
        "        for p in front[i]:\n",
        "            for q in S[p]:\n",
        "                n[q] =n[q] - 1\n",
        "                if( n[q]==0):\n",
        "                    rank[q]=i+1\n",
        "                    if q not in Q:\n",
        "                        Q.append(q)\n",
        "        i = i+1\n",
        "        front.append(Q)\n",
        "\n",
        "    del front[len(front)-1]\n",
        "    return front\n",
        "\n",
        "#Function to calculate crowding distance\n",
        "def crowding_distance(values1, values2, front):\n",
        "    distance = [0 for i in range(0,len(front))]\n",
        "    sorted1 = sort_by_values(front, values1[:])\n",
        "    sorted2 = sort_by_values(front, values2[:])\n",
        "    distance[0] = 4444444444444444\n",
        "    distance[len(front) - 1] = 4444444444444444\n",
        "    for k in range(1,len(front)-1):\n",
        "        distance[k] = distance[k]+ (values1[sorted1[k+1]] - values2[sorted1[k-1]])/(max(values1)-min(values1))\n",
        "    for k in range(1,len(front)-1):\n",
        "        distance[k] = distance[k]+ (values1[sorted2[k+1]] - values2[sorted2[k-1]])/(max(values2)-min(values2))\n",
        "    return distance"
      ],
      "execution_count": null,
      "outputs": []
    },
    {
      "cell_type": "code",
      "metadata": {
        "id": "RmmpsisAU7zr"
      },
      "source": [
        "import numpy as np\n",
        "# from nsgaII import fast_non_dominated_sort\n",
        "# from nsgaII import crowding_distance\n",
        "# from nsgaII import sort_by_values\n",
        "# from nsgaII import index_of\n",
        "import random\n",
        "import matplotlib.pyplot as plt\n",
        "import pandas as pd\n",
        "       \n",
        "# sobre esta função: Author: Haris Ali Khan     \n",
        "def geneticoMultiobjetivo(populacao, TAM_POP, GERACOES, retATIVOS, covATIVOS, ATIVOS):\n",
        "    gen_no = 0   # geração número 0\n",
        "    while(gen_no < GERACOES):\n",
        "        # function1_values é uma lista com todos os valores de f1 (retorno) de todos os indivíduos\n",
        "        function1_values = [function1(populacao[i], retATIVOS, ATIVOS) for i in range(TAM_POP)]\n",
        "        # function2_values é uma lista com todos os valores de f2 (-risco) de todos os indivíduos\n",
        "        function2_values = [function2(populacao[i], covATIVOS, ATIVOS) for i in range(TAM_POP)]\n",
        "        non_dominated_sorted_solution = fast_non_dominated_sort(function1_values[:],function2_values[:])\n",
        "        crowding_distance_values=[]\n",
        "        for i in range(0,len(non_dominated_sorted_solution)):\n",
        "            crowding_distance_values.append(crowding_distance(function1_values[:],function2_values[:],non_dominated_sorted_solution[i][:]))\n",
        "        # montando a população mista (solution2): população atual + filhos\n",
        "        solution2 = populacao[:]  # copia população atual toda\n",
        "        # gerando os filhos\n",
        "        while(len(solution2) != 2*TAM_POP):\n",
        "            pai1 = random.randint(0,TAM_POP-1)  # seleciona um índice\n",
        "            pai2 = random.randint(0,TAM_POP-1)\n",
        "            # coloca na mista os filhos gerados no crossover\n",
        "            filho1, filho2 = crossoverMutacao(populacao[pai1], populacao[pai2], ATIVOS)\n",
        "            solution2.append(filho1)\n",
        "            solution2.append(filho2)\n",
        "        # avalia a população mista toda\n",
        "        function1_values2 = [function1(solution2[i], retATIVOS, ATIVOS)for i in range(0,2*TAM_POP)]\n",
        "        function2_values2 = [function2(solution2[i], covATIVOS, ATIVOS)for i in range(0,2*TAM_POP)]\n",
        "        non_dominated_sorted_solution2 = fast_non_dominated_sort(function1_values2[:],function2_values2[:])\n",
        "        crowding_distance_values2=[]\n",
        "        for i in range(0,len(non_dominated_sorted_solution2)):\n",
        "            crowding_distance_values2.append(crowding_distance(function1_values2[:],function2_values2[:],non_dominated_sorted_solution2[i][:]))\n",
        "        new_solution= []\n",
        "        for i in range(0,len(non_dominated_sorted_solution2)):\n",
        "            non_dominated_sorted_solution2_1 = [index_of(non_dominated_sorted_solution2[i][j],non_dominated_sorted_solution2[i] ) for j in range(0,len(non_dominated_sorted_solution2[i]))]\n",
        "            front22 = sort_by_values(non_dominated_sorted_solution2_1[:], crowding_distance_values2[i][:])\n",
        "            front = [non_dominated_sorted_solution2[i][front22[j]] for j in range(0,len(non_dominated_sorted_solution2[i]))]\n",
        "            front.reverse()\n",
        "            for value in front:\n",
        "                new_solution.append(value)\n",
        "                if(len(new_solution)==TAM_POP):\n",
        "                    break\n",
        "            if (len(new_solution) == TAM_POP):\n",
        "                break\n",
        "        populacao = [solution2[i] for i in new_solution]\n",
        "        gen_no = gen_no + 1\n",
        "    #Lets plot the final front now\n",
        "    # function1_values é uma lista com todos os valores de f1 (retorno) de todos os indivíduos\n",
        "    function1_values = [function1(populacao[i], retATIVOS, ATIVOS) for i in range(TAM_POP)]\n",
        "    # function2_values é uma lista com todos os valores de f2 (-risco) de todos os indivíduos\n",
        "    function2_values = [function2(populacao[i], covATIVOS, ATIVOS) for i in range(TAM_POP)]\n",
        "    non_dominated_sorted_solution = fast_non_dominated_sort(function1_values[:],function2_values[:])\n",
        "    pontos_function1 = []\n",
        "    pontos_function2 = []\n",
        "    for indiceIndiv in non_dominated_sorted_solution[0]:  # somente primeira fronteira\n",
        "        pontos_function1.append(function1_values[indiceIndiv])\n",
        "        pontos_function2.append(-function2_values[indiceIndiv])\n",
        "    return pontos_function1, pontos_function2\n",
        "\n",
        "# coletar tabela de preços, conforme o exemplo\n",
        "def leitura(arquivo):\n",
        "    ARQ = pd.read_excel(arquivo, sheet_name='Valores')#abre o arquivo para leitura, na aba Valores\n",
        "    ATIVOS = ARQ.at[0,'Qtde']\n",
        "    PERIODOS = ARQ.at[1,'Qtde']\n",
        "    ARQ = pd.read_excel(arquivo, sheet_name='Planilha')\n",
        "    Preco = []\n",
        "    for i in range(ATIVOS):  # coluna\n",
        "        nomecoluna = \"Acao\"+str(i+1)\n",
        "        PrecoI = []  # uma coluna de inputs\n",
        "        for t in range(PERIODOS):  # linha\n",
        "            PrecoIK = ARQ.at[t, nomecoluna]   # um número de input\n",
        "            PrecoI.append(PrecoIK)   # coloco um número de input na coluna\n",
        "        Preco.append(PrecoI)    # coloco a coluna em x\n",
        "    return ATIVOS, PERIODOS, Preco\n",
        "\n",
        "# calcula o retorno (maximização)\n",
        "def function1(x, retATIVOS, ATIVOS):\n",
        "    total = 0\n",
        "    for i in range(ATIVOS):\n",
        "        total = total + retATIVOS[i]*x[i]\n",
        "    return total\n",
        "    \n",
        "# calcula o risco (minimização risco = - maximização (- risco))\n",
        "def function2(x, covATIVOS, ATIVOS):\n",
        "    total = 0\n",
        "    for i in range(ATIVOS):\n",
        "        for j in range(ATIVOS):\n",
        "            total = total + covATIVOS[i][j]*x[i]*x[j]\n",
        "    return -total   # trocar sinal para problema ter apenas objetivos de max\n",
        "\n",
        "def preProcessamento(ATIVOS, PERIODOS, Preco):\n",
        "    # criar a matriz r de retornos\n",
        "    r = []\n",
        "    for i in range (ATIVOS):  # para cada linha\n",
        "        crialinha = []        \n",
        "        for t in range (PERIODOS):  # para cada coluna\n",
        "            crialinha.append(0)     # preencho a linha com 0s em todas as colunas\n",
        "        r.append(crialinha)\n",
        "    # calculo do r    \n",
        "    for i in range (ATIVOS):\n",
        "        for t in range (1, PERIODOS):  \n",
        "            r[i][t-1] = (Preco[i][t]/Preco[i][t-1]) - 1\n",
        "  \n",
        "    # criar o vetor retATIVOS\n",
        "    retATIVOS = []\n",
        "    for i in range (ATIVOS):\n",
        "        retATIVOS.append(0)  \n",
        "    # calculo\n",
        "    for i in range (ATIVOS):\n",
        "        for t in range (PERIODOS-1):  \n",
        "            retATIVOS[i] = retATIVOS[i] + r[i][t]  \n",
        "        retATIVOS[i] = retATIVOS[i]/(PERIODOS - 1)\n",
        "\n",
        "    # criar a matriz covATIVOS\n",
        "    covATIVOS = []\n",
        "    for i in range (ATIVOS):        # para cada linha\n",
        "        crialinha = []        \n",
        "        for j in range (ATIVOS):    # para cada coluna\n",
        "            crialinha.append(0)     # preencho a linha com 0s em todas as colunas\n",
        "        covATIVOS.append(crialinha)\n",
        "    # calculo\n",
        "    for i in range(ATIVOS):\n",
        "        for j in range (ATIVOS):\n",
        "            for t in range (PERIODOS):\n",
        "                covATIVOS[i][j] = covATIVOS[i][j] + (r[i][t] - retATIVOS[i])*(r[j][t] - retATIVOS[j])\n",
        "    return retATIVOS, covATIVOS\n",
        "\n",
        "def inicializaPopulacao(TAM_POP, ATIVOS):\n",
        "    populacao = []\n",
        "    for j in range (TAM_POP):\n",
        "        x = []\n",
        "        for i in range (ATIVOS):\n",
        "            aleatorio = random.random()\n",
        "            if aleatorio <= 0.1:\n",
        "                aleatorio = 0\n",
        "            x.append(aleatorio)  # preenchendo a i-ésima posição com o aletorio\n",
        "        populacao.append(x)\n",
        "    normalizarPopulacao(populacao, TAM_POP, ATIVOS) # somatório x[i] = 1\n",
        "        \n",
        "    return populacao\n",
        "\n",
        "def normalizarPopulacao(populacao, TAM_POP, ATIVOS):\n",
        "    for j in range (TAM_POP):\n",
        "        populacao[j] = normalizarSolucao(populacao[j], ATIVOS)\n",
        "\n",
        "def normalizarSolucao(x, ATIVOS):\n",
        "    soma = 0\n",
        "    for i in range (ATIVOS):\n",
        "        if x[i] <= 0.01:\n",
        "            x[i] = 0\n",
        "        soma = soma + x[i] #está somando todos os valores de x\n",
        "    if soma < 1 or soma > 1:\n",
        "        for i in range (ATIVOS):\n",
        "            x[i] = x[i]/soma\n",
        "    return x\n",
        "                \n",
        "def crossoverMutacao(pai1, pai2, ATIVOS):\n",
        "    PC = 0.9\n",
        "    prob = random.random()\n",
        "    if prob < PC:\n",
        "        alpha = random.random()\n",
        "        filho1 = []\n",
        "        filho2 = []\n",
        "        for i in range (ATIVOS):\n",
        "            filho1.append(alpha*pai1[i] + (1-alpha)*pai2[i])\n",
        "            filho2.append(alpha*pai2[i] + (1-alpha)*pai1[i])\n",
        "    else:\n",
        "        filho1 = pai1.copy()\n",
        "        filho2 = pai2.copy()\n",
        "        \n",
        "    # mutação    \n",
        "    filho1m = mutacao(filho1, ATIVOS)\n",
        "    filho2m = mutacao(filho2, ATIVOS)\n",
        "    \n",
        "    filho1mn = normalizarSolucao(filho1m, ATIVOS)\n",
        "    filho2mn = normalizarSolucao(filho2m, ATIVOS)\n",
        "    \n",
        "    return filho1mn, filho2mn\n",
        "    \n",
        "def mutacao(x, ATIVOS):\n",
        "    PM = 0.1\n",
        "    for i in range (ATIVOS):\n",
        "        prob = random.random()\n",
        "        if prob < PM:\n",
        "            x[i] = np.random.normal(x[i],0.1)\n",
        "    return x\n",
        "\n",
        "def imprimeRodadas(matriz3D):\n",
        "    plt.xlabel('Retorno', fontsize=15)\n",
        "    plt.ylabel('Risco', fontsize=15)\n",
        "    xmin = matriz3D[0][0][0]\n",
        "    xmax = matriz3D[0][0][0]\n",
        "    ymin = matriz3D[0][1][0]\n",
        "    ymax = matriz3D[0][1][0]\n",
        "    for fronteira in matriz3D:\n",
        "        pontos_function1 = fronteira[0]\n",
        "        pontos_function2 = fronteira[1]\n",
        "        # para encontrar limites do gráfico\n",
        "        if min(pontos_function1) < xmin:\n",
        "            xmin = min(pontos_function1)\n",
        "        if max(pontos_function1) > xmax:\n",
        "            xmax = max(pontos_function1)\n",
        "        if min(pontos_function2) < ymin:\n",
        "            ymin = min(pontos_function2)\n",
        "        if max(pontos_function2) > ymax:\n",
        "            ymax = max(pontos_function2)\n",
        "        plt.scatter(pontos_function1, pontos_function2)\n",
        "    plt.xlim(xmin, xmax)\n",
        "    plt.ylim(ymin, ymax)\n",
        "    plt.show()\n",
        "\n",
        "# função principal: chama as demais funções\n",
        "def main(TAM_POP, GERACOES, RODADAS): \n",
        "    random.seed()  # inicia a semente dos número pseudo randômicos\n",
        "    # leitura e preparação\n",
        "    ATIVOS, PERIODOS, Preco = leitura(\"cotacoes.xlsx\") \n",
        "    retATIVOS, covATIVOS = preProcessamento(ATIVOS, PERIODOS, Preco)\n",
        "    matriz3D = []  # matriz com todas as fronteiras\n",
        "    for r in range(RODADAS):\n",
        "        # Genético\n",
        "        populacao = inicializaPopulacao(TAM_POP, ATIVOS)\n",
        "        pontos_function1, pontos_function2 = geneticoMultiobjetivo(populacao, TAM_POP, GERACOES, retATIVOS, covATIVOS, ATIVOS)\n",
        "        matriz3D.append([pontos_function1, pontos_function2])\n",
        "    imprimeRodadas(matriz3D)\n",
        "\n"
      ],
      "execution_count": null,
      "outputs": []
    },
    {
      "cell_type": "code",
      "metadata": {
        "id": "g_qhy8VYW6De",
        "colab": {
          "base_uri": "https://localhost:8080/",
          "height": 284
        },
        "outputId": "706ff975-a8a1-4fb1-9dd8-f7e89be76a34"
      },
      "source": [
        "# TAM_POP, GERACOES, RODADAS\n",
        "main(100, 10, 4)"
      ],
      "execution_count": null,
      "outputs": [
        {
          "output_type": "display_data",
          "data": {
            "image/png": "[encoded data removed]",
            "text/plain": [
              "<Figure size 432x288 with 1 Axes>"
            ]
          },
          "metadata": {
            "tags": [],
            "needs_background": "light"
          }
        }
      ]
    },
    {
      "cell_type": "code",
      "metadata": {
        "id": "tbkquZWLU70L",
        "colab": {
          "base_uri": "https://localhost:8080/",
          "height": 284
        },
        "outputId": "68a3ac25-e2c8-4540-bbcb-32c83d27bed2"
      },
      "source": [
        "# TAM_POP, GERACOES, RODADAS\n",
        "main(100, 200, 4)"
      ],
      "execution_count": null,
      "outputs": [
        {
          "output_type": "display_data",
          "data": {
            "image/png": "[encoded data removed]",
            "text/plain": [
              "<Figure size 432x288 with 1 Axes>"
            ]
          },
          "metadata": {
            "tags": [],
            "needs_background": "light"
          }
        }
      ]
    }
  ]
}