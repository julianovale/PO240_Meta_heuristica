{
  "nbformat": 4,
  "nbformat_minor": 0,
  "metadata": {
    "colab": {
      "name": "PO240_Semana05_Live.ipynb",
      "provenance": [],
      "collapsed_sections": [],
      "authorship_tag": "ABX9TyM07X8WiQiOfRIFbcFjObH7",
      "include_colab_link": true
    },
    "kernelspec": {
      "name": "python3",
      "display_name": "Python 3"
    },
    "language_info": {
      "name": "python"
    }
  },
  "cells": [
    {
      "cell_type": "markdown",
      "metadata": {
        "id": "view-in-github",
        "colab_type": "text"
      },
      "source": [
        "<a href=\"https://colab.research.google.com/github/julianovale/PO240_Meta_heuristica/blob/main/PO240_Semana05_Live.ipynb\" target=\"_parent\"><img src=\"https://colab.research.google.com/assets/colab-badge.svg\" alt=\"Open In Colab\"/></a>"
      ]
    },
    {
      "cell_type": "code",
      "metadata": {
        "colab": {
          "base_uri": "https://localhost:8080/"
        },
        "id": "MAavNcgJrXBd",
        "outputId": "b3586699-5f07-4b7c-eae2-75018820ac34"
      },
      "source": [
        "! pip install ortools\n",
        "from ortools.linear_solver import pywraplp"
      ],
      "execution_count": 4,
      "outputs": [
        {
          "output_type": "stream",
          "text": [
            "Requirement already satisfied: ortools in /usr/local/lib/python3.7/dist-packages (8.2.8710)\n",
            "Requirement already satisfied: absl-py>=0.11 in /usr/local/lib/python3.7/dist-packages (from ortools) (0.12.0)\n",
            "Requirement already satisfied: protobuf>=3.14.0 in /usr/local/lib/python3.7/dist-packages (from ortools) (3.15.8)\n",
            "Requirement already satisfied: six in /usr/local/lib/python3.7/dist-packages (from absl-py>=0.11->ortools) (1.15.0)\n"
          ],
          "name": "stdout"
        }
      ]
    },
    {
      "cell_type": "code",
      "metadata": {
        "colab": {
          "base_uri": "https://localhost:8080/"
        },
        "id": "dPCfnRebsCku",
        "outputId": "9b9da1fe-d1dc-4db5-9de9-9a30f0d13489"
      },
      "source": [
        "costs = [\n",
        "        [12, 10,  8, 11],\n",
        "        [ 9, 11, 11, 13],\n",
        "        [10, 14, 13,  9]  \n",
        "        ]\n",
        "\n",
        "f = [250000, 500000, 600000]\n",
        "d = [100000, 200000, 300000, 400000]\n",
        "\n",
        "ncomp = len(costs)\n",
        "nmerc = len(costs[0])\n",
        "\n",
        "solver = pywraplp.Solver('Modelo de Transporte',\n",
        "                         pywraplp.Solver.GLOP_LINEAR_PROGRAMMING)\n",
        "\n",
        "# Variáveis\n",
        "x = {}\n",
        "for i in range(ncomp):\n",
        "  for j in range(nmerc):\n",
        "    x[i,j] = solver.NumVar(0,solver.infinity(),'x'+str(i+1)+str(j+1))\n",
        "\n",
        "# Restrições:\n",
        "\n",
        "#for i in range(ncomp):\n",
        "#  print('f'+str(i+1)+' = '+str(f[i]))\n",
        "#  for j in range(nmerc):\n",
        "#    print('x'+str(i+1)+str(j+1)+'+')\n",
        "for i in range(ncomp):\n",
        "  #print(solver.Sum([x[i,j] for j in range(nmerc)])) \n",
        "  solver.Add(solver.Sum([x[i,j] for j in range(nmerc)]) <= f[i],'RF'+str(i+1))\n",
        "\n",
        "for j in range(nmerc):\n",
        "  solver.Add(solver.Sum([x[i,j] for i in range(ncomp)]) == d[j],'RM'+str(i+1))\n",
        "\n",
        "# Função objetivo\n",
        "obj_terms = []\n",
        "for i in range(ncomp):\n",
        "  for j in range(nmerc):\n",
        "    obj_terms.append(costs[i][j]*x[i,j])\n",
        "solver.Minimize(solver.Sum(obj_terms))\n",
        "\n",
        "# Resolve\n",
        "status = solver.Solve()\n",
        "\n",
        "# Relatório\n",
        "print('Custo total = ',solver.Objective().Value(),'\\n')\n",
        "for i in range(ncomp):\n",
        "  for j in range(nmerc):\n",
        "    if x[i,j].solution_value() > 0.01:\n",
        "      print('Fluxo de F%d para M%d: %8.2f, Custo: %8.2f' % \n",
        "            (i+1, j+1, x[i,j].solution_value(), costs[i][j]))\n"
      ],
      "execution_count": 31,
      "outputs": [
        {
          "output_type": "stream",
          "text": [
            "Custo total =  9250000.0 \n",
            "\n",
            "Fluxo de F1 para M3: 250000.00, Custo:     8.00\n",
            "Fluxo de F2 para M1: 100000.00, Custo:     9.00\n",
            "Fluxo de F2 para M2: 200000.00, Custo:    11.00\n",
            "Fluxo de F2 para M3: 50000.00, Custo:    11.00\n",
            "Fluxo de F3 para M4: 400000.00, Custo:     9.00\n"
          ],
          "name": "stdout"
        }
      ]
    }
  ]
}