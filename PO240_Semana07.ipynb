{
  "nbformat": 4,
  "nbformat_minor": 0,
  "metadata": {
    "kernelspec": {
      "display_name": "Python 3",
      "language": "python",
      "name": "python3"
    },
    "language_info": {
      "codemirror_mode": {
        "name": "ipython",
        "version": 3
      },
      "file_extension": ".py",
      "mimetype": "text/x-python",
      "name": "python",
      "nbconvert_exporter": "python",
      "pygments_lexer": "ipython3",
      "version": "3.7.6"
    },
    "colab": {
      "name": "PO240_Semana07.ipynb",
      "provenance": [],
      "collapsed_sections": [],
      "include_colab_link": true
    }
  },
  "cells": [
    {
      "cell_type": "markdown",
      "metadata": {
        "id": "view-in-github",
        "colab_type": "text"
      },
      "source": [
        "<a href=\"https://colab.research.google.com/github/julianovale/PO240_Meta_heuristica/blob/main/PO240_Semana07.ipynb\" target=\"_parent\"><img src=\"https://colab.research.google.com/assets/colab-badge.svg\" alt=\"Open In Colab\"/></a>"
      ]
    },
    {
      "cell_type": "code",
      "metadata": {
        "id": "zrpuHMmMoLsv"
      },
      "source": [
        "%matplotlib inline\n",
        "# importações\n",
        "import matplotlib.pyplot as plt\n",
        "import random \n",
        "import numpy as np\n",
        "import time \n",
        "import copy\n",
        "import imageio\n",
        "import os\n",
        "\n",
        "def cria_gif(arquivos, nome_gif):\n",
        "  imagens = []\n",
        "  for arquivo_png in arquivos:\n",
        "      imagens.append(imageio.imread(arquivo_png))\n",
        "  duration = 1\n",
        "  imageio.mimwrite(nome_gif, imagens, duration=duration, loop=3)\n",
        "  for arquivo_png in arquivos:\n",
        "      os.remove(arquivo_png)\n",
        "        \n",
        "def grafico(populacao, TP, g, arquivos):\n",
        "  fig, ax = plt.subplots(figsize=(10,4))       # cria objeto figura e os eixos da figura\n",
        "  \n",
        "  # funções de uma variável y = f(x)\n",
        "  x = np.arange(0, 31.0, 0.1) \n",
        "  y = funcao(x)\n",
        "  ax.plot(x, y)  # estabelece a ordem dos eixos e faz o gráfico\n",
        "  \n",
        "  for i in range(TP):\n",
        "      xi = populacao[i][1]\n",
        "      yi = populacao[i][2]\n",
        "      ax.plot([xi],[yi], \"ro\")       \n",
        "  ax.grid(True, linestyle='-')  # formato da grade de fundo (opcional)\n",
        "  nome = \"GA\"+str(g)+\".png\"\n",
        "  arquivos.append(nome)\n",
        "  fig.savefig(nome) #, dpi=fig.dpi)\n",
        "  plt.close(fig)\n",
        "  \n",
        "def funcao(x):\n",
        "  return np.sin(np.pi*x) - (1/20)*x**2 + x\n",
        "\n",
        "def criaIndividuo(N): # cria uma cadeia binária aleatória\n",
        "  individuo = [random.randint(0,1) for b in range(N)]\n",
        "  return individuo\n",
        "\n",
        "def criaPopulacao(TP, N):\n",
        "  # [[lista binária], inteiro decodificado, função objetivo]\n",
        "  # 1 indivíduo: [[1,1,1,1,1], 31, -17.049999999999997]\n",
        "  populacao = [[criaIndividuo(N), 0, 0] for i in range(TP)]\n",
        "  return populacao\n",
        "\n",
        "def decodificaIndividuo(individuo, N):\n",
        "  inteiro = 0\n",
        "\n",
        "  for b in range(N):\n",
        "    bit = individuo[b]\n",
        "    potencia = N - 1 - b\n",
        "    inteiro = inteiro + bit*(2**potencia)\n",
        "\n",
        "  return inteiro\n",
        "\n",
        "def avaliaPopulacao(populacao, N, TP):\n",
        "  for i in range(TP):\n",
        "    inteiro = decodificaIndividuo(populacao[i][0], N) # só a cadeia\n",
        "    fitness = funcao(inteiro)\n",
        "    populacao[i][1] = inteiro\n",
        "    populacao[i][2] = fitness\n",
        "        \n",
        "def main():\n",
        "  # constantes\n",
        "  N = 5          # quantidade de bits de um indivíduo\n",
        "  TP = 2        # tamanho da população do GA\n",
        "  G = 2          # número de gerações do GA\n",
        "  random.seed()  # inicia a semente dos número pseudo randômicos\n",
        "  arquivos = []\n",
        "  nome = \"filme.gif\"\n",
        "  \n",
        "  inicio = time.time()  # começa a contar o tempo\n",
        "  \n",
        "  # Inicializa População \n",
        "  populacao = criaPopulacao(TP, N)\n",
        "  \n",
        "\n",
        "  # Avalia População\n",
        "  avaliaPopulacao(populacao, N, TP)\n",
        "  grafico(populacao, TP, 0, arquivos)\n",
        "  print(populacao)\n",
        "  \n",
        "#     for g in range(1, G):  # gerações\n",
        "      # seleciona pares de pais aleatoriamente\n",
        "      # crossover\n",
        "      # mutação\n",
        "      # com filhos: Avalia\n",
        "      # populacao próxima geração, seleção: pais e filhos\n",
        "      \n",
        "  # fim do GA\n",
        "  fim = time.time()\n",
        "  print(\"Tempo de execução (s): \", fim - inicio)\n",
        "#     cria_gif(arquivos, nome)"
      ],
      "execution_count": null,
      "outputs": []
    },
    {
      "cell_type": "code",
      "metadata": {
        "colab": {
          "base_uri": "https://localhost:8080/"
        },
        "id": "6oP9cC4soLs7",
        "outputId": "525e7161-2df1-403c-c88b-0c47dcab4e47"
      },
      "source": [
        "main()"
      ],
      "execution_count": null,
      "outputs": [
        {
          "output_type": "stream",
          "text": [
            "[[[1, 1, 1, 0, 1], 29, -13.050000000000004], [[1, 0, 1, 0, 1], 21, -1.0500000000000007]]\n",
            "Tempo de execução (s):  0.0895528793334961\n"
          ],
          "name": "stdout"
        }
      ]
    }
  ]
}