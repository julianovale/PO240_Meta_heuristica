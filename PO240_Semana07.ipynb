{
  "nbformat": 4,
  "nbformat_minor": 0,
  "metadata": {
    "kernelspec": {
      "display_name": "Python 3",
      "language": "python",
      "name": "python3"
    },
    "language_info": {
      "codemirror_mode": {
        "name": "ipython",
        "version": 3
      },
      "file_extension": ".py",
      "mimetype": "text/x-python",
      "name": "python",
      "nbconvert_exporter": "python",
      "pygments_lexer": "ipython3",
      "version": "3.7.6"
    },
    "colab": {
      "name": "PO240_Semana07.ipynb",
      "provenance": [],
      "collapsed_sections": [],
      "include_colab_link": true
    }
  },
  "cells": [
    {
      "cell_type": "markdown",
      "metadata": {
        "id": "view-in-github",
        "colab_type": "text"
      },
      "source": [
        "<a href=\"https://colab.research.google.com/github/julianovale/PO240_Meta_heuristica/blob/main/PO240_Semana07.ipynb\" target=\"_parent\"><img src=\"https://colab.research.google.com/assets/colab-badge.svg\" alt=\"Open In Colab\"/></a>"
      ]
    },
    {
      "cell_type": "code",
      "metadata": {
        "id": "zrpuHMmMoLsv"
      },
      "source": [
        "%matplotlib inline\n",
        "# importações\n",
        "import matplotlib.pyplot as plt\n",
        "import random \n",
        "import numpy as np\n",
        "import time \n",
        "import copy\n",
        "import imageio\n",
        "import os\n",
        "from google.colab import files\n",
        "\n",
        "def cria_gif(arquivos, nome_gif):\n",
        "  imagens = []\n",
        "  for arquivo_png in arquivos:\n",
        "      imagens.append(imageio.imread(arquivo_png))\n",
        "  duration = 1\n",
        "  imageio.mimwrite(nome_gif, imagens, duration=duration, loop=3)\n",
        "  for arquivo_png in arquivos:\n",
        "      os.remove(arquivo_png)\n",
        "        \n",
        "def grafico(populacao, TP, g, arquivos):\n",
        "  fig, ax = plt.subplots(figsize=(10,4))       # cria objeto figura e os eixos da figura\n",
        "  \n",
        "  # funções de uma variável y = f(x)\n",
        "  x = np.arange(0, 31.0, 0.1) \n",
        "  y = funcao(x)\n",
        "  ax.plot(x, y)  # estabelece a ordem dos eixos e faz o gráfico\n",
        "  \n",
        "  for i in range(TP):\n",
        "      xi = populacao[i][1]\n",
        "      yi = populacao[i][2]\n",
        "      ax.plot([xi],[yi], \"ro\")       \n",
        "  ax.grid(True, linestyle='-')  # formato da grade de fundo (opcional)\n",
        "  nome = \"GA\"+str(g)+\".png\"\n",
        "  arquivos.append(nome)\n",
        "  fig.savefig(nome) #, dpi=fig.dpi)\n",
        "  plt.close(fig)\n",
        "  \n",
        "def funcao(x):\n",
        "  return np.sin(np.pi*x) - (1/20)*x**2 + x\n",
        "\n",
        "def criaIndividuo(N): # cria uma cadeia binária aleatória\n",
        "  individuo = [random.randint(0,1) for b in range(N)]\n",
        "  return individuo\n",
        "\n",
        "def criaPopulacao(TP, N):\n",
        "  # [[lista binária], inteiro decodificado, função objetivo]\n",
        "  # 1 indivíduo: [[1,1,1,1,1], 31, -17.049999999999997]\n",
        "  populacao = [[criaIndividuo(N), 0, 0] for i in range(TP)]\n",
        "  return populacao\n",
        "\n",
        "def decodificaIndividuo(individuo, N):\n",
        "  inteiro = 0\n",
        "\n",
        "  for b in range(N):\n",
        "    bit = individuo[b]\n",
        "    potencia = N - 1 - b\n",
        "    inteiro = inteiro + bit*(2**potencia)\n",
        "\n",
        "  return inteiro\n",
        "\n",
        "def avaliaPopulacao(populacao, N, TP):\n",
        "  for i in range(TP):\n",
        "    inteiro = decodificaIndividuo(populacao[i][0], N) # só a cadeia\n",
        "    fitness = funcao(inteiro)\n",
        "    populacao[i][1] = inteiro\n",
        "    populacao[i][2] = fitness\n",
        "        \n",
        "def torneioBinario(populacao, TP):\n",
        "  paisSelecionados = []\n",
        "\n",
        "  todos = list(range(TP))\n",
        "  for i in range(TP):\n",
        "    indAleat1 = random.choice(todos)\n",
        "    indAleat2 = random.choice(todos)\n",
        "    while (indAleat1 == indAleat2):\n",
        "      indAleat2 = random.choice(todos)\n",
        "\n",
        "    if (populacao[indAleat1][2] > populacao[indAleat2][2]):\n",
        "      paiSelecionado = copy.deepcopy(populacao[indAleat1])\n",
        "    else:\n",
        "      paiSelecionado = copy.deepcopy(populacao[indAleat2])\n",
        "\n",
        "    paisSelecionados.append(paiSelecionado)\n",
        "  return paisSelecionados\n",
        "\n",
        "def crossover(paisSelecionados, TP, N):\n",
        "  # paisSelecionados = [[[0,1,0,1,0], x, fitness]],[],[]]\n",
        "  PC = 0.95\n",
        "  filhos = []\n",
        "\n",
        "  for i in range(TP//2): # 2 pais geram 2 filhos\n",
        "    doisPais = random.sample(paisSelecionados, 2) \n",
        "    aleatorio = random.random() # entre 0 e 1\n",
        "    if aleatorio <= PC: # crossover acontece\n",
        "      ponto = random.randint(1, N-1)\n",
        "      filho1 = doisPais[0][0][:ponto] + doisPais[1][0][ponto:]\n",
        "      filho2 = doisPais[1][0][:ponto] + doisPais[0][0][ponto:]\n",
        "    else:\n",
        "      filho1 = doisPais[0][0]\n",
        "      filho2 = doisPais[1][0]\n",
        "    filhos.append([filho1, 0, 0])\n",
        "    filhos.append([filho2, 0, 0])\n",
        "\n",
        "  return filhos\n",
        "\n",
        "def mutacao(filhos, TP, N):\n",
        "  PM = 0.1\n",
        "  for i in range(TP):\n",
        "    for b in range(N):\n",
        "      aleatorio = random.random()\n",
        "      if aleatorio <= PM:\n",
        "        filhos[i][0][b] = 1 - filhos[i][0][b] # transforma 0 em 1 e 1 em 0. pense!!!\n",
        "\n",
        "\n",
        "\n",
        "\n",
        "def main():\n",
        "  # constantes\n",
        "  N = 5          # quantidade de bits de um indivíduo\n",
        "  TP = 10        # tamanho da população do GA\n",
        "  G = 20         # número de gerações do GA\n",
        "  random.seed()  # inicia a semente dos número pseudo randômicos\n",
        "  arquivos = []\n",
        "  nome = \"filme.gif\"\n",
        "  \n",
        "  inicio = time.time()  # começa a contar o tempo\n",
        "  \n",
        "  # Inicializa População \n",
        "  populacao = criaPopulacao(TP, N)\n",
        "  \n",
        "\n",
        "  # Avalia População\n",
        "  avaliaPopulacao(populacao, N, TP)\n",
        "  grafico(populacao, TP, 0, arquivos)\n",
        "  \n",
        "  for g in range(1, G):  # gerações\n",
        "      # seleciona pares de pais aleatoriamente\n",
        "      paisSelecionados = torneioBinario(populacao, TP)\n",
        "      \n",
        "      # crossover\n",
        "      filhos = crossover(paisSelecionados, TP, N)\n",
        "      \n",
        "      # mutação\n",
        "      mutacao(filhos, TP, N)\n",
        "\n",
        "      # com filhos: Avalia\n",
        "      avaliaPopulacao(filhos, N, TP)\n",
        "\n",
        "      # populacao próxima geração, seleção: pais e filhos\n",
        "      mista = populacao + filhos\n",
        "      mistaOrd = sorted(mista, key=lambda tup: tup[2], reverse=True)\n",
        "      populacao = mistaOrd[:TP]\n",
        "      grafico(populacao, TP, g, arquivos)\n",
        "\n",
        "  # fim do GA\n",
        "  fim = time.time()\n",
        "  print(\"Tempo de execução (s): \", fim - inicio)\n",
        "  cria_gif(arquivos, nome)\n",
        "  files.download('filme.gif')"
      ],
      "execution_count": null,
      "outputs": []
    },
    {
      "cell_type": "code",
      "metadata": {
        "colab": {
          "base_uri": "https://localhost:8080/",
          "height": 34
        },
        "id": "6oP9cC4soLs7",
        "outputId": "bc772839-c777-4c72-e678-5b7aa4882e24"
      },
      "source": [
        "main()"
      ],
      "execution_count": null,
      "outputs": [
        {
          "output_type": "stream",
          "text": [
            "Tempo de execução (s):  7.341706991195679\n"
          ],
          "name": "stdout"
        },
        {
          "output_type": "display_data",
          "data": {
            "application/javascript": [
              "\n",
              "    async function download(id, filename, size) {\n",
              "      if (!google.colab.kernel.accessAllowed) {\n",
              "        return;\n",
              "      }\n",
              "      const div = document.createElement('div');\n",
              "      const label = document.createElement('label');\n",
              "      label.textContent = `Downloading \"${filename}\": `;\n",
              "      div.appendChild(label);\n",
              "      const progress = document.createElement('progress');\n",
              "      progress.max = size;\n",
              "      div.appendChild(progress);\n",
              "      document.body.appendChild(div);\n",
              "\n",
              "      const buffers = [];\n",
              "      let downloaded = 0;\n",
              "\n",
              "      const channel = await google.colab.kernel.comms.open(id);\n",
              "      // Send a message to notify the kernel that we're ready.\n",
              "      channel.send({})\n",
              "\n",
              "      for await (const message of channel.messages) {\n",
              "        // Send a message to notify the kernel that we're ready.\n",
              "        channel.send({})\n",
              "        if (message.buffers) {\n",
              "          for (const buffer of message.buffers) {\n",
              "            buffers.push(buffer);\n",
              "            downloaded += buffer.byteLength;\n",
              "            progress.value = downloaded;\n",
              "          }\n",
              "        }\n",
              "      }\n",
              "      const blob = new Blob(buffers, {type: 'application/binary'});\n",
              "      const a = document.createElement('a');\n",
              "      a.href = window.URL.createObjectURL(blob);\n",
              "      a.download = filename;\n",
              "      div.appendChild(a);\n",
              "      a.click();\n",
              "      div.remove();\n",
              "    }\n",
              "  "
            ],
            "text/plain": [
              "<IPython.core.display.Javascript object>"
            ]
          },
          "metadata": {
            "tags": []
          }
        },
        {
          "output_type": "display_data",
          "data": {
            "application/javascript": [
              "download(\"download_0c908f0c-5127-4584-86e1-9f92c4bbfd40\", \"filme.gif\", 1901263)"
            ],
            "text/plain": [
              "<IPython.core.display.Javascript object>"
            ]
          },
          "metadata": {
            "tags": []
          }
        }
      ]
    }
  ]
}